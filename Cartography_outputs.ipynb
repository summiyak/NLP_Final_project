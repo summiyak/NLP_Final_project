{
  "nbformat": 4,
  "nbformat_minor": 0,
  "metadata": {
    "colab": {
      "provenance": [],
      "gpuType": "T4",
      "authorship_tag": "ABX9TyN18/S3XoHez4RvZUbjDluB",
      "include_colab_link": true
    },
    "kernelspec": {
      "name": "python3",
      "display_name": "Python 3"
    },
    "language_info": {
      "name": "python"
    },
    "accelerator": "GPU"
  },
  "cells": [
    {
      "cell_type": "markdown",
      "metadata": {
        "id": "view-in-github",
        "colab_type": "text"
      },
      "source": [
        "<a href=\"https://colab.research.google.com/github/summiyak/NLP_Final_project/blob/main/Cartography_outputs.ipynb\" target=\"_parent\"><img src=\"https://colab.research.google.com/assets/colab-badge.svg\" alt=\"Open In Colab\"/></a>"
      ]
    },
    {
      "cell_type": "code",
      "execution_count": 1,
      "metadata": {
        "colab": {
          "base_uri": "https://localhost:8080/"
        },
        "id": "3iOYaCetc2QH",
        "outputId": "dc310269-63a0-4f20-d06c-0dec0b2f6827"
      },
      "outputs": [
        {
          "output_type": "stream",
          "name": "stdout",
          "text": [
            "Mounted at /content/drive\n"
          ]
        }
      ],
      "source": [
        "from google.colab import drive\n",
        "drive.mount('/content/drive', force_remount=True)\n",
        "import os\n",
        "os.chdir('/content/drive/MyDrive/')"
      ]
    },
    {
      "cell_type": "code",
      "source": [
        "!pip install -r /content/drive/MyDrive/electra/fp-dataset-artifacts-main/requirements.txt"
      ],
      "metadata": {
        "colab": {
          "base_uri": "https://localhost:8080/"
        },
        "collapsed": true,
        "id": "2AlWgARXdBNi",
        "outputId": "05818d9e-2b7f-47df-d2e9-0538ca33f8c7"
      },
      "execution_count": 2,
      "outputs": [
        {
          "output_type": "stream",
          "name": "stdout",
          "text": [
            "Requirement already satisfied: accelerate in /usr/local/lib/python3.10/dist-packages (from -r /content/drive/MyDrive/electra/fp-dataset-artifacts-main/requirements.txt (line 1)) (1.1.1)\n",
            "Collecting datasets (from -r /content/drive/MyDrive/electra/fp-dataset-artifacts-main/requirements.txt (line 2))\n",
            "  Downloading datasets-3.1.0-py3-none-any.whl.metadata (20 kB)\n",
            "Requirement already satisfied: torch in /usr/local/lib/python3.10/dist-packages (from -r /content/drive/MyDrive/electra/fp-dataset-artifacts-main/requirements.txt (line 3)) (2.5.1+cu121)\n",
            "Requirement already satisfied: tqdm in /usr/local/lib/python3.10/dist-packages (from -r /content/drive/MyDrive/electra/fp-dataset-artifacts-main/requirements.txt (line 4)) (4.66.6)\n",
            "Requirement already satisfied: transformers in /usr/local/lib/python3.10/dist-packages (from -r /content/drive/MyDrive/electra/fp-dataset-artifacts-main/requirements.txt (line 5)) (4.46.2)\n",
            "Collecting evaluate (from -r /content/drive/MyDrive/electra/fp-dataset-artifacts-main/requirements.txt (line 6))\n",
            "  Downloading evaluate-0.4.3-py3-none-any.whl.metadata (9.2 kB)\n",
            "Requirement already satisfied: huggingface-hub>=0.21.0 in /usr/local/lib/python3.10/dist-packages (from accelerate->-r /content/drive/MyDrive/electra/fp-dataset-artifacts-main/requirements.txt (line 1)) (0.26.2)\n",
            "Requirement already satisfied: numpy<3.0.0,>=1.17 in /usr/local/lib/python3.10/dist-packages (from accelerate->-r /content/drive/MyDrive/electra/fp-dataset-artifacts-main/requirements.txt (line 1)) (1.26.4)\n",
            "Requirement already satisfied: packaging>=20.0 in /usr/local/lib/python3.10/dist-packages (from accelerate->-r /content/drive/MyDrive/electra/fp-dataset-artifacts-main/requirements.txt (line 1)) (24.2)\n",
            "Requirement already satisfied: psutil in /usr/local/lib/python3.10/dist-packages (from accelerate->-r /content/drive/MyDrive/electra/fp-dataset-artifacts-main/requirements.txt (line 1)) (5.9.5)\n",
            "Requirement already satisfied: pyyaml in /usr/local/lib/python3.10/dist-packages (from accelerate->-r /content/drive/MyDrive/electra/fp-dataset-artifacts-main/requirements.txt (line 1)) (6.0.2)\n",
            "Requirement already satisfied: safetensors>=0.4.3 in /usr/local/lib/python3.10/dist-packages (from accelerate->-r /content/drive/MyDrive/electra/fp-dataset-artifacts-main/requirements.txt (line 1)) (0.4.5)\n",
            "Requirement already satisfied: filelock in /usr/local/lib/python3.10/dist-packages (from datasets->-r /content/drive/MyDrive/electra/fp-dataset-artifacts-main/requirements.txt (line 2)) (3.16.1)\n",
            "Requirement already satisfied: pyarrow>=15.0.0 in /usr/local/lib/python3.10/dist-packages (from datasets->-r /content/drive/MyDrive/electra/fp-dataset-artifacts-main/requirements.txt (line 2)) (17.0.0)\n",
            "Collecting dill<0.3.9,>=0.3.0 (from datasets->-r /content/drive/MyDrive/electra/fp-dataset-artifacts-main/requirements.txt (line 2))\n",
            "  Downloading dill-0.3.8-py3-none-any.whl.metadata (10 kB)\n",
            "Requirement already satisfied: pandas in /usr/local/lib/python3.10/dist-packages (from datasets->-r /content/drive/MyDrive/electra/fp-dataset-artifacts-main/requirements.txt (line 2)) (2.2.2)\n",
            "Requirement already satisfied: requests>=2.32.2 in /usr/local/lib/python3.10/dist-packages (from datasets->-r /content/drive/MyDrive/electra/fp-dataset-artifacts-main/requirements.txt (line 2)) (2.32.3)\n",
            "Collecting xxhash (from datasets->-r /content/drive/MyDrive/electra/fp-dataset-artifacts-main/requirements.txt (line 2))\n",
            "  Downloading xxhash-3.5.0-cp310-cp310-manylinux_2_17_x86_64.manylinux2014_x86_64.whl.metadata (12 kB)\n",
            "Collecting multiprocess<0.70.17 (from datasets->-r /content/drive/MyDrive/electra/fp-dataset-artifacts-main/requirements.txt (line 2))\n",
            "  Downloading multiprocess-0.70.16-py310-none-any.whl.metadata (7.2 kB)\n",
            "Collecting fsspec<=2024.9.0,>=2023.1.0 (from fsspec[http]<=2024.9.0,>=2023.1.0->datasets->-r /content/drive/MyDrive/electra/fp-dataset-artifacts-main/requirements.txt (line 2))\n",
            "  Downloading fsspec-2024.9.0-py3-none-any.whl.metadata (11 kB)\n",
            "Requirement already satisfied: aiohttp in /usr/local/lib/python3.10/dist-packages (from datasets->-r /content/drive/MyDrive/electra/fp-dataset-artifacts-main/requirements.txt (line 2)) (3.11.2)\n",
            "Requirement already satisfied: typing-extensions>=4.8.0 in /usr/local/lib/python3.10/dist-packages (from torch->-r /content/drive/MyDrive/electra/fp-dataset-artifacts-main/requirements.txt (line 3)) (4.12.2)\n",
            "Requirement already satisfied: networkx in /usr/local/lib/python3.10/dist-packages (from torch->-r /content/drive/MyDrive/electra/fp-dataset-artifacts-main/requirements.txt (line 3)) (3.4.2)\n",
            "Requirement already satisfied: jinja2 in /usr/local/lib/python3.10/dist-packages (from torch->-r /content/drive/MyDrive/electra/fp-dataset-artifacts-main/requirements.txt (line 3)) (3.1.4)\n",
            "Requirement already satisfied: sympy==1.13.1 in /usr/local/lib/python3.10/dist-packages (from torch->-r /content/drive/MyDrive/electra/fp-dataset-artifacts-main/requirements.txt (line 3)) (1.13.1)\n",
            "Requirement already satisfied: mpmath<1.4,>=1.1.0 in /usr/local/lib/python3.10/dist-packages (from sympy==1.13.1->torch->-r /content/drive/MyDrive/electra/fp-dataset-artifacts-main/requirements.txt (line 3)) (1.3.0)\n",
            "Requirement already satisfied: regex!=2019.12.17 in /usr/local/lib/python3.10/dist-packages (from transformers->-r /content/drive/MyDrive/electra/fp-dataset-artifacts-main/requirements.txt (line 5)) (2024.9.11)\n",
            "Requirement already satisfied: tokenizers<0.21,>=0.20 in /usr/local/lib/python3.10/dist-packages (from transformers->-r /content/drive/MyDrive/electra/fp-dataset-artifacts-main/requirements.txt (line 5)) (0.20.3)\n",
            "Requirement already satisfied: aiohappyeyeballs>=2.3.0 in /usr/local/lib/python3.10/dist-packages (from aiohttp->datasets->-r /content/drive/MyDrive/electra/fp-dataset-artifacts-main/requirements.txt (line 2)) (2.4.3)\n",
            "Requirement already satisfied: aiosignal>=1.1.2 in /usr/local/lib/python3.10/dist-packages (from aiohttp->datasets->-r /content/drive/MyDrive/electra/fp-dataset-artifacts-main/requirements.txt (line 2)) (1.3.1)\n",
            "Requirement already satisfied: attrs>=17.3.0 in /usr/local/lib/python3.10/dist-packages (from aiohttp->datasets->-r /content/drive/MyDrive/electra/fp-dataset-artifacts-main/requirements.txt (line 2)) (24.2.0)\n",
            "Requirement already satisfied: frozenlist>=1.1.1 in /usr/local/lib/python3.10/dist-packages (from aiohttp->datasets->-r /content/drive/MyDrive/electra/fp-dataset-artifacts-main/requirements.txt (line 2)) (1.5.0)\n",
            "Requirement already satisfied: multidict<7.0,>=4.5 in /usr/local/lib/python3.10/dist-packages (from aiohttp->datasets->-r /content/drive/MyDrive/electra/fp-dataset-artifacts-main/requirements.txt (line 2)) (6.1.0)\n",
            "Requirement already satisfied: propcache>=0.2.0 in /usr/local/lib/python3.10/dist-packages (from aiohttp->datasets->-r /content/drive/MyDrive/electra/fp-dataset-artifacts-main/requirements.txt (line 2)) (0.2.0)\n",
            "Requirement already satisfied: yarl<2.0,>=1.17.0 in /usr/local/lib/python3.10/dist-packages (from aiohttp->datasets->-r /content/drive/MyDrive/electra/fp-dataset-artifacts-main/requirements.txt (line 2)) (1.17.2)\n",
            "Requirement already satisfied: async-timeout<6.0,>=4.0 in /usr/local/lib/python3.10/dist-packages (from aiohttp->datasets->-r /content/drive/MyDrive/electra/fp-dataset-artifacts-main/requirements.txt (line 2)) (4.0.3)\n",
            "Requirement already satisfied: charset-normalizer<4,>=2 in /usr/local/lib/python3.10/dist-packages (from requests>=2.32.2->datasets->-r /content/drive/MyDrive/electra/fp-dataset-artifacts-main/requirements.txt (line 2)) (3.4.0)\n",
            "Requirement already satisfied: idna<4,>=2.5 in /usr/local/lib/python3.10/dist-packages (from requests>=2.32.2->datasets->-r /content/drive/MyDrive/electra/fp-dataset-artifacts-main/requirements.txt (line 2)) (3.10)\n",
            "Requirement already satisfied: urllib3<3,>=1.21.1 in /usr/local/lib/python3.10/dist-packages (from requests>=2.32.2->datasets->-r /content/drive/MyDrive/electra/fp-dataset-artifacts-main/requirements.txt (line 2)) (2.2.3)\n",
            "Requirement already satisfied: certifi>=2017.4.17 in /usr/local/lib/python3.10/dist-packages (from requests>=2.32.2->datasets->-r /content/drive/MyDrive/electra/fp-dataset-artifacts-main/requirements.txt (line 2)) (2024.8.30)\n",
            "Requirement already satisfied: MarkupSafe>=2.0 in /usr/local/lib/python3.10/dist-packages (from jinja2->torch->-r /content/drive/MyDrive/electra/fp-dataset-artifacts-main/requirements.txt (line 3)) (3.0.2)\n",
            "Requirement already satisfied: python-dateutil>=2.8.2 in /usr/local/lib/python3.10/dist-packages (from pandas->datasets->-r /content/drive/MyDrive/electra/fp-dataset-artifacts-main/requirements.txt (line 2)) (2.8.2)\n",
            "Requirement already satisfied: pytz>=2020.1 in /usr/local/lib/python3.10/dist-packages (from pandas->datasets->-r /content/drive/MyDrive/electra/fp-dataset-artifacts-main/requirements.txt (line 2)) (2024.2)\n",
            "Requirement already satisfied: tzdata>=2022.7 in /usr/local/lib/python3.10/dist-packages (from pandas->datasets->-r /content/drive/MyDrive/electra/fp-dataset-artifacts-main/requirements.txt (line 2)) (2024.2)\n",
            "Requirement already satisfied: six>=1.5 in /usr/local/lib/python3.10/dist-packages (from python-dateutil>=2.8.2->pandas->datasets->-r /content/drive/MyDrive/electra/fp-dataset-artifacts-main/requirements.txt (line 2)) (1.16.0)\n",
            "Downloading datasets-3.1.0-py3-none-any.whl (480 kB)\n",
            "\u001b[2K   \u001b[90m━━━━━━━━━━━━━━━━━━━━━━━━━━━━━━━━━━━━━━━━\u001b[0m \u001b[32m480.6/480.6 kB\u001b[0m \u001b[31m26.2 MB/s\u001b[0m eta \u001b[36m0:00:00\u001b[0m\n",
            "\u001b[?25hDownloading evaluate-0.4.3-py3-none-any.whl (84 kB)\n",
            "\u001b[2K   \u001b[90m━━━━━━━━━━━━━━━━━━━━━━━━━━━━━━━━━━━━━━━━\u001b[0m \u001b[32m84.0/84.0 kB\u001b[0m \u001b[31m7.8 MB/s\u001b[0m eta \u001b[36m0:00:00\u001b[0m\n",
            "\u001b[?25hDownloading dill-0.3.8-py3-none-any.whl (116 kB)\n",
            "\u001b[2K   \u001b[90m━━━━━━━━━━━━━━━━━━━━━━━━━━━━━━━━━━━━━━━━\u001b[0m \u001b[32m116.3/116.3 kB\u001b[0m \u001b[31m10.4 MB/s\u001b[0m eta \u001b[36m0:00:00\u001b[0m\n",
            "\u001b[?25hDownloading fsspec-2024.9.0-py3-none-any.whl (179 kB)\n",
            "\u001b[2K   \u001b[90m━━━━━━━━━━━━━━━━━━━━━━━━━━━━━━━━━━━━━━━━\u001b[0m \u001b[32m179.3/179.3 kB\u001b[0m \u001b[31m15.7 MB/s\u001b[0m eta \u001b[36m0:00:00\u001b[0m\n",
            "\u001b[?25hDownloading multiprocess-0.70.16-py310-none-any.whl (134 kB)\n",
            "\u001b[2K   \u001b[90m━━━━━━━━━━━━━━━━━━━━━━━━━━━━━━━━━━━━━━━━\u001b[0m \u001b[32m134.8/134.8 kB\u001b[0m \u001b[31m12.6 MB/s\u001b[0m eta \u001b[36m0:00:00\u001b[0m\n",
            "\u001b[?25hDownloading xxhash-3.5.0-cp310-cp310-manylinux_2_17_x86_64.manylinux2014_x86_64.whl (194 kB)\n",
            "\u001b[2K   \u001b[90m━━━━━━━━━━━━━━━━━━━━━━━━━━━━━━━━━━━━━━━━\u001b[0m \u001b[32m194.1/194.1 kB\u001b[0m \u001b[31m15.8 MB/s\u001b[0m eta \u001b[36m0:00:00\u001b[0m\n",
            "\u001b[?25hInstalling collected packages: xxhash, fsspec, dill, multiprocess, datasets, evaluate\n",
            "  Attempting uninstall: fsspec\n",
            "    Found existing installation: fsspec 2024.10.0\n",
            "    Uninstalling fsspec-2024.10.0:\n",
            "      Successfully uninstalled fsspec-2024.10.0\n",
            "\u001b[31mERROR: pip's dependency resolver does not currently take into account all the packages that are installed. This behaviour is the source of the following dependency conflicts.\n",
            "gcsfs 2024.10.0 requires fsspec==2024.10.0, but you have fsspec 2024.9.0 which is incompatible.\u001b[0m\u001b[31m\n",
            "\u001b[0mSuccessfully installed datasets-3.1.0 dill-0.3.8 evaluate-0.4.3 fsspec-2024.9.0 multiprocess-0.70.16 xxhash-3.5.0\n"
          ]
        }
      ]
    },
    {
      "cell_type": "code",
      "source": [
        "import numpy as np\n",
        "import pandas as pd\n",
        "from datasets import Dataset\n",
        "import json\n",
        "\n",
        "\n",
        "def load_jsonl_predictions(file_path):\n",
        "      json_dataset = []  # Initialize an empty list to store JSON objects\n",
        "      with open(file_path, 'r') as f:\n",
        "          for line in f:  # Read the file line by line\n",
        "              try:\n",
        "                  data = json.loads(line)  # Parse each line as a JSON object\n",
        "                  json_dataset.append(data)  # Add the parsed object to the list\n",
        "              except json.JSONDecodeError as e:\n",
        "                  print(f\"Error decoding JSON: {e}, skipping line: {line}\")\n",
        "\n",
        "      dataset = Dataset.from_list(json_dataset)\n",
        "      # Example Data (Replace with actual data)\n",
        "      data = json_dataset\n",
        "\n",
        "      num_classes = 3  # Number of label classes\n",
        "\n",
        "\n",
        "\n",
        "      def token_overlap_ratio(premise, hypothesis):\n",
        "          premise_tokens = set(premise.split())\n",
        "          hypothesis_tokens = set(hypothesis.split())\n",
        "          intersection = len(premise_tokens & hypothesis_tokens)\n",
        "          return intersection / len(premise_tokens)\n",
        "\n",
        "      # Define Error Classes\n",
        "      error_classes = {\n",
        "          \"Negation\": lambda x: any(word in x[\"premise\"].split(\" \") + x[\"hypothesis\"].split(\" \") for word in [\"not\", \"no\", \"never\", \"without\"]),\n",
        "          \"Coreference\": lambda x: any(word in x[\"hypothesis\"] for word in [\"he\", \"she\", \"it\", \"they\"]),\n",
        "          \"Rare Words\": lambda x: any(word in x[\"premise\"] for word in [\"Higgs\", \"boson\", \"quantum\"]),\n",
        "          \"Ambiguity\": lambda x: any(word in x[\"hypothesis\"] for word in [\"something\", \"someone\", \"several\"]),\n",
        "          \"Long Sentences\": lambda x: len(x[\"premise\"].split()) > 10 or len(x[\"hypothesis\"].split()) > 10,\n",
        "          \"High Lexical Overlap\": lambda x: token_overlap_ratio(x[\"premise\"], x[\"hypothesis\"]) > 0.7,\n",
        "      }\n",
        "\n",
        "\n",
        "\n",
        "      # Initialize Counters\n",
        "      error_counts = {cls: 0 for cls in error_classes}\n",
        "      total_counts = {cls: 0 for cls in error_classes}\n",
        "      error_examples = {cls: [] for cls in error_classes}\n",
        "\n",
        "      # Process Examples\n",
        "      for example in data:\n",
        "          true_label = example['label']\n",
        "          predicted_label = example['predicted_label']\n",
        "          is_error = true_label != predicted_label  # Check if the prediction is incorrect\n",
        "\n",
        "          for cls, rule in error_classes.items():\n",
        "              if rule(example):  # Check if example matches the error class\n",
        "                  total_counts[cls] += 1\n",
        "                  if is_error:\n",
        "                      error_counts[cls] += 1\n",
        "                      error_examples[cls].append(example)\n",
        "\n",
        "      # Calculate Metrics\n",
        "      error_rates = {cls: (error_counts[cls] / total_counts[cls] * 100 if total_counts[cls] > 0 else 0) for cls in error_classes}\n",
        "      frequencies = {cls: (total_counts[cls] / len(data) * 100) for cls in error_classes}\n",
        "\n",
        "      # Create Summary Table\n",
        "      summary_table = pd.DataFrame({\n",
        "          \"Error Class\": list(error_classes.keys()),\n",
        "          \"Frequency (%)\": [frequencies[cls] for cls in error_classes],\n",
        "          \"Error Rate (%)\": [error_rates[cls] for cls in error_classes],\n",
        "          \"Error Count\": [error_counts[cls] for cls in error_classes],\n",
        "      })\n",
        "\n",
        "      # Display Results\n",
        "      print(summary_table)\n"
      ],
      "metadata": {
        "id": "99-NQvFX0IOk"
      },
      "execution_count": 22,
      "outputs": []
    },
    {
      "cell_type": "markdown",
      "source": [
        "#Results on SNLI Datasets"
      ],
      "metadata": {
        "id": "7tcgDhJjdT6W"
      }
    },
    {
      "cell_type": "markdown",
      "source": [
        "**Results of Pretrained Model**"
      ],
      "metadata": {
        "id": "0rpsAgWqdfd1"
      }
    },
    {
      "cell_type": "code",
      "source": [
        "load_jsonl_predictions(\"/content/drive/MyDrive/electra/cartography/cart_final/model/output/pretrained_eval_predictions.jsonl\")"
      ],
      "metadata": {
        "colab": {
          "base_uri": "https://localhost:8080/"
        },
        "id": "xHf_aT2j0Vwi",
        "outputId": "66f0134b-c337-4ec1-b272-af5c1e55e13e"
      },
      "execution_count": 31,
      "outputs": [
        {
          "output_type": "stream",
          "name": "stdout",
          "text": [
            "            Error Class  Frequency (%)  Error Rate (%)  Error Count\n",
            "0              Negation       1.574883       11.612903           18\n",
            "1           Coreference      64.661654       11.329353          721\n",
            "2            Rare Words       0.000000        0.000000            0\n",
            "3             Ambiguity       1.158301       20.175439           23\n",
            "4        Long Sentences      68.258484       10.657934          716\n",
            "5  High Lexical Overlap       3.881325        9.162304           35\n"
          ]
        }
      ]
    },
    {
      "cell_type": "markdown",
      "source": [
        "**Results of Finetuned model on Ambiguous dataset**"
      ],
      "metadata": {
        "id": "qjDey-_qdi4t"
      }
    },
    {
      "cell_type": "code",
      "source": [
        "!python3 /content/drive/MyDrive/electra/fp-dataset-artifacts-main/run.py --do_eval --task nli --dataset snli --model /content/drive/MyDrive/electra/cartography/cart_final/model/Finetuned_easy/ --output_dir /content/drive/MyDrive/electra/cartography/cart_final/model/output/"
      ],
      "metadata": {
        "id": "EKwPl3cr_QZY"
      },
      "execution_count": null,
      "outputs": []
    },
    {
      "cell_type": "markdown",
      "source": [
        "{'eval_loss': 0.31365907192230225, 'eval_model_preparation_time': 0.0033, 'eval_accuracy': **0.8941271901130676**, 'eval_runtime': 26.0593, 'eval_samples_per_second': 377.676, 'eval_steps_per_second': 47.238}"
      ],
      "metadata": {
        "id": "yka5VZyceRaA"
      }
    },
    {
      "cell_type": "code",
      "source": [
        "load_jsonl_predictions(\"/content/drive/MyDrive/electra/cartography/cart_final/model/output/finetuned_eval_predictions.jsonl\")"
      ],
      "metadata": {
        "colab": {
          "base_uri": "https://localhost:8080/"
        },
        "id": "B-a14KTxqd7D",
        "outputId": "e9beab61-de40-4fdb-c97b-1623edba7b40"
      },
      "execution_count": 28,
      "outputs": [
        {
          "output_type": "stream",
          "name": "stdout",
          "text": [
            "            Error Class  Frequency (%)  Error Rate (%)  Error Count\n",
            "0              Negation       1.574883       10.322581           16\n",
            "1           Coreference      64.661654       11.486486          731\n",
            "2            Rare Words       0.000000        0.000000            0\n",
            "3             Ambiguity       1.158301       19.298246           22\n",
            "4        Long Sentences      68.258484       10.881215          731\n",
            "5  High Lexical Overlap       3.881325        8.115183           31\n"
          ]
        }
      ]
    },
    {
      "cell_type": "markdown",
      "source": [
        "**Results of Fineuned model on Easy Dataset**"
      ],
      "metadata": {
        "id": "bLQQ-aIldm_G"
      }
    },
    {
      "cell_type": "code",
      "source": [
        "!python3 /content/drive/MyDrive/electra/fp-dataset-artifacts-main/run.py --do_eval --task nli --dataset snli --model /content/drive/MyDrive/electra/cartography/cart_final/model/Finetuned_cartography/ --output_dir /content/drive/MyDrive/electra/cartography/cart_final/model/output/"
      ],
      "metadata": {
        "id": "2g_5uRGOzbPY"
      },
      "execution_count": null,
      "outputs": []
    },
    {
      "cell_type": "markdown",
      "source": [
        "{'eval_loss': 0.32033270597457886, 'eval_model_preparation_time': 0.006, 'eval_accuracy': **0.8913838863372803**, 'eval_runtime': 24.9461, 'eval_samples_per_second': 394.53, 'eval_steps_per_second': 49.346}"
      ],
      "metadata": {
        "id": "Q2r2fDDLeVCn"
      }
    },
    {
      "cell_type": "code",
      "source": [
        "load_jsonl_predictions(\"/content/drive/MyDrive/electra/cartography/cart_final/model/output/easy_eval_predictions.jsonl\")"
      ],
      "metadata": {
        "colab": {
          "base_uri": "https://localhost:8080/"
        },
        "id": "WcfE340OBESa",
        "outputId": "b903c0d1-2235-4207-8cee-fb080de39d26"
      },
      "execution_count": 29,
      "outputs": [
        {
          "output_type": "stream",
          "name": "stdout",
          "text": [
            "            Error Class  Frequency (%)  Error Rate (%)  Error Count\n",
            "0              Negation       1.574883       12.258065           19\n",
            "1           Coreference      64.661654       11.407920          726\n",
            "2            Rare Words       0.000000        0.000000            0\n",
            "3             Ambiguity       1.158301       16.666667           19\n",
            "4        Long Sentences      68.258484       10.628163          714\n",
            "5  High Lexical Overlap       3.881325        9.162304           35\n"
          ]
        }
      ]
    },
    {
      "cell_type": "markdown",
      "source": [
        "**Results of Fineuned model on Hard Dataset**"
      ],
      "metadata": {
        "id": "s_hqAAX5ekST"
      }
    },
    {
      "cell_type": "code",
      "source": [
        "!python3 /content/drive/MyDrive/electra/fp-dataset-artifacts-main/run.py --do_eval --task nli --dataset snli --model /content/drive/MyDrive/electra/cartography/cart_final/model/Finetuned_hard/ --output_dir /content/drive/MyDrive/electra/cartography/cart_final/model/output/"
      ],
      "metadata": {
        "id": "3u0b9ohvemzO"
      },
      "execution_count": null,
      "outputs": []
    },
    {
      "cell_type": "markdown",
      "source": [
        "Evaluation results:\n",
        "{'eval_loss': 0.33475616574287415, 'eval_model_preparation_time': 0.0063, 'eval_accuracy':**0.8927047252655029**, 'eval_runtime': 25.5807, 'eval_samples_per_second': 384.743, 'eval_steps_per_second': 48.122}"
      ],
      "metadata": {
        "id": "4qPu50Ghergo"
      }
    },
    {
      "cell_type": "code",
      "source": [
        "load_jsonl_predictions(\"/content/drive/MyDrive/electra/cartography/cart_final/model/output/hard_eval_predictions.jsonl\")"
      ],
      "metadata": {
        "colab": {
          "base_uri": "https://localhost:8080/"
        },
        "id": "YuJvNLuCBN-s",
        "outputId": "6f3c83ee-0e45-452b-c713-f8c090d3caae"
      },
      "execution_count": 30,
      "outputs": [
        {
          "output_type": "stream",
          "name": "stdout",
          "text": [
            "            Error Class  Frequency (%)  Error Rate (%)  Error Count\n",
            "0              Negation       1.574883       12.903226           20\n",
            "1           Coreference      64.661654       11.407920          726\n",
            "2            Rare Words       0.000000        0.000000            0\n",
            "3             Ambiguity       1.158301       21.052632           24\n",
            "4        Long Sentences      68.258484       10.613278          713\n",
            "5  High Lexical Overlap       3.881325        7.068063           27\n"
          ]
        }
      ]
    },
    {
      "cell_type": "markdown",
      "source": [
        "# Results on MNLI Datasets"
      ],
      "metadata": {
        "id": "EtGHJPexfGqx"
      }
    },
    {
      "cell_type": "markdown",
      "source": [
        "**OOD Dataset**"
      ],
      "metadata": {
        "id": "I3SpNM-2cD_0"
      }
    },
    {
      "cell_type": "markdown",
      "source": [
        "**Just Pretrained Model**"
      ],
      "metadata": {
        "id": "Gln9KozwjilA"
      }
    },
    {
      "cell_type": "code",
      "source": [
        "!python3 /content/drive/MyDrive/electra/fp-dataset-artifacts-main/run.py --do_eval --task nli --dataset /content/drive/MyDrive/electra/datasets/mnli.json --model /content/drive/MyDrive/electra/trained_model/ --output_dir /content/drive/MyDrive/electra/cartography/cart_final/model/output/mnli_mismatched/"
      ],
      "metadata": {
        "colab": {
          "base_uri": "https://localhost:8080/"
        },
        "collapsed": true,
        "id": "2cIYvwmHjaWh",
        "outputId": "eaa6d2f8-f1a7-43f8-b456-eaf1d2d9c6a4"
      },
      "execution_count": 14,
      "outputs": [
        {
          "output_type": "stream",
          "name": "stdout",
          "text": [
            "2024-11-28 20:54:49.182833: E external/local_xla/xla/stream_executor/cuda/cuda_fft.cc:485] Unable to register cuFFT factory: Attempting to register factory for plugin cuFFT when one has already been registered\n",
            "2024-11-28 20:54:49.202191: E external/local_xla/xla/stream_executor/cuda/cuda_dnn.cc:8454] Unable to register cuDNN factory: Attempting to register factory for plugin cuDNN when one has already been registered\n",
            "2024-11-28 20:54:49.208179: E external/local_xla/xla/stream_executor/cuda/cuda_blas.cc:1452] Unable to register cuBLAS factory: Attempting to register factory for plugin cuBLAS when one has already been registered\n",
            "2024-11-28 20:54:49.222351: I tensorflow/core/platform/cpu_feature_guard.cc:210] This TensorFlow binary is optimized to use available CPU instructions in performance-critical operations.\n",
            "To enable the following instructions: AVX2 AVX512F FMA, in other operations, rebuild TensorFlow with the appropriate compiler flags.\n",
            "2024-11-28 20:54:50.532227: W tensorflow/compiler/tf2tensorrt/utils/py_utils.cc:38] TF-TRT Warning: Could not find TensorRT\n",
            "Preprocessing data... (this takes a little bit, should only happen once per dataset)\n",
            "Map (num_proc=2): 100% 9832/9832 [00:01<00:00, 5054.47 examples/s]\n",
            "/content/drive/MyDrive/electra/fp-dataset-artifacts-main/run.py:159: FutureWarning: `tokenizer` is deprecated and will be removed in version 5.0.0 for `Trainer.__init__`. Use `processing_class` instead.\n",
            "  trainer = trainer_class(\n",
            "100% 1225/1229 [00:18<00:00, 51.24it/s]\u001b[34m\u001b[1mwandb\u001b[0m: \u001b[33mWARNING\u001b[0m The `run_name` is currently set to the same value as `TrainingArguments.output_dir`. If this was not intended, please specify a different run name by setting the `TrainingArguments.run_name` parameter.\n",
            "\u001b[34m\u001b[1mwandb\u001b[0m: Using wandb-core as the SDK backend.  Please refer to https://wandb.me/wandb-core for more information.\n",
            "\u001b[34m\u001b[1mwandb\u001b[0m: (1) Create a W&B account\n",
            "\u001b[34m\u001b[1mwandb\u001b[0m: (2) Use an existing W&B account\n",
            "\u001b[34m\u001b[1mwandb\u001b[0m: (3) Don't visualize my results\n",
            "\u001b[34m\u001b[1mwandb\u001b[0m: Enter your choice: 3\n",
            "\u001b[34m\u001b[1mwandb\u001b[0m: You chose \"Don't visualize my results\"\n",
            "\u001b[34m\u001b[1mwandb\u001b[0m: Tracking run with wandb version 0.18.7\n",
            "\u001b[34m\u001b[1mwandb\u001b[0m: W&B syncing is set to \u001b[1m`offline`\u001b[0m in this directory.  \n",
            "\u001b[34m\u001b[1mwandb\u001b[0m: Run \u001b[1m`wandb online`\u001b[0m or set \u001b[1mWANDB_MODE=online\u001b[0m to enable cloud syncing.\n",
            "100% 1229/1229 [00:22<00:00, 54.76it/s]\n",
            "Evaluation results:\n",
            "{'eval_loss': 0.9774576425552368, 'eval_model_preparation_time': 0.0032, 'eval_accuracy': 0.7010781168937683, 'eval_runtime': 19.2295, 'eval_samples_per_second': 511.297, 'eval_steps_per_second': 63.912}\n",
            "\u001b[1;34mwandb\u001b[0m:\n",
            "\u001b[1;34mwandb\u001b[0m: You can sync this run to the cloud by running:\n",
            "\u001b[1;34mwandb\u001b[0m: \u001b[1mwandb sync /content/drive/MyDrive/wandb/offline-run-20241128_205524-o8j2hl0h\u001b[0m\n",
            "\u001b[1;34mwandb\u001b[0m: Find logs at: \u001b[1;35mwandb/offline-run-20241128_205524-o8j2hl0h/logs\u001b[0m\n"
          ]
        }
      ]
    },
    {
      "cell_type": "markdown",
      "source": [
        "{'eval_loss': 0.9774576425552368, 'eval_model_preparation_time': 0.0032, 'eval_accuracy': **0.7010781168937683**, 'eval_runtime': 19.2295, 'eval_samples_per_second': 511.297, 'eval_steps_per_second': 63.912}"
      ],
      "metadata": {
        "id": "NwdeZwqqjs6t"
      }
    },
    {
      "cell_type": "code",
      "source": [
        "load_jsonl_predictions(\"/content/drive/MyDrive/electra/cartography/cart_final/model/output/mnli_mismatched/eval_predictions.jsonl\")"
      ],
      "metadata": {
        "colab": {
          "base_uri": "https://localhost:8080/"
        },
        "id": "i9IvthWNjwg2",
        "outputId": "beacd56b-acd8-40fa-e715-9f2932e4f72f"
      },
      "execution_count": 32,
      "outputs": [
        {
          "output_type": "stream",
          "name": "stdout",
          "text": [
            "            Error Class  Frequency (%)  Error Rate (%)  Error Count\n",
            "0              Negation      21.887714       29.182156          628\n",
            "1           Coreference      77.583401       30.361825         2316\n",
            "2            Rare Words       0.000000        0.000000            0\n",
            "3             Ambiguity       1.362897       38.805970           52\n",
            "4        Long Sentences      79.068348       30.499100         2371\n",
            "5  High Lexical Overlap       3.224166       15.772871           50\n"
          ]
        }
      ]
    },
    {
      "cell_type": "markdown",
      "source": [
        "**Pre-trained Finetuned (Entire Dataset) Model**"
      ],
      "metadata": {
        "id": "D0-c7aa0bf-9"
      }
    },
    {
      "cell_type": "code",
      "source": [
        "!python3 /content/drive/MyDrive/electra/fp-dataset-artifacts-main/run.py --do_eval --task nli --dataset /content/drive/MyDrive/electra/datasets/mnli.json --model /content/drive/MyDrive/electra/cartography/cart_final/model/Pretrained_cartography/ --output_dir /content/drive/MyDrive/electra/cartography/cart_final/model/output/mnli_mismatched/"
      ],
      "metadata": {
        "colab": {
          "base_uri": "https://localhost:8080/"
        },
        "id": "4hoMaYEibgbs",
        "outputId": "1a933ce6-df05-40e7-b0c0-e023a5d9332a",
        "collapsed": true
      },
      "execution_count": 4,
      "outputs": [
        {
          "output_type": "stream",
          "name": "stdout",
          "text": [
            "2024-11-28 20:40:37.473897: E external/local_xla/xla/stream_executor/cuda/cuda_fft.cc:485] Unable to register cuFFT factory: Attempting to register factory for plugin cuFFT when one has already been registered\n",
            "2024-11-28 20:40:37.493576: E external/local_xla/xla/stream_executor/cuda/cuda_dnn.cc:8454] Unable to register cuDNN factory: Attempting to register factory for plugin cuDNN when one has already been registered\n",
            "2024-11-28 20:40:37.501665: E external/local_xla/xla/stream_executor/cuda/cuda_blas.cc:1452] Unable to register cuBLAS factory: Attempting to register factory for plugin cuBLAS when one has already been registered\n",
            "2024-11-28 20:40:37.515910: I tensorflow/core/platform/cpu_feature_guard.cc:210] This TensorFlow binary is optimized to use available CPU instructions in performance-critical operations.\n",
            "To enable the following instructions: AVX2 AVX512F FMA, in other operations, rebuild TensorFlow with the appropriate compiler flags.\n",
            "2024-11-28 20:40:39.007232: W tensorflow/compiler/tf2tensorrt/utils/py_utils.cc:38] TF-TRT Warning: Could not find TensorRT\n",
            "Generating train split: 9832 examples [00:00, 12978.19 examples/s]\n",
            "Preprocessing data... (this takes a little bit, should only happen once per dataset)\n",
            "Map (num_proc=2): 100% 9832/9832 [00:03<00:00, 2884.23 examples/s]\n",
            "/content/drive/MyDrive/electra/fp-dataset-artifacts-main/run.py:159: FutureWarning: `tokenizer` is deprecated and will be removed in version 5.0.0 for `Trainer.__init__`. Use `processing_class` instead.\n",
            "  trainer = trainer_class(\n",
            "100% 1225/1229 [00:17<00:00, 77.61it/s]\u001b[34m\u001b[1mwandb\u001b[0m: \u001b[33mWARNING\u001b[0m The `run_name` is currently set to the same value as `TrainingArguments.output_dir`. If this was not intended, please specify a different run name by setting the `TrainingArguments.run_name` parameter.\n",
            "\u001b[34m\u001b[1mwandb\u001b[0m: Using wandb-core as the SDK backend.  Please refer to https://wandb.me/wandb-core for more information.\n",
            "\u001b[34m\u001b[1mwandb\u001b[0m: (1) Create a W&B account\n",
            "\u001b[34m\u001b[1mwandb\u001b[0m: (2) Use an existing W&B account\n",
            "\u001b[34m\u001b[1mwandb\u001b[0m: (3) Don't visualize my results\n",
            "100% 1229/1229 [00:30<00:00, 77.61it/s]3\n",
            "\u001b[34m\u001b[1mwandb\u001b[0m: You chose \"Don't visualize my results\"\n",
            "\u001b[34m\u001b[1mwandb\u001b[0m: Tracking run with wandb version 0.18.7\n",
            "\u001b[34m\u001b[1mwandb\u001b[0m: W&B syncing is set to \u001b[1m`offline`\u001b[0m in this directory.  \n",
            "\u001b[34m\u001b[1mwandb\u001b[0m: Run \u001b[1m`wandb online`\u001b[0m or set \u001b[1mWANDB_MODE=online\u001b[0m to enable cloud syncing.\n",
            "100% 1229/1229 [02:48<00:00,  7.31it/s]\n",
            "Evaluation results:\n",
            "{'eval_loss': 0.8103671073913574, 'eval_model_preparation_time': 0.0037, 'eval_accuracy': 0.6982302665710449, 'eval_runtime': 18.6238, 'eval_samples_per_second': 527.928, 'eval_steps_per_second': 65.991}\n",
            "\u001b[1;34mwandb\u001b[0m:\n",
            "\u001b[1;34mwandb\u001b[0m: You can sync this run to the cloud by running:\n",
            "\u001b[1;34mwandb\u001b[0m: \u001b[1mwandb sync /content/drive/MyDrive/wandb/offline-run-20241128_204347-r3ulwfsb\u001b[0m\n",
            "\u001b[1;34mwandb\u001b[0m: Find logs at: \u001b[1;35mwandb/offline-run-20241128_204347-r3ulwfsb/logs\u001b[0m\n"
          ]
        }
      ]
    },
    {
      "cell_type": "markdown",
      "source": [
        "Evaluation results:\n",
        "{'eval_loss': 0.8103671073913574, 'eval_model_preparation_time': 0.0037, 'eval_accuracy': **0.6982302665710449**, 'eval_runtime': 18.6238, 'eval_samples_per_second': 527.928, 'eval_steps_per_second': 65.991}"
      ],
      "metadata": {
        "id": "JOXrWwlKhW_V"
      }
    },
    {
      "cell_type": "code",
      "source": [
        "load_jsonl_predictions(\"/content/drive/MyDrive/electra/cartography/cart_final/model/output/mnli_mismatched/pretrained_eval_predictions.jsonl\")"
      ],
      "metadata": {
        "id": "62mRNnyEcuOA",
        "colab": {
          "base_uri": "https://localhost:8080/"
        },
        "outputId": "723b4d56-e77b-4d82-c1e1-cf1fc14cdcf8"
      },
      "execution_count": 33,
      "outputs": [
        {
          "output_type": "stream",
          "name": "stdout",
          "text": [
            "            Error Class  Frequency (%)  Error Rate (%)  Error Count\n",
            "0              Negation      21.887714       29.182156          628\n",
            "1           Coreference      77.583401       30.702674         2342\n",
            "2            Rare Words       0.000000        0.000000            0\n",
            "3             Ambiguity       1.362897       34.328358           46\n",
            "4        Long Sentences      79.068348       30.897865         2402\n",
            "5  High Lexical Overlap       3.224166       15.772871           50\n"
          ]
        }
      ]
    },
    {
      "cell_type": "markdown",
      "source": [
        "**Model Fine-tuned on Easy Examaples**"
      ],
      "metadata": {
        "id": "p7ROUrONbZ40"
      }
    },
    {
      "cell_type": "code",
      "source": [
        "!python3 /content/drive/MyDrive/electra/fp-dataset-artifacts-main/run.py --do_eval --task nli --dataset /content/drive/MyDrive/electra/datasets/mnli.json --model /content/drive/MyDrive/electra/cartography/cart_final/model/Finetuned_easy/ --output_dir /content/drive/MyDrive/electra/cartography/cart_final/model/output/mnli_mismatched/"
      ],
      "metadata": {
        "id": "TfXJ6brCbKYG",
        "colab": {
          "base_uri": "https://localhost:8080/"
        },
        "collapsed": true,
        "outputId": "8803f5b3-24b1-455a-f873-784dabec1084"
      },
      "execution_count": 7,
      "outputs": [
        {
          "output_type": "stream",
          "name": "stdout",
          "text": [
            "2024-11-28 20:47:21.420884: E external/local_xla/xla/stream_executor/cuda/cuda_fft.cc:485] Unable to register cuFFT factory: Attempting to register factory for plugin cuFFT when one has already been registered\n",
            "2024-11-28 20:47:21.454987: E external/local_xla/xla/stream_executor/cuda/cuda_dnn.cc:8454] Unable to register cuDNN factory: Attempting to register factory for plugin cuDNN when one has already been registered\n",
            "2024-11-28 20:47:21.465499: E external/local_xla/xla/stream_executor/cuda/cuda_blas.cc:1452] Unable to register cuBLAS factory: Attempting to register factory for plugin cuBLAS when one has already been registered\n",
            "2024-11-28 20:47:21.488820: I tensorflow/core/platform/cpu_feature_guard.cc:210] This TensorFlow binary is optimized to use available CPU instructions in performance-critical operations.\n",
            "To enable the following instructions: AVX2 AVX512F FMA, in other operations, rebuild TensorFlow with the appropriate compiler flags.\n",
            "2024-11-28 20:47:22.926042: W tensorflow/compiler/tf2tensorrt/utils/py_utils.cc:38] TF-TRT Warning: Could not find TensorRT\n",
            "Preprocessing data... (this takes a little bit, should only happen once per dataset)\n",
            "Map (num_proc=2): 100% 9832/9832 [00:01<00:00, 5060.29 examples/s]\n",
            "/content/drive/MyDrive/electra/fp-dataset-artifacts-main/run.py:159: FutureWarning: `tokenizer` is deprecated and will be removed in version 5.0.0 for `Trainer.__init__`. Use `processing_class` instead.\n",
            "  trainer = trainer_class(\n",
            " 99% 1222/1229 [00:17<00:00, 76.52it/s]\u001b[34m\u001b[1mwandb\u001b[0m: \u001b[33mWARNING\u001b[0m The `run_name` is currently set to the same value as `TrainingArguments.output_dir`. If this was not intended, please specify a different run name by setting the `TrainingArguments.run_name` parameter.\n",
            "\u001b[34m\u001b[1mwandb\u001b[0m: Using wandb-core as the SDK backend.  Please refer to https://wandb.me/wandb-core for more information.\n",
            "\u001b[34m\u001b[1mwandb\u001b[0m: (1) Create a W&B account\n",
            "\u001b[34m\u001b[1mwandb\u001b[0m: (2) Use an existing W&B account\n",
            "\u001b[34m\u001b[1mwandb\u001b[0m: (3) Don't visualize my results\n",
            "\u001b[34m\u001b[1mwandb\u001b[0m: Enter your choice: 3\n",
            "\u001b[34m\u001b[1mwandb\u001b[0m: You chose \"Don't visualize my results\"\n",
            "\u001b[34m\u001b[1mwandb\u001b[0m: Tracking run with wandb version 0.18.7\n",
            "\u001b[34m\u001b[1mwandb\u001b[0m: W&B syncing is set to \u001b[1m`offline`\u001b[0m in this directory.  \n",
            "\u001b[34m\u001b[1mwandb\u001b[0m: Run \u001b[1m`wandb online`\u001b[0m or set \u001b[1mWANDB_MODE=online\u001b[0m to enable cloud syncing.\n",
            "100% 1229/1229 [00:22<00:00, 54.84it/s]\n",
            "Evaluation results:\n",
            "{'eval_loss': 0.7863791584968567, 'eval_model_preparation_time': 0.0054, 'eval_accuracy': 0.7037225365638733, 'eval_runtime': 18.7515, 'eval_samples_per_second': 524.332, 'eval_steps_per_second': 65.542}\n",
            "\u001b[1;34mwandb\u001b[0m:\n",
            "\u001b[1;34mwandb\u001b[0m: You can sync this run to the cloud by running:\n",
            "\u001b[1;34mwandb\u001b[0m: \u001b[1mwandb sync /content/drive/MyDrive/wandb/offline-run-20241128_204756-f4hkw8mj\u001b[0m\n",
            "\u001b[1;34mwandb\u001b[0m: Find logs at: \u001b[1;35mwandb/offline-run-20241128_204756-f4hkw8mj/logs\u001b[0m\n"
          ]
        }
      ]
    },
    {
      "cell_type": "markdown",
      "source": [
        "Evaluation results:\n",
        "{'eval_loss': 0.7863791584968567, 'eval_model_preparation_time': 0.0054, 'eval_accuracy': **0.7037225365638733**, 'eval_runtime': 18.7515, 'eval_samples_per_second': 524.332, 'eval_steps_per_second': 65.542}"
      ],
      "metadata": {
        "id": "P0MZ96HAh-fb"
      }
    },
    {
      "cell_type": "code",
      "source": [
        "load_jsonl_predictions(\"/content/drive/MyDrive/electra/cartography/cart_final/model/output/mnli_mismatched/easy_eval_predictions.jsonl\")"
      ],
      "metadata": {
        "colab": {
          "base_uri": "https://localhost:8080/"
        },
        "id": "UvVyt3vliJqy",
        "outputId": "7b68311a-51c1-47b7-b88e-5df8de2c4f8a"
      },
      "execution_count": 34,
      "outputs": [
        {
          "output_type": "stream",
          "name": "stdout",
          "text": [
            "            Error Class  Frequency (%)  Error Rate (%)  Error Count\n",
            "0              Negation      21.887714       28.856877          621\n",
            "1           Coreference      77.583401       30.256948         2308\n",
            "2            Rare Words       0.000000        0.000000            0\n",
            "3             Ambiguity       1.362897       36.567164           49\n",
            "4        Long Sentences      79.068348       30.203242         2348\n",
            "5  High Lexical Overlap       3.224166       17.981073           57\n"
          ]
        }
      ]
    },
    {
      "cell_type": "markdown",
      "source": [
        "**Model Fine-tuned on Ambigous Examples**"
      ],
      "metadata": {
        "id": "KX1R-EG9bSbO"
      }
    },
    {
      "cell_type": "code",
      "source": [
        "!python3 /content/drive/MyDrive/electra/fp-dataset-artifacts-main/run.py --do_eval --task nli --dataset /content/drive/MyDrive/electra/datasets/mnli.json --model /content/drive/MyDrive/electra/cartography/cart_final/model/Finetuned_cartography/ --output_dir /content/drive/MyDrive/electra/cartography/cart_final/model/output/mnli_mismatched/"
      ],
      "metadata": {
        "id": "isFh9TXXbR1B",
        "colab": {
          "base_uri": "https://localhost:8080/"
        },
        "collapsed": true,
        "outputId": "c757c335-a4e5-4608-f7b0-c62222fc27bd"
      },
      "execution_count": 9,
      "outputs": [
        {
          "output_type": "stream",
          "name": "stdout",
          "text": [
            "2024-11-28 20:49:11.212477: E external/local_xla/xla/stream_executor/cuda/cuda_fft.cc:485] Unable to register cuFFT factory: Attempting to register factory for plugin cuFFT when one has already been registered\n",
            "2024-11-28 20:49:11.231794: E external/local_xla/xla/stream_executor/cuda/cuda_dnn.cc:8454] Unable to register cuDNN factory: Attempting to register factory for plugin cuDNN when one has already been registered\n",
            "2024-11-28 20:49:11.237586: E external/local_xla/xla/stream_executor/cuda/cuda_blas.cc:1452] Unable to register cuBLAS factory: Attempting to register factory for plugin cuBLAS when one has already been registered\n",
            "2024-11-28 20:49:11.252933: I tensorflow/core/platform/cpu_feature_guard.cc:210] This TensorFlow binary is optimized to use available CPU instructions in performance-critical operations.\n",
            "To enable the following instructions: AVX2 AVX512F FMA, in other operations, rebuild TensorFlow with the appropriate compiler flags.\n",
            "2024-11-28 20:49:12.272390: W tensorflow/compiler/tf2tensorrt/utils/py_utils.cc:38] TF-TRT Warning: Could not find TensorRT\n",
            "Preprocessing data... (this takes a little bit, should only happen once per dataset)\n",
            "Map (num_proc=2): 100% 9832/9832 [00:01<00:00, 5041.74 examples/s]\n",
            "/content/drive/MyDrive/electra/fp-dataset-artifacts-main/run.py:159: FutureWarning: `tokenizer` is deprecated and will be removed in version 5.0.0 for `Trainer.__init__`. Use `processing_class` instead.\n",
            "  trainer = trainer_class(\n",
            "100% 1228/1229 [00:17<00:00, 81.42it/s]\u001b[34m\u001b[1mwandb\u001b[0m: \u001b[33mWARNING\u001b[0m The `run_name` is currently set to the same value as `TrainingArguments.output_dir`. If this was not intended, please specify a different run name by setting the `TrainingArguments.run_name` parameter.\n",
            "\u001b[34m\u001b[1mwandb\u001b[0m: Using wandb-core as the SDK backend.  Please refer to https://wandb.me/wandb-core for more information.\n",
            "\u001b[34m\u001b[1mwandb\u001b[0m: (1) Create a W&B account\n",
            "\u001b[34m\u001b[1mwandb\u001b[0m: (2) Use an existing W&B account\n",
            "\u001b[34m\u001b[1mwandb\u001b[0m: (3) Don't visualize my results\n",
            "100% 1229/1229 [00:30<00:00, 81.42it/s]3\n",
            "\u001b[34m\u001b[1mwandb\u001b[0m: You chose \"Don't visualize my results\"\n",
            "\u001b[34m\u001b[1mwandb\u001b[0m: Tracking run with wandb version 0.18.7\n",
            "\u001b[34m\u001b[1mwandb\u001b[0m: W&B syncing is set to \u001b[1m`offline`\u001b[0m in this directory.  \n",
            "\u001b[34m\u001b[1mwandb\u001b[0m: Run \u001b[1m`wandb online`\u001b[0m or set \u001b[1mWANDB_MODE=online\u001b[0m to enable cloud syncing.\n",
            "100% 1229/1229 [00:34<00:00, 35.82it/s]\n",
            "Evaluation results:\n",
            "{'eval_loss': 0.8081018924713135, 'eval_model_preparation_time': 0.0031, 'eval_accuracy': 0.6979251503944397, 'eval_runtime': 17.6294, 'eval_samples_per_second': 557.705, 'eval_steps_per_second': 69.713}\n",
            "\u001b[1;34mwandb\u001b[0m:\n",
            "\u001b[1;34mwandb\u001b[0m: You can sync this run to the cloud by running:\n",
            "\u001b[1;34mwandb\u001b[0m: \u001b[1mwandb sync /content/drive/MyDrive/wandb/offline-run-20241128_204954-rspjp11s\u001b[0m\n",
            "\u001b[1;34mwandb\u001b[0m: Find logs at: \u001b[1;35mwandb/offline-run-20241128_204954-rspjp11s/logs\u001b[0m\n"
          ]
        }
      ]
    },
    {
      "cell_type": "markdown",
      "source": [
        "{'eval_loss': 0.8081018924713135, 'eval_model_preparation_time': 0.0031, 'eval_accuracy': **0.6979251503944397**, 'eval_runtime': 17.6294, 'eval_samples_per_second': 557.705, 'eval_steps_per_second': 69.713}"
      ],
      "metadata": {
        "id": "xFegQEe_icmW"
      }
    },
    {
      "cell_type": "code",
      "source": [
        "load_jsonl_predictions(\"/content/drive/MyDrive/electra/cartography/cart_final/model/output/mnli_mismatched/amb_eval_predictions.jsonl\")"
      ],
      "metadata": {
        "colab": {
          "base_uri": "https://localhost:8080/"
        },
        "id": "UE2TlCj3itQi",
        "outputId": "dcafaeb8-b6c7-466b-8575-58e9c9502f7f"
      },
      "execution_count": 35,
      "outputs": [
        {
          "output_type": "stream",
          "name": "stdout",
          "text": [
            "            Error Class  Frequency (%)  Error Rate (%)  Error Count\n",
            "0              Negation      21.887714       30.622677          659\n",
            "1           Coreference      77.583401       30.833770         2352\n",
            "2            Rare Words       0.000000        0.000000            0\n",
            "3             Ambiguity       1.362897       38.059701           51\n",
            "4        Long Sentences      79.068348       30.769231         2392\n",
            "5  High Lexical Overlap       3.224166       16.719243           53\n"
          ]
        }
      ]
    },
    {
      "cell_type": "markdown",
      "source": [
        "**Model Fine-tuned on Hard Examples**"
      ],
      "metadata": {
        "id": "BovgNuQcb_VW"
      }
    },
    {
      "cell_type": "code",
      "source": [
        "!python3 /content/drive/MyDrive/electra/fp-dataset-artifacts-main/run.py --do_eval --task nli --dataset /content/drive/MyDrive/electra/datasets/mnli.json --model /content/drive/MyDrive/electra/cartography/cart_final/model/Finetuned_hard/ --output_dir /content/drive/MyDrive/electra/cartography/cart_final/model/output/mnli_mismatched/"
      ],
      "metadata": {
        "id": "f8AufTk8b7HM",
        "colab": {
          "base_uri": "https://localhost:8080/"
        },
        "collapsed": true,
        "outputId": "7fe11989-4788-476d-c86b-dc75498aabfc"
      },
      "execution_count": 11,
      "outputs": [
        {
          "output_type": "stream",
          "name": "stdout",
          "text": [
            "2024-11-28 20:51:53.362036: E external/local_xla/xla/stream_executor/cuda/cuda_fft.cc:485] Unable to register cuFFT factory: Attempting to register factory for plugin cuFFT when one has already been registered\n",
            "2024-11-28 20:51:53.381315: E external/local_xla/xla/stream_executor/cuda/cuda_dnn.cc:8454] Unable to register cuDNN factory: Attempting to register factory for plugin cuDNN when one has already been registered\n",
            "2024-11-28 20:51:53.387074: E external/local_xla/xla/stream_executor/cuda/cuda_blas.cc:1452] Unable to register cuBLAS factory: Attempting to register factory for plugin cuBLAS when one has already been registered\n",
            "2024-11-28 20:51:53.401046: I tensorflow/core/platform/cpu_feature_guard.cc:210] This TensorFlow binary is optimized to use available CPU instructions in performance-critical operations.\n",
            "To enable the following instructions: AVX2 AVX512F FMA, in other operations, rebuild TensorFlow with the appropriate compiler flags.\n",
            "2024-11-28 20:51:54.404162: W tensorflow/compiler/tf2tensorrt/utils/py_utils.cc:38] TF-TRT Warning: Could not find TensorRT\n",
            "Preprocessing data... (this takes a little bit, should only happen once per dataset)\n",
            "Map (num_proc=2): 100% 9832/9832 [00:02<00:00, 4887.33 examples/s]\n",
            "/content/drive/MyDrive/electra/fp-dataset-artifacts-main/run.py:159: FutureWarning: `tokenizer` is deprecated and will be removed in version 5.0.0 for `Trainer.__init__`. Use `processing_class` instead.\n",
            "  trainer = trainer_class(\n",
            " 99% 1221/1229 [00:17<00:00, 79.41it/s]\u001b[34m\u001b[1mwandb\u001b[0m: \u001b[33mWARNING\u001b[0m The `run_name` is currently set to the same value as `TrainingArguments.output_dir`. If this was not intended, please specify a different run name by setting the `TrainingArguments.run_name` parameter.\n",
            "\u001b[34m\u001b[1mwandb\u001b[0m: Using wandb-core as the SDK backend.  Please refer to https://wandb.me/wandb-core for more information.\n",
            "\u001b[34m\u001b[1mwandb\u001b[0m: (1) Create a W&B account\n",
            "\u001b[34m\u001b[1mwandb\u001b[0m: (2) Use an existing W&B account\n",
            "\u001b[34m\u001b[1mwandb\u001b[0m: (3) Don't visualize my results\n",
            "100% 1229/1229 [00:30<00:00, 79.41it/s]3\n",
            "\u001b[34m\u001b[1mwandb\u001b[0m: You chose \"Don't visualize my results\"\n",
            "\u001b[34m\u001b[1mwandb\u001b[0m: Tracking run with wandb version 0.18.7\n",
            "\u001b[34m\u001b[1mwandb\u001b[0m: W&B syncing is set to \u001b[1m`offline`\u001b[0m in this directory.  \n",
            "\u001b[34m\u001b[1mwandb\u001b[0m: Run \u001b[1m`wandb online`\u001b[0m or set \u001b[1mWANDB_MODE=online\u001b[0m to enable cloud syncing.\n",
            "100% 1229/1229 [00:38<00:00, 32.29it/s]\n",
            "Evaluation results:\n",
            "{'eval_loss': 0.8554939031600952, 'eval_model_preparation_time': 0.0032, 'eval_accuracy': 0.6946704387664795, 'eval_runtime': 17.8336, 'eval_samples_per_second': 551.318, 'eval_steps_per_second': 68.915}\n",
            "\u001b[1;34mwandb\u001b[0m:\n",
            "\u001b[1;34mwandb\u001b[0m: You can sync this run to the cloud by running:\n",
            "\u001b[1;34mwandb\u001b[0m: \u001b[1mwandb sync /content/drive/MyDrive/wandb/offline-run-20241128_205240-pzhq3xtd\u001b[0m\n",
            "\u001b[1;34mwandb\u001b[0m: Find logs at: \u001b[1;35mwandb/offline-run-20241128_205240-pzhq3xtd/logs\u001b[0m\n"
          ]
        }
      ]
    },
    {
      "cell_type": "markdown",
      "source": [
        "{'eval_loss': 0.8554939031600952, 'eval_model_preparation_time': 0.0032, 'eval_accuracy': **0.6946704387664795**, 'eval_runtime': 17.8336, 'eval_samples_per_second': 551.318, 'eval_steps_per_second': 68.915}\n"
      ],
      "metadata": {
        "id": "CRxGO91ZjF6P"
      }
    },
    {
      "cell_type": "code",
      "source": [
        "load_jsonl_predictions(\"/content/drive/MyDrive/electra/cartography/cart_final/model/output/mnli_mismatched/hard_eval_predictions.jsonl\")"
      ],
      "metadata": {
        "colab": {
          "base_uri": "https://localhost:8080/"
        },
        "id": "J4oPFVqbjM1W",
        "outputId": "ad69f467-065f-44d0-ab17-2e880facfc68"
      },
      "execution_count": 36,
      "outputs": [
        {
          "output_type": "stream",
          "name": "stdout",
          "text": [
            "            Error Class  Frequency (%)  Error Rate (%)  Error Count\n",
            "0              Negation      21.887714       30.901487          665\n",
            "1           Coreference      77.583401       30.925537         2359\n",
            "2            Rare Words       0.000000        0.000000            0\n",
            "3             Ambiguity       1.362897       35.074627           47\n",
            "4        Long Sentences      79.068348       31.090816         2417\n",
            "5  High Lexical Overlap       3.224166       15.457413           49\n"
          ]
        }
      ]
    },
    {
      "cell_type": "markdown",
      "source": [
        "# MNLI Matched"
      ],
      "metadata": {
        "id": "oyRWdDiAmSaw"
      }
    },
    {
      "cell_type": "markdown",
      "source": [
        "**Trained Model**"
      ],
      "metadata": {
        "id": "zaeutPMDmWTE"
      }
    },
    {
      "cell_type": "code",
      "source": [
        "!python3 /content/drive/MyDrive/electra/fp-dataset-artifacts-main/run.py --do_eval --task nli --dataset /content/drive/MyDrive/electra/datasets/mnli_matched.json --model /content/drive/MyDrive/electra/trained_model/ --output_dir /content/drive/MyDrive/electra/cartography/cart_final/model/output/mnli_matched/"
      ],
      "metadata": {
        "colab": {
          "base_uri": "https://localhost:8080/"
        },
        "collapsed": true,
        "id": "B7IkteQ3mR_V",
        "outputId": "558a1d58-e808-4a64-834b-ed7392f1b49f"
      },
      "execution_count": 17,
      "outputs": [
        {
          "output_type": "stream",
          "name": "stdout",
          "text": [
            "2024-11-28 21:10:41.522447: E external/local_xla/xla/stream_executor/cuda/cuda_fft.cc:485] Unable to register cuFFT factory: Attempting to register factory for plugin cuFFT when one has already been registered\n",
            "2024-11-28 21:10:41.541727: E external/local_xla/xla/stream_executor/cuda/cuda_dnn.cc:8454] Unable to register cuDNN factory: Attempting to register factory for plugin cuDNN when one has already been registered\n",
            "2024-11-28 21:10:41.547497: E external/local_xla/xla/stream_executor/cuda/cuda_blas.cc:1452] Unable to register cuBLAS factory: Attempting to register factory for plugin cuBLAS when one has already been registered\n",
            "2024-11-28 21:10:41.563183: I tensorflow/core/platform/cpu_feature_guard.cc:210] This TensorFlow binary is optimized to use available CPU instructions in performance-critical operations.\n",
            "To enable the following instructions: AVX2 AVX512F FMA, in other operations, rebuild TensorFlow with the appropriate compiler flags.\n",
            "2024-11-28 21:10:42.583419: W tensorflow/compiler/tf2tensorrt/utils/py_utils.cc:38] TF-TRT Warning: Could not find TensorRT\n",
            "Generating train split: 9815 examples [00:00, 24329.57 examples/s]\n",
            "Preprocessing data... (this takes a little bit, should only happen once per dataset)\n",
            "Map (num_proc=2): 100% 9815/9815 [00:03<00:00, 3067.09 examples/s]\n",
            "/content/drive/MyDrive/electra/fp-dataset-artifacts-main/run.py:159: FutureWarning: `tokenizer` is deprecated and will be removed in version 5.0.0 for `Trainer.__init__`. Use `processing_class` instead.\n",
            "  trainer = trainer_class(\n",
            "100% 1222/1227 [00:17<00:00, 75.73it/s]\u001b[34m\u001b[1mwandb\u001b[0m: \u001b[33mWARNING\u001b[0m The `run_name` is currently set to the same value as `TrainingArguments.output_dir`. If this was not intended, please specify a different run name by setting the `TrainingArguments.run_name` parameter.\n",
            "\u001b[34m\u001b[1mwandb\u001b[0m: Using wandb-core as the SDK backend.  Please refer to https://wandb.me/wandb-core for more information.\n",
            "\u001b[34m\u001b[1mwandb\u001b[0m: (1) Create a W&B account\n",
            "\u001b[34m\u001b[1mwandb\u001b[0m: (2) Use an existing W&B account\n",
            "\u001b[34m\u001b[1mwandb\u001b[0m: (3) Don't visualize my results\n",
            "\u001b[34m\u001b[1mwandb\u001b[0m: Enter your choice: 3\n",
            "\u001b[34m\u001b[1mwandb\u001b[0m: You chose \"Don't visualize my results\"\n",
            "\u001b[34m\u001b[1mwandb\u001b[0m: Tracking run with wandb version 0.18.7\n",
            "\u001b[34m\u001b[1mwandb\u001b[0m: W&B syncing is set to \u001b[1m`offline`\u001b[0m in this directory.  \n",
            "\u001b[34m\u001b[1mwandb\u001b[0m: Run \u001b[1m`wandb online`\u001b[0m or set \u001b[1mWANDB_MODE=online\u001b[0m to enable cloud syncing.\n",
            "100% 1227/1227 [00:23<00:00, 52.04it/s]\n",
            "Evaluation results:\n",
            "{'eval_loss': 1.0004066228866577, 'eval_model_preparation_time': 0.0054, 'eval_accuracy': 0.690473735332489, 'eval_runtime': 18.0353, 'eval_samples_per_second': 544.211, 'eval_steps_per_second': 68.033}\n",
            "\u001b[1;34mwandb\u001b[0m:\n",
            "\u001b[1;34mwandb\u001b[0m: You can sync this run to the cloud by running:\n",
            "\u001b[1;34mwandb\u001b[0m: \u001b[1mwandb sync /content/drive/MyDrive/wandb/offline-run-20241128_211114-uj75pe0e\u001b[0m\n",
            "\u001b[1;34mwandb\u001b[0m: Find logs at: \u001b[1;35mwandb/offline-run-20241128_211114-uj75pe0e/logs\u001b[0m\n"
          ]
        }
      ]
    },
    {
      "cell_type": "markdown",
      "source": [
        "Evaluation results:\n",
        "{'eval_loss': 1.0004066228866577, 'eval_model_preparation_time': 0.0054, 'eval_accuracy': **0.690473735332489**, 'eval_runtime': 18.0353, 'eval_samples_per_second': 544.211, 'eval_steps_per_second': 68.033}"
      ],
      "metadata": {
        "id": "_s9HTq4MoBKh"
      }
    },
    {
      "cell_type": "code",
      "source": [
        "load_jsonl_predictions(\"/content/drive/MyDrive/electra/cartography/cart_final/model/output/mnli_matched/trained_eval_predictions.jsonl\")"
      ],
      "metadata": {
        "colab": {
          "base_uri": "https://localhost:8080/"
        },
        "id": "yxa6XINlp85B",
        "outputId": "3a55dc68-acd0-4a89-b3a5-1836a3045768"
      },
      "execution_count": 23,
      "outputs": [
        {
          "output_type": "stream",
          "name": "stdout",
          "text": [
            "            Error Class  Frequency (%)  Error Rate (%)  Error Count\n",
            "0              Negation      21.090168       32.318841          669\n",
            "1           Coreference      76.016302       31.282670         2334\n",
            "2            Rare Words       0.000000        0.000000            0\n",
            "3             Ambiguity       1.314315       34.108527           44\n",
            "4        Long Sentences      75.425369       31.703364         2347\n",
            "5  High Lexical Overlap       2.363729       16.810345           39\n"
          ]
        }
      ]
    },
    {
      "cell_type": "markdown",
      "source": [
        "**Pre-trained Finetuned (Entire Dataset) Model**"
      ],
      "metadata": {
        "id": "dltSC7NfnVm_"
      }
    },
    {
      "cell_type": "code",
      "source": [
        "!python3 /content/drive/MyDrive/electra/fp-dataset-artifacts-main/run.py --do_eval --task nli --dataset /content/drive/MyDrive/electra/datasets/mnli_matched.json --model /content/drive/MyDrive/electra/cartography/cart_final/model/Pretrained_cartography/ --output_dir /content/drive/MyDrive/electra/cartography/cart_final/model/output/mnli_matched/"
      ],
      "metadata": {
        "colab": {
          "base_uri": "https://localhost:8080/"
        },
        "collapsed": true,
        "id": "enVVhy-1m-Cq",
        "outputId": "74b3eb1b-56ca-48cc-e853-4741bca411f4"
      },
      "execution_count": 18,
      "outputs": [
        {
          "output_type": "stream",
          "name": "stdout",
          "text": [
            "2024-11-28 21:15:19.135725: E external/local_xla/xla/stream_executor/cuda/cuda_fft.cc:485] Unable to register cuFFT factory: Attempting to register factory for plugin cuFFT when one has already been registered\n",
            "2024-11-28 21:15:19.155076: E external/local_xla/xla/stream_executor/cuda/cuda_dnn.cc:8454] Unable to register cuDNN factory: Attempting to register factory for plugin cuDNN when one has already been registered\n",
            "2024-11-28 21:15:19.160922: E external/local_xla/xla/stream_executor/cuda/cuda_blas.cc:1452] Unable to register cuBLAS factory: Attempting to register factory for plugin cuBLAS when one has already been registered\n",
            "2024-11-28 21:15:19.175777: I tensorflow/core/platform/cpu_feature_guard.cc:210] This TensorFlow binary is optimized to use available CPU instructions in performance-critical operations.\n",
            "To enable the following instructions: AVX2 AVX512F FMA, in other operations, rebuild TensorFlow with the appropriate compiler flags.\n",
            "2024-11-28 21:15:20.176519: W tensorflow/compiler/tf2tensorrt/utils/py_utils.cc:38] TF-TRT Warning: Could not find TensorRT\n",
            "Preprocessing data... (this takes a little bit, should only happen once per dataset)\n",
            "Map (num_proc=2): 100% 9815/9815 [00:02<00:00, 3966.96 examples/s]\n",
            "/content/drive/MyDrive/electra/fp-dataset-artifacts-main/run.py:159: FutureWarning: `tokenizer` is deprecated and will be removed in version 5.0.0 for `Trainer.__init__`. Use `processing_class` instead.\n",
            "  trainer = trainer_class(\n",
            "100% 1226/1227 [00:17<00:00, 77.15it/s]\u001b[34m\u001b[1mwandb\u001b[0m: \u001b[33mWARNING\u001b[0m The `run_name` is currently set to the same value as `TrainingArguments.output_dir`. If this was not intended, please specify a different run name by setting the `TrainingArguments.run_name` parameter.\n",
            "\u001b[34m\u001b[1mwandb\u001b[0m: Using wandb-core as the SDK backend.  Please refer to https://wandb.me/wandb-core for more information.\n",
            "\u001b[34m\u001b[1mwandb\u001b[0m: (1) Create a W&B account\n",
            "\u001b[34m\u001b[1mwandb\u001b[0m: (2) Use an existing W&B account\n",
            "\u001b[34m\u001b[1mwandb\u001b[0m: (3) Don't visualize my results\n",
            "100% 1227/1227 [00:30<00:00, 77.15it/s]3\n",
            "\u001b[34m\u001b[1mwandb\u001b[0m: You chose \"Don't visualize my results\"\n",
            "\u001b[34m\u001b[1mwandb\u001b[0m: Tracking run with wandb version 0.18.7\n",
            "\u001b[34m\u001b[1mwandb\u001b[0m: W&B syncing is set to \u001b[1m`offline`\u001b[0m in this directory.  \n",
            "\u001b[34m\u001b[1mwandb\u001b[0m: Run \u001b[1m`wandb online`\u001b[0m or set \u001b[1mWANDB_MODE=online\u001b[0m to enable cloud syncing.\n",
            "100% 1227/1227 [00:33<00:00, 36.88it/s]\n",
            "Evaluation results:\n",
            "{'eval_loss': 0.8231008052825928, 'eval_model_preparation_time': 0.0032, 'eval_accuracy': 0.6897605657577515, 'eval_runtime': 18.0117, 'eval_samples_per_second': 544.924, 'eval_steps_per_second': 68.122}\n",
            "\u001b[1;34mwandb\u001b[0m:\n",
            "\u001b[1;34mwandb\u001b[0m: You can sync this run to the cloud by running:\n",
            "\u001b[1;34mwandb\u001b[0m: \u001b[1mwandb sync /content/drive/MyDrive/wandb/offline-run-20241128_211559-bxu2p6bo\u001b[0m\n",
            "\u001b[1;34mwandb\u001b[0m: Find logs at: \u001b[1;35mwandb/offline-run-20241128_211559-bxu2p6bo/logs\u001b[0m\n"
          ]
        }
      ]
    },
    {
      "cell_type": "markdown",
      "source": [
        "{'eval_loss': 0.8231008052825928, 'eval_model_preparation_time': 0.0032, 'eval_accuracy': **0.6897605657577515**, 'eval_runtime': 18.0117, 'eval_samples_per_second': 544.924, 'eval_steps_per_second': 68.122}\n"
      ],
      "metadata": {
        "id": "QQeKSHuOoZMw"
      }
    },
    {
      "cell_type": "code",
      "source": [
        "load_jsonl_predictions(\"/content/drive/MyDrive/electra/cartography/cart_final/model/output/mnli_matched/pretrained_eval_predictions.jsonl\")"
      ],
      "metadata": {
        "colab": {
          "base_uri": "https://localhost:8080/"
        },
        "id": "yCASJ2fIqDOW",
        "outputId": "89e563a7-76d3-4fec-92cb-4eb47c1e3227"
      },
      "execution_count": 24,
      "outputs": [
        {
          "output_type": "stream",
          "name": "stdout",
          "text": [
            "            Error Class  Frequency (%)  Error Rate (%)  Error Count\n",
            "0              Negation      21.090168       30.869565          639\n",
            "1           Coreference      76.016302       31.443506         2346\n",
            "2            Rare Words       0.000000        0.000000            0\n",
            "3             Ambiguity       1.314315       34.108527           44\n",
            "4        Long Sentences      75.425369       31.730380         2349\n",
            "5  High Lexical Overlap       2.363729       21.551724           50\n"
          ]
        }
      ]
    },
    {
      "cell_type": "markdown",
      "source": [
        "**Finetuned on ambiguous dataset Model**"
      ],
      "metadata": {
        "id": "-tC9JhZmnrZY"
      }
    },
    {
      "cell_type": "code",
      "source": [
        "!python3 /content/drive/MyDrive/electra/fp-dataset-artifacts-main/run.py --do_eval --task nli --dataset /content/drive/MyDrive/electra/datasets/mnli_matched.json --model /content/drive/MyDrive/electra/cartography/cart_final/model/Finetuned_cartography/ --output_dir /content/drive/MyDrive/electra/cartography/cart_final/model/output/mnli_matched/"
      ],
      "metadata": {
        "colab": {
          "base_uri": "https://localhost:8080/"
        },
        "collapsed": true,
        "id": "3jnG_Y50ne3d",
        "outputId": "8b14ac79-df4e-4df9-bc69-db3190b4dd62"
      },
      "execution_count": 19,
      "outputs": [
        {
          "output_type": "stream",
          "name": "stdout",
          "text": [
            "2024-11-28 21:17:33.798043: E external/local_xla/xla/stream_executor/cuda/cuda_fft.cc:485] Unable to register cuFFT factory: Attempting to register factory for plugin cuFFT when one has already been registered\n",
            "2024-11-28 21:17:33.817206: E external/local_xla/xla/stream_executor/cuda/cuda_dnn.cc:8454] Unable to register cuDNN factory: Attempting to register factory for plugin cuDNN when one has already been registered\n",
            "2024-11-28 21:17:33.823036: E external/local_xla/xla/stream_executor/cuda/cuda_blas.cc:1452] Unable to register cuBLAS factory: Attempting to register factory for plugin cuBLAS when one has already been registered\n",
            "2024-11-28 21:17:33.836838: I tensorflow/core/platform/cpu_feature_guard.cc:210] This TensorFlow binary is optimized to use available CPU instructions in performance-critical operations.\n",
            "To enable the following instructions: AVX2 AVX512F FMA, in other operations, rebuild TensorFlow with the appropriate compiler flags.\n",
            "2024-11-28 21:17:34.850641: W tensorflow/compiler/tf2tensorrt/utils/py_utils.cc:38] TF-TRT Warning: Could not find TensorRT\n",
            "Preprocessing data... (this takes a little bit, should only happen once per dataset)\n",
            "Map (num_proc=2): 100% 9815/9815 [00:02<00:00, 4517.22 examples/s]\n",
            "/content/drive/MyDrive/electra/fp-dataset-artifacts-main/run.py:159: FutureWarning: `tokenizer` is deprecated and will be removed in version 5.0.0 for `Trainer.__init__`. Use `processing_class` instead.\n",
            "  trainer = trainer_class(\n",
            " 99% 1220/1227 [00:17<00:00, 78.69it/s]\u001b[34m\u001b[1mwandb\u001b[0m: \u001b[33mWARNING\u001b[0m The `run_name` is currently set to the same value as `TrainingArguments.output_dir`. If this was not intended, please specify a different run name by setting the `TrainingArguments.run_name` parameter.\n",
            "\u001b[34m\u001b[1mwandb\u001b[0m: Using wandb-core as the SDK backend.  Please refer to https://wandb.me/wandb-core for more information.\n",
            "\u001b[34m\u001b[1mwandb\u001b[0m: (1) Create a W&B account\n",
            "\u001b[34m\u001b[1mwandb\u001b[0m: (2) Use an existing W&B account\n",
            "\u001b[34m\u001b[1mwandb\u001b[0m: (3) Don't visualize my results\n",
            "100% 1227/1227 [00:30<00:00, 78.69it/s]3\n",
            "\u001b[34m\u001b[1mwandb\u001b[0m: You chose \"Don't visualize my results\"\n",
            "\u001b[34m\u001b[1mwandb\u001b[0m: Tracking run with wandb version 0.18.7\n",
            "\u001b[34m\u001b[1mwandb\u001b[0m: W&B syncing is set to \u001b[1m`offline`\u001b[0m in this directory.  \n",
            "\u001b[34m\u001b[1mwandb\u001b[0m: Run \u001b[1m`wandb online`\u001b[0m or set \u001b[1mWANDB_MODE=online\u001b[0m to enable cloud syncing.\n",
            "100% 1227/1227 [01:07<00:00, 18.31it/s]\n",
            "Evaluation results:\n",
            "{'eval_loss': 0.8226026296615601, 'eval_model_preparation_time': 0.0054, 'eval_accuracy': 0.6859908103942871, 'eval_runtime': 18.6905, 'eval_samples_per_second': 525.134, 'eval_steps_per_second': 65.648}\n",
            "\u001b[1;34mwandb\u001b[0m:\n",
            "\u001b[1;34mwandb\u001b[0m: You can sync this run to the cloud by running:\n",
            "\u001b[1;34mwandb\u001b[0m: \u001b[1mwandb sync /content/drive/MyDrive/wandb/offline-run-20241128_211847-tcuwva5s\u001b[0m\n",
            "\u001b[1;34mwandb\u001b[0m: Find logs at: \u001b[1;35mwandb/offline-run-20241128_211847-tcuwva5s/logs\u001b[0m\n"
          ]
        }
      ]
    },
    {
      "cell_type": "markdown",
      "source": [
        "{'eval_loss': 0.8226026296615601, 'eval_model_preparation_time': 0.0054, 'eval_accuracy':**0.6859908103942871**, 'eval_runtime': 18.6905, 'eval_samples_per_second': 525.134, 'eval_steps_per_second': 65.648}"
      ],
      "metadata": {
        "id": "lCLnYzMppEbm"
      }
    },
    {
      "cell_type": "code",
      "source": [
        "load_jsonl_predictions(\"/content/drive/MyDrive/electra/cartography/cart_final/model/output/mnli_matched/amb_eval_predictions.jsonl\")"
      ],
      "metadata": {
        "colab": {
          "base_uri": "https://localhost:8080/"
        },
        "id": "2yAJhOw6qG6k",
        "outputId": "5e952113-e98d-4428-a10e-2b5103c2975c"
      },
      "execution_count": 25,
      "outputs": [
        {
          "output_type": "stream",
          "name": "stdout",
          "text": [
            "            Error Class  Frequency (%)  Error Rate (%)  Error Count\n",
            "0              Negation      21.090168       32.657005          676\n",
            "1           Coreference      76.016302       31.590940         2357\n",
            "2            Rare Words       0.000000        0.000000            0\n",
            "3             Ambiguity       1.314315       33.333333           43\n",
            "4        Long Sentences      75.425369       31.946508         2365\n",
            "5  High Lexical Overlap       2.363729       16.379310           38\n"
          ]
        }
      ]
    },
    {
      "cell_type": "markdown",
      "source": [
        "**Finetuned on Easy dataset Model**"
      ],
      "metadata": {
        "id": "cXq3xMHon5We"
      }
    },
    {
      "cell_type": "code",
      "source": [
        "!python3 /content/drive/MyDrive/electra/fp-dataset-artifacts-main/run.py --do_eval --task nli --dataset /content/drive/MyDrive/electra/datasets/mnli_matched.json --model /content/drive/MyDrive/electra/cartography/cart_final/model/Finetuned_easy/ --output_dir /content/drive/MyDrive/electra/cartography/cart_final/model/output/mnli_matched/"
      ],
      "metadata": {
        "colab": {
          "base_uri": "https://localhost:8080/"
        },
        "collapsed": true,
        "id": "5SfO103Enyg5",
        "outputId": "4f673ef6-19c2-44ac-9bfa-145a5ecce800"
      },
      "execution_count": 20,
      "outputs": [
        {
          "output_type": "stream",
          "name": "stdout",
          "text": [
            "2024-11-28 21:19:38.217513: E external/local_xla/xla/stream_executor/cuda/cuda_fft.cc:485] Unable to register cuFFT factory: Attempting to register factory for plugin cuFFT when one has already been registered\n",
            "2024-11-28 21:19:38.237343: E external/local_xla/xla/stream_executor/cuda/cuda_dnn.cc:8454] Unable to register cuDNN factory: Attempting to register factory for plugin cuDNN when one has already been registered\n",
            "2024-11-28 21:19:38.243191: E external/local_xla/xla/stream_executor/cuda/cuda_blas.cc:1452] Unable to register cuBLAS factory: Attempting to register factory for plugin cuBLAS when one has already been registered\n",
            "2024-11-28 21:19:38.257153: I tensorflow/core/platform/cpu_feature_guard.cc:210] This TensorFlow binary is optimized to use available CPU instructions in performance-critical operations.\n",
            "To enable the following instructions: AVX2 AVX512F FMA, in other operations, rebuild TensorFlow with the appropriate compiler flags.\n",
            "2024-11-28 21:19:39.306484: W tensorflow/compiler/tf2tensorrt/utils/py_utils.cc:38] TF-TRT Warning: Could not find TensorRT\n",
            "Preprocessing data... (this takes a little bit, should only happen once per dataset)\n",
            "Map (num_proc=2): 100% 9815/9815 [00:01<00:00, 5175.32 examples/s]\n",
            "/content/drive/MyDrive/electra/fp-dataset-artifacts-main/run.py:159: FutureWarning: `tokenizer` is deprecated and will be removed in version 5.0.0 for `Trainer.__init__`. Use `processing_class` instead.\n",
            "  trainer = trainer_class(\n",
            "100% 1225/1227 [00:17<00:00, 57.29it/s]\u001b[34m\u001b[1mwandb\u001b[0m: \u001b[33mWARNING\u001b[0m The `run_name` is currently set to the same value as `TrainingArguments.output_dir`. If this was not intended, please specify a different run name by setting the `TrainingArguments.run_name` parameter.\n",
            "\u001b[34m\u001b[1mwandb\u001b[0m: Using wandb-core as the SDK backend.  Please refer to https://wandb.me/wandb-core for more information.\n",
            "\u001b[34m\u001b[1mwandb\u001b[0m: (1) Create a W&B account\n",
            "\u001b[34m\u001b[1mwandb\u001b[0m: (2) Use an existing W&B account\n",
            "\u001b[34m\u001b[1mwandb\u001b[0m: (3) Don't visualize my results\n",
            "\u001b[34m\u001b[1mwandb\u001b[0m: Enter your choice: 3\n",
            "\u001b[34m\u001b[1mwandb\u001b[0m: You chose \"Don't visualize my results\"\n",
            "\u001b[34m\u001b[1mwandb\u001b[0m: Tracking run with wandb version 0.18.7\n",
            "\u001b[34m\u001b[1mwandb\u001b[0m: W&B syncing is set to \u001b[1m`offline`\u001b[0m in this directory.  \n",
            "\u001b[34m\u001b[1mwandb\u001b[0m: Run \u001b[1m`wandb online`\u001b[0m or set \u001b[1mWANDB_MODE=online\u001b[0m to enable cloud syncing.\n",
            "100% 1227/1227 [00:21<00:00, 55.78it/s]\n",
            "Evaluation results:\n",
            "{'eval_loss': 0.7971116304397583, 'eval_model_preparation_time': 0.0032, 'eval_accuracy': 0.6935303211212158, 'eval_runtime': 18.3543, 'eval_samples_per_second': 534.753, 'eval_steps_per_second': 66.851}\n",
            "\u001b[1;34mwandb\u001b[0m:\n",
            "\u001b[1;34mwandb\u001b[0m: You can sync this run to the cloud by running:\n",
            "\u001b[1;34mwandb\u001b[0m: \u001b[1mwandb sync /content/drive/MyDrive/wandb/offline-run-20241128_212006-2krrojfk\u001b[0m\n",
            "\u001b[1;34mwandb\u001b[0m: Find logs at: \u001b[1;35mwandb/offline-run-20241128_212006-2krrojfk/logs\u001b[0m\n"
          ]
        }
      ]
    },
    {
      "cell_type": "markdown",
      "source": [
        "{'eval_loss': 0.7971116304397583, 'eval_model_preparation_time': 0.0032, 'eval_accuracy': **0.6935303211212158**, 'eval_runtime': 18.3543, 'eval_samples_per_second': 534.753, 'eval_steps_per_second': 66.851}"
      ],
      "metadata": {
        "id": "MlG7k13JpXk6"
      }
    },
    {
      "cell_type": "code",
      "source": [
        "load_jsonl_predictions(\"/content/drive/MyDrive/electra/cartography/cart_final/model/output/mnli_matched/easy_eval_predictions.jsonl\")"
      ],
      "metadata": {
        "colab": {
          "base_uri": "https://localhost:8080/"
        },
        "id": "6TU-Hr70qJ2E",
        "outputId": "6e06c8ed-a322-421b-8abe-bd13c03e752c"
      },
      "execution_count": 26,
      "outputs": [
        {
          "output_type": "stream",
          "name": "stdout",
          "text": [
            "            Error Class  Frequency (%)  Error Rate (%)  Error Count\n",
            "0              Negation      21.090168       31.352657          649\n",
            "1           Coreference      76.016302       31.175446         2326\n",
            "2            Rare Words       0.000000        0.000000            0\n",
            "3             Ambiguity       1.314315       31.782946           41\n",
            "4        Long Sentences      75.425369       31.554775         2336\n",
            "5  High Lexical Overlap       2.363729       17.672414           41\n"
          ]
        }
      ]
    },
    {
      "cell_type": "markdown",
      "source": [
        "**Finetuned on hard dataset Model**"
      ],
      "metadata": {
        "id": "n85lINrcn7Ku"
      }
    },
    {
      "cell_type": "code",
      "source": [
        "!python3 /content/drive/MyDrive/electra/fp-dataset-artifacts-main/run.py --do_eval --task nli --dataset /content/drive/MyDrive/electra/datasets/mnli_matched.json --model /content/drive/MyDrive/electra/cartography/cart_final/model/Finetuned_hard/ --output_dir /content/drive/MyDrive/electra/cartography/cart_final/model/output/mnli_matched/"
      ],
      "metadata": {
        "colab": {
          "base_uri": "https://localhost:8080/"
        },
        "collapsed": true,
        "id": "KGmkQBIMn1dz",
        "outputId": "4f7936a3-9047-470f-a7d7-4045c9d16ea3"
      },
      "execution_count": 21,
      "outputs": [
        {
          "output_type": "stream",
          "name": "stdout",
          "text": [
            "2024-11-28 21:21:04.575649: E external/local_xla/xla/stream_executor/cuda/cuda_fft.cc:485] Unable to register cuFFT factory: Attempting to register factory for plugin cuFFT when one has already been registered\n",
            "2024-11-28 21:21:04.607735: E external/local_xla/xla/stream_executor/cuda/cuda_dnn.cc:8454] Unable to register cuDNN factory: Attempting to register factory for plugin cuDNN when one has already been registered\n",
            "2024-11-28 21:21:04.617478: E external/local_xla/xla/stream_executor/cuda/cuda_blas.cc:1452] Unable to register cuBLAS factory: Attempting to register factory for plugin cuBLAS when one has already been registered\n",
            "2024-11-28 21:21:04.639494: I tensorflow/core/platform/cpu_feature_guard.cc:210] This TensorFlow binary is optimized to use available CPU instructions in performance-critical operations.\n",
            "To enable the following instructions: AVX2 AVX512F FMA, in other operations, rebuild TensorFlow with the appropriate compiler flags.\n",
            "2024-11-28 21:21:06.143525: W tensorflow/compiler/tf2tensorrt/utils/py_utils.cc:38] TF-TRT Warning: Could not find TensorRT\n",
            "Preprocessing data... (this takes a little bit, should only happen once per dataset)\n",
            "Map (num_proc=2): 100% 9815/9815 [00:02<00:00, 4795.85 examples/s]\n",
            "/content/drive/MyDrive/electra/fp-dataset-artifacts-main/run.py:159: FutureWarning: `tokenizer` is deprecated and will be removed in version 5.0.0 for `Trainer.__init__`. Use `processing_class` instead.\n",
            "  trainer = trainer_class(\n",
            "100% 1222/1227 [00:17<00:00, 77.70it/s]\u001b[34m\u001b[1mwandb\u001b[0m: \u001b[33mWARNING\u001b[0m The `run_name` is currently set to the same value as `TrainingArguments.output_dir`. If this was not intended, please specify a different run name by setting the `TrainingArguments.run_name` parameter.\n",
            "\u001b[34m\u001b[1mwandb\u001b[0m: Using wandb-core as the SDK backend.  Please refer to https://wandb.me/wandb-core for more information.\n",
            "\u001b[34m\u001b[1mwandb\u001b[0m: (1) Create a W&B account\n",
            "\u001b[34m\u001b[1mwandb\u001b[0m: (2) Use an existing W&B account\n",
            "\u001b[34m\u001b[1mwandb\u001b[0m: (3) Don't visualize my results\n",
            "\u001b[34m\u001b[1mwandb\u001b[0m: Enter your choice: 3\n",
            "\u001b[34m\u001b[1mwandb\u001b[0m: You chose \"Don't visualize my results\"\n",
            "\u001b[34m\u001b[1mwandb\u001b[0m: Tracking run with wandb version 0.18.7\n",
            "\u001b[34m\u001b[1mwandb\u001b[0m: W&B syncing is set to \u001b[1m`offline`\u001b[0m in this directory.  \n",
            "\u001b[34m\u001b[1mwandb\u001b[0m: Run \u001b[1m`wandb online`\u001b[0m or set \u001b[1mWANDB_MODE=online\u001b[0m to enable cloud syncing.\n",
            "100% 1227/1227 [00:21<00:00, 58.00it/s]\n",
            "Evaluation results:\n",
            "{'eval_loss': 0.8663884401321411, 'eval_model_preparation_time': 0.0031, 'eval_accuracy': 0.6851757764816284, 'eval_runtime': 17.8781, 'eval_samples_per_second': 548.996, 'eval_steps_per_second': 68.631}\n",
            "\u001b[1;34mwandb\u001b[0m:\n",
            "\u001b[1;34mwandb\u001b[0m: You can sync this run to the cloud by running:\n",
            "\u001b[1;34mwandb\u001b[0m: \u001b[1mwandb sync /content/drive/MyDrive/wandb/offline-run-20241128_212132-yg3k46xt\u001b[0m\n",
            "\u001b[1;34mwandb\u001b[0m: Find logs at: \u001b[1;35mwandb/offline-run-20241128_212132-yg3k46xt/logs\u001b[0m\n"
          ]
        }
      ]
    },
    {
      "cell_type": "markdown",
      "source": [
        "{'eval_loss': 0.8663884401321411, 'eval_model_preparation_time': 0.0031, 'eval_accuracy': **0.6851757764816284**, 'eval_runtime': 17.8781, 'eval_samples_per_second': 548.996, 'eval_steps_per_second': 68.631}"
      ],
      "metadata": {
        "id": "dMU4WjN1pqkv"
      }
    },
    {
      "cell_type": "code",
      "source": [
        "load_jsonl_predictions(\"/content/drive/MyDrive/electra/cartography/cart_final/model/output/mnli_matched/hard_eval_predictions.jsonl\")"
      ],
      "metadata": {
        "colab": {
          "base_uri": "https://localhost:8080/"
        },
        "id": "U5vJyikIqMK7",
        "outputId": "a2b3abb4-af8a-48f8-c006-2604a865acb8"
      },
      "execution_count": 27,
      "outputs": [
        {
          "output_type": "stream",
          "name": "stdout",
          "text": [
            "            Error Class  Frequency (%)  Error Rate (%)  Error Count\n",
            "0              Negation      21.090168       32.512077          673\n",
            "1           Coreference      76.016302       31.631149         2360\n",
            "2            Rare Words       0.000000        0.000000            0\n",
            "3             Ambiguity       1.314315       34.108527           44\n",
            "4        Long Sentences      75.425369       32.068081         2374\n",
            "5  High Lexical Overlap       2.363729       17.672414           41\n"
          ]
        }
      ]
    },
    {
      "cell_type": "code",
      "source": [
        "import json\n",
        "import numpy as np\n",
        "from sklearn.metrics import confusion_matrix, ConfusionMatrixDisplay\n",
        "import matplotlib.pyplot as plt\n",
        "\n",
        "\n",
        "def calculate_confusion_matrix(file_path):\n",
        "      json_dataset = []  # Initialize an empty list to store JSON objects\n",
        "      with open(file_path, 'r') as f:\n",
        "          for line in f:  # Read the file line by line\n",
        "              try:\n",
        "                  data = json.loads(line)  # Parse each line as a JSON object\n",
        "                  json_dataset.append(data)  # Add the parsed object to the list\n",
        "              except json.JSONDecodeError as e:\n",
        "                  print(f\"Error decoding JSON: {e}, skipping line: {line}\")\n",
        "\n",
        "\n",
        "      # Example Data (Replace with actual data)\n",
        "      results = json_dataset\n",
        "\n",
        "\n",
        "\n",
        "      # Step 1: Extract true and predicted labels\n",
        "      true_labels = [item[\"label\"] for item in results]\n",
        "      predicted_labels = [item[\"predicted_label\"] for item in results]\n",
        "\n",
        "      # Step 2: Compute confusion matrix\n",
        "      classes = [\"Entailment\", \"Neutral\", \"Contradiction\"]  # Class names for NLI tasks\n",
        "      conf_matrix = confusion_matrix(true_labels, predicted_labels)\n",
        "\n",
        "      # Step 3: Display the confusion matrix\n",
        "      disp = ConfusionMatrixDisplay(confusion_matrix=conf_matrix, display_labels=classes)\n",
        "      disp.plot(cmap=plt.cm.Blues)\n",
        "\n",
        "      # Step 4: Show plot\n",
        "      plt.title(\"Confusion Matrix\")\n",
        "      plt.show()\n"
      ],
      "metadata": {
        "id": "CRhY_4gHwLt3"
      },
      "execution_count": 7,
      "outputs": []
    },
    {
      "cell_type": "code",
      "source": [
        "calculate_confusion_matrix(\"/content/drive/MyDrive/electra/output_remove_stop_words/eval_predictions.jsonl\")"
      ],
      "metadata": {
        "colab": {
          "base_uri": "https://localhost:8080/",
          "height": 472
        },
        "id": "eY_f7AWhwiiD",
        "outputId": "11245804-bece-43fc-b7ab-88f49b5f9223"
      },
      "execution_count": 9,
      "outputs": [
        {
          "output_type": "display_data",
          "data": {
            "text/plain": [
              "<Figure size 640x480 with 2 Axes>"
            ],
            "image/png": "[encoded data removed]"
          },
          "metadata": {}
        }
      ]
    },
    {
      "cell_type": "markdown",
      "source": [
        "**Old Experiments**"
      ],
      "metadata": {
        "id": "_ukPeJLan1CJ"
      }
    },
    {
      "cell_type": "markdown",
      "source": [
        "**MNLI Matched**"
      ],
      "metadata": {
        "id": "YaFojlvuvtIN"
      }
    },
    {
      "cell_type": "code",
      "source": [
        "!python3 /content/drive/MyDrive/electra/fp-dataset-artifacts-main/run.py --do_eval --task nli --dataset /content/drive/MyDrive/electra/datasets/mnli_matched.json --model /content/drive/MyDrive/electra/trained_model/ --output_dir /content/drive/MyDrive/electra/cartography/cart_final/mnli/output/"
      ],
      "metadata": {
        "colab": {
          "base_uri": "https://localhost:8080/"
        },
        "id": "sCmFyGGrvIVa",
        "outputId": "322f7d83-e79c-4022-9d94-274409cc73be"
      },
      "execution_count": 3,
      "outputs": [
        {
          "output_type": "stream",
          "name": "stdout",
          "text": [
            "2024-11-29 02:31:16.772270: E external/local_xla/xla/stream_executor/cuda/cuda_fft.cc:485] Unable to register cuFFT factory: Attempting to register factory for plugin cuFFT when one has already been registered\n",
            "2024-11-29 02:31:16.792567: E external/local_xla/xla/stream_executor/cuda/cuda_dnn.cc:8454] Unable to register cuDNN factory: Attempting to register factory for plugin cuDNN when one has already been registered\n",
            "2024-11-29 02:31:16.798843: E external/local_xla/xla/stream_executor/cuda/cuda_blas.cc:1452] Unable to register cuBLAS factory: Attempting to register factory for plugin cuBLAS when one has already been registered\n",
            "2024-11-29 02:31:16.813670: I tensorflow/core/platform/cpu_feature_guard.cc:210] This TensorFlow binary is optimized to use available CPU instructions in performance-critical operations.\n",
            "To enable the following instructions: AVX2 AVX512F FMA, in other operations, rebuild TensorFlow with the appropriate compiler flags.\n",
            "2024-11-29 02:31:18.236930: W tensorflow/compiler/tf2tensorrt/utils/py_utils.cc:38] TF-TRT Warning: Could not find TensorRT\n",
            "Generating train split: 9815 examples [00:00, 16496.78 examples/s]\n",
            "Preprocessing data... (this takes a little bit, should only happen once per dataset)\n",
            "Map (num_proc=2): 100% 9815/9815 [00:03<00:00, 2615.35 examples/s]\n",
            "/content/drive/MyDrive/electra/fp-dataset-artifacts-main/run.py:159: FutureWarning: `tokenizer` is deprecated and will be removed in version 5.0.0 for `Trainer.__init__`. Use `processing_class` instead.\n",
            "  trainer = trainer_class(\n",
            " 99% 1220/1227 [00:18<00:00, 72.05it/s]\u001b[34m\u001b[1mwandb\u001b[0m: \u001b[33mWARNING\u001b[0m The `run_name` is currently set to the same value as `TrainingArguments.output_dir`. If this was not intended, please specify a different run name by setting the `TrainingArguments.run_name` parameter.\n",
            "\u001b[34m\u001b[1mwandb\u001b[0m: Using wandb-core as the SDK backend.  Please refer to https://wandb.me/wandb-core for more information.\n",
            "\u001b[34m\u001b[1mwandb\u001b[0m: (1) Create a W&B account\n",
            "\u001b[34m\u001b[1mwandb\u001b[0m: (2) Use an existing W&B account\n",
            "\u001b[34m\u001b[1mwandb\u001b[0m: (3) Don't visualize my results\n",
            "100% 1227/1227 [00:30<00:00, 72.05it/s]3\n",
            "\u001b[34m\u001b[1mwandb\u001b[0m: You chose \"Don't visualize my results\"\n",
            "\u001b[34m\u001b[1mwandb\u001b[0m: Tracking run with wandb version 0.18.7\n",
            "\u001b[34m\u001b[1mwandb\u001b[0m: W&B syncing is set to \u001b[1m`offline`\u001b[0m in this directory.  \n",
            "\u001b[34m\u001b[1mwandb\u001b[0m: Run \u001b[1m`wandb online`\u001b[0m or set \u001b[1mWANDB_MODE=online\u001b[0m to enable cloud syncing.\n",
            "100% 1227/1227 [01:45<00:00, 11.65it/s]\n",
            "Evaluation results:\n",
            "{'eval_loss': 1.0004066228866577, 'eval_model_preparation_time': 0.0033, 'eval_accuracy': 0.690473735332489, 'eval_runtime': 19.8047, 'eval_samples_per_second': 495.589, 'eval_steps_per_second': 61.955}\n",
            "\u001b[1;34mwandb\u001b[0m:\n",
            "\u001b[1;34mwandb\u001b[0m: You can sync this run to the cloud by running:\n",
            "\u001b[1;34mwandb\u001b[0m: \u001b[1mwandb sync /content/drive/MyDrive/wandb/offline-run-20241129_023325-p4w8ti01\u001b[0m\n",
            "\u001b[1;34mwandb\u001b[0m: Find logs at: \u001b[1;35mwandb/offline-run-20241129_023325-p4w8ti01/logs\u001b[0m\n"
          ]
        }
      ]
    },
    {
      "cell_type": "code",
      "source": [
        "!python3 /content/drive/MyDrive/electra/fp-dataset-artifacts-main/run.py --do_eval --task nli --dataset /content/drive/MyDrive/electra/datasets/mnli.json --model /content/drive/MyDrive/electra/trained_model/ --output_dir /content/drive/MyDrive/electra/cartography/cart_final/mnli/output/"
      ],
      "metadata": {
        "colab": {
          "base_uri": "https://localhost:8080/"
        },
        "id": "2_U-thccwKB7",
        "outputId": "1aa74c3c-eb9e-449e-a008-34d1b666d546"
      },
      "execution_count": 4,
      "outputs": [
        {
          "output_type": "stream",
          "name": "stdout",
          "text": [
            "2024-11-29 02:35:09.198885: E external/local_xla/xla/stream_executor/cuda/cuda_fft.cc:485] Unable to register cuFFT factory: Attempting to register factory for plugin cuFFT when one has already been registered\n",
            "2024-11-29 02:35:09.219080: E external/local_xla/xla/stream_executor/cuda/cuda_dnn.cc:8454] Unable to register cuDNN factory: Attempting to register factory for plugin cuDNN when one has already been registered\n",
            "2024-11-29 02:35:09.224970: E external/local_xla/xla/stream_executor/cuda/cuda_blas.cc:1452] Unable to register cuBLAS factory: Attempting to register factory for plugin cuBLAS when one has already been registered\n",
            "2024-11-29 02:35:09.239626: I tensorflow/core/platform/cpu_feature_guard.cc:210] This TensorFlow binary is optimized to use available CPU instructions in performance-critical operations.\n",
            "To enable the following instructions: AVX2 AVX512F FMA, in other operations, rebuild TensorFlow with the appropriate compiler flags.\n",
            "2024-11-29 02:35:10.284400: W tensorflow/compiler/tf2tensorrt/utils/py_utils.cc:38] TF-TRT Warning: Could not find TensorRT\n",
            "Generating train split: 9832 examples [00:02, 4727.00 examples/s]\n",
            "Preprocessing data... (this takes a little bit, should only happen once per dataset)\n",
            "Map (num_proc=2): 100% 9832/9832 [00:02<00:00, 3791.21 examples/s]\n",
            "/content/drive/MyDrive/electra/fp-dataset-artifacts-main/run.py:159: FutureWarning: `tokenizer` is deprecated and will be removed in version 5.0.0 for `Trainer.__init__`. Use `processing_class` instead.\n",
            "  trainer = trainer_class(\n",
            " 99% 1222/1229 [00:17<00:00, 74.04it/s]\u001b[34m\u001b[1mwandb\u001b[0m: \u001b[33mWARNING\u001b[0m The `run_name` is currently set to the same value as `TrainingArguments.output_dir`. If this was not intended, please specify a different run name by setting the `TrainingArguments.run_name` parameter.\n",
            "\u001b[34m\u001b[1mwandb\u001b[0m: Using wandb-core as the SDK backend.  Please refer to https://wandb.me/wandb-core for more information.\n",
            "\u001b[34m\u001b[1mwandb\u001b[0m: (1) Create a W&B account\n",
            "\u001b[34m\u001b[1mwandb\u001b[0m: (2) Use an existing W&B account\n",
            "\u001b[34m\u001b[1mwandb\u001b[0m: (3) Don't visualize my results\n",
            "\u001b[34m\u001b[1mwandb\u001b[0m: Enter your choice: 3\n",
            "\u001b[34m\u001b[1mwandb\u001b[0m: You chose \"Don't visualize my results\"\n",
            "\u001b[34m\u001b[1mwandb\u001b[0m: Tracking run with wandb version 0.18.7\n",
            "\u001b[34m\u001b[1mwandb\u001b[0m: W&B syncing is set to \u001b[1m`offline`\u001b[0m in this directory.  \n",
            "\u001b[34m\u001b[1mwandb\u001b[0m: Run \u001b[1m`wandb online`\u001b[0m or set \u001b[1mWANDB_MODE=online\u001b[0m to enable cloud syncing.\n",
            "100% 1229/1229 [00:21<00:00, 56.73it/s]\n",
            "Evaluation results:\n",
            "{'eval_loss': 0.9774576425552368, 'eval_model_preparation_time': 0.0052, 'eval_accuracy': 0.7010781168937683, 'eval_runtime': 18.8573, 'eval_samples_per_second': 521.389, 'eval_steps_per_second': 65.174}\n",
            "\u001b[1;34mwandb\u001b[0m:\n",
            "\u001b[1;34mwandb\u001b[0m: You can sync this run to the cloud by running:\n",
            "\u001b[1;34mwandb\u001b[0m: \u001b[1mwandb sync /content/drive/MyDrive/wandb/offline-run-20241129_023543-1lp26e9g\u001b[0m\n",
            "\u001b[1;34mwandb\u001b[0m: Find logs at: \u001b[1;35mwandb/offline-run-20241129_023543-1lp26e9g/logs\u001b[0m\n"
          ]
        }
      ]
    },
    {
      "cell_type": "code",
      "source": [
        "import json\n",
        "\n",
        "def readjsondata(file_path):\n",
        "      json_dataset = []  # Initialize an empty list to store JSON objects\n",
        "      with open(file_path, 'r') as f:\n",
        "          for line in f:  # Read the file line by line\n",
        "              try:\n",
        "                  data = json.loads(line)  # Parse each line as a JSON object\n",
        "                  json_dataset.append(data)  # Add the parsed object to the list\n",
        "              except json.JSONDecodeError as e:\n",
        "                  print(f\"Error decoding JSON: {e}, skipping line: {line}\")\n",
        "\n",
        "      #dataset = Dataset.from_list(json_dataset)\n",
        "      # Example Data (Replace with actual data)\n",
        "      return json_dataset"
      ],
      "metadata": {
        "id": "Wv2Mndxgy0kL"
      },
      "execution_count": 8,
      "outputs": []
    },
    {
      "cell_type": "markdown",
      "source": [
        "**SNLI Pretrained Initial Model Results for MNLI**"
      ],
      "metadata": {
        "id": "OlhPhOt5zZNY"
      }
    },
    {
      "cell_type": "code",
      "source": [
        "mnli_pretrained_matched = readjsondata(\"/content/drive/MyDrive/electra/cartography/cart_final/mnli/output/mnlimatched_pretrained_eval_predictions.jsonl\")\n",
        "mnli_pretrained_mismatched = readjsondata(\"/content/drive/MyDrive/electra/cartography/cart_final/mnli/output/mnlimismatched_eval_predictions.jsonl\")"
      ],
      "metadata": {
        "id": "wxN-JsZMy_NY"
      },
      "execution_count": 10,
      "outputs": []
    },
    {
      "cell_type": "markdown",
      "source": [
        "**Cartography - SNLI Pretrained Initial Model Results for MNLI**"
      ],
      "metadata": {
        "id": "2nx2tSvSzfKy"
      }
    },
    {
      "cell_type": "code",
      "source": [
        "cart_mnli_pretrained_matched = readjsondata(\"/content/drive/MyDrive/electra/cartography/cart_final/model/output/mnli_matched/easy_eval_predictions.jsonl\")\n",
        "cart_mnli_pretrained_mismatched = readjsondata(\"/content/drive/MyDrive/electra/cartography/cart_final/model/output/mnli_mismatched/easy_eval_predictions.jsonl\")"
      ],
      "metadata": {
        "id": "aj6U8MdKzfhx"
      },
      "execution_count": 11,
      "outputs": []
    },
    {
      "cell_type": "code",
      "source": [
        "print(len(mnli_pretrained_matched))\n",
        "print(len(mnli_pretrained_mismatched))\n",
        "print(len(cart_mnli_pretrained_matched))\n",
        "print(len(cart_mnli_pretrained_mismatched))"
      ],
      "metadata": {
        "colab": {
          "base_uri": "https://localhost:8080/"
        },
        "id": "lHAPU3DU0Q-O",
        "outputId": "3f642fd5-8fe1-43c4-db7b-cdcbed140258"
      },
      "execution_count": 12,
      "outputs": [
        {
          "output_type": "stream",
          "name": "stdout",
          "text": [
            "9815\n",
            "9832\n",
            "9815\n",
            "9832\n"
          ]
        }
      ]
    },
    {
      "cell_type": "code",
      "source": [
        "print(mnli_pretrained_matched[5])\n",
        "print(cart_mnli_pretrained_matched[5])"
      ],
      "metadata": {
        "colab": {
          "base_uri": "https://localhost:8080/"
        },
        "id": "kE0oZgv40iLW",
        "outputId": "385bbc64-dcfa-416b-9879-fea284a8081e"
      },
      "execution_count": 16,
      "outputs": [
        {
          "output_type": "stream",
          "name": "stdout",
          "text": [
            "{'premise': \"well that would be a help i wish they would do that here we have got so little landfill space left that we're going to run out before the end of this decade and it's really going to be\", 'hypothesis': 'We have plenty of space in the landfill.', 'label': 2, 'predicted_scores': [2.20771861076355, -0.3852190375328064, -3.1107168197631836], 'predicted_label': 0}\n",
            "{'premise': \"well that would be a help i wish they would do that here we have got so little landfill space left that we're going to run out before the end of this decade and it's really going to be\", 'hypothesis': 'We have plenty of space in the landfill.', 'label': 2, 'predicted_scores': [1.510895848274231, 0.1004837155342102, -2.6060330867767334], 'predicted_label': 0}\n"
          ]
        }
      ]
    },
    {
      "cell_type": "markdown",
      "source": [
        "**Matched - Errors that are corrected by Cartography**"
      ],
      "metadata": {
        "id": "Gk-OLpwv3jmH"
      }
    },
    {
      "cell_type": "code",
      "source": [
        "def token_overlap_ratio(premise, hypothesis):\n",
        "          premise_tokens = set(premise.split())\n",
        "          hypothesis_tokens = set(hypothesis.split())\n",
        "          intersection = len(premise_tokens & hypothesis_tokens)\n",
        "          return intersection / len(premise_tokens)\n",
        "\n",
        "error_classes = {\n",
        "          \"Negation\": lambda x: any(word in x[\"premise\"].split(\" \") + x[\"hypothesis\"].split(\" \") for word in [\"not\", \"no\", \"never\", \"without\"]),\n",
        "          \"Coreference\": lambda x: any(word in x[\"hypothesis\"] for word in [\"he\", \"she\", \"it\", \"they\"]),\n",
        "          \"Rare Words\": lambda x: any(word in x[\"premise\"] for word in [\"Higgs\", \"boson\", \"quantum\"]),\n",
        "          \"Ambiguity\": lambda x: any(word in x[\"hypothesis\"] for word in [\"something\", \"someone\", \"several\"]),\n",
        "          \"Long Sentences\": lambda x: len(x[\"premise\"].split()) > 10 or len(x[\"hypothesis\"].split()) > 10,\n",
        "          \"High Lexical Overlap\": lambda x: token_overlap_ratio(x[\"premise\"], x[\"hypothesis\"]) > 0.7,\n",
        "      }\n",
        "\n",
        "\n",
        "\n",
        "      # Initialize Counters\n",
        "error_counts = {cls: 0 for cls in error_classes}\n",
        "total_counts = {cls: 0 for cls in error_classes}\n",
        "error_examples = {cls: [] for cls in error_classes}\n",
        "\n",
        "\n",
        "\n",
        "\n",
        "for i,example in enumerate(mnli_pretrained_matched):\n",
        "    for cls, rule in error_classes.items():\n",
        "          if rule(example):  # Check if example matches the error class\n",
        "                total_counts[cls] += 1\n",
        "                if example['predicted_label'] != example['label']:\n",
        "                    if cart_mnli_pretrained_matched[i]['predicted_label'] == cart_mnli_pretrained_matched[i]['label']:\n",
        "                          error_examples[cls].append(example)\n",
        ""
      ],
      "metadata": {
        "id": "ct3WV4ZJ0YTF"
      },
      "execution_count": null,
      "outputs": []
    },
    {
      "cell_type": "code",
      "source": [
        "for k,v in error_examples.items():\n",
        "  print(k)\n",
        "  for i in v:\n",
        "    print(i)\n",
        "    print(\"\\n\")"
      ],
      "metadata": {
        "colab": {
          "base_uri": "https://localhost:8080/"
        },
        "id": "m5cChvKI3VxG",
        "outputId": "62376cd1-e234-4d0b-e2c3-05af87ea1204"
      },
      "execution_count": 29,
      "outputs": [
        {
          "output_type": "stream",
          "name": "stdout",
          "text": [
            "Negation\n",
            "{'premise': 'it would probably be a lot more work and probably not turn out as good', 'hypothesis': 'Oh that way sounds great, it could turn out even better', 'label': 2, 'predicted_scores': [-0.7972798943519592, -0.7734845876693726, 1.7771306037902832], 'predicted_label': 2}\n",
            "\n",
            "\n",
            "{'premise': 'Thus, the net scale benefit is initially positive, whether or not we adjust for the wage premium.', 'hypothesis': 'Initial net scale benefits are negative when adjusted for the wage premium.', 'label': 2, 'predicted_scores': [0.29262062907218933, -1.051464319229126, 0.8115633130073547], 'predicted_label': 2}\n",
            "\n",
            "\n",
            "{'premise': 'Many who fled have returned.', 'hypothesis': 'They all ran and never looked back.', 'label': 2, 'predicted_scores': [-0.9543169140815735, 0.3414464294910431, 0.509778618812561], 'predicted_label': 2}\n",
            "\n",
            "\n",
            "{'premise': \"We shouldn't have been here as soon as this even, if it hadn't been for the fact that there was a smart doctor on the spot, who gave us the tip through the Coroner. \", 'hypothesis': 'The doctor and the Coroner decided not to give us the tip.', 'label': 2, 'predicted_scores': [0.558164656162262, -1.480127215385437, 0.8423513174057007], 'predicted_label': 2}\n",
            "\n",
            "\n",
            "{'premise': \"have that well and it doesn't seem like very many people uh are really i mean there's a lot of people that are on death row but there's not very many people that actually um do get killed\", 'hypothesis': 'There are only a couple of people are on death row.', 'label': 2, 'predicted_scores': [-0.1404615193605423, -0.9256455302238464, 1.2084294557571411], 'predicted_label': 2}\n",
            "\n",
            "\n",
            "{'premise': \"kind of kind of nothing i won't have anything to do with\", 'hypothesis': \"I don't want anything to do with it, no doubts about it.\", 'label': 0, 'predicted_scores': [1.0938489437103271, 0.5441949963569641, -2.585667848587036], 'predicted_label': 0}\n",
            "\n",
            "\n",
            "{'premise': \"now you know the ball'll go straight and i go  i never broke a club or anything but you know i'd get upset about it sometimes and now i guess you know being in my forties i just kind of mellowed out a little bit i don't get upset any more so\", 'hypothesis': 'I used to get upset about it, but not anymore.', 'label': 0, 'predicted_scores': [1.8698532581329346, -1.6143100261688232, -0.9157698154449463], 'predicted_label': 0}\n",
            "\n",
            "\n",
            "{'premise': \"he's a college graduate type guy he's been in all he's an entrepreneur and he gives very practical financial advice about cars very you know not not nothing college level basic stuff his name is Bruce Williams he's on national radio uh i don't know what it would be down there you might want to whatever your radio talk shows are down there he's on that channel it's uh it's five seventy up here\", 'hypothesis': 'the entrepreneur advises people about the financial aspect of cars', 'label': 0, 'predicted_scores': [0.2780897319316864, 0.0185931995511055, -0.24487797915935516], 'predicted_label': 0}\n",
            "\n",
            "\n",
            "{'premise': 'We hate them because they are smarter, or more studious, or more focused than we are.', 'hypothesis': 'We hold no ill will towards them.', 'label': 2, 'predicted_scores': [-0.4077983796596527, -0.931779682636261, 1.515626072883606], 'predicted_label': 2}\n",
            "\n",
            "\n",
            "{'premise': 'In 392 the Emperor Theodosius proclaimed Christianity to be the official religion of the Roman Empire, and on his death in 395 the empire was split once more, between his two sons, and was never again to be reunited.', 'hypothesis': 'The Emperor Theodosius, in 392, proclaimed Christianity to be the official religion of the Roman Empire.', 'label': 0, 'predicted_scores': [1.5780348777770996, -1.7256171703338623, -0.3286886513233185], 'predicted_label': 0}\n",
            "\n",
            "\n",
            "{'premise': \"Some experts say there's a greater chance of a making a catch in the cooler days of spring and autumn, and in the hours after sunset.\", 'hypothesis': 'Experts say you should never try to make a catch after sunset.', 'label': 2, 'predicted_scores': [-2.773876905441284, 0.14029589295387268, 2.3881747722625732], 'predicted_label': 2}\n",
            "\n",
            "\n",
            "{'premise': \"no that's true and and and Lord knows with that legislature up there they probably did all kinds of things while he wasn't looking\", 'hypothesis': 'The Legislature always acts responsibly.', 'label': 2, 'predicted_scores': [-0.9446007609367371, 0.2920679450035095, 0.5655962824821472], 'predicted_label': 2}\n",
            "\n",
            "\n",
            "{'premise': \"yeah um gosh i think it was only like three and a half pounds and for me that's big that's why i'm saying i love to go fishing because i've never caught anything really really big um so because it's always been you know in the on a lake and uh i know they have bigger fish than that but you know three and a half pounds and that was huge for me\", 'hypothesis': 'It was almost fifty pounds.', 'label': 2, 'predicted_scores': [-1.500704288482666, -0.011121716350317001, 1.4903484582901], 'predicted_label': 2}\n",
            "\n",
            "\n",
            "{'premise': \"It's conceivable that some of these allegations are true, and there's no harm in checking them out, as long as the decedent's family agrees to participate.\", 'hypothesis': 'Some of the allegations might be true.', 'label': 0, 'predicted_scores': [1.5182158946990967, 1.4480540752410889, -4.350651264190674], 'predicted_label': 0}\n",
            "\n",
            "\n",
            "{'premise': 'The Congress also told LSC that it could not continue to fund its grantees presumptively and that it must begin to distribute its funds on a competitive basis.', 'hypothesis': 'LSC was told by Congress no longer could grantees be funded presumptively and funds have to be distributed on a basis that is competitive. ', 'label': 0, 'predicted_scores': [1.7078262567520142, -1.3210517168045044, -0.9279698133468628], 'predicted_label': 0}\n",
            "\n",
            "\n",
            "{'premise': \"have that well and it doesn't seem like very many people uh are really i mean there's a lot of people that are on death row but there's not very many people that actually um do get killed\", 'hypothesis': 'There are a lot of people on death row, but not that many actually are executed.', 'label': 0, 'predicted_scores': [0.7396147847175598, -0.934634804725647, 0.10845625400543213], 'predicted_label': 0}\n",
            "\n",
            "\n",
            "{'premise': \"The director, Michael Mann, has never tried to tell a story as complex (or nonviolent) as The Insider , and he and his co-screenwriter, Eric Roth, don't shape their narrative very satisfyingly.\", 'hypothesis': 'Michael Mann directed it.', 'label': 0, 'predicted_scores': [1.6846083402633667, -1.0407382249832153, -1.2489913702011108], 'predicted_label': 0}\n",
            "\n",
            "\n",
            "{'premise': 'High Crimes is painfully shoddy, even for a book rushed to press.', 'hypothesis': 'High Crimes is a poor book and is not excused by being rushed to press. ', 'label': 0, 'predicted_scores': [0.27777305245399475, 0.03976897522807121, -0.33210524916648865], 'predicted_label': 0}\n",
            "\n",
            "\n",
            "{'premise': \"i think there would be an awful lot of resentment and um i i really don't think it would be feasible on our country\", 'hypothesis': \"I think it would lead to resentment and it's not something that is feasible for the country. \", 'label': 0, 'predicted_scores': [1.9859782457351685, -1.229533314704895, -1.543363094329834], 'predicted_label': 0}\n",
            "\n",
            "\n",
            "{'premise': 'Very often the emperor was only a minor, so that the Fujiwara patriarch acted as regent.', 'hypothesis': 'It was not possible to be an emperor unless you were at least 18. ', 'label': 2, 'predicted_scores': [0.31823062896728516, -1.343840479850769, 1.0304538011550903], 'predicted_label': 2}\n",
            "\n",
            "\n",
            "{'premise': \"life in prison then he's available for parole if it's if it's life and a day then he's not eligible for parole so what you know let's quit BSing with the system\", 'hypothesis': \"The system is corrupt because he won't be able to get parole if it's life and a day.\", 'label': 1, 'predicted_scores': [-0.3436864912509918, 1.157701849937439, -1.2392557859420776], 'predicted_label': 1}\n",
            "\n",
            "\n",
            "{'premise': \"yeah i'm trying to find out how long we're supposed talk\", 'hypothesis': \"I'm not sure how long we're supposed to talk for.\", 'label': 0, 'predicted_scores': [0.6510282754898071, -0.19474053382873535, -0.5347469449043274], 'predicted_label': 0}\n",
            "\n",
            "\n",
            "{'premise': \"On the second point, Judge Newton said in a recent interview, I've heard this complaint a hundred times.\", 'hypothesis': 'Judge Newton was not convinced by the second point.', 'label': 1, 'predicted_scores': [-0.39346498250961304, 0.7488297820091248, -0.625877320766449], 'predicted_label': 1}\n",
            "\n",
            "\n",
            "{'premise': 'There was no longer any  when you wanted some unbridled adult fun, Las Vegas was the place to be.', 'hypothesis': 'Las Vegas was the destination for pure fun for adults.', 'label': 0, 'predicted_scores': [0.7262680530548096, -0.8842912912368774, 0.08284111320972443], 'predicted_label': 0}\n",
            "\n",
            "\n",
            "{'premise': 'With dark eyes and eyelashes she would have been a beauty. ', 'hypothesis': \"She would have been gorgeous if she'd not had such light colored eyes.\", 'label': 0, 'predicted_scores': [0.5649475455284119, 0.48923584818840027, -1.6516956090927124], 'predicted_label': 0}\n",
            "\n",
            "\n",
            "{'premise': 'In the moment of victory, Tuppence betrayed a somewhat unsportsmanlike triumph.', 'hypothesis': 'Tuppence was not very gracious when she won.', 'label': 0, 'predicted_scores': [0.2800920605659485, 0.12993039190769196, -0.6041865944862366], 'predicted_label': 0}\n",
            "\n",
            "\n",
            "{'premise': \"and my and my part-time work you know it's not our the restaurant our favorite restaurant in the town of Salisbury where actually we live you know where my where i'll return to my job or whatever we can normally eat out for um under fourteen dollars\", 'hypothesis': 'My first part time job was in a restaurant in Salisbury where you could eat out for under $14.', 'label': 1, 'predicted_scores': [0.11550936102867126, 1.2252196073532104, -1.9836395978927612], 'predicted_label': 1}\n",
            "\n",
            "\n",
            "{'premise': 'Since The Bell Curve was published, it has become clear that almost everything about it was inexcusably  suspect data, mistakes in statistical procedures that would have flunked a sophomore (Murray--Herrnstein is deceased--clearly does not understand what a correlation coefficient means), deliberate suppression of contrary evidence, you name it.', 'hypothesis': 'The Bell Curve is based on faulty data and unethical work.', 'label': 0, 'predicted_scores': [0.9016036987304688, -0.06279076635837555, -1.3296475410461426], 'predicted_label': 0}\n",
            "\n",
            "\n",
            "{'premise': \"but you're without a paycheck during that time and i don't at least that's my understanding is even you know the first time you go for counseling and it's six weeks before you're back to work\", 'hypothesis': 'You go to counciling?', 'label': 1, 'predicted_scores': [-0.15846224129199982, 0.8667422533035278, -1.1523791551589966], 'predicted_label': 1}\n",
            "\n",
            "\n",
            "{'premise': 'but like they always say you know got a good profit sharing plan just no profit', 'hypothesis': 'This profit sharing plan sounds like a scam.', 'label': 1, 'predicted_scores': [-1.0770636796951294, 0.7799921631813049, 0.09049145877361298], 'predicted_label': 1}\n",
            "\n",
            "\n",
            "{'premise': 'Ile de R??', 'hypothesis': 'Ile de R is no longer part of the attraction.', 'label': 1, 'predicted_scores': [-0.5973867177963257, 0.29824891686439514, 0.251288503408432], 'predicted_label': 1}\n",
            "\n",
            "\n",
            "{'premise': 'saving that did not finance domestic investment would increase net foreign investment and improve the current account balance.', 'hypothesis': 'Saving could increase net foreign investment  substantially and quickly. ', 'label': 1, 'predicted_scores': [-1.145991325378418, 1.5816047191619873, -0.7563616037368774], 'predicted_label': 1}\n",
            "\n",
            "\n",
            "{'premise': ' The Romans never really infiltrated Ibiza, and even after the defeat of Hannibal in 202 b.c. during the Second Punic War their influence was restrained.', 'hypothesis': \"The Romans didn't infiltrate Ibiza because it wasn't valuable.\", 'label': 1, 'predicted_scores': [-1.4652773141860962, 1.265959620475769, -0.06868748366832733], 'predicted_label': 1}\n",
            "\n",
            "\n",
            "{'premise': \"yeah the the i mean people like that are crazy i did a study on it though when i was in high school it was one of these things we had to pick a topic to to investigate and at that time i don't think it's like that any more but at that time uh it was very unfair capital punishment was a lot more  common and if you tended and it tended to be that if you were ignorant or if you were a foreigner or if you were black or any minority for that matter the chances your chances of of uh getting the death penalty were you know like hundreds of times greater than if you could just communicate well i mean you didn't have to be um you didn't even necessarily have to be white but if you could just communicate and you could come across in the court room with some kind of um\", 'hypothesis': \"I never attended school, mom wouldn't let me.\", 'label': 2, 'predicted_scores': [-0.6310698986053467, -0.3186509907245636, 1.17609441280365], 'predicted_label': 2}\n",
            "\n",
            "\n",
            "{'premise': 'That story remains to be told.', 'hypothesis': 'The story has not been told yet.', 'label': 0, 'predicted_scores': [2.092837333679199, -1.5634510517120361, -1.3054007291793823], 'predicted_label': 0}\n",
            "\n",
            "\n",
            "{'premise': 'The interior of the palace is very dark, and the use of flash is forbidden, so photographers should think twice before paying the extra fee for bringing in a camera or video equipment.', 'hypothesis': 'Think hard about whether or not you want to bring a camera, there is an extra fee and no flash allowed.', 'label': 0, 'predicted_scores': [1.5627492666244507, -1.062299132347107, -1.0386896133422852], 'predicted_label': 0}\n",
            "\n",
            "\n",
            "{'premise': \"In fact, you're going to be rewarded.\", 'hypothesis': 'They did not think they deserved to be rewarded.', 'label': 1, 'predicted_scores': [-0.16241134703159332, 0.2976822555065155, -0.20813925564289093], 'predicted_label': 1}\n",
            "\n",
            "\n",
            "{'premise': 'For example, computers and related equipment have an estimated annual depreciation rate of 31 percent,7 and new versions of software applications are released every few years.', 'hypothesis': \"Computers will not be able to function to a business' standards once the equipment is 7 years old.\", 'label': 1, 'predicted_scores': [-0.582870602607727, 0.627282440662384, -0.20212560892105103], 'predicted_label': 1}\n",
            "\n",
            "\n",
            "{'premise': 'The Government does not sacrifice anything of value in exchange and the entity that forfeits the property does not receive anything of value.', 'hypothesis': 'Approximately 300 people forcibly forfeited their property in 2015.', 'label': 1, 'predicted_scores': [-3.2572760581970215, 2.650698184967041, 0.1723972111940384], 'predicted_label': 1}\n",
            "\n",
            "\n",
            "{'premise': \"yes they would they just wouldn't be able to own the kind of automobiles that they think they deserve to own or the kind of homes that we think we deserve to own we might have to you know just be able to i think if we a generation went without debt then the next generation like if if our our generation my husband and i we're twenty eight if we lived our lives and didn't become you know indebted like you know our generation before us that um the budget would balance and that we became accustomed to living with what we could afford which we wouldn't be destitute i mean we wouldn't be living on the street by any means but just compared to how spoiled we are we would be in our own minds but i feel like the generation after us would oh man it it would be so good it would be so much better it wouldn't be perfect but then they could learn to live with what what they could afford to save to buy and if you want a nicer car than that well you save a little longer\", 'hypothesis': 'Society would be perfect and there would be no more war if we could just rid ourselves of our debt.', 'label': 1, 'predicted_scores': [-0.6038227081298828, 0.6753904819488525, -0.23311083018779755], 'predicted_label': 1}\n",
            "\n",
            "\n",
            "{'premise': 'with little back packs of their own and you know things like that', 'hypothesis': \"I'm not sure they're old enough to have back packs.\", 'label': 1, 'predicted_scores': [0.02635124698281288, 0.1617709994316101, -0.2091967612504959], 'predicted_label': 1}\n",
            "\n",
            "\n",
            "{'premise': \"and the professors who go there and you're not going to see the professors you know you're going to see some TA you know uh\", 'hypothesis': \"You're going to see the TAs more than the professors.\", 'label': 0, 'predicted_scores': [0.44185730814933777, -0.16915294528007507, -0.2004024237394333], 'predicted_label': 0}\n",
            "\n",
            "\n",
            "{'premise': ' \"You\\'re not going to marry him, do you hear?\" he said dictatorially.', 'hypothesis': '\"You will not take him as your husband and run away.\"', 'label': 1, 'predicted_scores': [-0.6803708672523499, 0.9114730954170227, -0.48838186264038086], 'predicted_label': 1}\n",
            "\n",
            "\n",
            "{'premise': 'The unintended side effect is radical, direct  In what other state do voters set the tax rates?', 'hypothesis': 'There is a radical side effect that was not intended, said the teacher.', 'label': 1, 'predicted_scores': [-1.2005289793014526, 1.210567831993103, -0.26632553339004517], 'predicted_label': 1}\n",
            "\n",
            "\n",
            "{'premise': 'Marilyn Manson is darker, more serious, and more vicious than Alice Cooper was.', 'hypothesis': 'Alice Cooper was not as dark as Marilyn Manson.', 'label': 0, 'predicted_scores': [2.317674398422241, -1.4422404766082764, -1.8482766151428223], 'predicted_label': 0}\n",
            "\n",
            "\n",
            "{'premise': 'no never heard of it', 'hypothesis': 'It was a popular type of latex house paint.', 'label': 2, 'predicted_scores': [-3.110966920852661, 1.1351577043533325, 1.5366390943527222], 'predicted_label': 2}\n",
            "\n",
            "\n",
            "{'premise': \"and that you're very much right but the jury may or may not see it that way so you get a little anticipate you know anxious there and go well you know\", 'hypothesis': \"Jury's operate without the benefit of an education in law.\", 'label': 1, 'predicted_scores': [-1.2624315023422241, 1.6138137578964233, -0.6508451700210571], 'predicted_label': 1}\n",
            "\n",
            "\n",
            "{'premise': 'It seeks genuine direct elections after a period that is sufficient to organize alternative parties and prepare a campaign based on freedom of speech and other civil rights, the right to have free trade unions, the release of more than 200 political prisoners, debt relief, stronger penalties for corruption and pollution, no amnesty for Suharto and his fellow thieves, and a respite for the poor from the hardest edges of economic reform.', 'hypothesis': 'Debt relief is the main motivator for people in this democracy. ', 'label': 1, 'predicted_scores': [0.1270972341299057, 0.1927070915699005, -0.4743565022945404], 'predicted_label': 1}\n",
            "\n",
            "\n",
            "{'premise': 'and to have children and just get a day care or someone to take care of it and not really have the bonding process that takes place with babies and stuff you know', 'hypothesis': 'The day care is perfect for the children.', 'label': 1, 'predicted_scores': [-1.2885558605194092, 2.4526705741882324, -1.6560389995574951], 'predicted_label': 1}\n",
            "\n",
            "\n",
            "{'premise': 'Think of it this  When consumer confidence declines, it is as if, for some reason, the typical member of the co-op had become less willing to go out, more anxious to accumulate coupons for a rainy day.', 'hypothesis': 'Coupon collecting is no longer allowed in most US stores.', 'label': 1, 'predicted_scores': [-0.40880337357521057, 0.46291640400886536, -0.17317011952400208], 'predicted_label': 1}\n",
            "\n",
            "\n",
            "{'premise': \"oh you went to the dollar movie yeah yeah they show up at the dollar movie right after they get come out you know they're usually not not that great or didn't do that great anyway let me see let me see another movie i watched uh i want to see is uh that new one uh\", 'hypothesis': \"they are shown at the dollar movie theater immediately after they're released\", 'label': 0, 'predicted_scores': [0.6772971749305725, 0.005214308854192495, -1.0399857759475708], 'predicted_label': 0}\n",
            "\n",
            "\n",
            "{'premise': 'China could never trump the warhead blizzard Washington would send in retaliation against any atomic attack, though the country would be loath to cede to U.S. missile defenses the deterrence afforded by its handfuls of warheads.', 'hypothesis': \"China will likely never shoot a warhead at the United States because they don't have as many.\", 'label': 1, 'predicted_scores': [0.18904446065425873, 0.7401426434516907, -1.446699857711792], 'predicted_label': 1}\n",
            "\n",
            "\n",
            "{'premise': 'Part of the reason for the difference in pieces per possible delivery may be due to the fact that five percent of possible residential deliveries are businesses, and it is thought, but not known, that a lesser percentage of possible deliveries on rural routes are businesses.', 'hypothesis': 'Reason for a lesser pecentage of possible deliveries on rural routes might become more clear in the future.', 'label': 1, 'predicted_scores': [0.021022429689764977, 0.8495098948478699, -1.3608767986297607], 'predicted_label': 1}\n",
            "\n",
            "\n",
            "{'premise': 'i tell you what i would not i would not buy a car that had the seat belt where it was hooked under the door', 'hypothesis': 'I used to own a car with the seat belts there.', 'label': 1, 'predicted_scores': [-0.6211779117584229, 1.1121368408203125, -0.8108636736869812], 'predicted_label': 1}\n",
            "\n",
            "\n",
            "{'premise': 'These days, newspaper writers are no longer allowed the kind of license he took.', 'hypothesis': \"Newspaper writes can't take the kind of license that he did.\", 'label': 0, 'predicted_scores': [0.6527570486068726, -0.39070752263069153, -0.2735171616077423], 'predicted_label': 0}\n",
            "\n",
            "\n",
            "{'premise': \"life in prison then he's available for parole if it's if it's life and a day then he's not eligible for parole so what you know let's quit BSing with the system\", 'hypothesis': \"He'll be sentenced in two months from now.\", 'label': 1, 'predicted_scores': [-0.9142650961875916, 1.6314865350723267, -1.1221659183502197], 'predicted_label': 1}\n",
            "\n",
            "\n",
            "{'premise': 'Oh, my friend, have I not said to you all along that I have no proofs. ', 'hypothesis': 'I will be able to find some proof soon.', 'label': 1, 'predicted_scores': [0.019438572227954865, 0.2997017204761505, -0.494276762008667], 'predicted_label': 1}\n",
            "\n",
            "\n",
            "{'premise': \"Gerth's prize-winning articles do not mention a CIA report concluding that U.S. security was not harmed by the 1996 accident review.\", 'hypothesis': 'Gerth left out important information to make his article seem better.', 'label': 1, 'predicted_scores': [0.08863160759210587, 0.21660906076431274, -0.4643903970718384], 'predicted_label': 1}\n",
            "\n",
            "\n",
            "{'premise': 'His proud reserve--a product of 40 years in the spotlight--is refreshing but does not bode well for his capacity to shepherd big ideas through Congress.', 'hypothesis': 'He is way too loud.', 'label': 1, 'predicted_scores': [-2.3734567165374756, 1.2945698499679565, 0.7090771794319153], 'predicted_label': 1}\n",
            "\n",
            "\n",
            "{'premise': 'Hey, no problem, a fine policy.', 'hypothesis': 'No trouble, the best policy.', 'label': 1, 'predicted_scores': [0.011176572181284428, 0.14937853813171387, -0.13911008834838867], 'predicted_label': 1}\n",
            "\n",
            "\n",
            "{'premise': 'no i mean there there there was nothing to it i mean', 'hypothesis': 'It was no big deal.', 'label': 0, 'predicted_scores': [0.4288492202758789, 0.27286723256111145, -1.1116998195648193], 'predicted_label': 0}\n",
            "\n",
            "\n",
            "{'premise': \"The universal credibility problem with polling is that wordsmithing and mathematics don't mix, and never will.\", 'hypothesis': 'Wordsmithing and mathematics are not related enough to go together.', 'label': 0, 'predicted_scores': [1.1228950023651123, -0.043587081134319305, -1.7651536464691162], 'predicted_label': 0}\n",
            "\n",
            "\n",
            "{'premise': 'During the hottest hours, things come to a virtual standstill, though the Caribbean siesta is an hour or two shorter than its Mediterranean counterpart.', 'hypothesis': 'Things slowed down because there were not enough people to assist.', 'label': 1, 'predicted_scores': [-2.4928951263427734, 1.9802402257919312, 0.1236954927444458], 'predicted_label': 1}\n",
            "\n",
            "\n",
            "{'premise': \"But of course, that's just another way of saying that liberal democracy--a value Huntington surely ranks above the alternatives morally--may never fit some peoples as naturally as it fits us.\", 'hypothesis': 'Liberal democracy may not fit some people as good as it fits us.', 'label': 0, 'predicted_scores': [0.5412932634353638, -0.5802163481712341, 0.05629263073205948], 'predicted_label': 0}\n",
            "\n",
            "\n",
            "{'premise': 'Aswan became a backwater following the decline of the Egyptian Empire, far removed from power bases at Alexandria and Cairo.', 'hypothesis': 'Aswan was no longer a power base for the Egyptian Empire.  ', 'label': 0, 'predicted_scores': [2.064218282699585, -1.1647379398345947, -1.7859833240509033], 'predicted_label': 0}\n",
            "\n",
            "\n",
            "{'premise': \"uh somewhat they're not my favorite team i am uh somewhat familiar with them\", 'hypothesis': 'I know a little about them, but they are not may favorite team.', 'label': 0, 'predicted_scores': [1.3759254217147827, -0.25566819310188293, -1.8528910875320435], 'predicted_label': 0}\n",
            "\n",
            "\n",
            "{'premise': \"yes they would they just wouldn't be able to own the kind of automobiles that they think they deserve to own or the kind of homes that we think we deserve to own we might have to you know just be able to i think if we a generation went without debt then the next generation like if if our our generation my husband and i we're twenty eight if we lived our lives and didn't become you know indebted like you know our generation before us that um the budget would balance and that we became accustomed to living with what we could afford which we wouldn't be destitute i mean we wouldn't be living on the street by any means but just compared to how spoiled we are we would be in our own minds but i feel like the generation after us would oh man it it would be so good it would be so much better it wouldn't be perfect but then they could learn to live with what what they could afford to save to buy and if you want a nicer car than that well you save a little longer\", 'hypothesis': 'Life will be great for subsequent generations if our generation goes without debt.', 'label': 1, 'predicted_scores': [-0.5912066698074341, 0.7174041271209717, -0.31575027108192444], 'predicted_label': 1}\n",
            "\n",
            "\n",
            "{'premise': 'Justice Kennedy does not care what law librarians across the country do with all the Supreme Court Reporters from 1790 through 1998.', 'hypothesis': 'Justice Kennedy thinks all  the Supreme Court Reporters from 1790 to 1998 should be on display.', 'label': 2, 'predicted_scores': [-0.9244813919067383, 0.35740432143211365, 0.46231943368911743], 'predicted_label': 2}\n",
            "\n",
            "\n",
            "Coreference\n",
            "{'premise': 'We also have found that leading organizations strive to ensure that their core processes efficiently and effectively support mission-related outcomes.', 'hypothesis': 'Leading organizations want to be sure their employees are safe.', 'label': 1, 'predicted_scores': [0.3885359466075897, 0.9481711983680725, -2.052114963531494], 'predicted_label': 1}\n",
            "\n",
            "\n",
            "{'premise': \"This having come to his stepmother's ears, she taxed him with it on the afternoon before her death, and a quarrel ensued, part of which was overheard. \", 'hypothesis': 'A fight broke out between the stepmother and the man before her death.', 'label': 0, 'predicted_scores': [1.1162325143814087, -0.2369941771030426, -1.4077321290969849], 'predicted_label': 0}\n",
            "\n",
            "\n",
            "{'premise': \"yeah well the uh NC double A tournament's going on right now and uh i haven't watched it this year because Louisville's out of it this year\", 'hypothesis': \"I'll watch the basketball tournament next year.\", 'label': 1, 'predicted_scores': [-0.4438372254371643, 0.9362995028495789, -0.8107237219810486], 'predicted_label': 1}\n",
            "\n",
            "\n",
            "{'premise': \"Something may be better than nothing . If trials compared low-cost therapy to the complete AZT regimen it's likely that the new regimens will prove less effective.\", 'hypothesis': 'It is better to have little than to have none at all.', 'label': 0, 'predicted_scores': [0.6515676975250244, -0.27803200483322144, -0.4239475429058075], 'predicted_label': 0}\n",
            "\n",
            "\n",
            "{'premise': 'it would probably be a lot more work and probably not turn out as good', 'hypothesis': 'Oh that way sounds great, it could turn out even better', 'label': 2, 'predicted_scores': [-0.7972798943519592, -0.7734845876693726, 1.7771306037902832], 'predicted_label': 2}\n",
            "\n",
            "\n",
            "{'premise': 'The analysis concluded that, because the rule relaxed the hog cholera-related restrictions imposed on the importation of live swine and prepared pork products from Sonora, Mexico, the proposed rule could have a significant economic impact on a substantial number of small entities in the United States.', 'hypothesis': 'The analysis stated that the rule might have a large impact on small entities in the US.', 'label': 0, 'predicted_scores': [1.2489005327224731, 1.2201038599014282, -3.666297197341919], 'predicted_label': 0}\n",
            "\n",
            "\n",
            "{'premise': \"I thought working on Liddy's campaign would be better than working on Bob's.\", 'hypothesis': \"I thought I would like working on Liddy's campaign the best.\", 'label': 1, 'predicted_scores': [0.28260231018066406, 0.8878246545791626, -1.7946012020111084], 'predicted_label': 1}\n",
            "\n",
            "\n",
            "{'premise': 'Others love to see it in the middle of the heaviest monsoon, its marble translucent, its image blurred in the rain-stippled water channels of its gardens.', 'hypothesis': 'It is especially beautiful during the monsoon season.', 'label': 1, 'predicted_scores': [-0.287682443857193, 0.39416950941085815, -0.23518840968608856], 'predicted_label': 1}\n",
            "\n",
            "\n",
            "{'premise': 'Thus, the net scale benefit is initially positive, whether or not we adjust for the wage premium.', 'hypothesis': 'Initial net scale benefits are negative when adjusted for the wage premium.', 'label': 2, 'predicted_scores': [0.29262062907218933, -1.051464319229126, 0.8115633130073547], 'predicted_label': 2}\n",
            "\n",
            "\n",
            "{'premise': '7) Nonautomated First-Class and Standard-A mailers have the option of requesting that their mail be processed manually, even though the costs for such processing are substantially higher than mechanized processing.', 'hypothesis': 'Nonautomated First-Class and Standard-A mailers cannot ask for their mail to be processed by hand because it costs the postal service more.', 'label': 2, 'predicted_scores': [-1.6737017631530762, 0.16502901911735535, 1.3775887489318848], 'predicted_label': 2}\n",
            "\n",
            "\n",
            "{'premise': 'We need to look at the implications that these differing roles have for a range of issues, such as SES core competencies, performance standards, recruitment sources, mobility, and training and development programs.', 'hypothesis': 'It is very important for us to consider the implications of the these distinct roles on the issues.', 'label': 0, 'predicted_scores': [0.9391831755638123, 0.8284622430801392, -2.717991352081299], 'predicted_label': 0}\n",
            "\n",
            "\n",
            "{'premise': ' Other villages are much less developed, and therein lies the essence of many delights.', 'hypothesis': 'If more people lived in the villages the development would skyrocket.', 'label': 1, 'predicted_scores': [-1.5310299396514893, 1.379036784172058, -0.1247328594326973], 'predicted_label': 1}\n",
            "\n",
            "\n",
            "{'premise': 'Sure enough, there was the chest, a fine old piece, all studded with brass nails, and full to overflowing with every imaginable type of garment. ', 'hypothesis': 'The chest was built over 200 years ago.', 'label': 1, 'predicted_scores': [-2.0031797885894775, 1.728334665298462, -0.06186183542013168], 'predicted_label': 1}\n",
            "\n",
            "\n",
            "{'premise': 'What about the hole?\" They scanned the cliff-side narrowly.', 'hypothesis': 'They looked from the top of the cliff for the hole.', 'label': 1, 'predicted_scores': [0.0647554025053978, 0.08141663670539856, -0.0161050446331501], 'predicted_label': 1}\n",
            "\n",
            "\n",
            "{'premise': \"Guangzhou, with a population of more than 5 million, straddles the Pearl River China's fifth longest which links the city to the South China Sea.\", 'hypothesis': 'The population of Guangzhou has been growing out of control for the past century.', 'label': 1, 'predicted_scores': [-2.3049726486206055, 2.2648563385009766, -0.3044906556606293], 'predicted_label': 1}\n",
            "\n",
            "\n",
            "{'premise': 'Lincoln glared.', 'hypothesis': 'The man winked.', 'label': 2, 'predicted_scores': [-2.321882724761963, -0.7955007553100586, 3.116168260574341], 'predicted_label': 2}\n",
            "\n",
            "\n",
            "{'premise': 'The South African priest who invited Clinton to do so is quoted in the paper as saying that once Clinton stood up, he was thinking about how much embarrassment it would have caused him by my saying, please sit down.', 'hypothesis': 'The South African priest had communicated with Clinton via telephone.', 'label': 1, 'predicted_scores': [0.02039327099919319, 0.14417347311973572, -0.14419099688529968], 'predicted_label': 1}\n",
            "\n",
            "\n",
            "{'premise': \"Accusations of corruption among officials in Rao's administration in 1995 also paved the way for a comeback.\", 'hypothesis': 'The administration of Rao in general was profoundly corrupt.', 'label': 1, 'predicted_scores': [-0.2719797194004059, 0.15440461039543152, 0.15423958003520966], 'predicted_label': 1}\n",
            "\n",
            "\n",
            "{'premise': 'For himself he chose Atat??rk, or Father of the Turks.', 'hypothesis': 'For himself he chose Piety.', 'label': 2, 'predicted_scores': [-0.731475293636322, -1.2492082118988037, 2.1523170471191406], 'predicted_label': 2}\n",
            "\n",
            "\n",
            "{'premise': 'Many who fled have returned.', 'hypothesis': 'They all ran and never looked back.', 'label': 2, 'predicted_scores': [-0.9543169140815735, 0.3414464294910431, 0.509778618812561], 'predicted_label': 2}\n",
            "\n",
            "\n",
            "{'premise': 'I understand, mademoiselle, I understand all you feel. ', 'hypothesis': 'I have been through the same experience, madam.', 'label': 1, 'predicted_scores': [-0.29819416999816895, 0.9916149973869324, -1.093579888343811], 'predicted_label': 1}\n",
            "\n",
            "\n",
            "{'premise': \"British action wouldn't have mattered.\", 'hypothesis': \"It wouldn't have mattered if Britain got involved.\", 'label': 0, 'predicted_scores': [1.5525697469711304, 0.17973148822784424, -2.8008854389190674], 'predicted_label': 0}\n",
            "\n",
            "\n",
            "{'premise': 'These runs could cost far more than the value of the small improvement in service.', 'hypothesis': 'The runs would be a bigger cost than the improvement in service would bring.', 'label': 0, 'predicted_scores': [0.49937912821769714, 0.028190135955810547, -0.7651585340499878], 'predicted_label': 0}\n",
            "\n",
            "\n",
            "{'premise': 'The Times says this tracking list is drawn up from information from bookstores, but publishers say they routinely call up the Times to tip them off to books selling with increasing momentum so that they can be added to the tracking list.', 'hypothesis': \"Publishers say one things about Times' drawing of lists from bookstores, while Times claims a different story.\", 'label': 0, 'predicted_scores': [1.619748592376709, -0.8992121815681458, -1.3304471969604492], 'predicted_label': 0}\n",
            "\n",
            "\n",
            "{'premise': 'Was it a sudden decision on his part, or had he already made up his mind when he parted from me a few hours earlier? ', 'hypothesis': 'He left in the spur of the moment whilst we were talking, which was quite rude. ', 'label': 1, 'predicted_scores': [0.48116642236709595, 0.6518734693527222, -1.7691664695739746], 'predicted_label': 1}\n",
            "\n",
            "\n",
            "{'premise': 'I entered her shack, opening the painted door covered in runes of warding.', 'hypothesis': 'I entered the shack, bidden by her--the runes of warding would have surely sent me away otherwise.', 'label': 1, 'predicted_scores': [-2.1916582584381104, 1.5241944789886475, 0.3036705255508423], 'predicted_label': 1}\n",
            "\n",
            "\n",
            "{'premise': \"If she wasn't, how would they have known Jane Finn had got the papers?\", 'hypothesis': 'How would they know that Jane Finn had lost the papers?', 'label': 2, 'predicted_scores': [-0.23436234891414642, 0.08019223064184189, 0.2694616913795471], 'predicted_label': 2}\n",
            "\n",
            "\n",
            "{'premise': 'In Japan, Mainichi Shimbun criticized the new Liberal Democratic Party leader Keizo Obuchi for being devoid of fresh ideas for reviving the Japanese economy.', 'hypothesis': \"Mainichi Shimbun approved of Keizo Obuchi's efforts toward improving the economy.\", 'label': 2, 'predicted_scores': [-0.009602698497474194, -0.48368701338768005, 0.6811460256576538], 'predicted_label': 2}\n",
            "\n",
            "\n",
            "{'premise': 'It vibrated under his hand.', 'hypothesis': 'It moved softly in his hand, alerting him to the presence.', 'label': 1, 'predicted_scores': [0.35315993428230286, 0.9696638584136963, -2.017409563064575], 'predicted_label': 1}\n",
            "\n",
            "\n",
            "{'premise': 'yeah i have too and i found it real interesting but', 'hypothesis': 'I have also, and I found it real interesting.', 'label': 0, 'predicted_scores': [0.7710607647895813, -0.6347959041595459, -0.2146870195865631], 'predicted_label': 0}\n",
            "\n",
            "\n",
            "{'premise': 'The almost midtown Massabielle quarter (faubourg de Massabielle), is sometimes described as the most picturesque in the city.', 'hypothesis': 'The Massabielle quarter is a very touristy place.', 'label': 0, 'predicted_scores': [0.6008443236351013, 0.4663464426994324, -1.6883718967437744], 'predicted_label': 0}\n",
            "\n",
            "\n",
            "{'premise': 'And you are wrong in condemning it. ', 'hypothesis': \"You shouldn't be speaking out against it.\", 'label': 0, 'predicted_scores': [1.537497639656067, -0.15317291021347046, -2.2967453002929688], 'predicted_label': 0}\n",
            "\n",
            "\n",
            "{'premise': \"yeah i was in Peru Peru but um i there weren't as i recall or at least i wasn't aware of that many Americans there except for a very heavy concentration of Peace Corps volunteers this was when the Peace Corps first are started and it was one of the big targets\", 'hypothesis': \"Aside from the numerous Peace Corps volunteers, I didn't know many Americans there.\", 'label': 0, 'predicted_scores': [1.669129490852356, -1.272925615310669, -0.9295409917831421], 'predicted_label': 0}\n",
            "\n",
            "\n",
            "{'premise': ' 8th circa b.c.Greeks colonize Sicily and other southern regions', 'hypothesis': 'Before colonizing the southern regions, the Greeks conquered the northern regions.', 'label': 1, 'predicted_scores': [-0.5230989456176758, 1.7193492650985718, -1.7334970235824585], 'predicted_label': 1}\n",
            "\n",
            "\n",
            "{'premise': \"We shouldn't have been here as soon as this even, if it hadn't been for the fact that there was a smart doctor on the spot, who gave us the tip through the Coroner. \", 'hypothesis': 'The doctor and the Coroner decided not to give us the tip.', 'label': 2, 'predicted_scores': [0.558164656162262, -1.480127215385437, 0.8423513174057007], 'predicted_label': 2}\n",
            "\n",
            "\n",
            "{'premise': \"It's a great novelty, but very expensive.\", 'hypothesis': \"It's fairly cheap and mundane.\", 'label': 2, 'predicted_scores': [0.32316070795059204, -1.6687566041946411, 1.2823902368545532], 'predicted_label': 2}\n",
            "\n",
            "\n",
            "{'premise': 'Control activities occur at all levels and functions of the entity.', 'hypothesis': 'Control activities happen everywhere in the entity. ', 'label': 0, 'predicted_scores': [1.238181471824646, -1.1534560918807983, -0.41632166504859924], 'predicted_label': 0}\n",
            "\n",
            "\n",
            "{'premise': 'Even the most aged and infirm travel here to die, for nothing is more blessed for a devout Hindu than to die in the great waters of the Varanasi and thus be released from the eternal cycle of rebirth.', 'hypothesis': 'Sick and elderly people travel here from all over the country, and even from other countries.', 'label': 1, 'predicted_scores': [-0.04999788850545883, 1.1698296070098877, -1.686132550239563], 'predicted_label': 1}\n",
            "\n",
            "\n",
            "{'premise': 'Although it ceased to be a political capital in 1707 (when Scotland joined with England to create the United Kingdom), Edinburgh was at the forefront of intellectual debate.', 'hypothesis': 'When Edinburgh ceased to be a political capital in the early 18th century, local political figures protested for a change in their infrastructure.', 'label': 1, 'predicted_scores': [-1.465281367301941, 1.5959234237670898, -0.41996103525161743], 'predicted_label': 1}\n",
            "\n",
            "\n",
            "{'premise': \"have that well and it doesn't seem like very many people uh are really i mean there's a lot of people that are on death row but there's not very many people that actually um do get killed\", 'hypothesis': 'There are only a couple of people are on death row.', 'label': 2, 'predicted_scores': [-0.1404615193605423, -0.9256455302238464, 1.2084294557571411], 'predicted_label': 2}\n",
            "\n",
            "\n",
            "{'premise': \"Are you sure we should take him down there?' Greuze asked Natalia.\", 'hypothesis': 'Natalia asked Greuze if it was logical to take him down there.', 'label': 0, 'predicted_scores': [1.2509058713912964, 0.4269140958786011, -2.6445767879486084], 'predicted_label': 0}\n",
            "\n",
            "\n",
            "{'premise': \"Where alternative country runs into trouble is its tendency to ignore what's durable about country in favor of its stereotypical hay-bales-and-whiskey-bottles shtick.\", 'hypothesis': 'Alternative country is becoming more popular than the more stereotypical country.', 'label': 1, 'predicted_scores': [-0.5365393757820129, 0.3831626772880554, 0.0612776055932045], 'predicted_label': 1}\n",
            "\n",
            "\n",
            "{'premise': 'The Shore Temple, which has withstood the wind and the waves for 12 centuries, is made up of two shrines.', 'hypothesis': 'The Shore Temple has been lost to time. ', 'label': 2, 'predicted_scores': [-2.771059274673462, 0.07912534475326538, 2.4679856300354004], 'predicted_label': 2}\n",
            "\n",
            "\n",
            "{'premise': \"kind of kind of nothing i won't have anything to do with\", 'hypothesis': \"I don't want anything to do with it, no doubts about it.\", 'label': 0, 'predicted_scores': [1.0938489437103271, 0.5441949963569641, -2.585667848587036], 'predicted_label': 0}\n",
            "\n",
            "\n",
            "{'premise': 'She gave the girl clothes and gifts and took her to her Connecticut estate for weekend pony rides, according to the Star . How was I supposed to compete with that?', 'hypothesis': \"She gave the girl clothes, gifts and pony rides. That's hard to compete with.\", 'label': 0, 'predicted_scores': [0.9882034659385681, 0.21726897358894348, -1.964326024055481], 'predicted_label': 0}\n",
            "\n",
            "\n",
            "{'premise': 'And he claimed she earned $11,000 a month - or $132,000 a year - from a home quilting business she had owned for 22 years.', 'hypothesis': 'Quilting is a profitable hobby.', 'label': 1, 'predicted_scores': [0.2723517119884491, 1.635180115699768, -2.756423234939575], 'predicted_label': 1}\n",
            "\n",
            "\n",
            "{'premise': \"now you know the ball'll go straight and i go  i never broke a club or anything but you know i'd get upset about it sometimes and now i guess you know being in my forties i just kind of mellowed out a little bit i don't get upset any more so\", 'hypothesis': 'I used to get upset about it, but not anymore.', 'label': 0, 'predicted_scores': [1.8698532581329346, -1.6143100261688232, -0.9157698154449463], 'predicted_label': 0}\n",
            "\n",
            "\n",
            "{'premise': \"he's a college graduate type guy he's been in all he's an entrepreneur and he gives very practical financial advice about cars very you know not not nothing college level basic stuff his name is Bruce Williams he's on national radio uh i don't know what it would be down there you might want to whatever your radio talk shows are down there he's on that channel it's uh it's five seventy up here\", 'hypothesis': 'the entrepreneur advises people about the financial aspect of cars', 'label': 0, 'predicted_scores': [0.2780897319316864, 0.0185931995511055, -0.24487797915935516], 'predicted_label': 0}\n",
            "\n",
            "\n",
            "{'premise': 'I am so constituted as to be unable to give away money with any satisfaction until I have made the most careful inquiry as to the worthiness of the cause.', 'hypothesis': 'I have to research a cause carefully before donating money to it.', 'label': 0, 'predicted_scores': [1.2567059993743896, 0.3915746808052063, -2.6206939220428467], 'predicted_label': 0}\n",
            "\n",
            "\n",
            "{'premise': 'The policy succeeded, and I was fortunate to have had the opportunity to make that contribution to my people.', 'hypothesis': 'Because the policy was a success, I was able to make a contribution to my people.', 'label': 0, 'predicted_scores': [2.2778894901275635, 1.0162811279296875, -5.00025749206543], 'predicted_label': 0}\n",
            "\n",
            "\n",
            "{'premise': 'We hate them because they are smarter, or more studious, or more focused than we are.', 'hypothesis': 'We hold no ill will towards them.', 'label': 2, 'predicted_scores': [-0.4077983796596527, -0.931779682636261, 1.515626072883606], 'predicted_label': 2}\n",
            "\n",
            "\n",
            "{'premise': 'Strom Thurmond , R-S.C., celebrated his 95 th birthday by announcing that he will relinquish the chairmanship of the Senate Armed Services Committee a year from now.', 'hypothesis': 'On his 85 Birthday, Strom Thurmond announced he will be running for president.', 'label': 2, 'predicted_scores': [-0.19503261148929596, -0.37264278531074524, 0.7805930376052856], 'predicted_label': 2}\n",
            "\n",
            "\n",
            "{'premise': 'In 392 the Emperor Theodosius proclaimed Christianity to be the official religion of the Roman Empire, and on his death in 395 the empire was split once more, between his two sons, and was never again to be reunited.', 'hypothesis': 'The Emperor Theodosius, in 392, proclaimed Christianity to be the official religion of the Roman Empire.', 'label': 0, 'predicted_scores': [1.5780348777770996, -1.7256171703338623, -0.3286886513233185], 'predicted_label': 0}\n",
            "\n",
            "\n",
            "{'premise': \"For the beginner ' and for most others, too ' Beaune is the place to buy.\", 'hypothesis': 'Beaune is the best place to buy from for beginners.', 'label': 0, 'predicted_scores': [0.3739621043205261, -0.10032537579536438, -0.184727281332016], 'predicted_label': 0}\n",
            "\n",
            "\n",
            "{'premise': 'Lewis brought to the campaign the same intensity he had trained upon redneck troopers and sheriffs.', 'hypothesis': 'Lewis was a strict and obsessed with details perfectionist.', 'label': 1, 'predicted_scores': [-0.5328819751739502, 0.2807798981666565, 0.1970188021659851], 'predicted_label': 1}\n",
            "\n",
            "\n",
            "{'premise': 'Her voice was doubtful.', 'hypothesis': 'She sounded doubtful about it.', 'label': 0, 'predicted_scores': [1.5779815912246704, 0.9824338555335999, -3.897982358932495], 'predicted_label': 0}\n",
            "\n",
            "\n",
            "{'premise': \"Ca'daan closed the door behind them and retied the not.\", 'hypothesis': \"Ca'daan strode through the door, leaving it wide open as he began his speech to the assembled nobles.\", 'label': 2, 'predicted_scores': [-3.504335641860962, 0.3251243829727173, 2.824392080307007], 'predicted_label': 2}\n",
            "\n",
            "\n",
            "{'premise': 'how long has he been in his present position', 'hypothesis': 'How long has did he hold his last position?', 'label': 2, 'predicted_scores': [-0.45306554436683655, 0.050167325884103775, 0.4952806532382965], 'predicted_label': 2}\n",
            "\n",
            "\n",
            "{'premise': 'and you back in you know and or just pull into your spot and uh some you can rent by the year some you can rent daily or nightly or by the week or whatever', 'hypothesis': 'The only way of renting them is monthly.', 'label': 2, 'predicted_scores': [-1.211608648300171, 0.3088686466217041, 0.7832021117210388], 'predicted_label': 2}\n",
            "\n",
            "\n",
            "{'premise': \"Ca'daan saw confidence flow back into the young man.\", 'hypothesis': 'The young man became more confident.', 'label': 0, 'predicted_scores': [1.7593517303466797, -0.31737154722213745, -2.4357502460479736], 'predicted_label': 0}\n",
            "\n",
            "\n",
            "{'premise': 'Yet Mrs. Inglethorp ordered a fire! ', 'hypothesis': 'Mrs. Inglethorp asked for a fire in spite of that.', 'label': 0, 'predicted_scores': [0.8039513230323792, 0.4037148058414459, -1.9375848770141602], 'predicted_label': 0}\n",
            "\n",
            "\n",
            "{'premise': \"I am glad she wasn't, said Jon.\", 'hypothesis': \"Jon was sad that she wasn't happy. \", 'label': 1, 'predicted_scores': [0.10374114662408829, 1.1877460479736328, -1.9291080236434937], 'predicted_label': 1}\n",
            "\n",
            "\n",
            "{'premise': \"yeah that's that's a big step yeah\", 'hypothesis': 'Yes, you have to be committed to make that big step.', 'label': 1, 'predicted_scores': [-0.03529070317745209, 0.3584461808204651, -0.5273799896240234], 'predicted_label': 1}\n",
            "\n",
            "\n",
            "{'premise': \"no that's true and and and Lord knows with that legislature up there they probably did all kinds of things while he wasn't looking\", 'hypothesis': 'The Legislature always acts responsibly.', 'label': 2, 'predicted_scores': [-0.9446007609367371, 0.2920679450035095, 0.5655962824821472], 'predicted_label': 2}\n",
            "\n",
            "\n",
            "{'premise': \"It's conceivable that some of these allegations are true, and there's no harm in checking them out, as long as the decedent's family agrees to participate.\", 'hypothesis': 'Some of the allegations might be true.', 'label': 0, 'predicted_scores': [1.5182158946990967, 1.4480540752410889, -4.350651264190674], 'predicted_label': 0}\n",
            "\n",
            "\n",
            "{'premise': 'The Congress also told LSC that it could not continue to fund its grantees presumptively and that it must begin to distribute its funds on a competitive basis.', 'hypothesis': 'LSC was told by Congress no longer could grantees be funded presumptively and funds have to be distributed on a basis that is competitive. ', 'label': 0, 'predicted_scores': [1.7078262567520142, -1.3210517168045044, -0.9279698133468628], 'predicted_label': 0}\n",
            "\n",
            "\n",
            "{'premise': 'Keep young skins safe by covering them with sunblock or a T-shirt, even when in the water.', 'hypothesis': 'Sunblock is an unnecessary precaution if you are in the water.', 'label': 2, 'predicted_scores': [-0.3586755096912384, -0.1406741738319397, 0.7067978382110596], 'predicted_label': 2}\n",
            "\n",
            "\n",
            "{'premise': 'Three more days went by in dreary inaction.', 'hypothesis': 'The days passed by slowly.', 'label': 1, 'predicted_scores': [-0.046811748296022415, 0.20307496190071106, -0.19483289122581482], 'predicted_label': 1}\n",
            "\n",
            "\n",
            "{'premise': \"and when they get out they should have uh i don't know you know some reasonable amount of money\", 'hypothesis': 'They should have ample financial capacity upon release.', 'label': 0, 'predicted_scores': [0.6284084916114807, -0.20122331380844116, -0.5031128525733948], 'predicted_label': 0}\n",
            "\n",
            "\n",
            "{'premise': \"When Jesus was born in about 4 b.c. , Joseph and Mary escaped Herod's paranoia by fleeing into Egypt with the new-born infant.\", 'hypothesis': 'The flight to Egypt and the precise timeline have been debated by historians for centuries.', 'label': 1, 'predicted_scores': [-2.6955370903015137, 1.2898435592651367, 0.9882990121841431], 'predicted_label': 1}\n",
            "\n",
            "\n",
            "{'premise': 'His diet was of wheaten bread,', 'hypothesis': 'He ate mostly carbohydrates in the form of bread.', 'label': 0, 'predicted_scores': [1.3748369216918945, -0.22554874420166016, -1.882595419883728], 'predicted_label': 0}\n",
            "\n",
            "\n",
            "{'premise': 'The Praya, the promenade in front of the ferry pier, is a good place to observe the many junks and fishing boats in the harbor.', 'hypothesis': 'The fishing boats make a big commotion in the harbor that can be heard from the Praya.', 'label': 1, 'predicted_scores': [-1.028105616569519, 1.6701003313064575, -1.025273084640503], 'predicted_label': 1}\n",
            "\n",
            "\n",
            "{'premise': \"It's absurd but I can't help it. Sir James nodded again.\", 'hypothesis': \"Sir James thinks it's absurd to feel this way, but can't shake the feeling.\", 'label': 1, 'predicted_scores': [0.2756476402282715, 0.9690910577774048, -1.8997315168380737], 'predicted_label': 1}\n",
            "\n",
            "\n",
            "{'premise': \"because the cold weather was just simply trapped along the ground and couldn't get away\", 'hypothesis': 'The weather stayed for much too long.', 'label': 1, 'predicted_scores': [-0.9104840159416199, 0.45654717087745667, 0.3277001678943634], 'predicted_label': 1}\n",
            "\n",
            "\n",
            "{'premise': \"that would be good what'd you say\", 'hypothesis': 'Write down what you would say.', 'label': 1, 'predicted_scores': [0.13749170303344727, 0.14775946736335754, -0.37394094467163086], 'predicted_label': 1}\n",
            "\n",
            "\n",
            "{'premise': 'The entire setup has an anti-competitive, anti-entrepreneurial flavor that rewards political lobbying rather than good business practices.', 'hypothesis': 'The setup rewards good business practices.', 'label': 2, 'predicted_scores': [-0.14031748473644257, -1.0171295404434204, 1.307329773902893], 'predicted_label': 2}\n",
            "\n",
            "\n",
            "{'premise': '7) Nonautomated First-Class and Standard-A mailers have the option of requesting that their mail be processed manually, even though the costs for such processing are substantially higher than mechanized processing.', 'hypothesis': 'Nonautomated First-Class and Standard-A mailers can ask for their mail to be processed by hand, though it costs the postal service 40% more.', 'label': 1, 'predicted_scores': [-1.4834411144256592, 0.9239299893379211, 0.30469170212745667], 'predicted_label': 1}\n",
            "\n",
            "\n",
            "{'premise': '(The employee was later rehired, and Bob denies the charge.)', 'hypothesis': 'The employee got their job back.', 'label': 0, 'predicted_scores': [0.4491506814956665, -0.026623714715242386, -0.5530897974967957], 'predicted_label': 0}\n",
            "\n",
            "\n",
            "{'premise': 'But those that are manufactured for sale in in Europe and so forth are quite the other way around', 'hypothesis': 'Products are made with differently designed machines in Europe.', 'label': 1, 'predicted_scores': [0.026368912309408188, 0.14681094884872437, -0.1598411500453949], 'predicted_label': 1}\n",
            "\n",
            "\n",
            "{'premise': 'Treat yourself and bill it to Si.', 'hypothesis': 'Send the bill of your treat to Si. ', 'label': 0, 'predicted_scores': [1.784104585647583, -1.0765632390975952, -1.3835747241973877], 'predicted_label': 0}\n",
            "\n",
            "\n",
            "{'premise': \"But they also don't seem to mind when the tranquillity of a Zen temple rock garden is shattered by recorded announcements blaring from loudspeakers parroting the information already contained in the leaflets provided at the ticket office; when heavy-metal pop music loudly emanates from the radio of the middle-aged owner of a corner grocery store; and when parks, gardens, and hallowed temples are ringed by garish souvenir shops whose shelves display both the tastefully understated and the hideously kitsch.\", 'hypothesis': 'A Zen temple rock garden is a a place for lots of people to gather and celebrate.', 'label': 1, 'predicted_scores': [-1.8539279699325562, 2.174082040786743, -0.6833885312080383], 'predicted_label': 1}\n",
            "\n",
            "\n",
            "{'premise': \"yeah its too open yeah and there's uh they have got some forty to fifty foot high cliffs around Possum Kingdom and you just get up and ski uh adjacent to those and uh and it doesn't make any difference how windy it is you don't notice it\", 'hypothesis': 'Possum Kingdom attracts lots of skiers from all over the world.', 'label': 1, 'predicted_scores': [-0.9987118244171143, 0.864898145198822, -0.09411345422267914], 'predicted_label': 1}\n",
            "\n",
            "\n",
            "{'premise': \"have that well and it doesn't seem like very many people uh are really i mean there's a lot of people that are on death row but there's not very many people that actually um do get killed\", 'hypothesis': 'There are a lot of people on death row, but not that many actually are executed.', 'label': 0, 'predicted_scores': [0.7396147847175598, -0.934634804725647, 0.10845625400543213], 'predicted_label': 0}\n",
            "\n",
            "\n",
            "{'premise': 'Penrith and Blencathra are also Celtic names, established during this early period of settlement.', 'hypothesis': 'Penrith and Blencathra are names which go back to ancient Rome.', 'label': 2, 'predicted_scores': [-2.2963595390319824, 0.8760160207748413, 1.0870842933654785], 'predicted_label': 2}\n",
            "\n",
            "\n",
            "{'premise': \"The director, Michael Mann, has never tried to tell a story as complex (or nonviolent) as The Insider , and he and his co-screenwriter, Eric Roth, don't shape their narrative very satisfyingly.\", 'hypothesis': 'Michael Mann directed it.', 'label': 0, 'predicted_scores': [1.6846083402633667, -1.0407382249832153, -1.2489913702011108], 'predicted_label': 0}\n",
            "\n",
            "\n",
            "{'premise': \"my goodness it's hard to believe i didn't think there was anybody in the country who hadn't seen that one\", 'hypothesis': 'I thought everyone in the US had already seen that movie. ', 'label': 1, 'predicted_scores': [-2.3105721473693848, 2.3250632286071777, -0.3548958897590637], 'predicted_label': 1}\n",
            "\n",
            "\n",
            "{'premise': 'There are certain categories of control activities that are common to all agencies.', 'hypothesis': 'Control activities such as safe business practices are universally common across all agencies.', 'label': 1, 'predicted_scores': [-0.749123752117157, 0.42197906970977783, 0.2159734070301056], 'predicted_label': 1}\n",
            "\n",
            "\n",
            "{'premise': 'High Crimes is painfully shoddy, even for a book rushed to press.', 'hypothesis': 'High Crimes is a poor book and is not excused by being rushed to press. ', 'label': 0, 'predicted_scores': [0.27777305245399475, 0.03976897522807121, -0.33210524916648865], 'predicted_label': 0}\n",
            "\n",
            "\n",
            "{'premise': \"i think there would be an awful lot of resentment and um i i really don't think it would be feasible on our country\", 'hypothesis': \"I think it would lead to resentment and it's not something that is feasible for the country. \", 'label': 0, 'predicted_scores': [1.9859782457351685, -1.229533314704895, -1.543363094329834], 'predicted_label': 0}\n",
            "\n",
            "\n",
            "{'premise': \"And it needs work too, you know, in case I have to jump out with this parachute from my lil' blue sports plane for real.'\", 'hypothesis': 'It needs to work Incase he needs to jump out of a small window.', 'label': 2, 'predicted_scores': [-1.4840354919433594, 0.19384613633155823, 1.1907628774642944], 'predicted_label': 2}\n",
            "\n",
            "\n",
            "{'premise': 'you know it took away a lot of of time from them we did go out to you know to the places that you typically take children to and we had a lot of fun but it seems as though the time went by so fast that', 'hypothesis': 'Time went by fast and we went golfing with the kids.', 'label': 1, 'predicted_scores': [-1.4464244842529297, 0.7563850283622742, 0.46218374371528625], 'predicted_label': 1}\n",
            "\n",
            "\n",
            "{'premise': \"life in prison then he's available for parole if it's if it's life and a day then he's not eligible for parole so what you know let's quit BSing with the system\", 'hypothesis': \"The system is corrupt because he won't be able to get parole if it's life and a day.\", 'label': 1, 'predicted_scores': [-0.3436864912509918, 1.157701849937439, -1.2392557859420776], 'predicted_label': 1}\n",
            "\n",
            "\n",
            "{'premise': 'Two economists at Virginia Commonwealth University--yes, here are the economists again, but this time making a more plausible argument--studied millions of auto-accident claims filed between 1989 and 1993.', 'hypothesis': 'The researchers contacted insurers for the data from 1989 and 1993.', 'label': 1, 'predicted_scores': [-0.24992786347866058, 0.7577595114707947, -0.839591383934021], 'predicted_label': 1}\n",
            "\n",
            "\n",
            "{'premise': \"and these poor guys out there uh trying to uphold the law um i don't know i kind of think they should bring back capital punishment\", 'hypothesis': 'If I were tasked with upholding the law, I would retire.', 'label': 1, 'predicted_scores': [-0.16694682836532593, 0.14996537566184998, 0.0965852439403534], 'predicted_label': 1}\n",
            "\n",
            "\n",
            "{'premise': \"On the second point, Judge Newton said in a recent interview, I've heard this complaint a hundred times.\", 'hypothesis': 'Judge Newton was not convinced by the second point.', 'label': 1, 'predicted_scores': [-0.39346498250961304, 0.7488297820091248, -0.625877320766449], 'predicted_label': 1}\n",
            "\n",
            "\n",
            "{'premise': 'This tourist heartland is also home to 100,000 Jamaicans who live in the hills surrounding the town.', 'hypothesis': 'Beautiful white beaches are the reason this town is so popular with tourists.', 'label': 1, 'predicted_scores': [-2.4725303649902344, 2.0575191974639893, 0.04195006191730499], 'predicted_label': 1}\n",
            "\n",
            "\n",
            "{'premise': \"i wonder how they kept up with them though it seemed like the buffaloes were moving so fast i guess they graze though that wouldn't have been a problem\", 'hypothesis': \"The buffaloes didn't stop to graze for a long time.\", 'label': 1, 'predicted_scores': [-1.2042194604873657, 1.3163095712661743, -0.37091782689094543], 'predicted_label': 1}\n",
            "\n",
            "\n",
            "{'premise': 'He wanted silk and encouraged the Dutch and British as good, nonproselytizing Protestants just interested in trade.', 'hypothesis': 'He found that silk was perfect for the rich.', 'label': 1, 'predicted_scores': [-1.32252037525177, 1.1551870107650757, -0.09220481663942337], 'predicted_label': 1}\n",
            "\n",
            "\n",
            "{'premise': 'There was no longer any  when you wanted some unbridled adult fun, Las Vegas was the place to be.', 'hypothesis': 'Las Vegas was the destination for pure fun for adults.', 'label': 0, 'predicted_scores': [0.7262680530548096, -0.8842912912368774, 0.08284111320972443], 'predicted_label': 0}\n",
            "\n",
            "\n",
            "{'premise': 'Slate could have put someone with a reasonable grasp of elementary finance and a balanced viewpoint in charge of writing a tax piece.', 'hypothesis': 'Slate has incompetent people write their tax pieces.', 'label': 1, 'predicted_scores': [-1.0689802169799805, 1.638100504875183, -0.9276171922683716], 'predicted_label': 1}\n",
            "\n",
            "\n",
            "{'premise': 'The great attraction of the church is the splendid exterior, which is crowned by golden onion-shaped cupolas.', 'hypothesis': 'Most people come to the church to see the beautiful exterior.', 'label': 0, 'predicted_scores': [1.459177017211914, 0.1788453459739685, -2.6681625843048096], 'predicted_label': 0}\n",
            "\n",
            "\n",
            "{'premise': 'Some 72,000 volcano-zone residents were evacuated at great cost to the French government.', 'hypothesis': '720,000 volcano-zone residents were evacuated at the expense of the French government.', 'label': 2, 'predicted_scores': [0.40152329206466675, -1.533265471458435, 1.0830323696136475], 'predicted_label': 2}\n",
            "\n",
            "\n",
            "{'premise': 'With dark eyes and eyelashes she would have been a beauty. ', 'hypothesis': \"She would have been gorgeous if she'd not had such light colored eyes.\", 'label': 0, 'predicted_scores': [0.5649475455284119, 0.48923584818840027, -1.6516956090927124], 'predicted_label': 0}\n",
            "\n",
            "\n",
            "{'premise': 'In the moment of victory, Tuppence betrayed a somewhat unsportsmanlike triumph.', 'hypothesis': 'Tuppence was not very gracious when she won.', 'label': 0, 'predicted_scores': [0.2800920605659485, 0.12993039190769196, -0.6041865944862366], 'predicted_label': 0}\n",
            "\n",
            "\n",
            "{'premise': 'Yes, Elizabeth Taylor, Norman Mailer, Warren Beatty, David Rockefeller, and Mick Jagger will go to a nightclub, but only if they are reasonably certain that Diana Ross, William F. Buckley Jr., Salvador Dali, Betty Ford, Frank Sinatra, Mikhail Baryshnikov, and the king of Cyprus will show up too--and vice versa.', 'hypothesis': 'A group of celebrities will be at the nightclub as long as another specific group is there. ', 'label': 0, 'predicted_scores': [2.0961689949035645, 0.11912842094898224, -3.6161611080169678], 'predicted_label': 0}\n",
            "\n",
            "\n",
            "{'premise': 'Two, most other productive operations are easier to study and understand, since few firms have 40,000 locations and a large proportion of their workforce working outdoors.', 'hypothesis': \"The productivity of the operations is directly related to the workforce that's based outdoors.\", 'label': 1, 'predicted_scores': [-0.4319869875907898, 0.6912422180175781, -0.5009150505065918], 'predicted_label': 1}\n",
            "\n",
            "\n",
            "{'premise': 'right and that was back in nineteen fifty nine', 'hypothesis': 'It was in the month of August.', 'label': 1, 'predicted_scores': [-2.8212859630584717, 1.9122995138168335, 0.5008893013000488], 'predicted_label': 1}\n",
            "\n",
            "\n",
            "{'premise': 'Instead, we could recommend that, compared with other settings, the prevalence of alcohol problems among ED patients makes it worthy of careful consideration.', 'hypothesis': 'The vast majority of ED patients also suffer from alcohol dependency issues.', 'label': 1, 'predicted_scores': [-0.3712724447250366, 0.5626142621040344, -0.3710821866989136], 'predicted_label': 1}\n",
            "\n",
            "\n",
            "{'premise': 'Jon shifted and the sword tip slid past.', 'hypothesis': 'John dodged the tip of the sword.', 'label': 0, 'predicted_scores': [0.47689738869667053, -0.11749205738306046, -0.3562548756599426], 'predicted_label': 0}\n",
            "\n",
            "\n",
            "{'premise': 'to do it before you know before it gets hot and one time last year i remember we were planning on doing that and it was eighty degrees even then', 'hypothesis': 'Last year we were planning on doing that, but it was already 80 degrees. ', 'label': 0, 'predicted_scores': [0.6459531784057617, -0.16512274742126465, -0.5325108766555786], 'predicted_label': 0}\n",
            "\n",
            "\n",
            "{'premise': 'He appropriated for the State much of the personal fortunes of the princes, but found it harder to curtail the power of land-owners who had extensive contacts with the more conservative elements in his Congress Party.', 'hypothesis': \"He had an easy time of taking money from land-owners in contact with his Congress Party, but couldn't get his hands on the fortunes of individual princes.\", 'label': 2, 'predicted_scores': [-0.10673119127750397, -0.6998927593231201, 0.9829078912734985], 'predicted_label': 2}\n",
            "\n",
            "\n",
            "{'premise': 'Postal Service could increase those same rates by at least 13.', 'hypothesis': 'The Postal Service would like to see the rates even higher than that.', 'label': 1, 'predicted_scores': [0.45643702149391174, 0.7294424772262573, -1.8509315252304077], 'predicted_label': 1}\n",
            "\n",
            "\n",
            "{'premise': 'But you will find it all right.\"', 'hypothesis': 'You will find it acceptable.', 'label': 0, 'predicted_scores': [0.24854148924350739, -0.011508174240589142, -0.11841058731079102], 'predicted_label': 0}\n",
            "\n",
            "\n",
            "{'premise': 'There is.', 'hypothesis': 'There sure is.', 'label': 0, 'predicted_scores': [0.8163437843322754, 0.21885937452316284, -1.6816668510437012], 'predicted_label': 0}\n",
            "\n",
            "\n",
            "{'premise': 'Students of human misery can savor its underlying sadness and futility.', 'hypothesis': 'Students of human misery will be delighted to see how sad it truly is.', 'label': 0, 'predicted_scores': [0.8295103907585144, 0.5588058233261108, -2.1804423332214355], 'predicted_label': 0}\n",
            "\n",
            "\n",
            "{'premise': \"and my and my part-time work you know it's not our the restaurant our favorite restaurant in the town of Salisbury where actually we live you know where my where i'll return to my job or whatever we can normally eat out for um under fourteen dollars\", 'hypothesis': 'My first part time job was in a restaurant in Salisbury where you could eat out for under $14.', 'label': 1, 'predicted_scores': [0.11550936102867126, 1.2252196073532104, -1.9836395978927612], 'predicted_label': 1}\n",
            "\n",
            "\n",
            "{'premise': 'Over their backs fell the cutting lashes of a whip.', 'hypothesis': 'They received many lashes with a whip.', 'label': 0, 'predicted_scores': [1.3555065393447876, 0.5919457077980042, -3.0582146644592285], 'predicted_label': 0}\n",
            "\n",
            "\n",
            "{'premise': \"although the uh it's uh it we almost one day we painted the house to uh we painted we painted the whole inside and it had all this dark trim we thought uh you know we did the one wall but the other trim i'm trying to think i think i think we left most of it because it gets to be uh they don't do that in the newer houses now we don't the uh mold everything is white in a new house everything is white\", 'hypothesis': 'It took over a day to paint the house', 'label': 1, 'predicted_scores': [-0.1948980987071991, 1.1728070974349976, -1.5042515993118286], 'predicted_label': 1}\n",
            "\n",
            "\n",
            "{'premise': \"it's actually there well Iraq has had uh designs on that place since nineteen twenty two so you know it wasn't like something that just suddenly popped up\", 'hypothesis': 'Many Iraqis feel like that place was unfairly taken away from them.', 'label': 1, 'predicted_scores': [-0.32664090394973755, 1.2304097414016724, -1.3885431289672852], 'predicted_label': 1}\n",
            "\n",
            "\n",
            "{'premise': 'Click Friedrich Hayek ring to go ...', 'hypothesis': 'Clicking will bring you to the next site.', 'label': 1, 'predicted_scores': [-0.24671107530593872, 0.9539123177528381, -1.1358734369277954], 'predicted_label': 1}\n",
            "\n",
            "\n",
            "{'premise': 'Since The Bell Curve was published, it has become clear that almost everything about it was inexcusably  suspect data, mistakes in statistical procedures that would have flunked a sophomore (Murray--Herrnstein is deceased--clearly does not understand what a correlation coefficient means), deliberate suppression of contrary evidence, you name it.', 'hypothesis': 'The Bell Curve is based on faulty data and unethical work.', 'label': 0, 'predicted_scores': [0.9016036987304688, -0.06279076635837555, -1.3296475410461426], 'predicted_label': 0}\n",
            "\n",
            "\n",
            "{'premise': \"He dismounted and Ca'daan saw he was smaller than the rest.\", 'hypothesis': 'He was shorter than the others.', 'label': 0, 'predicted_scores': [0.5226346254348755, -0.2709541916847229, -0.2218794822692871], 'predicted_label': 0}\n",
            "\n",
            "\n",
            "{'premise': 'They keep romance and marriage apart  \" Tommy flushed.', 'hypothesis': \"Tommy said they don't mix romance and marriage and they have a good relationship.\", 'label': 1, 'predicted_scores': [-0.8633574843406677, 1.9680124521255493, -1.5886634588241577], 'predicted_label': 1}\n",
            "\n",
            "\n",
            "{'premise': 'He and his wife had lived at Styles Court in every luxury, surrounded by her care and attention. ', 'hypothesis': 'She lived in poverty and squalor at Styles Court.', 'label': 2, 'predicted_scores': [-0.3220590353012085, -0.13717511296272278, 0.6613776087760925], 'predicted_label': 2}\n",
            "\n",
            "\n",
            "{'premise': \"although the uh it's uh it we almost one day we painted the house to uh we painted we painted the whole inside and it had all this dark trim we thought uh you know we did the one wall but the other trim i'm trying to think i think i think we left most of it because it gets to be uh they don't do that in the newer houses now we don't the uh mold everything is white in a new house everything is white\", 'hypothesis': 'It takes a day to paint the house.', 'label': 1, 'predicted_scores': [0.07514836639165878, 0.5485947132110596, -1.008346438407898], 'predicted_label': 1}\n",
            "\n",
            "\n",
            "{'premise': 'If the data from a series of tests performed with the same toxicant, toxicant concentrations, and test species, were analyzed with hypothesis tests, precision could only be assessed by a qualitative comparison of the NOEC-LOEC intervals, with the understanding that maximum precision would be attained if all tests yielded the same NOEC-LOEC interval.', 'hypothesis': 'They needed various data to test for toxicants.', 'label': 0, 'predicted_scores': [0.5126368999481201, -0.09817670285701752, -0.4853467345237732], 'predicted_label': 0}\n",
            "\n",
            "\n",
            "{'premise': 'Who are these sons of eggs?', 'hypothesis': 'I know exactly who these sons of eggs are.', 'label': 2, 'predicted_scores': [-0.9968454241752625, 0.18113315105438232, 0.7750611305236816], 'predicted_label': 2}\n",
            "\n",
            "\n",
            "{'premise': 'I want you to mark him.', 'hypothesis': 'I want you to brand him with an iron.', 'label': 1, 'predicted_scores': [-1.2200729846954346, 0.530858039855957, 0.5068308711051941], 'predicted_label': 1}\n",
            "\n",
            "\n",
            "{'premise': 'medical and surgical expense coverage.', 'hypothesis': 'The expenses covered mentioned only pharmaceutical', 'label': 2, 'predicted_scores': [-2.1840178966522217, 0.0061029354110360146, 2.032740831375122], 'predicted_label': 2}\n",
            "\n",
            "\n",
            "{'premise': 'Weicker has yet to declare his intentions.', 'hypothesis': 'Weicker has already declared his intentions to the staff.', 'label': 2, 'predicted_scores': [-2.4591474533081055, 0.3191450536251068, 1.8769447803497314], 'predicted_label': 2}\n",
            "\n",
            "\n",
            "{'premise': 'but like they always say you know got a good profit sharing plan just no profit', 'hypothesis': 'This profit sharing plan sounds like a scam.', 'label': 1, 'predicted_scores': [-1.0770636796951294, 0.7799921631813049, 0.09049145877361298], 'predicted_label': 1}\n",
            "\n",
            "\n",
            "{'premise': 'Ile de R??', 'hypothesis': 'Ile de R is no longer part of the attraction.', 'label': 1, 'predicted_scores': [-0.5973867177963257, 0.29824891686439514, 0.251288503408432], 'predicted_label': 1}\n",
            "\n",
            "\n",
            "{'premise': \"more than anything else in this day and age that's got to be a big factor in your decision's just the the cost of how much you're gonna pay\", 'hypothesis': 'In your decisions age is a big factor, and I agree with you thoughts', 'label': 1, 'predicted_scores': [-0.03494590148329735, 0.6709902286529541, -1.0420939922332764], 'predicted_label': 1}\n",
            "\n",
            "\n",
            "{'premise': ' The Romans never really infiltrated Ibiza, and even after the defeat of Hannibal in 202 b.c. during the Second Punic War their influence was restrained.', 'hypothesis': \"The Romans didn't infiltrate Ibiza because it wasn't valuable.\", 'label': 1, 'predicted_scores': [-1.4652773141860962, 1.265959620475769, -0.06868748366832733], 'predicted_label': 1}\n",
            "\n",
            "\n",
            "{'premise': 'Ricky Martin was filming his triumphant return to the gay porn industry.', 'hypothesis': 'Ricky Martin is heterosexual.', 'label': 2, 'predicted_scores': [-0.40585577487945557, -0.3113493025302887, 0.9369879961013794], 'predicted_label': 2}\n",
            "\n",
            "\n",
            "{'premise': \"This breakdown of PA-Israeli cooperation is the basis for the Israeli complaint that Arafat is culpable for last week's Jerusalem bombing.\", 'hypothesis': 'This breakdown of PA-Israeli cooperation is the basis for Israeli complaints that Arafat is culpable for last weeks Jerusalem bombing and the ones before it.', 'label': 1, 'predicted_scores': [0.3156113624572754, 1.9268794059753418, -3.13972544670105], 'predicted_label': 1}\n",
            "\n",
            "\n",
            "{'premise': 'Keep young skins safe by covering them with sunblock or a T-shirt, even when in the water.', 'hypothesis': 'The sun is usually intense there, causing sunburn easily.', 'label': 1, 'predicted_scores': [-1.7159554958343506, 0.8777505159378052, 0.5614196062088013], 'predicted_label': 1}\n",
            "\n",
            "\n",
            "{'premise': 'The first installment of the Star Wars Trilogy Special Edition opened in theaters everywhere.', 'hypothesis': 'Pirates of the Caribbean is also in theaters.  ', 'label': 1, 'predicted_scores': [-2.577843189239502, 1.3652526140213013, 0.8239843845367432], 'predicted_label': 1}\n",
            "\n",
            "\n",
            "{'premise': 'That story remains to be told.', 'hypothesis': 'The story has not been told yet.', 'label': 0, 'predicted_scores': [2.092837333679199, -1.5634510517120361, -1.3054007291793823], 'predicted_label': 0}\n",
            "\n",
            "\n",
            "{'premise': \"i quit i quit drinking at oh a long time ago quit drinking i didn't smoke i don't smoke i gave everything up so i guess i don't know what just old age i guess is why i\", 'hypothesis': 'I quit drinking and smoking an felt better but I guess it is just old age.', 'label': 1, 'predicted_scores': [-0.22867226600646973, 0.3396373689174652, -0.2033284604549408], 'predicted_label': 1}\n",
            "\n",
            "\n",
            "{'premise': 'The interior of the palace is very dark, and the use of flash is forbidden, so photographers should think twice before paying the extra fee for bringing in a camera or video equipment.', 'hypothesis': 'Think hard about whether or not you want to bring a camera, there is an extra fee and no flash allowed.', 'label': 0, 'predicted_scores': [1.5627492666244507, -1.062299132347107, -1.0386896133422852], 'predicted_label': 0}\n",
            "\n",
            "\n",
            "{'premise': \"In fact, you're going to be rewarded.\", 'hypothesis': 'They did not think they deserved to be rewarded.', 'label': 1, 'predicted_scores': [-0.16241134703159332, 0.2976822555065155, -0.20813925564289093], 'predicted_label': 1}\n",
            "\n",
            "\n",
            "{'premise': 'For example, computers and related equipment have an estimated annual depreciation rate of 31 percent,7 and new versions of software applications are released every few years.', 'hypothesis': \"Computers will not be able to function to a business' standards once the equipment is 7 years old.\", 'label': 1, 'predicted_scores': [-0.582870602607727, 0.627282440662384, -0.20212560892105103], 'predicted_label': 1}\n",
            "\n",
            "\n",
            "{'premise': 'Beyond the Quantitative Cul-de- A Qualitative Perspective on Youth Employment Programs.', 'hypothesis': 'The paper says youth employment programs are helpful.', 'label': 1, 'predicted_scores': [0.2859165370464325, 1.1777039766311646, -2.1849184036254883], 'predicted_label': 1}\n",
            "\n",
            "\n",
            "{'premise': 'The Government does not sacrifice anything of value in exchange and the entity that forfeits the property does not receive anything of value.', 'hypothesis': 'Approximately 300 people forcibly forfeited their property in 2015.', 'label': 1, 'predicted_scores': [-3.2572760581970215, 2.650698184967041, 0.1723972111940384], 'predicted_label': 1}\n",
            "\n",
            "\n",
            "{'premise': \"yes they would they just wouldn't be able to own the kind of automobiles that they think they deserve to own or the kind of homes that we think we deserve to own we might have to you know just be able to i think if we a generation went without debt then the next generation like if if our our generation my husband and i we're twenty eight if we lived our lives and didn't become you know indebted like you know our generation before us that um the budget would balance and that we became accustomed to living with what we could afford which we wouldn't be destitute i mean we wouldn't be living on the street by any means but just compared to how spoiled we are we would be in our own minds but i feel like the generation after us would oh man it it would be so good it would be so much better it wouldn't be perfect but then they could learn to live with what what they could afford to save to buy and if you want a nicer car than that well you save a little longer\", 'hypothesis': 'Society would be perfect and there would be no more war if we could just rid ourselves of our debt.', 'label': 1, 'predicted_scores': [-0.6038227081298828, 0.6753904819488525, -0.23311083018779755], 'predicted_label': 1}\n",
            "\n",
            "\n",
            "{'premise': 'He wanted silk and encouraged the Dutch and British as good, nonproselytizing Protestants just interested in trade.', 'hypothesis': 'He made out the British and Dutch to be just interested in trading.', 'label': 0, 'predicted_scores': [0.9892760515213013, -0.4498041272163391, -0.7725916504859924], 'predicted_label': 0}\n",
            "\n",
            "\n",
            "{'premise': 'If that investor were willing to pay extra for the security of limited downside, she could buy put options with a strike price of $98, which would lock in her profit on the shares at $18, less whatever the options cost.', 'hypothesis': \"The strike price of Lowe's stock could be $98.\", 'label': 1, 'predicted_scores': [-0.6463416218757629, 0.5413040518760681, -0.04425818473100662], 'predicted_label': 1}\n",
            "\n",
            "\n",
            "{'premise': 'with little back packs of their own and you know things like that', 'hypothesis': \"I'm not sure they're old enough to have back packs.\", 'label': 1, 'predicted_scores': [0.02635124698281288, 0.1617709994316101, -0.2091967612504959], 'predicted_label': 1}\n",
            "\n",
            "\n",
            "{'premise': 'Kentucky officials say there is a virtual epidemic of abusive relationships in the state.', 'hypothesis': 'There is a lot of domestic abuse in Kentucky.', 'label': 0, 'predicted_scores': [1.9140238761901855, -0.1296376883983612, -2.970457077026367], 'predicted_label': 0}\n",
            "\n",
            "\n",
            "{'premise': \"and the professors who go there and you're not going to see the professors you know you're going to see some TA you know uh\", 'hypothesis': \"You're going to see the TAs more than the professors.\", 'label': 0, 'predicted_scores': [0.44185730814933777, -0.16915294528007507, -0.2004024237394333], 'predicted_label': 0}\n",
            "\n",
            "\n",
            "{'premise': 'and for regular readers who are a bit confused about our schedule (and who can blame them?)', 'hypothesis': 'who can blame who greatly appreciates our schedule?', 'label': 2, 'predicted_scores': [-0.0643695816397667, 0.03709866851568222, 0.19812926650047302], 'predicted_label': 2}\n",
            "\n",
            "\n",
            "{'premise': \"These 900 hectares (2,224 acres) of parkland on the western edge of the city constitute one of Baron Haussmann's happier achievements.\", 'hypothesis': 'Baron Haussmann regrets implementing the 900 hectares of parkland on the western edge of the city.', 'label': 2, 'predicted_scores': [-1.4905529022216797, 0.1618959605693817, 1.2212592363357544], 'predicted_label': 2}\n",
            "\n",
            "\n",
            "{'premise': 'A proserous tourist district, it is full of shopping centers and department stores, along with a number of good restaurants.', 'hypothesis': 'The rich tourist district has shopping centers and a good number of restaurants.  ', 'label': 0, 'predicted_scores': [1.4078893661499023, 0.2335127294063568, -2.6532623767852783], 'predicted_label': 0}\n",
            "\n",
            "\n",
            "{'premise': \"i always wait for the movie i don't have time to read the book\", 'hypothesis': 'The movie is always better than the book.', 'label': 1, 'predicted_scores': [-0.5741366147994995, 0.5033864974975586, -0.054987601935863495], 'predicted_label': 1}\n",
            "\n",
            "\n",
            "{'premise': \"News ' cover says the proliferation of small computer devices and the ascendance of Web-based applications are eroding Microsoft's dominance.\", 'hypothesis': 'Microsoft is losing its dominance due to the emergence of Web-based applications.', 'label': 0, 'predicted_scores': [1.2718181610107422, -0.049706101417541504, -2.015486240386963], 'predicted_label': 0}\n",
            "\n",
            "\n",
            "{'premise': \"'Have you Mr. Whittington's address in town? \", 'hypothesis': 'Is the address for Mr. Whittington located in town or in the country?', 'label': 1, 'predicted_scores': [-0.6326026320457458, 2.186957597732544, -2.177978277206421], 'predicted_label': 1}\n",
            "\n",
            "\n",
            "{'premise': 'The unintended side effect is radical, direct  In what other state do voters set the tax rates?', 'hypothesis': 'There is a radical side effect that was not intended, said the teacher.', 'label': 1, 'predicted_scores': [-1.2005289793014526, 1.210567831993103, -0.26632553339004517], 'predicted_label': 1}\n",
            "\n",
            "\n",
            "{'premise': \"yeah yeah i think well i know it's true you see a lot of that you know rally behind the female she may lose but by golly we're going to make a statement here\", 'hypothesis': 'It says something if people rally behind a female candidate, even if she loses.', 'label': 0, 'predicted_scores': [0.9813295006752014, 0.7224587202072144, -2.632140874862671], 'predicted_label': 0}\n",
            "\n",
            "\n",
            "{'premise': 'uh-huh oh yeah all the people for right uh life or something', 'hypothesis': 'yeah lots of people for the right life ', 'label': 0, 'predicted_scores': [0.9518438577651978, 0.8557187914848328, -2.7626397609710693], 'predicted_label': 0}\n",
            "\n",
            "\n",
            "{'premise': 'The seven grants flow from a new Nonprofit Capacity Building program at the foundation, part of a trend among philanthropists to give money to help organizations grow stronger, rather than to the program services they provide.', 'hypothesis': 'The grants flow from the Executive branch of the United States government.', 'label': 2, 'predicted_scores': [-3.02595853805542, 0.27800312638282776, 2.4450812339782715], 'predicted_label': 2}\n",
            "\n",
            "\n",
            "{'premise': 'Keep young skins safe by covering them with sunblock or a T-shirt, even when in the water.', 'hypothesis': 'Sunblock should be used to protect skin from the sun.', 'label': 0, 'predicted_scores': [0.8735774755477905, 0.7701503038406372, -2.526610851287842], 'predicted_label': 0}\n",
            "\n",
            "\n",
            "{'premise': 'Asked about abortion the other day on CNN, Republican National Committee Chairman Jim Nicholson also invoked what is apparently the party-line  inclusive party.', 'hypothesis': \"The Republican National Committee Chairman gave the party's standard answer on the subject of abortion when he was asked about it on CNN.\", 'label': 0, 'predicted_scores': [0.8921045064926147, 0.05540892481803894, -1.5380518436431885], 'predicted_label': 0}\n",
            "\n",
            "\n",
            "{'premise': \"and that you're very much right but the jury may or may not see it that way so you get a little anticipate you know anxious there and go well you know\", 'hypothesis': \"Jury's operate without the benefit of an education in law.\", 'label': 1, 'predicted_scores': [-1.2624315023422241, 1.6138137578964233, -0.6508451700210571], 'predicted_label': 1}\n",
            "\n",
            "\n",
            "{'premise': 'Information is the resource-extractive industry of the next century, and the concept of intellectual property --a term that dates back 150 years--comes up when individuals or companies assert a particular claim and embody it in the form of copyrights, trademarks, and patents.', 'hypothesis': 'The idea and term of intellectual property has been around for a while.', 'label': 0, 'predicted_scores': [2.0045385360717773, 0.4800388514995575, -3.935654401779175], 'predicted_label': 0}\n",
            "\n",
            "\n",
            "{'premise': 'There are actually three winding roads, or the Grande, the high road, starting out from the Avenue des Diables-Bleus in Nice; the Moyenne, the middle one, beginning at Place Max-Barel; and the Basse, along the coast from Boulevard Carnot, but usually jammed with traffic.', 'hypothesis': 'The Basse is a busy, winding road that runs along the coast.', 'label': 0, 'predicted_scores': [0.16215860843658447, 0.032582513988018036, -0.05529771000146866], 'predicted_label': 0}\n",
            "\n",
            "\n",
            "{'premise': 'It seeks genuine direct elections after a period that is sufficient to organize alternative parties and prepare a campaign based on freedom of speech and other civil rights, the right to have free trade unions, the release of more than 200 political prisoners, debt relief, stronger penalties for corruption and pollution, no amnesty for Suharto and his fellow thieves, and a respite for the poor from the hardest edges of economic reform.', 'hypothesis': 'Debt relief is the main motivator for people in this democracy. ', 'label': 1, 'predicted_scores': [0.1270972341299057, 0.1927070915699005, -0.4743565022945404], 'predicted_label': 1}\n",
            "\n",
            "\n",
            "{'premise': 'She hardly needs to mention it--the media bring it up anyway--but she invokes it subtly, alluding (as she did on two Sunday talk shows) to women who drive their daughters halfway across the state to shake my hand, a woman they dare to believe in.', 'hypothesis': 'She really needs to mention it', 'label': 2, 'predicted_scores': [-0.32964834570884705, -0.19316479563713074, 0.7209729552268982], 'predicted_label': 2}\n",
            "\n",
            "\n",
            "{'premise': 'and to have children and just get a day care or someone to take care of it and not really have the bonding process that takes place with babies and stuff you know', 'hypothesis': 'The day care is perfect for the children.', 'label': 1, 'predicted_scores': [-1.2885558605194092, 2.4526705741882324, -1.6560389995574951], 'predicted_label': 1}\n",
            "\n",
            "\n",
            "{'premise': 'It is constrained by laws and regulations formulated by Congress over more than two centuries.', 'hypothesis': 'Many of the laws and regulations are obsolete by now.', 'label': 1, 'predicted_scores': [-0.7160152196884155, 0.5834227800369263, -0.023488981649279594], 'predicted_label': 1}\n",
            "\n",
            "\n",
            "{'premise': 'The sculpture on the dome (a personification of Commerce) and the river gods (including Anna Livia, set over the main door) are by Edward Smyth, who was also responsible for the statues on the GPO .', 'hypothesis': 'The dome has a big marble sculpture of a dragon.', 'label': 1, 'predicted_scores': [-3.6402344703674316, 1.909566044807434, 1.2213709354400635], 'predicted_label': 1}\n",
            "\n",
            "\n",
            "{'premise': 'Though the two cities remained unlinked by rail, this was about to change quickly.', 'hypothesis': 'The railway between the two cities was completed 2 years later.', 'label': 1, 'predicted_scores': [-1.963381290435791, 1.0543923377990723, 0.6039963960647583], 'predicted_label': 1}\n",
            "\n",
            "\n",
            "{'premise': 'Unless the mention of the Ritz was an accidental remark?\"', 'hypothesis': 'Was mentioning the Ritz accidental?', 'label': 0, 'predicted_scores': [1.5840519666671753, -1.2238363027572632, -0.8513869047164917], 'predicted_label': 0}\n",
            "\n",
            "\n",
            "{'premise': 'uh unemployment runs approximately six percent', 'hypothesis': 'The rate of unemployment is insignificant.', 'label': 1, 'predicted_scores': [0.03592376783490181, 0.3488489091396332, -0.6360844373703003], 'predicted_label': 1}\n",
            "\n",
            "\n",
            "{'premise': \"someone else noticed it and i said well i guess that's true and it was somewhat melodio us in other words it wasn't just you know it was really funny\", 'hypothesis': 'Someone else paid attention to it and it was really funny. ', 'label': 0, 'predicted_scores': [1.6056934595108032, 0.926945686340332, -3.8441882133483887], 'predicted_label': 0}\n",
            "\n",
            "\n",
            "{'premise': \"Since the mid 1990s, aggregate household wealth has swelled relative to disposable personal income, largely due to increases in the market value of households' existing assets (see figure 1.2).\", 'hypothesis': 'The reason for the growth of aggregate wealth in households is the appreciating market value of existing assets following the mid 90s.', 'label': 0, 'predicted_scores': [0.977807343006134, 0.3961355984210968, -2.165971517562866], 'predicted_label': 0}\n",
            "\n",
            "\n",
            "{'premise': \"What's needed, alongside an evacuation plan, is a realistic program to stabilize conditions for those left behind.\", 'hypothesis': 'Those left behind will need a program for stabilizing conditions if they cannot evacuate. ', 'label': 0, 'predicted_scores': [0.631431519985199, -0.163330078125, -0.5431864857673645], 'predicted_label': 0}\n",
            "\n",
            "\n",
            "{'premise': \"oh you went to the dollar movie yeah yeah they show up at the dollar movie right after they get come out you know they're usually not not that great or didn't do that great anyway let me see let me see another movie i watched uh i want to see is uh that new one uh\", 'hypothesis': \"they are shown at the dollar movie theater immediately after they're released\", 'label': 0, 'predicted_scores': [0.6772971749305725, 0.005214308854192495, -1.0399857759475708], 'predicted_label': 0}\n",
            "\n",
            "\n",
            "{'premise': 'China could never trump the warhead blizzard Washington would send in retaliation against any atomic attack, though the country would be loath to cede to U.S. missile defenses the deterrence afforded by its handfuls of warheads.', 'hypothesis': \"China will likely never shoot a warhead at the United States because they don't have as many.\", 'label': 1, 'predicted_scores': [0.18904446065425873, 0.7401426434516907, -1.446699857711792], 'predicted_label': 1}\n",
            "\n",
            "\n",
            "{'premise': 'An ancient Greek trading post, the town manages to combine the atmosphere of a resort with a gutsy, bustling city life.', 'hypothesis': 'The town is known for being quiet and peaceful, free of hustle and bustle.', 'label': 2, 'predicted_scores': [-0.8483599424362183, 0.18190011382102966, 0.6272541880607605], 'predicted_label': 2}\n",
            "\n",
            "\n",
            "{'premise': 'I was pulled into the bar.', 'hypothesis': 'I was dragged through the door of the pub.', 'label': 0, 'predicted_scores': [0.40979692339897156, -0.1773565411567688, -0.15713275969028473], 'predicted_label': 0}\n",
            "\n",
            "\n",
            "{'premise': \"Perhaps tax reform doesn't appeal to the new spiritualized side of Bradley.\", 'hypothesis': \"Bradley don't have spiritual beliefs.\", 'label': 2, 'predicted_scores': [0.43104907870292664, -0.8874978423118591, 0.4916631281375885], 'predicted_label': 2}\n",
            "\n",
            "\n",
            "{'premise': 'A newly unified Christian Spain under the Catholic Monarchs, Ferdinand and Isabella, completed the Reconquest, defeating the only Moorish enclave left on the Iberian peninsula, Granada, in 1492.', 'hypothesis': 'The last Moorish enclave was defeated in 1492.', 'label': 0, 'predicted_scores': [0.36806026101112366, -0.029246754944324493, -0.3419604003429413], 'predicted_label': 0}\n",
            "\n",
            "\n",
            "{'premise': 'Part of the reason for the difference in pieces per possible delivery may be due to the fact that five percent of possible residential deliveries are businesses, and it is thought, but not known, that a lesser percentage of possible deliveries on rural routes are businesses.', 'hypothesis': 'Reason for a lesser pecentage of possible deliveries on rural routes might become more clear in the future.', 'label': 1, 'predicted_scores': [0.021022429689764977, 0.8495098948478699, -1.3608767986297607], 'predicted_label': 1}\n",
            "\n",
            "\n",
            "{'premise': \"for the direct sunlight and stuff right but uh but i i haven't really found it too bad we've lived in our house about uh oh thirteen years i suppose and and really really only painted once and you know it was new when we bought it and we painted one time since then but you know it's probably going to be time to paint again in a couple of years\", 'hypothesis': 'I only had to paint the house once, so the siding has held up well.', 'label': 1, 'predicted_scores': [-0.1197776272892952, 1.294439435005188, -1.750868558883667], 'predicted_label': 1}\n",
            "\n",
            "\n",
            "{'premise': 'This was the saturation and 125-piece walk sequence Enhanced Carrier Route mail volume in 1996.', 'hypothesis': 'The 125 piece walk sequence was too small for optimal efficiency.', 'label': 1, 'predicted_scores': [-0.4783419370651245, 0.4664900004863739, -0.11624842137098312], 'predicted_label': 1}\n",
            "\n",
            "\n",
            "{'premise': 'The Committee intends that LSC consult with appropriate stakeholders in developing this proposal.', 'hypothesis': 'The Committee will cover all consultation expenses incurred by LSC.', 'label': 1, 'predicted_scores': [-2.4105169773101807, 1.4939676523208618, 0.5303059220314026], 'predicted_label': 1}\n",
            "\n",
            "\n",
            "{'premise': 'AT&amp;T and MCI have protested the tax and pledged to pass the cost on to  MCI charges 5 percent on all out of state long-distance calls, and AT&amp;T charges a flat rate.', 'hypothesis': 'AT&T and MCI believe the tax is fair and have decided to absorb the cost instead of passing it on. ', 'label': 2, 'predicted_scores': [0.0744839459657669, -0.5612421035766602, 0.64878910779953], 'predicted_label': 2}\n",
            "\n",
            "\n",
            "{'premise': 'These rules implement section 106 of the Federal Crop Insurance Reform Act of 1994.', 'hypothesis': 'The Federal Crop insurance Reform Act was passed in 1994.', 'label': 0, 'predicted_scores': [0.7578321099281311, -0.18371152877807617, -0.8008551001548767], 'predicted_label': 0}\n",
            "\n",
            "\n",
            "{'premise': 'Over most of the 1980s and 1990s, the U.S. was able to invest more than it saved by attracting financing from abroad.', 'hypothesis': \"The US could invest 20% more than it saved in the 1980's and 90's.\", 'label': 1, 'predicted_scores': [-2.440502405166626, 2.5023882389068604, -0.4176540970802307], 'predicted_label': 1}\n",
            "\n",
            "\n",
            "{'premise': \"yeah that's where i got to too the first i got chills up and down when i heard the on the radio and the first time they started doing the bombing\", 'hypothesis': 'The bombing in Korea was shocking to the world.', 'label': 1, 'predicted_scores': [-3.3788228034973145, 1.5122007131576538, 1.3858853578567505], 'predicted_label': 1}\n",
            "\n",
            "\n",
            "{'premise': 'They keep romance and marriage apart  \" Tommy flushed.', 'hypothesis': \"Tommy said they don't mix romance and marriage.\", 'label': 0, 'predicted_scores': [0.2304663062095642, -0.013882758095860481, -0.08619838207960129], 'predicted_label': 0}\n",
            "\n",
            "\n",
            "{'premise': \"  There's nothing like the trendy resort clothing available here, styled on the island by the designers of the Ad-Lib group.\", 'hypothesis': 'The Ad-Lib group designs the trendy resort clothing here.', 'label': 0, 'predicted_scores': [1.6086530685424805, -1.2457953691482544, -0.8609948754310608], 'predicted_label': 0}\n",
            "\n",
            "\n",
            "{'premise': 'Our work has also shown that agencies can do a better job of providing incentives to encourage employees to improve performance and achieve results.', 'hypothesis': 'Agencies are already doing the best job possible assigning incentives.', 'label': 2, 'predicted_scores': [-0.9524109363555908, -0.5237412452697754, 1.6494076251983643], 'predicted_label': 2}\n",
            "\n",
            "\n",
            "{'premise': 'for one twelve dollar check', 'hypothesis': 'Just a check for twelve bucks.  ', 'label': 0, 'predicted_scores': [1.258694052696228, -0.4837075173854828, -1.2317441701889038], 'predicted_label': 0}\n",
            "\n",
            "\n",
            "{'premise': 'Where lies the real Japan?', 'hypothesis': 'There is a question where the real Japan lies.', 'label': 0, 'predicted_scores': [2.5552501678466797, -0.13600406050682068, -4.0335588455200195], 'predicted_label': 0}\n",
            "\n",
            "\n",
            "{'premise': 'We next present the test of our hypothesis by comparing the predicted percentages for each of the seven posts with the actual percentages.', 'hypothesis': 'We are presenting the test by comparing percentages for each of the posts with actual percentages of letters mailed.', 'label': 1, 'predicted_scores': [-0.8655971884727478, 0.6040114760398865, 0.08165625482797623], 'predicted_label': 1}\n",
            "\n",
            "\n",
            "{'premise': 'He took the wicked blade as well.', 'hypothesis': \"The men took all the sword's, a dozen at least.\", 'label': 1, 'predicted_scores': [-2.2482569217681885, 1.287856101989746, 0.6382239460945129], 'predicted_label': 1}\n",
            "\n",
            "\n",
            "{'premise': 'If they have overestimated how far the CPI is off, Boskin and his commission may institutionalize an underestimated CPI--guaranteeing a yearly, stealth tax increase.', 'hypothesis': \"If they've overestimated how far the CPI is off, it will have horrific consequences. \", 'label': 0, 'predicted_scores': [0.9486532211303711, 0.548638641834259, -2.3506975173950195], 'predicted_label': 0}\n",
            "\n",
            "\n",
            "{'premise': 'i tell you what i would not i would not buy a car that had the seat belt where it was hooked under the door', 'hypothesis': 'I used to own a car with the seat belts there.', 'label': 1, 'predicted_scores': [-0.6211779117584229, 1.1121368408203125, -0.8108636736869812], 'predicted_label': 1}\n",
            "\n",
            "\n",
            "{'premise': \"Although it's hard to disagree with James Surowiecki's roasting of Wade Cook in The Book on Cook, Surowiecki's assertion that the equity stock option market is simply a big casino that contribute[s] nothing to the smooth functioning of capital markets is both wrong and silly.\", 'hypothesis': 'James Surowiecki asserts that the equity stock option market contributes nothing to the smooth functioning of capital markets.', 'label': 0, 'predicted_scores': [0.8405073881149292, -1.2556511163711548, 0.28353041410446167], 'predicted_label': 0}\n",
            "\n",
            "\n",
            "{'premise': 'These days, newspaper writers are no longer allowed the kind of license he took.', 'hypothesis': \"Newspaper writes can't take the kind of license that he did.\", 'label': 0, 'predicted_scores': [0.6527570486068726, -0.39070752263069153, -0.2735171616077423], 'predicted_label': 0}\n",
            "\n",
            "\n",
            "{'premise': 'In the short term, U.S. consumers will benefit from cheap imports (as will U.S. multinationals that use parts made in East Asian factories).', 'hypothesis': 'U.S. consumers benefit from imports, while East Asian factories suffer.', 'label': 1, 'predicted_scores': [-1.0618247985839844, 1.1999691724777222, -0.39103254675865173], 'predicted_label': 1}\n",
            "\n",
            "\n",
            "{'premise': 'The cuts will take the biggest bite out of Land of Lincoln, a network of eight offices and 40 lawyers who help clients in southern Illinois with problems like eviction, access to Social Security and obtaining orders of protection from abusive spouses.', 'hypothesis': 'One particular network of lawyers who provided services in southern Illinois for a variety of legal issues will be hard hit by the budget reductions.', 'label': 0, 'predicted_scores': [0.785637378692627, 0.4794497787952423, -1.981899619102478], 'predicted_label': 0}\n",
            "\n",
            "\n",
            "{'premise': 'All of our many earnest experiments produced results in line with random chance, they conclude.', 'hypothesis': 'The experiments proved it was a much better predictor.', 'label': 2, 'predicted_scores': [-1.5918731689453125, 0.23600983619689941, 1.2215054035186768], 'predicted_label': 2}\n",
            "\n",
            "\n",
            "{'premise': 'Through the opt-out approach, Texas attorneys contributed $1 million this year, doubling 2001 contributions.', 'hypothesis': 'Texas attorneys have contributed one million dollars this year using the opt-out approach.', 'label': 0, 'predicted_scores': [2.7278671264648438, -1.6208845376968384, -2.30043625831604], 'predicted_label': 0}\n",
            "\n",
            "\n",
            "{'premise': \"At least they're getting stoned first, I rationalized.\", 'hypothesis': 'I rationalized that it was best that they got stoned beforehand. ', 'label': 0, 'predicted_scores': [0.7319139838218689, 0.40581077337265015, -1.7952380180358887], 'predicted_label': 0}\n",
            "\n",
            "\n",
            "{'premise': 'Joseph Lister pioneered the use of carbolic acid to keep wounds clean, and James Young Simpson experimented with chloroform as an anesthetic.', 'hypothesis': 'No one knows who pioneered the use of carbolic acid and chloroform for new purposes.', 'label': 2, 'predicted_scores': [-3.154326915740967, -0.3805237114429474, 3.3450751304626465], 'predicted_label': 2}\n",
            "\n",
            "\n",
            "{'premise': 'The anthropologist Napoleon Chagnon has shown that Yanomamo men who have killed other men have more wives and more offspring than average guys.', 'hypothesis': 'Yanomamo men who kill other men have better chances at getting more wives.', 'label': 0, 'predicted_scores': [1.1519834995269775, 0.4323180317878723, -2.5052483081817627], 'predicted_label': 0}\n",
            "\n",
            "\n",
            "{'premise': 'and i need to be better because uh uh we just bought it my wife and i just bought a new car and uh you know we want to take real good care of it so uh', 'hypothesis': 'We paid a good amount for it.', 'label': 1, 'predicted_scores': [-0.006122421007603407, 1.6024439334869385, -2.296926498413086], 'predicted_label': 1}\n",
            "\n",
            "\n",
            "{'premise': \"or yeah exactly and that's what i say you'll you'll be you'll be so much better off for it as you get older because you know a lot of kids resent things that parents tell them and and stuff but it's because you've been there\", 'hypothesis': \"Kids don't like what their parents have told them. \", 'label': 0, 'predicted_scores': [0.9231534004211426, 0.09164270758628845, -1.64742910861969], 'predicted_label': 0}\n",
            "\n",
            "\n",
            "{'premise': 'She wears either revealing clothes or professional clothes (or perhaps both).', 'hypothesis': \"Sometimes her cleavage is showing and sometimes she's all covered up.\", 'label': 1, 'predicted_scores': [0.3797641098499298, 1.0300737619400024, -2.129664182662964], 'predicted_label': 1}\n",
            "\n",
            "\n",
            "{'premise': 'Or Sherlock Holmes?\"', 'hypothesis': 'Was it Sherlock Holmes?', 'label': 0, 'predicted_scores': [0.6749489307403564, 0.09829619526863098, -1.2065768241882324], 'predicted_label': 0}\n",
            "\n",
            "\n",
            "{'premise': 'The questions may need to be tailored to', 'hypothesis': 'A majority of the questions referenced will need to be tailored to.', 'label': 1, 'predicted_scores': [-0.09647343307733536, 1.5546776056289673, -2.0897269248962402], 'predicted_label': 1}\n",
            "\n",
            "\n",
            "{'premise': 'As the budgets, functions, and points of service of many government programs devolve to state and local government, private entities and nonprofit organizations, and other third parties, it may become harder for GAO to obtain the records it needs to complete audits and evaluations.', 'hypothesis': 'It has become very easy for GAO to procure the records for audits.', 'label': 2, 'predicted_scores': [0.1729559600353241, -1.1195313930511475, 1.0106767416000366], 'predicted_label': 2}\n",
            "\n",
            "\n",
            "{'premise': \"It's easy to overdose on the many temples, palaces, and museums in India.\", 'hypothesis': 'There is a wide selection of temples and palaces in India.', 'label': 0, 'predicted_scores': [2.268925905227661, -1.125026822090149, -2.193829298019409], 'predicted_label': 0}\n",
            "\n",
            "\n",
            "{'premise': \"and clean up is is uh is a joy uh a little soap and water and air dry them and you don't have to worry about that\", 'hypothesis': \"You let it air dry because it'll smudge any other way.\", 'label': 1, 'predicted_scores': [-2.783507823944092, 3.066105365753174, -0.6906509399414062], 'predicted_label': 1}\n",
            "\n",
            "\n",
            "{'premise': 'Steps are initiated to allow program board membership to reflect the clienteligible community and include representatives from the funding community, corporations and other partners.', 'hypothesis': 'The board includes those from the funding community and corporations.', 'label': 0, 'predicted_scores': [0.5910593271255493, -1.2083274126052856, 0.581555962562561], 'predicted_label': 0}\n",
            "\n",
            "\n",
            "{'premise': 'Hey, no problem, a fine policy.', 'hypothesis': 'No trouble, the best policy.', 'label': 1, 'predicted_scores': [0.011176572181284428, 0.14937853813171387, -0.13911008834838867], 'predicted_label': 1}\n",
            "\n",
            "\n",
            "{'premise': \"Additions to the 2002 Request for Proposal (RFP) include questions for applicants on staff diversity, recruitment and retention strategies and training, and the organization's strategic planning.\", 'hypothesis': 'The request for proposal was in May 2002.', 'label': 1, 'predicted_scores': [-2.0838637351989746, 1.8878076076507568, -0.11823930591344833], 'predicted_label': 1}\n",
            "\n",
            "\n",
            "{'premise': 'Last year, that campaign - primarily among private attorneys - drew less than $40,000 while the Nashville legal aid fund-raising garnered more than $500,000.', 'hypothesis': \"The Memphis campaign was tiny compared to Nashville's \", 'label': 1, 'predicted_scores': [-0.7605992555618286, 0.7493427991867065, -0.17348423600196838], 'predicted_label': 1}\n",
            "\n",
            "\n",
            "{'premise': 'Alternatively, there are Sousa and Goncalves (Rua do Castanheiro, 47) and Unibasket (Rua do Carmo, 42; Tel. 291/226 925), both in Funchal.', 'hypothesis': 'There are other places in Funchal.', 'label': 0, 'predicted_scores': [1.367677927017212, -0.11869079619646072, -2.031557321548462], 'predicted_label': 0}\n",
            "\n",
            "\n",
            "{'premise': 'His failure will endure.', 'hypothesis': 'The man will be remembered for failing.', 'label': 0, 'predicted_scores': [0.27795854210853577, 0.13764339685440063, -0.6261613965034485], 'predicted_label': 0}\n",
            "\n",
            "\n",
            "{'premise': 'From the Index: Average number of public school students expelled each school day last year for gun  34.', 'hypothesis': 'The number of school students expelled is dependent on the availability of guns.', 'label': 1, 'predicted_scores': [-0.043354615569114685, 0.6591084599494934, -1.0154393911361694], 'predicted_label': 1}\n",
            "\n",
            "\n",
            "{'premise': 'A lack of sleep can always be remedied later, a Madrile??o might tell you, as he tops off a late night with early-morning chocolate con curros (a fried-dough and chocolate snack ideal for absorbing alcohol) on the way home for a shower and then continues on to work.', 'hypothesis': 'Madrid has a curfew that states that every citizen needs to be at home after 9PM.', 'label': 2, 'predicted_scores': [-3.256200075149536, 0.5063848495483398, 2.377840042114258], 'predicted_label': 2}\n",
            "\n",
            "\n",
            "{'premise': '17 An alternative to unaddressed mail would be to auction off the right to be a third bundle on specific days in specific post offices.', 'hypothesis': 'You could auction off the right to another bundle instead of doing unaddressed mail.', 'label': 0, 'predicted_scores': [1.4523160457611084, -0.9047621488571167, -1.0185705423355103], 'predicted_label': 0}\n",
            "\n",
            "\n",
            "{'premise': 'His politeness sounded strange coming from a desert nomad.', 'hypothesis': 'The desert nomad was as nasty as always.', 'label': 2, 'predicted_scores': [-1.433365821838379, 0.5483956336975098, 0.6951218247413635], 'predicted_label': 2}\n",
            "\n",
            "\n",
            "{'premise': 'Transforming Control of Public Health Programs Raises Concerns (', 'hypothesis': 'The change of public health programs concerns people.', 'label': 0, 'predicted_scores': [0.49568918347358704, 0.2224120795726776, -1.121408224105835], 'predicted_label': 0}\n",
            "\n",
            "\n",
            "{'premise': 'In the meantime, the philosophy is to seize present-day opportunities in the thriving economy.', 'hypothesis': 'The philosophy was to seize opportunities when the economy is doing well.', 'label': 0, 'predicted_scores': [1.525161862373352, 0.3055552542209625, -2.9350368976593018], 'predicted_label': 0}\n",
            "\n",
            "\n",
            "{'premise': 'Even after we hire good people, we need to take steps to retain them.', 'hypothesis': 'People often stay on a job for different reasons than the ones they had for accepting the position.', 'label': 1, 'predicted_scores': [0.7062440514564514, 0.8149430751800537, -2.34255313873291], 'predicted_label': 1}\n",
            "\n",
            "\n",
            "{'premise': 'The following are examples of how agencies engaged employee unions.', 'hypothesis': 'The following are examples of how agencies can eradicate employee unions.', 'label': 2, 'predicted_scores': [-1.3121254444122314, -0.4215678572654724, 1.8360031843185425], 'predicted_label': 2}\n",
            "\n",
            "\n",
            "{'premise': 'Sphinxes were guardian deitiesinEgyptianmythologyandthis was monumentalprotection,standing73 m (240 ft)longand20 m (66 feet) high.', 'hypothesis': 'Sphinxes were put in the tombs to protect the dead.', 'label': 1, 'predicted_scores': [-1.911818027496338, 2.3567750453948975, -0.7977497577667236], 'predicted_label': 1}\n",
            "\n",
            "\n",
            "{'premise': 'The entire city was surrounded by open countryside with a scattering of small villages.', 'hypothesis': 'The countryside is very lovely and peaceful. ', 'label': 1, 'predicted_scores': [-1.3815381526947021, 1.9975541830062866, -0.9600451588630676], 'predicted_label': 1}\n",
            "\n",
            "\n",
            "{'premise': 'The good news, however, can be found in reports like this one.', 'hypothesis': \"The good news is that the puppy's life was able to be saved. \", 'label': 1, 'predicted_scores': [-2.970095634460449, 1.3431388139724731, 1.1938380002975464], 'predicted_label': 1}\n",
            "\n",
            "\n",
            "{'premise': \"If she wasn't, how would they have known Jane Finn had got the papers?\", 'hypothesis': 'Who had told them that Jane Finn had acquired the papers?', 'label': 1, 'predicted_scores': [0.08799911290407181, 0.9487117528915405, -1.5946638584136963], 'predicted_label': 1}\n",
            "\n",
            "\n",
            "{'premise': \"The universal credibility problem with polling is that wordsmithing and mathematics don't mix, and never will.\", 'hypothesis': 'Wordsmithing and mathematics are not related enough to go together.', 'label': 0, 'predicted_scores': [1.1228950023651123, -0.043587081134319305, -1.7651536464691162], 'predicted_label': 0}\n",
            "\n",
            "\n",
            "{'premise': '5 percent for educational lay programs relating to law and justice, and other public service programs such as the High School Mock Trial Competition and numerous publications.', 'hypothesis': 'Educational lay programs deal with justice for minorities.', 'label': 1, 'predicted_scores': [-0.08893625438213348, 0.8694153428077698, -1.2186375856399536], 'predicted_label': 1}\n",
            "\n",
            "\n",
            "{'premise': 'uh-huh i i thought they did an excellent job of actually aging the person you know from when he was a little kid to little older to little older to except the last the very last you know the last person the last actor that played the kid', 'hypothesis': 'Yeah they did a great job with making that person grow old from 5 to 20 years old, except that last part, you totally knew who that actor was.', 'label': 0, 'predicted_scores': [1.2436387538909912, -0.804127037525177, -0.7816057205200195], 'predicted_label': 0}\n",
            "\n",
            "\n",
            "{'premise': \"Therefore, many leading finance organizations have calculated and compared these percentages as a general indication of how well they supported the organization's business objectives.\", 'hypothesis': 'Finance organization calculated data about every other organization.', 'label': 1, 'predicted_scores': [-1.0214771032333374, 0.5146616101264954, 0.3456544280052185], 'predicted_label': 1}\n",
            "\n",
            "\n",
            "{'premise': 'During the hottest hours, things come to a virtual standstill, though the Caribbean siesta is an hour or two shorter than its Mediterranean counterpart.', 'hypothesis': 'Things slowed down because there were not enough people to assist.', 'label': 1, 'predicted_scores': [-2.4928951263427734, 1.9802402257919312, 0.1236954927444458], 'predicted_label': 1}\n",
            "\n",
            "\n",
            "{'premise': 'Though the two cities remained unlinked by rail, this was about to change quickly.', 'hypothesis': 'The two cities had a railway between them that made travel easy.', 'label': 2, 'predicted_scores': [0.23457960784435272, -0.6090707182884216, 0.4938792884349823], 'predicted_label': 2}\n",
            "\n",
            "\n",
            "{'premise': \"But of course, that's just another way of saying that liberal democracy--a value Huntington surely ranks above the alternatives morally--may never fit some peoples as naturally as it fits us.\", 'hypothesis': 'Liberal democracy may not fit some people as good as it fits us.', 'label': 0, 'predicted_scores': [0.5412932634353638, -0.5802163481712341, 0.05629263073205948], 'predicted_label': 0}\n",
            "\n",
            "\n",
            "{'premise': 'Control activities occur at all levels and functions of the entity.', 'hypothesis': 'There are numerous different control activities.', 'label': 1, 'predicted_scores': [-0.20596429705619812, 0.5458034873008728, -0.5647426247596741], 'predicted_label': 1}\n",
            "\n",
            "\n",
            "{'premise': 'The analyses utilized different assumptions and generally resulted in smaller expenditure impact estimates than noted above.', 'hypothesis': 'The differing assumptions of the analyses resulted in different estimate than noted.', 'label': 0, 'predicted_scores': [1.984673261642456, -1.4697054624557495, -1.210915207862854], 'predicted_label': 0}\n",
            "\n",
            "\n",
            "{'premise': 'Even analysts who had argued for loosening the old standards, by which the market was clearly overvalued, now think it has maxed out for a while.', 'hypothesis': 'Some analysts wanted to make the old standards toughter.', 'label': 1, 'predicted_scores': [0.7083779573440552, 0.7961694598197937, -2.314837694168091], 'predicted_label': 1}\n",
            "\n",
            "\n",
            "{'premise': 'Aswan became a backwater following the decline of the Egyptian Empire, far removed from power bases at Alexandria and Cairo.', 'hypothesis': 'Aswan was no longer a power base for the Egyptian Empire.  ', 'label': 0, 'predicted_scores': [2.064218282699585, -1.1647379398345947, -1.7859833240509033], 'predicted_label': 0}\n",
            "\n",
            "\n",
            "{'premise': 'They drive it around the country in a dilapidated ice-cream truck trying to keep it cool.', 'hypothesis': 'They used an ice cream truck to try and keep it from getting warm.', 'label': 0, 'predicted_scores': [1.1825861930847168, 0.17052483558654785, -2.1942570209503174], 'predicted_label': 0}\n",
            "\n",
            "\n",
            "{'premise': 'Were you in company with anyone?', 'hypothesis': 'Was anyone with you?', 'label': 0, 'predicted_scores': [2.0742223262786865, -1.403266191482544, -1.4661670923233032], 'predicted_label': 0}\n",
            "\n",
            "\n",
            "{'premise': 'upwards of a mile but Washington is one of my favorite places to visit uh my daughter lives in Arlington and when i go to visit her  i love to get out on that bike trail and either ride the bike oh gosh you can ride a bike  practically all the way to southern Virginia', 'hypothesis': 'I enjoy biking at least 10 miles when I visit my daughter.', 'label': 1, 'predicted_scores': [0.3386031985282898, 0.9941377639770508, -2.0388031005859375], 'predicted_label': 1}\n",
            "\n",
            "\n",
            "{'premise': \"Those Creole men and women you'll see dancing it properly have been moving their hips and knees that way since childhood.\", 'hypothesis': 'It is very difficult to learn the dance as an adult.', 'label': 1, 'predicted_scores': [-1.2582108974456787, 0.7053568363189697, 0.344758540391922], 'predicted_label': 1}\n",
            "\n",
            "\n",
            "{'premise': \"hey it's reaching all over\", 'hypothesis': 'It has covered the majority of the space.', 'label': 1, 'predicted_scores': [0.13392701745033264, 0.1664944291114807, -0.4340786337852478], 'predicted_label': 1}\n",
            "\n",
            "\n",
            "{'premise': 'He threw one of them and shot the other.', 'hypothesis': 'He shot his gun at the man.', 'label': 1, 'predicted_scores': [-0.9751609563827515, 0.9863523840904236, -0.23896582424640656], 'predicted_label': 1}\n",
            "\n",
            "\n",
            "{'premise': \"uh somewhat they're not my favorite team i am uh somewhat familiar with them\", 'hypothesis': 'I know a little about them, but they are not may favorite team.', 'label': 0, 'predicted_scores': [1.3759254217147827, -0.25566819310188293, -1.8528910875320435], 'predicted_label': 0}\n",
            "\n",
            "\n",
            "{'premise': \"uh uh yeah that well um the older you get the more convenience you try to bring with you i guess so i'm up to dragging the trailer around which is my next step is going to be probably Winnebago i hope if i only can afford one but that\", 'hypothesis': 'The older you get, the more you want conveniences like a comfy bed.', 'label': 1, 'predicted_scores': [-0.14506860077381134, 0.29165565967559814, -0.23779793083667755], 'predicted_label': 1}\n",
            "\n",
            "\n",
            "{'premise': \"yes they would they just wouldn't be able to own the kind of automobiles that they think they deserve to own or the kind of homes that we think we deserve to own we might have to you know just be able to i think if we a generation went without debt then the next generation like if if our our generation my husband and i we're twenty eight if we lived our lives and didn't become you know indebted like you know our generation before us that um the budget would balance and that we became accustomed to living with what we could afford which we wouldn't be destitute i mean we wouldn't be living on the street by any means but just compared to how spoiled we are we would be in our own minds but i feel like the generation after us would oh man it it would be so good it would be so much better it wouldn't be perfect but then they could learn to live with what what they could afford to save to buy and if you want a nicer car than that well you save a little longer\", 'hypothesis': 'Life will be great for subsequent generations if our generation goes without debt.', 'label': 1, 'predicted_scores': [-0.5912066698074341, 0.7174041271209717, -0.31575027108192444], 'predicted_label': 1}\n",
            "\n",
            "\n",
            "{'premise': 'But you will find it all right.\"', 'hypothesis': \"You, I'm sure, will find it more than adequate.\", 'label': 0, 'predicted_scores': [1.1861085891723633, -0.2494117021560669, -1.5235931873321533], 'predicted_label': 0}\n",
            "\n",
            "\n",
            "{'premise': 'Justice Kennedy does not care what law librarians across the country do with all the Supreme Court Reporters from 1790 through 1998.', 'hypothesis': 'Justice Kennedy thinks all  the Supreme Court Reporters from 1790 to 1998 should be on display.', 'label': 2, 'predicted_scores': [-0.9244813919067383, 0.35740432143211365, 0.46231943368911743], 'predicted_label': 2}\n",
            "\n",
            "\n",
            "{'premise': 'Climate changes had already had the effect of reducing the amount of forest land; the monks accelerated this process by clearing many more acres in order to make room for ever-growing herds of sheep.', 'hypothesis': 'The effect of reducing the amount of forest land is habitats will be destroyed.', 'label': 1, 'predicted_scores': [-0.015317889861762524, 0.15717405080795288, -0.11194305121898651], 'predicted_label': 1}\n",
            "\n",
            "\n",
            "{'premise': 'Boca da Corrida Encumeada (moderate; 5 hours): views of Curral das Freiras and the valley of Ribeiro do Poco.', 'hypothesis': '\"Views of Curral da Freiras and the valley of Ribeiro do Poco\" is chapter 5. ', 'label': 1, 'predicted_scores': [0.008258645422756672, 0.148967444896698, -0.11558987945318222], 'predicted_label': 1}\n",
            "\n",
            "\n",
            "{'premise': 'Very often the emperor was only a minor, so that the Fujiwara patriarch acted as regent.', 'hypothesis': 'Oftentimes, the best emperors were those that were minors. ', 'label': 1, 'predicted_scores': [0.3329794406890869, 2.4835894107818604, -3.875491142272949], 'predicted_label': 1}\n",
            "\n",
            "\n",
            "{'premise': \"She's a crutch.\", 'hypothesis': \"She's an essential, key role in this, and is being used as a crutch.\", 'label': 1, 'predicted_scores': [0.5004929900169373, 0.5960221290588379, -1.7509725093841553], 'predicted_label': 1}\n",
            "\n",
            "\n",
            "Rare Words\n",
            "Ambiguity\n",
            "{'premise': \"i think there would be an awful lot of resentment and um i i really don't think it would be feasible on our country\", 'hypothesis': \"I think it would lead to resentment and it's not something that is feasible for the country. \", 'label': 0, 'predicted_scores': [1.9859782457351685, -1.229533314704895, -1.543363094329834], 'predicted_label': 0}\n",
            "\n",
            "\n",
            "{'premise': \"yeah yeah i think well i know it's true you see a lot of that you know rally behind the female she may lose but by golly we're going to make a statement here\", 'hypothesis': 'It says something if people rally behind a female candidate, even if she loses.', 'label': 0, 'predicted_scores': [0.9813295006752014, 0.7224587202072144, -2.632140874862671], 'predicted_label': 0}\n",
            "\n",
            "\n",
            "{'premise': 'yep same here', 'hypothesis': 'I experienced something similar.', 'label': 0, 'predicted_scores': [1.8090928792953491, 0.002815207466483116, -2.9788224697113037], 'predicted_label': 0}\n",
            "\n",
            "\n",
            "Long Sentences\n",
            "{'premise': 'We also have found that leading organizations strive to ensure that their core processes efficiently and effectively support mission-related outcomes.', 'hypothesis': 'Leading organizations want to be sure their employees are safe.', 'label': 1, 'predicted_scores': [0.3885359466075897, 0.9481711983680725, -2.052114963531494], 'predicted_label': 1}\n",
            "\n",
            "\n",
            "{'premise': \"This having come to his stepmother's ears, she taxed him with it on the afternoon before her death, and a quarrel ensued, part of which was overheard. \", 'hypothesis': 'A fight broke out between the stepmother and the man before her death.', 'label': 0, 'predicted_scores': [1.1162325143814087, -0.2369941771030426, -1.4077321290969849], 'predicted_label': 0}\n",
            "\n",
            "\n",
            "{'premise': \"yeah well the uh NC double A tournament's going on right now and uh i haven't watched it this year because Louisville's out of it this year\", 'hypothesis': \"I'll watch the basketball tournament next year.\", 'label': 1, 'predicted_scores': [-0.4438372254371643, 0.9362995028495789, -0.8107237219810486], 'predicted_label': 1}\n",
            "\n",
            "\n",
            "{'premise': \"Something may be better than nothing . If trials compared low-cost therapy to the complete AZT regimen it's likely that the new regimens will prove less effective.\", 'hypothesis': 'It is better to have little than to have none at all.', 'label': 0, 'predicted_scores': [0.6515676975250244, -0.27803200483322144, -0.4239475429058075], 'predicted_label': 0}\n",
            "\n",
            "\n",
            "{'premise': 'it would probably be a lot more work and probably not turn out as good', 'hypothesis': 'Oh that way sounds great, it could turn out even better', 'label': 2, 'predicted_scores': [-0.7972798943519592, -0.7734845876693726, 1.7771306037902832], 'predicted_label': 2}\n",
            "\n",
            "\n",
            "{'premise': 'The analysis concluded that, because the rule relaxed the hog cholera-related restrictions imposed on the importation of live swine and prepared pork products from Sonora, Mexico, the proposed rule could have a significant economic impact on a substantial number of small entities in the United States.', 'hypothesis': 'The analysis stated that the rule might have a large impact on small entities in the US.', 'label': 0, 'predicted_scores': [1.2489005327224731, 1.2201038599014282, -3.666297197341919], 'predicted_label': 0}\n",
            "\n",
            "\n",
            "{'premise': \"I thought working on Liddy's campaign would be better than working on Bob's.\", 'hypothesis': \"I thought I would like working on Liddy's campaign the best.\", 'label': 1, 'predicted_scores': [0.28260231018066406, 0.8878246545791626, -1.7946012020111084], 'predicted_label': 1}\n",
            "\n",
            "\n",
            "{'premise': 'Others love to see it in the middle of the heaviest monsoon, its marble translucent, its image blurred in the rain-stippled water channels of its gardens.', 'hypothesis': 'It is especially beautiful during the monsoon season.', 'label': 1, 'predicted_scores': [-0.287682443857193, 0.39416950941085815, -0.23518840968608856], 'predicted_label': 1}\n",
            "\n",
            "\n",
            "{'premise': 'Thus, the net scale benefit is initially positive, whether or not we adjust for the wage premium.', 'hypothesis': 'Initial net scale benefits are negative when adjusted for the wage premium.', 'label': 2, 'predicted_scores': [0.29262062907218933, -1.051464319229126, 0.8115633130073547], 'predicted_label': 2}\n",
            "\n",
            "\n",
            "{'premise': '7) Nonautomated First-Class and Standard-A mailers have the option of requesting that their mail be processed manually, even though the costs for such processing are substantially higher than mechanized processing.', 'hypothesis': 'Nonautomated First-Class and Standard-A mailers cannot ask for their mail to be processed by hand because it costs the postal service more.', 'label': 2, 'predicted_scores': [-1.6737017631530762, 0.16502901911735535, 1.3775887489318848], 'predicted_label': 2}\n",
            "\n",
            "\n",
            "{'premise': \"and so i have really enjoyed that but but there are i do have friends that watch programs like they want to see a particular program and they are either home watching it or definitely recording it they have some programs that they won't miss\", 'hypothesis': 'What programs do your friends like to watch?', 'label': 1, 'predicted_scores': [-0.07434529811143875, 0.34207895398139954, -0.4316176176071167], 'predicted_label': 1}\n",
            "\n",
            "\n",
            "{'premise': 'We need to look at the implications that these differing roles have for a range of issues, such as SES core competencies, performance standards, recruitment sources, mobility, and training and development programs.', 'hypothesis': 'It is very important for us to consider the implications of the these distinct roles on the issues.', 'label': 0, 'predicted_scores': [0.9391831755638123, 0.8284622430801392, -2.717991352081299], 'predicted_label': 0}\n",
            "\n",
            "\n",
            "{'premise': ' Other villages are much less developed, and therein lies the essence of many delights.', 'hypothesis': 'If more people lived in the villages the development would skyrocket.', 'label': 1, 'predicted_scores': [-1.5310299396514893, 1.379036784172058, -0.1247328594326973], 'predicted_label': 1}\n",
            "\n",
            "\n",
            "{'premise': 'Sure enough, there was the chest, a fine old piece, all studded with brass nails, and full to overflowing with every imaginable type of garment. ', 'hypothesis': 'The chest was built over 200 years ago.', 'label': 1, 'predicted_scores': [-2.0031797885894775, 1.728334665298462, -0.06186183542013168], 'predicted_label': 1}\n",
            "\n",
            "\n",
            "{'premise': 'What about the hole?\" They scanned the cliff-side narrowly.', 'hypothesis': 'They looked from the top of the cliff for the hole.', 'label': 1, 'predicted_scores': [0.0647554025053978, 0.08141663670539856, -0.0161050446331501], 'predicted_label': 1}\n",
            "\n",
            "\n",
            "{'premise': \"Guangzhou, with a population of more than 5 million, straddles the Pearl River China's fifth longest which links the city to the South China Sea.\", 'hypothesis': 'The population of Guangzhou has been growing out of control for the past century.', 'label': 1, 'predicted_scores': [-2.3049726486206055, 2.2648563385009766, -0.3044906556606293], 'predicted_label': 1}\n",
            "\n",
            "\n",
            "{'premise': 'The South African priest who invited Clinton to do so is quoted in the paper as saying that once Clinton stood up, he was thinking about how much embarrassment it would have caused him by my saying, please sit down.', 'hypothesis': 'The South African priest had communicated with Clinton via telephone.', 'label': 1, 'predicted_scores': [0.02039327099919319, 0.14417347311973572, -0.14419099688529968], 'predicted_label': 1}\n",
            "\n",
            "\n",
            "{'premise': \"Accusations of corruption among officials in Rao's administration in 1995 also paved the way for a comeback.\", 'hypothesis': 'The administration of Rao in general was profoundly corrupt.', 'label': 1, 'predicted_scores': [-0.2719797194004059, 0.15440461039543152, 0.15423958003520966], 'predicted_label': 1}\n",
            "\n",
            "\n",
            "{'premise': 'These runs could cost far more than the value of the small improvement in service.', 'hypothesis': 'The runs would be a bigger cost than the improvement in service would bring.', 'label': 0, 'predicted_scores': [0.49937912821769714, 0.028190135955810547, -0.7651585340499878], 'predicted_label': 0}\n",
            "\n",
            "\n",
            "{'premise': 'The Times says this tracking list is drawn up from information from bookstores, but publishers say they routinely call up the Times to tip them off to books selling with increasing momentum so that they can be added to the tracking list.', 'hypothesis': \"Publishers say one things about Times' drawing of lists from bookstores, while Times claims a different story.\", 'label': 0, 'predicted_scores': [1.619748592376709, -0.8992121815681458, -1.3304471969604492], 'predicted_label': 0}\n",
            "\n",
            "\n",
            "{'premise': 'Was it a sudden decision on his part, or had he already made up his mind when he parted from me a few hours earlier? ', 'hypothesis': 'He left in the spur of the moment whilst we were talking, which was quite rude. ', 'label': 1, 'predicted_scores': [0.48116642236709595, 0.6518734693527222, -1.7691664695739746], 'predicted_label': 1}\n",
            "\n",
            "\n",
            "{'premise': 'I entered her shack, opening the painted door covered in runes of warding.', 'hypothesis': 'I entered the shack, bidden by her--the runes of warding would have surely sent me away otherwise.', 'label': 1, 'predicted_scores': [-2.1916582584381104, 1.5241944789886475, 0.3036705255508423], 'predicted_label': 1}\n",
            "\n",
            "\n",
            "{'premise': \"If she wasn't, how would they have known Jane Finn had got the papers?\", 'hypothesis': 'How would they know that Jane Finn had lost the papers?', 'label': 2, 'predicted_scores': [-0.23436234891414642, 0.08019223064184189, 0.2694616913795471], 'predicted_label': 2}\n",
            "\n",
            "\n",
            "{'premise': 'In Japan, Mainichi Shimbun criticized the new Liberal Democratic Party leader Keizo Obuchi for being devoid of fresh ideas for reviving the Japanese economy.', 'hypothesis': \"Mainichi Shimbun approved of Keizo Obuchi's efforts toward improving the economy.\", 'label': 2, 'predicted_scores': [-0.009602698497474194, -0.48368701338768005, 0.6811460256576538], 'predicted_label': 2}\n",
            "\n",
            "\n",
            "{'premise': 'It vibrated under his hand.', 'hypothesis': 'It moved softly in his hand, alerting him to the presence.', 'label': 1, 'predicted_scores': [0.35315993428230286, 0.9696638584136963, -2.017409563064575], 'predicted_label': 1}\n",
            "\n",
            "\n",
            "{'premise': 'yeah i have too and i found it real interesting but', 'hypothesis': 'I have also, and I found it real interesting.', 'label': 0, 'predicted_scores': [0.7710607647895813, -0.6347959041595459, -0.2146870195865631], 'predicted_label': 0}\n",
            "\n",
            "\n",
            "{'premise': 'The almost midtown Massabielle quarter (faubourg de Massabielle), is sometimes described as the most picturesque in the city.', 'hypothesis': 'The Massabielle quarter is a very touristy place.', 'label': 0, 'predicted_scores': [0.6008443236351013, 0.4663464426994324, -1.6883718967437744], 'predicted_label': 0}\n",
            "\n",
            "\n",
            "{'premise': \"yeah i was in Peru Peru but um i there weren't as i recall or at least i wasn't aware of that many Americans there except for a very heavy concentration of Peace Corps volunteers this was when the Peace Corps first are started and it was one of the big targets\", 'hypothesis': \"Aside from the numerous Peace Corps volunteers, I didn't know many Americans there.\", 'label': 0, 'predicted_scores': [1.669129490852356, -1.272925615310669, -0.9295409917831421], 'predicted_label': 0}\n",
            "\n",
            "\n",
            "{'premise': ' 8th circa b.c.Greeks colonize Sicily and other southern regions', 'hypothesis': 'Before colonizing the southern regions, the Greeks conquered the northern regions.', 'label': 1, 'predicted_scores': [-0.5230989456176758, 1.7193492650985718, -1.7334970235824585], 'predicted_label': 1}\n",
            "\n",
            "\n",
            "{'premise': \"We shouldn't have been here as soon as this even, if it hadn't been for the fact that there was a smart doctor on the spot, who gave us the tip through the Coroner. \", 'hypothesis': 'The doctor and the Coroner decided not to give us the tip.', 'label': 2, 'predicted_scores': [0.558164656162262, -1.480127215385437, 0.8423513174057007], 'predicted_label': 2}\n",
            "\n",
            "\n",
            "{'premise': 'Control activities occur at all levels and functions of the entity.', 'hypothesis': 'Control activities happen everywhere in the entity. ', 'label': 0, 'predicted_scores': [1.238181471824646, -1.1534560918807983, -0.41632166504859924], 'predicted_label': 0}\n",
            "\n",
            "\n",
            "{'premise': 'Even the most aged and infirm travel here to die, for nothing is more blessed for a devout Hindu than to die in the great waters of the Varanasi and thus be released from the eternal cycle of rebirth.', 'hypothesis': 'Sick and elderly people travel here from all over the country, and even from other countries.', 'label': 1, 'predicted_scores': [-0.04999788850545883, 1.1698296070098877, -1.686132550239563], 'predicted_label': 1}\n",
            "\n",
            "\n",
            "{'premise': 'Although it ceased to be a political capital in 1707 (when Scotland joined with England to create the United Kingdom), Edinburgh was at the forefront of intellectual debate.', 'hypothesis': 'When Edinburgh ceased to be a political capital in the early 18th century, local political figures protested for a change in their infrastructure.', 'label': 1, 'predicted_scores': [-1.465281367301941, 1.5959234237670898, -0.41996103525161743], 'predicted_label': 1}\n",
            "\n",
            "\n",
            "{'premise': 'yeah okay yeah those games are fun to watch you you you watch those games', 'hypothesis': 'Those games are a lot of fun.', 'label': 0, 'predicted_scores': [2.4480066299438477, -0.12818342447280884, -3.870239019393921], 'predicted_label': 0}\n",
            "\n",
            "\n",
            "{'premise': \"have that well and it doesn't seem like very many people uh are really i mean there's a lot of people that are on death row but there's not very many people that actually um do get killed\", 'hypothesis': 'There are only a couple of people are on death row.', 'label': 2, 'predicted_scores': [-0.1404615193605423, -0.9256455302238464, 1.2084294557571411], 'predicted_label': 2}\n",
            "\n",
            "\n",
            "{'premise': \"Are you sure we should take him down there?' Greuze asked Natalia.\", 'hypothesis': 'Natalia asked Greuze if it was logical to take him down there.', 'label': 0, 'predicted_scores': [1.2509058713912964, 0.4269140958786011, -2.6445767879486084], 'predicted_label': 0}\n",
            "\n",
            "\n",
            "{'premise': \"Where alternative country runs into trouble is its tendency to ignore what's durable about country in favor of its stereotypical hay-bales-and-whiskey-bottles shtick.\", 'hypothesis': 'Alternative country is becoming more popular than the more stereotypical country.', 'label': 1, 'predicted_scores': [-0.5365393757820129, 0.3831626772880554, 0.0612776055932045], 'predicted_label': 1}\n",
            "\n",
            "\n",
            "{'premise': 'The Shore Temple, which has withstood the wind and the waves for 12 centuries, is made up of two shrines.', 'hypothesis': 'The Shore Temple has been lost to time. ', 'label': 2, 'predicted_scores': [-2.771059274673462, 0.07912534475326538, 2.4679856300354004], 'predicted_label': 2}\n",
            "\n",
            "\n",
            "{'premise': \"kind of kind of nothing i won't have anything to do with\", 'hypothesis': \"I don't want anything to do with it, no doubts about it.\", 'label': 0, 'predicted_scores': [1.0938489437103271, 0.5441949963569641, -2.585667848587036], 'predicted_label': 0}\n",
            "\n",
            "\n",
            "{'premise': 'She gave the girl clothes and gifts and took her to her Connecticut estate for weekend pony rides, according to the Star . How was I supposed to compete with that?', 'hypothesis': \"She gave the girl clothes, gifts and pony rides. That's hard to compete with.\", 'label': 0, 'predicted_scores': [0.9882034659385681, 0.21726897358894348, -1.964326024055481], 'predicted_label': 0}\n",
            "\n",
            "\n",
            "{'premise': 'And he claimed she earned $11,000 a month - or $132,000 a year - from a home quilting business she had owned for 22 years.', 'hypothesis': 'Quilting is a profitable hobby.', 'label': 1, 'predicted_scores': [0.2723517119884491, 1.635180115699768, -2.756423234939575], 'predicted_label': 1}\n",
            "\n",
            "\n",
            "{'premise': 'The centralization dear to Richelieu and Louis XIV was becoming a reality.', 'hypothesis': 'Louis XIV cared a lot about centralization.', 'label': 0, 'predicted_scores': [1.939802646636963, -0.22712242603302002, -2.8750476837158203], 'predicted_label': 0}\n",
            "\n",
            "\n",
            "{'premise': \"now you know the ball'll go straight and i go  i never broke a club or anything but you know i'd get upset about it sometimes and now i guess you know being in my forties i just kind of mellowed out a little bit i don't get upset any more so\", 'hypothesis': 'I used to get upset about it, but not anymore.', 'label': 0, 'predicted_scores': [1.8698532581329346, -1.6143100261688232, -0.9157698154449463], 'predicted_label': 0}\n",
            "\n",
            "\n",
            "{'premise': \"he's a college graduate type guy he's been in all he's an entrepreneur and he gives very practical financial advice about cars very you know not not nothing college level basic stuff his name is Bruce Williams he's on national radio uh i don't know what it would be down there you might want to whatever your radio talk shows are down there he's on that channel it's uh it's five seventy up here\", 'hypothesis': 'the entrepreneur advises people about the financial aspect of cars', 'label': 0, 'predicted_scores': [0.2780897319316864, 0.0185931995511055, -0.24487797915935516], 'predicted_label': 0}\n",
            "\n",
            "\n",
            "{'premise': \"36 million could mean the state's legal services for the poor will lose six of their 21 regional offices, the head of a poverty-law resource center said.\", 'hypothesis': 'LSC will get a big increase in funding soon.', 'label': 1, 'predicted_scores': [-1.6908416748046875, 1.7687427997589111, -0.37837278842926025], 'predicted_label': 1}\n",
            "\n",
            "\n",
            "{'premise': 'Last year, Arafat cracked down on Hamas after a string of bombings in Tel Aviv and Jerusalem, arresting more than 1,200 suspected terrorists, destroying Hamas safe houses, and confiscating its weapons caches.', 'hypothesis': 'Arafat arrested over a thousand suspected terrorists.', 'label': 0, 'predicted_scores': [0.7522639036178589, -0.5582108497619629, -0.2594793736934662], 'predicted_label': 0}\n",
            "\n",
            "\n",
            "{'premise': 'I am so constituted as to be unable to give away money with any satisfaction until I have made the most careful inquiry as to the worthiness of the cause.', 'hypothesis': 'I have to research a cause carefully before donating money to it.', 'label': 0, 'predicted_scores': [1.2567059993743896, 0.3915746808052063, -2.6206939220428467], 'predicted_label': 0}\n",
            "\n",
            "\n",
            "{'premise': 'The policy succeeded, and I was fortunate to have had the opportunity to make that contribution to my people.', 'hypothesis': 'Because the policy was a success, I was able to make a contribution to my people.', 'label': 0, 'predicted_scores': [2.2778894901275635, 1.0162811279296875, -5.00025749206543], 'predicted_label': 0}\n",
            "\n",
            "\n",
            "{'premise': 'We hate them because they are smarter, or more studious, or more focused than we are.', 'hypothesis': 'We hold no ill will towards them.', 'label': 2, 'predicted_scores': [-0.4077983796596527, -0.931779682636261, 1.515626072883606], 'predicted_label': 2}\n",
            "\n",
            "\n",
            "{'premise': 'Strom Thurmond , R-S.C., celebrated his 95 th birthday by announcing that he will relinquish the chairmanship of the Senate Armed Services Committee a year from now.', 'hypothesis': 'On his 85 Birthday, Strom Thurmond announced he will be running for president.', 'label': 2, 'predicted_scores': [-0.19503261148929596, -0.37264278531074524, 0.7805930376052856], 'predicted_label': 2}\n",
            "\n",
            "\n",
            "{'premise': 'In 392 the Emperor Theodosius proclaimed Christianity to be the official religion of the Roman Empire, and on his death in 395 the empire was split once more, between his two sons, and was never again to be reunited.', 'hypothesis': 'The Emperor Theodosius, in 392, proclaimed Christianity to be the official religion of the Roman Empire.', 'label': 0, 'predicted_scores': [1.5780348777770996, -1.7256171703338623, -0.3286886513233185], 'predicted_label': 0}\n",
            "\n",
            "\n",
            "{'premise': \"For the beginner ' and for most others, too ' Beaune is the place to buy.\", 'hypothesis': 'Beaune is the best place to buy from for beginners.', 'label': 0, 'predicted_scores': [0.3739621043205261, -0.10032537579536438, -0.184727281332016], 'predicted_label': 0}\n",
            "\n",
            "\n",
            "{'premise': 'Lewis brought to the campaign the same intensity he had trained upon redneck troopers and sheriffs.', 'hypothesis': 'Lewis was a strict and obsessed with details perfectionist.', 'label': 1, 'predicted_scores': [-0.5328819751739502, 0.2807798981666565, 0.1970188021659851], 'predicted_label': 1}\n",
            "\n",
            "\n",
            "{'premise': \"Ca'daan closed the door behind them and retied the not.\", 'hypothesis': \"Ca'daan strode through the door, leaving it wide open as he began his speech to the assembled nobles.\", 'label': 2, 'predicted_scores': [-3.504335641860962, 0.3251243829727173, 2.824392080307007], 'predicted_label': 2}\n",
            "\n",
            "\n",
            "{'premise': 'After several years of private practice from 1982-90, he became the judge of Decatur County Court for a year.', 'hypothesis': \"He was Decatur County's Court judge for one year.\", 'label': 0, 'predicted_scores': [1.9580051898956299, -1.2306106090545654, -1.4786683320999146], 'predicted_label': 0}\n",
            "\n",
            "\n",
            "{'premise': 'and you back in you know and or just pull into your spot and uh some you can rent by the year some you can rent daily or nightly or by the week or whatever', 'hypothesis': 'The only way of renting them is monthly.', 'label': 2, 'predicted_scores': [-1.211608648300171, 0.3088686466217041, 0.7832021117210388], 'predicted_label': 2}\n",
            "\n",
            "\n",
            "{'premise': 'France knew a good thing when she seized one, but then so did Britain.', 'hypothesis': 'France thought this was bad.', 'label': 2, 'predicted_scores': [-0.6461619734764099, -0.2449149489402771, 1.0761587619781494], 'predicted_label': 2}\n",
            "\n",
            "\n",
            "{'premise': \"Some experts say there's a greater chance of a making a catch in the cooler days of spring and autumn, and in the hours after sunset.\", 'hypothesis': 'Experts say you should never try to make a catch after sunset.', 'label': 2, 'predicted_scores': [-2.773876905441284, 0.14029589295387268, 2.3881747722625732], 'predicted_label': 2}\n",
            "\n",
            "\n",
            "{'premise': 'Ricky Martin was filming his triumphant return to the gay porn industry.', 'hypothesis': 'Ricky Martin is a gay porn star.', 'label': 0, 'predicted_scores': [1.6159940958023071, 0.34016546607017517, -3.137424945831299], 'predicted_label': 0}\n",
            "\n",
            "\n",
            "{'premise': \"yeah that's that's a big step yeah\", 'hypothesis': 'Yes, you have to be committed to make that big step.', 'label': 1, 'predicted_scores': [-0.03529070317745209, 0.3584461808204651, -0.5273799896240234], 'predicted_label': 1}\n",
            "\n",
            "\n",
            "{'premise': \"no that's true and and and Lord knows with that legislature up there they probably did all kinds of things while he wasn't looking\", 'hypothesis': 'The Legislature always acts responsibly.', 'label': 2, 'predicted_scores': [-0.9446007609367371, 0.2920679450035095, 0.5655962824821472], 'predicted_label': 2}\n",
            "\n",
            "\n",
            "{'premise': \"yeah um gosh i think it was only like three and a half pounds and for me that's big that's why i'm saying i love to go fishing because i've never caught anything really really big um so because it's always been you know in the on a lake and uh i know they have bigger fish than that but you know three and a half pounds and that was huge for me\", 'hypothesis': 'It was almost fifty pounds.', 'label': 2, 'predicted_scores': [-1.500704288482666, -0.011121716350317001, 1.4903484582901], 'predicted_label': 2}\n",
            "\n",
            "\n",
            "{'premise': \"It's conceivable that some of these allegations are true, and there's no harm in checking them out, as long as the decedent's family agrees to participate.\", 'hypothesis': 'Some of the allegations might be true.', 'label': 0, 'predicted_scores': [1.5182158946990967, 1.4480540752410889, -4.350651264190674], 'predicted_label': 0}\n",
            "\n",
            "\n",
            "{'premise': \"He looks so awfully tired and bored, and yet you feel that underneath he's just like steel, all keen 38 and flashing.\", 'hypothesis': 'He looks disengaged and very worn out.', 'label': 0, 'predicted_scores': [0.6746336817741394, -0.10244189947843552, -0.8275617361068726], 'predicted_label': 0}\n",
            "\n",
            "\n",
            "{'premise': 'The Congress also told LSC that it could not continue to fund its grantees presumptively and that it must begin to distribute its funds on a competitive basis.', 'hypothesis': 'LSC was told by Congress no longer could grantees be funded presumptively and funds have to be distributed on a basis that is competitive. ', 'label': 0, 'predicted_scores': [1.7078262567520142, -1.3210517168045044, -0.9279698133468628], 'predicted_label': 0}\n",
            "\n",
            "\n",
            "{'premise': 'Keep young skins safe by covering them with sunblock or a T-shirt, even when in the water.', 'hypothesis': 'Sunblock is an unnecessary precaution if you are in the water.', 'label': 2, 'predicted_scores': [-0.3586755096912384, -0.1406741738319397, 0.7067978382110596], 'predicted_label': 2}\n",
            "\n",
            "\n",
            "{'premise': \"or just get out and walk uh or even jog a little although i don't do that regularly but Washington's a great place to do that\", 'hypothesis': '\"Washington\\'s and Abraham\\'s are great places for a walk or a jog.\"', 'label': 1, 'predicted_scores': [-1.5867246389389038, 2.026334285736084, -0.8011685013771057], 'predicted_label': 1}\n",
            "\n",
            "\n",
            "{'premise': \"and when they get out they should have uh i don't know you know some reasonable amount of money\", 'hypothesis': 'They should have ample financial capacity upon release.', 'label': 0, 'predicted_scores': [0.6284084916114807, -0.20122331380844116, -0.5031128525733948], 'predicted_label': 0}\n",
            "\n",
            "\n",
            "{'premise': \"When Jesus was born in about 4 b.c. , Joseph and Mary escaped Herod's paranoia by fleeing into Egypt with the new-born infant.\", 'hypothesis': 'The flight to Egypt and the precise timeline have been debated by historians for centuries.', 'label': 1, 'predicted_scores': [-2.6955370903015137, 1.2898435592651367, 0.9882990121841431], 'predicted_label': 1}\n",
            "\n",
            "\n",
            "{'premise': 'The Praya, the promenade in front of the ferry pier, is a good place to observe the many junks and fishing boats in the harbor.', 'hypothesis': 'The fishing boats make a big commotion in the harbor that can be heard from the Praya.', 'label': 1, 'predicted_scores': [-1.028105616569519, 1.6701003313064575, -1.025273084640503], 'predicted_label': 1}\n",
            "\n",
            "\n",
            "{'premise': \"It's absurd but I can't help it. Sir James nodded again.\", 'hypothesis': \"Sir James thinks it's absurd to feel this way, but can't shake the feeling.\", 'label': 1, 'predicted_scores': [0.2756476402282715, 0.9690910577774048, -1.8997315168380737], 'predicted_label': 1}\n",
            "\n",
            "\n",
            "{'premise': \"because the cold weather was just simply trapped along the ground and couldn't get away\", 'hypothesis': 'The weather stayed for much too long.', 'label': 1, 'predicted_scores': [-0.9104840159416199, 0.45654717087745667, 0.3277001678943634], 'predicted_label': 1}\n",
            "\n",
            "\n",
            "{'premise': 'The entire setup has an anti-competitive, anti-entrepreneurial flavor that rewards political lobbying rather than good business practices.', 'hypothesis': 'The setup rewards good business practices.', 'label': 2, 'predicted_scores': [-0.14031748473644257, -1.0171295404434204, 1.307329773902893], 'predicted_label': 2}\n",
            "\n",
            "\n",
            "{'premise': '7) Nonautomated First-Class and Standard-A mailers have the option of requesting that their mail be processed manually, even though the costs for such processing are substantially higher than mechanized processing.', 'hypothesis': 'Nonautomated First-Class and Standard-A mailers can ask for their mail to be processed by hand, though it costs the postal service 40% more.', 'label': 1, 'predicted_scores': [-1.4834411144256592, 0.9239299893379211, 0.30469170212745667], 'predicted_label': 1}\n",
            "\n",
            "\n",
            "{'premise': 'But those that are manufactured for sale in in Europe and so forth are quite the other way around', 'hypothesis': 'Products are made with differently designed machines in Europe.', 'label': 1, 'predicted_scores': [0.026368912309408188, 0.14681094884872437, -0.1598411500453949], 'predicted_label': 1}\n",
            "\n",
            "\n",
            "{'premise': \"But they also don't seem to mind when the tranquillity of a Zen temple rock garden is shattered by recorded announcements blaring from loudspeakers parroting the information already contained in the leaflets provided at the ticket office; when heavy-metal pop music loudly emanates from the radio of the middle-aged owner of a corner grocery store; and when parks, gardens, and hallowed temples are ringed by garish souvenir shops whose shelves display both the tastefully understated and the hideously kitsch.\", 'hypothesis': 'A Zen temple rock garden is a a place for lots of people to gather and celebrate.', 'label': 1, 'predicted_scores': [-1.8539279699325562, 2.174082040786743, -0.6833885312080383], 'predicted_label': 1}\n",
            "\n",
            "\n",
            "{'premise': \"yeah its too open yeah and there's uh they have got some forty to fifty foot high cliffs around Possum Kingdom and you just get up and ski uh adjacent to those and uh and it doesn't make any difference how windy it is you don't notice it\", 'hypothesis': 'Possum Kingdom attracts lots of skiers from all over the world.', 'label': 1, 'predicted_scores': [-0.9987118244171143, 0.864898145198822, -0.09411345422267914], 'predicted_label': 1}\n",
            "\n",
            "\n",
            "{'premise': \"have that well and it doesn't seem like very many people uh are really i mean there's a lot of people that are on death row but there's not very many people that actually um do get killed\", 'hypothesis': 'There are a lot of people on death row, but not that many actually are executed.', 'label': 0, 'predicted_scores': [0.7396147847175598, -0.934634804725647, 0.10845625400543213], 'predicted_label': 0}\n",
            "\n",
            "\n",
            "{'premise': 'Penrith and Blencathra are also Celtic names, established during this early period of settlement.', 'hypothesis': 'Penrith and Blencathra are names which go back to ancient Rome.', 'label': 2, 'predicted_scores': [-2.2963595390319824, 0.8760160207748413, 1.0870842933654785], 'predicted_label': 2}\n",
            "\n",
            "\n",
            "{'premise': 'Managing better requires that agencies have, and rely upon, sound financial and program information.', 'hypothesis': 'Agencies that rely on information based on unsound financial information will have management problems.', 'label': 1, 'predicted_scores': [-0.043386150151491165, 0.15360429883003235, -0.057214997708797455], 'predicted_label': 1}\n",
            "\n",
            "\n",
            "{'premise': \"The director, Michael Mann, has never tried to tell a story as complex (or nonviolent) as The Insider , and he and his co-screenwriter, Eric Roth, don't shape their narrative very satisfyingly.\", 'hypothesis': 'Michael Mann directed it.', 'label': 0, 'predicted_scores': [1.6846083402633667, -1.0407382249832153, -1.2489913702011108], 'predicted_label': 0}\n",
            "\n",
            "\n",
            "{'premise': \"my goodness it's hard to believe i didn't think there was anybody in the country who hadn't seen that one\", 'hypothesis': 'I thought everyone in the US had already seen that movie. ', 'label': 1, 'predicted_scores': [-2.3105721473693848, 2.3250632286071777, -0.3548958897590637], 'predicted_label': 1}\n",
            "\n",
            "\n",
            "{'premise': 'There are certain categories of control activities that are common to all agencies.', 'hypothesis': 'Control activities such as safe business practices are universally common across all agencies.', 'label': 1, 'predicted_scores': [-0.749123752117157, 0.42197906970977783, 0.2159734070301056], 'predicted_label': 1}\n",
            "\n",
            "\n",
            "{'premise': 'High Crimes is painfully shoddy, even for a book rushed to press.', 'hypothesis': 'High Crimes is a poor book and is not excused by being rushed to press. ', 'label': 0, 'predicted_scores': [0.27777305245399475, 0.03976897522807121, -0.33210524916648865], 'predicted_label': 0}\n",
            "\n",
            "\n",
            "{'premise': \"i think there would be an awful lot of resentment and um i i really don't think it would be feasible on our country\", 'hypothesis': \"I think it would lead to resentment and it's not something that is feasible for the country. \", 'label': 0, 'predicted_scores': [1.9859782457351685, -1.229533314704895, -1.543363094329834], 'predicted_label': 0}\n",
            "\n",
            "\n",
            "{'premise': \"And it needs work too, you know, in case I have to jump out with this parachute from my lil' blue sports plane for real.'\", 'hypothesis': 'It needs to work Incase he needs to jump out of a small window.', 'label': 2, 'predicted_scores': [-1.4840354919433594, 0.19384613633155823, 1.1907628774642944], 'predicted_label': 2}\n",
            "\n",
            "\n",
            "{'premise': 'you know it took away a lot of of time from them we did go out to you know to the places that you typically take children to and we had a lot of fun but it seems as though the time went by so fast that', 'hypothesis': 'Time went by fast and we went golfing with the kids.', 'label': 1, 'predicted_scores': [-1.4464244842529297, 0.7563850283622742, 0.46218374371528625], 'predicted_label': 1}\n",
            "\n",
            "\n",
            "{'premise': 'After the execution of Guru Tegh Bahadur, his son, Guru Gobind Singh, exalted the faithful to be ever ready for armed defense.', 'hypothesis': 'Guru Gobind Singh was unsuccessful in his defense.', 'label': 1, 'predicted_scores': [-0.12911207973957062, 0.2594195604324341, -0.1887814849615097], 'predicted_label': 1}\n",
            "\n",
            "\n",
            "{'premise': 'Very often the emperor was only a minor, so that the Fujiwara patriarch acted as regent.', 'hypothesis': 'It was not possible to be an emperor unless you were at least 18. ', 'label': 2, 'predicted_scores': [0.31823062896728516, -1.343840479850769, 1.0304538011550903], 'predicted_label': 2}\n",
            "\n",
            "\n",
            "{'premise': \"life in prison then he's available for parole if it's if it's life and a day then he's not eligible for parole so what you know let's quit BSing with the system\", 'hypothesis': \"The system is corrupt because he won't be able to get parole if it's life and a day.\", 'label': 1, 'predicted_scores': [-0.3436864912509918, 1.157701849937439, -1.2392557859420776], 'predicted_label': 1}\n",
            "\n",
            "\n",
            "{'premise': \"yeah i'm trying to find out how long we're supposed talk\", 'hypothesis': \"I'm not sure how long we're supposed to talk for.\", 'label': 0, 'predicted_scores': [0.6510282754898071, -0.19474053382873535, -0.5347469449043274], 'predicted_label': 0}\n",
            "\n",
            "\n",
            "{'premise': 'In 1982, Wallace won his last race for governor with a quarter of the black votes cast in the Democratic primary, a fact alluded to in a written epilogue at the end of the film.', 'hypothesis': 'Wallace was reelected as governor of Illinois.', 'label': 1, 'predicted_scores': [-1.503265380859375, 1.4145792722702026, -0.17804327607154846], 'predicted_label': 1}\n",
            "\n",
            "\n",
            "{'premise': 'Two economists at Virginia Commonwealth University--yes, here are the economists again, but this time making a more plausible argument--studied millions of auto-accident claims filed between 1989 and 1993.', 'hypothesis': 'The researchers contacted insurers for the data from 1989 and 1993.', 'label': 1, 'predicted_scores': [-0.24992786347866058, 0.7577595114707947, -0.839591383934021], 'predicted_label': 1}\n",
            "\n",
            "\n",
            "{'premise': \"i don't know i i do i can think of all the uh the biblical things about it too where what did they say to uh i can't think of the scripture Render unto Caesar's what is Caesar's so\", 'hypothesis': 'I know this because I own a bible.', 'label': 1, 'predicted_scores': [-1.1061100959777832, 1.7370942831039429, -0.9914172887802124], 'predicted_label': 1}\n",
            "\n",
            "\n",
            "{'premise': 'Helms, who will be 81 when his fifth term ends, is increasingly frail.', 'hypothesis': 'Helms will turn 81 next month.', 'label': 1, 'predicted_scores': [-0.15558286011219025, 1.4363749027252197, -1.8754138946533203], 'predicted_label': 1}\n",
            "\n",
            "\n",
            "{'premise': \"and these poor guys out there uh trying to uphold the law um i don't know i kind of think they should bring back capital punishment\", 'hypothesis': 'If I were tasked with upholding the law, I would retire.', 'label': 1, 'predicted_scores': [-0.16694682836532593, 0.14996537566184998, 0.0965852439403534], 'predicted_label': 1}\n",
            "\n",
            "\n",
            "{'premise': \"On the second point, Judge Newton said in a recent interview, I've heard this complaint a hundred times.\", 'hypothesis': 'Judge Newton was not convinced by the second point.', 'label': 1, 'predicted_scores': [-0.39346498250961304, 0.7488297820091248, -0.625877320766449], 'predicted_label': 1}\n",
            "\n",
            "\n",
            "{'premise': 'Larger ski resorts are 90 minutes away.', 'hypothesis': 'If we travel for 90 minutes, we could arrive at larger ski resorts.', 'label': 0, 'predicted_scores': [0.30459433794021606, 0.2989926338195801, -0.950251579284668], 'predicted_label': 0}\n",
            "\n",
            "\n",
            "{'premise': 'This tourist heartland is also home to 100,000 Jamaicans who live in the hills surrounding the town.', 'hypothesis': 'Beautiful white beaches are the reason this town is so popular with tourists.', 'label': 1, 'predicted_scores': [-2.4725303649902344, 2.0575191974639893, 0.04195006191730499], 'predicted_label': 1}\n",
            "\n",
            "\n",
            "{'premise': \"i wonder how they kept up with them though it seemed like the buffaloes were moving so fast i guess they graze though that wouldn't have been a problem\", 'hypothesis': \"The buffaloes didn't stop to graze for a long time.\", 'label': 1, 'predicted_scores': [-1.2042194604873657, 1.3163095712661743, -0.37091782689094543], 'predicted_label': 1}\n",
            "\n",
            "\n",
            "{'premise': 'He wanted silk and encouraged the Dutch and British as good, nonproselytizing Protestants just interested in trade.', 'hypothesis': 'He found that silk was perfect for the rich.', 'label': 1, 'predicted_scores': [-1.32252037525177, 1.1551870107650757, -0.09220481663942337], 'predicted_label': 1}\n",
            "\n",
            "\n",
            "{'premise': 'The order was founded by James VII (James II of England) and continues today.', 'hypothesis': 'Kings frequently founded orders that can still be found today.', 'label': 1, 'predicted_scores': [0.7413566708564758, 0.8747044205665588, -2.4746992588043213], 'predicted_label': 1}\n",
            "\n",
            "\n",
            "{'premise': 'There was no longer any  when you wanted some unbridled adult fun, Las Vegas was the place to be.', 'hypothesis': 'Las Vegas was the destination for pure fun for adults.', 'label': 0, 'predicted_scores': [0.7262680530548096, -0.8842912912368774, 0.08284111320972443], 'predicted_label': 0}\n",
            "\n",
            "\n",
            "{'premise': 'Slate could have put someone with a reasonable grasp of elementary finance and a balanced viewpoint in charge of writing a tax piece.', 'hypothesis': 'Slate has incompetent people write their tax pieces.', 'label': 1, 'predicted_scores': [-1.0689802169799805, 1.638100504875183, -0.9276171922683716], 'predicted_label': 1}\n",
            "\n",
            "\n",
            "{'premise': 'The great attraction of the church is the splendid exterior, which is crowned by golden onion-shaped cupolas.', 'hypothesis': 'Most people come to the church to see the beautiful exterior.', 'label': 0, 'predicted_scores': [1.459177017211914, 0.1788453459739685, -2.6681625843048096], 'predicted_label': 0}\n",
            "\n",
            "\n",
            "{'premise': 'Some 72,000 volcano-zone residents were evacuated at great cost to the French government.', 'hypothesis': '720,000 volcano-zone residents were evacuated at the expense of the French government.', 'label': 2, 'predicted_scores': [0.40152329206466675, -1.533265471458435, 1.0830323696136475], 'predicted_label': 2}\n",
            "\n",
            "\n",
            "{'premise': 'With dark eyes and eyelashes she would have been a beauty. ', 'hypothesis': \"She would have been gorgeous if she'd not had such light colored eyes.\", 'label': 0, 'predicted_scores': [0.5649475455284119, 0.48923584818840027, -1.6516956090927124], 'predicted_label': 0}\n",
            "\n",
            "\n",
            "{'premise': 'In the moment of victory, Tuppence betrayed a somewhat unsportsmanlike triumph.', 'hypothesis': 'Tuppence was not very gracious when she won.', 'label': 0, 'predicted_scores': [0.2800920605659485, 0.12993039190769196, -0.6041865944862366], 'predicted_label': 0}\n",
            "\n",
            "\n",
            "{'premise': 'Yes, Elizabeth Taylor, Norman Mailer, Warren Beatty, David Rockefeller, and Mick Jagger will go to a nightclub, but only if they are reasonably certain that Diana Ross, William F. Buckley Jr., Salvador Dali, Betty Ford, Frank Sinatra, Mikhail Baryshnikov, and the king of Cyprus will show up too--and vice versa.', 'hypothesis': 'A group of celebrities will be at the nightclub as long as another specific group is there. ', 'label': 0, 'predicted_scores': [2.0961689949035645, 0.11912842094898224, -3.6161611080169678], 'predicted_label': 0}\n",
            "\n",
            "\n",
            "{'premise': 'Two, most other productive operations are easier to study and understand, since few firms have 40,000 locations and a large proportion of their workforce working outdoors.', 'hypothesis': \"The productivity of the operations is directly related to the workforce that's based outdoors.\", 'label': 1, 'predicted_scores': [-0.4319869875907898, 0.6912422180175781, -0.5009150505065918], 'predicted_label': 1}\n",
            "\n",
            "\n",
            "{'premise': 'Instead, we could recommend that, compared with other settings, the prevalence of alcohol problems among ED patients makes it worthy of careful consideration.', 'hypothesis': 'The vast majority of ED patients also suffer from alcohol dependency issues.', 'label': 1, 'predicted_scores': [-0.3712724447250366, 0.5626142621040344, -0.3710821866989136], 'predicted_label': 1}\n",
            "\n",
            "\n",
            "{'premise': 'to do it before you know before it gets hot and one time last year i remember we were planning on doing that and it was eighty degrees even then', 'hypothesis': 'Last year we were planning on doing that, but it was already 80 degrees. ', 'label': 0, 'predicted_scores': [0.6459531784057617, -0.16512274742126465, -0.5325108766555786], 'predicted_label': 0}\n",
            "\n",
            "\n",
            "{'premise': 'He appropriated for the State much of the personal fortunes of the princes, but found it harder to curtail the power of land-owners who had extensive contacts with the more conservative elements in his Congress Party.', 'hypothesis': \"He had an easy time of taking money from land-owners in contact with his Congress Party, but couldn't get his hands on the fortunes of individual princes.\", 'label': 2, 'predicted_scores': [-0.10673119127750397, -0.6998927593231201, 0.9829078912734985], 'predicted_label': 2}\n",
            "\n",
            "\n",
            "{'premise': 'IDAs are special in that low-income savers receive matching funds from federal and state governments as well as private sector organizations as an incentive to save.', 'hypothesis': 'IDAs are only people special people who have great achievements.', 'label': 2, 'predicted_scores': [-0.14372046291828156, 0.09170641750097275, 0.15761561691761017], 'predicted_label': 2}\n",
            "\n",
            "\n",
            "{'premise': 'Postal Service could increase those same rates by at least 13.', 'hypothesis': 'The Postal Service would like to see the rates even higher than that.', 'label': 1, 'predicted_scores': [0.45643702149391174, 0.7294424772262573, -1.8509315252304077], 'predicted_label': 1}\n",
            "\n",
            "\n",
            "{'premise': 'Students of human misery can savor its underlying sadness and futility.', 'hypothesis': 'Students of human misery will be delighted to see how sad it truly is.', 'label': 0, 'predicted_scores': [0.8295103907585144, 0.5588058233261108, -2.1804423332214355], 'predicted_label': 0}\n",
            "\n",
            "\n",
            "{'premise': 'yeah right right yeah i know i uh i remember my college days  and having to do that too', 'hypothesis': \"I didn't have to do that once I left college.\", 'label': 1, 'predicted_scores': [-0.6776610016822815, 0.9821931719779968, -0.5632791519165039], 'predicted_label': 1}\n",
            "\n",
            "\n",
            "{'premise': \"and my and my part-time work you know it's not our the restaurant our favorite restaurant in the town of Salisbury where actually we live you know where my where i'll return to my job or whatever we can normally eat out for um under fourteen dollars\", 'hypothesis': 'My first part time job was in a restaurant in Salisbury where you could eat out for under $14.', 'label': 1, 'predicted_scores': [0.11550936102867126, 1.2252196073532104, -1.9836395978927612], 'predicted_label': 1}\n",
            "\n",
            "\n",
            "{'premise': \"although the uh it's uh it we almost one day we painted the house to uh we painted we painted the whole inside and it had all this dark trim we thought uh you know we did the one wall but the other trim i'm trying to think i think i think we left most of it because it gets to be uh they don't do that in the newer houses now we don't the uh mold everything is white in a new house everything is white\", 'hypothesis': 'It took over a day to paint the house', 'label': 1, 'predicted_scores': [-0.1948980987071991, 1.1728070974349976, -1.5042515993118286], 'predicted_label': 1}\n",
            "\n",
            "\n",
            "{'premise': \"it's actually there well Iraq has had uh designs on that place since nineteen twenty two so you know it wasn't like something that just suddenly popped up\", 'hypothesis': 'Many Iraqis feel like that place was unfairly taken away from them.', 'label': 1, 'predicted_scores': [-0.32664090394973755, 1.2304097414016724, -1.3885431289672852], 'predicted_label': 1}\n",
            "\n",
            "\n",
            "{'premise': 'Since The Bell Curve was published, it has become clear that almost everything about it was inexcusably  suspect data, mistakes in statistical procedures that would have flunked a sophomore (Murray--Herrnstein is deceased--clearly does not understand what a correlation coefficient means), deliberate suppression of contrary evidence, you name it.', 'hypothesis': 'The Bell Curve is based on faulty data and unethical work.', 'label': 0, 'predicted_scores': [0.9016036987304688, -0.06279076635837555, -1.3296475410461426], 'predicted_label': 0}\n",
            "\n",
            "\n",
            "{'premise': \"He dismounted and Ca'daan saw he was smaller than the rest.\", 'hypothesis': 'He was shorter than the others.', 'label': 0, 'predicted_scores': [0.5226346254348755, -0.2709541916847229, -0.2218794822692871], 'predicted_label': 0}\n",
            "\n",
            "\n",
            "{'premise': 'They keep romance and marriage apart  \" Tommy flushed.', 'hypothesis': \"Tommy said they don't mix romance and marriage and they have a good relationship.\", 'label': 1, 'predicted_scores': [-0.8633574843406677, 1.9680124521255493, -1.5886634588241577], 'predicted_label': 1}\n",
            "\n",
            "\n",
            "{'premise': 'He and his wife had lived at Styles Court in every luxury, surrounded by her care and attention. ', 'hypothesis': 'She lived in poverty and squalor at Styles Court.', 'label': 2, 'predicted_scores': [-0.3220590353012085, -0.13717511296272278, 0.6613776087760925], 'predicted_label': 2}\n",
            "\n",
            "\n",
            "{'premise': \"although the uh it's uh it we almost one day we painted the house to uh we painted we painted the whole inside and it had all this dark trim we thought uh you know we did the one wall but the other trim i'm trying to think i think i think we left most of it because it gets to be uh they don't do that in the newer houses now we don't the uh mold everything is white in a new house everything is white\", 'hypothesis': 'It takes a day to paint the house.', 'label': 1, 'predicted_scores': [0.07514836639165878, 0.5485947132110596, -1.008346438407898], 'predicted_label': 1}\n",
            "\n",
            "\n",
            "{'premise': 'If the data from a series of tests performed with the same toxicant, toxicant concentrations, and test species, were analyzed with hypothesis tests, precision could only be assessed by a qualitative comparison of the NOEC-LOEC intervals, with the understanding that maximum precision would be attained if all tests yielded the same NOEC-LOEC interval.', 'hypothesis': 'They needed various data to test for toxicants.', 'label': 0, 'predicted_scores': [0.5126368999481201, -0.09817670285701752, -0.4853467345237732], 'predicted_label': 0}\n",
            "\n",
            "\n",
            "{'premise': \"but you're without a paycheck during that time and i don't at least that's my understanding is even you know the first time you go for counseling and it's six weeks before you're back to work\", 'hypothesis': 'You go to counciling?', 'label': 1, 'predicted_scores': [-0.15846224129199982, 0.8667422533035278, -1.1523791551589966], 'predicted_label': 1}\n",
            "\n",
            "\n",
            "{'premise': 'Bush the elder came of age when New England Republicans led the party, and patrician manners were boons to a Republican.', 'hypothesis': 'New England Republicans were weak.', 'label': 2, 'predicted_scores': [-1.8006672859191895, -0.28199461102485657, 2.078415632247925], 'predicted_label': 2}\n",
            "\n",
            "\n",
            "{'premise': 'but like they always say you know got a good profit sharing plan just no profit', 'hypothesis': 'This profit sharing plan sounds like a scam.', 'label': 1, 'predicted_scores': [-1.0770636796951294, 0.7799921631813049, 0.09049145877361298], 'predicted_label': 1}\n",
            "\n",
            "\n",
            "{'premise': \"News argues that most of America's 93 million volunteers aren't doing much good.\", 'hypothesis': \"News points out that America's volunteers need to do more.\", 'label': 1, 'predicted_scores': [0.12715783715248108, 1.347476601600647, -2.1760129928588867], 'predicted_label': 1}\n",
            "\n",
            "\n",
            "{'premise': 'Long Bay is seven miles of sublime fine sand, gentle azure water, and cooling palm trees.', 'hypothesis': 'Long Bay is measured to be seven miles.', 'label': 0, 'predicted_scores': [0.8788424134254456, 0.4257209897041321, -2.106255531311035], 'predicted_label': 0}\n",
            "\n",
            "\n",
            "{'premise': 'saving that did not finance domestic investment would increase net foreign investment and improve the current account balance.', 'hypothesis': 'Saving could increase net foreign investment  substantially and quickly. ', 'label': 1, 'predicted_scores': [-1.145991325378418, 1.5816047191619873, -0.7563616037368774], 'predicted_label': 1}\n",
            "\n",
            "\n",
            "{'premise': \"more than anything else in this day and age that's got to be a big factor in your decision's just the the cost of how much you're gonna pay\", 'hypothesis': 'In your decisions age is a big factor, and I agree with you thoughts', 'label': 1, 'predicted_scores': [-0.03494590148329735, 0.6709902286529541, -1.0420939922332764], 'predicted_label': 1}\n",
            "\n",
            "\n",
            "{'premise': ' The Romans never really infiltrated Ibiza, and even after the defeat of Hannibal in 202 b.c. during the Second Punic War their influence was restrained.', 'hypothesis': \"The Romans didn't infiltrate Ibiza because it wasn't valuable.\", 'label': 1, 'predicted_scores': [-1.4652773141860962, 1.265959620475769, -0.06868748366832733], 'predicted_label': 1}\n",
            "\n",
            "\n",
            "{'premise': \"Don't you remember? Today we're going to auntie Basia's birthday party.'\", 'hypothesis': \"We are going to Aunt Basia's birthday party today, remember?\", 'label': 0, 'predicted_scores': [1.3223044872283936, -1.4861618280410767, -0.19032379984855652], 'predicted_label': 0}\n",
            "\n",
            "\n",
            "{'premise': 'Ricky Martin was filming his triumphant return to the gay porn industry.', 'hypothesis': 'Ricky Martin is heterosexual.', 'label': 2, 'predicted_scores': [-0.40585577487945557, -0.3113493025302887, 0.9369879961013794], 'predicted_label': 2}\n",
            "\n",
            "\n",
            "{'premise': \"yeah the the i mean people like that are crazy i did a study on it though when i was in high school it was one of these things we had to pick a topic to to investigate and at that time i don't think it's like that any more but at that time uh it was very unfair capital punishment was a lot more  common and if you tended and it tended to be that if you were ignorant or if you were a foreigner or if you were black or any minority for that matter the chances your chances of of uh getting the death penalty were you know like hundreds of times greater than if you could just communicate well i mean you didn't have to be um you didn't even necessarily have to be white but if you could just communicate and you could come across in the court room with some kind of um\", 'hypothesis': \"I never attended school, mom wouldn't let me.\", 'label': 2, 'predicted_scores': [-0.6310698986053467, -0.3186509907245636, 1.17609441280365], 'predicted_label': 2}\n",
            "\n",
            "\n",
            "{'premise': \"This breakdown of PA-Israeli cooperation is the basis for the Israeli complaint that Arafat is culpable for last week's Jerusalem bombing.\", 'hypothesis': 'This breakdown of PA-Israeli cooperation is the basis for Israeli complaints that Arafat is culpable for last weeks Jerusalem bombing and the ones before it.', 'label': 1, 'predicted_scores': [0.3156113624572754, 1.9268794059753418, -3.13972544670105], 'predicted_label': 1}\n",
            "\n",
            "\n",
            "{'premise': 'Keep young skins safe by covering them with sunblock or a T-shirt, even when in the water.', 'hypothesis': 'The sun is usually intense there, causing sunburn easily.', 'label': 1, 'predicted_scores': [-1.7159554958343506, 0.8777505159378052, 0.5614196062088013], 'predicted_label': 1}\n",
            "\n",
            "\n",
            "{'premise': 'The first installment of the Star Wars Trilogy Special Edition opened in theaters everywhere.', 'hypothesis': 'Pirates of the Caribbean is also in theaters.  ', 'label': 1, 'predicted_scores': [-2.577843189239502, 1.3652526140213013, 0.8239843845367432], 'predicted_label': 1}\n",
            "\n",
            "\n",
            "{'premise': \"i quit i quit drinking at oh a long time ago quit drinking i didn't smoke i don't smoke i gave everything up so i guess i don't know what just old age i guess is why i\", 'hypothesis': 'I quit drinking and smoking an felt better but I guess it is just old age.', 'label': 1, 'predicted_scores': [-0.22867226600646973, 0.3396373689174652, -0.2033284604549408], 'predicted_label': 1}\n",
            "\n",
            "\n",
            "{'premise': 'The interior of the palace is very dark, and the use of flash is forbidden, so photographers should think twice before paying the extra fee for bringing in a camera or video equipment.', 'hypothesis': 'Think hard about whether or not you want to bring a camera, there is an extra fee and no flash allowed.', 'label': 0, 'predicted_scores': [1.5627492666244507, -1.062299132347107, -1.0386896133422852], 'predicted_label': 0}\n",
            "\n",
            "\n",
            "{'premise': 'For example, computers and related equipment have an estimated annual depreciation rate of 31 percent,7 and new versions of software applications are released every few years.', 'hypothesis': \"Computers will not be able to function to a business' standards once the equipment is 7 years old.\", 'label': 1, 'predicted_scores': [-0.582870602607727, 0.627282440662384, -0.20212560892105103], 'predicted_label': 1}\n",
            "\n",
            "\n",
            "{'premise': 'Beyond the Quantitative Cul-de- A Qualitative Perspective on Youth Employment Programs.', 'hypothesis': 'The paper says youth employment programs are helpful.', 'label': 1, 'predicted_scores': [0.2859165370464325, 1.1777039766311646, -2.1849184036254883], 'predicted_label': 1}\n",
            "\n",
            "\n",
            "{'premise': 'The Government does not sacrifice anything of value in exchange and the entity that forfeits the property does not receive anything of value.', 'hypothesis': 'Approximately 300 people forcibly forfeited their property in 2015.', 'label': 1, 'predicted_scores': [-3.2572760581970215, 2.650698184967041, 0.1723972111940384], 'predicted_label': 1}\n",
            "\n",
            "\n",
            "{'premise': \"yes they would they just wouldn't be able to own the kind of automobiles that they think they deserve to own or the kind of homes that we think we deserve to own we might have to you know just be able to i think if we a generation went without debt then the next generation like if if our our generation my husband and i we're twenty eight if we lived our lives and didn't become you know indebted like you know our generation before us that um the budget would balance and that we became accustomed to living with what we could afford which we wouldn't be destitute i mean we wouldn't be living on the street by any means but just compared to how spoiled we are we would be in our own minds but i feel like the generation after us would oh man it it would be so good it would be so much better it wouldn't be perfect but then they could learn to live with what what they could afford to save to buy and if you want a nicer car than that well you save a little longer\", 'hypothesis': 'Society would be perfect and there would be no more war if we could just rid ourselves of our debt.', 'label': 1, 'predicted_scores': [-0.6038227081298828, 0.6753904819488525, -0.23311083018779755], 'predicted_label': 1}\n",
            "\n",
            "\n",
            "{'premise': 'He wanted silk and encouraged the Dutch and British as good, nonproselytizing Protestants just interested in trade.', 'hypothesis': 'He made out the British and Dutch to be just interested in trading.', 'label': 0, 'predicted_scores': [0.9892760515213013, -0.4498041272163391, -0.7725916504859924], 'predicted_label': 0}\n",
            "\n",
            "\n",
            "{'premise': 'Most of the Clinton women were in their 20s at the time of their Clinton encounter', 'hypothesis': \"Bill Clinton isn't a rapist\", 'label': 1, 'predicted_scores': [-0.9008305072784424, 0.5017144083976746, 0.2748721241950989], 'predicted_label': 1}\n",
            "\n",
            "\n",
            "{'premise': 'If that investor were willing to pay extra for the security of limited downside, she could buy put options with a strike price of $98, which would lock in her profit on the shares at $18, less whatever the options cost.', 'hypothesis': \"The strike price of Lowe's stock could be $98.\", 'label': 1, 'predicted_scores': [-0.6463416218757629, 0.5413040518760681, -0.04425818473100662], 'predicted_label': 1}\n",
            "\n",
            "\n",
            "{'premise': 'with little back packs of their own and you know things like that', 'hypothesis': \"I'm not sure they're old enough to have back packs.\", 'label': 1, 'predicted_scores': [0.02635124698281288, 0.1617709994316101, -0.2091967612504959], 'predicted_label': 1}\n",
            "\n",
            "\n",
            "{'premise': \"Hong Kong has long been China's handiest window on the West, and the city is unrivaled in its commercial know-how and managerial expertise.\", 'hypothesis': 'Hong Kong is a great place to find commercial know-how.', 'label': 0, 'predicted_scores': [1.5899325609207153, -0.018007619306445122, -2.5800912380218506], 'predicted_label': 0}\n",
            "\n",
            "\n",
            "{'premise': 'Kentucky officials say there is a virtual epidemic of abusive relationships in the state.', 'hypothesis': 'There is a lot of domestic abuse in Kentucky.', 'label': 0, 'predicted_scores': [1.9140238761901855, -0.1296376883983612, -2.970457077026367], 'predicted_label': 0}\n",
            "\n",
            "\n",
            "{'premise': \"and the professors who go there and you're not going to see the professors you know you're going to see some TA you know uh\", 'hypothesis': \"You're going to see the TAs more than the professors.\", 'label': 0, 'predicted_scores': [0.44185730814933777, -0.16915294528007507, -0.2004024237394333], 'predicted_label': 0}\n",
            "\n",
            "\n",
            "{'premise': 'and for regular readers who are a bit confused about our schedule (and who can blame them?)', 'hypothesis': 'who can blame who greatly appreciates our schedule?', 'label': 2, 'predicted_scores': [-0.0643695816397667, 0.03709866851568222, 0.19812926650047302], 'predicted_label': 2}\n",
            "\n",
            "\n",
            "{'premise': \"These 900 hectares (2,224 acres) of parkland on the western edge of the city constitute one of Baron Haussmann's happier achievements.\", 'hypothesis': 'Baron Haussmann regrets implementing the 900 hectares of parkland on the western edge of the city.', 'label': 2, 'predicted_scores': [-1.4905529022216797, 0.1618959605693817, 1.2212592363357544], 'predicted_label': 2}\n",
            "\n",
            "\n",
            "{'premise': 'A proserous tourist district, it is full of shopping centers and department stores, along with a number of good restaurants.', 'hypothesis': 'The rich tourist district has shopping centers and a good number of restaurants.  ', 'label': 0, 'predicted_scores': [1.4078893661499023, 0.2335127294063568, -2.6532623767852783], 'predicted_label': 0}\n",
            "\n",
            "\n",
            "{'premise': \"i always wait for the movie i don't have time to read the book\", 'hypothesis': 'The movie is always better than the book.', 'label': 1, 'predicted_scores': [-0.5741366147994995, 0.5033864974975586, -0.054987601935863495], 'predicted_label': 1}\n",
            "\n",
            "\n",
            "{'premise': \"News ' cover says the proliferation of small computer devices and the ascendance of Web-based applications are eroding Microsoft's dominance.\", 'hypothesis': 'Microsoft is losing its dominance due to the emergence of Web-based applications.', 'label': 0, 'predicted_scores': [1.2718181610107422, -0.049706101417541504, -2.015486240386963], 'predicted_label': 0}\n",
            "\n",
            "\n",
            "{'premise': ' \"You\\'re not going to marry him, do you hear?\" he said dictatorially.', 'hypothesis': '\"You will not take him as your husband and run away.\"', 'label': 1, 'predicted_scores': [-0.6803708672523499, 0.9114730954170227, -0.48838186264038086], 'predicted_label': 1}\n",
            "\n",
            "\n",
            "{'premise': \"'Have you Mr. Whittington's address in town? \", 'hypothesis': 'Is the address for Mr. Whittington located in town or in the country?', 'label': 1, 'predicted_scores': [-0.6326026320457458, 2.186957597732544, -2.177978277206421], 'predicted_label': 1}\n",
            "\n",
            "\n",
            "{'premise': 'The unintended side effect is radical, direct  In what other state do voters set the tax rates?', 'hypothesis': 'There is a radical side effect that was not intended, said the teacher.', 'label': 1, 'predicted_scores': [-1.2005289793014526, 1.210567831993103, -0.26632553339004517], 'predicted_label': 1}\n",
            "\n",
            "\n",
            "{'premise': 'Marilyn Manson is darker, more serious, and more vicious than Alice Cooper was.', 'hypothesis': 'Alice Cooper was not as dark as Marilyn Manson.', 'label': 0, 'predicted_scores': [2.317674398422241, -1.4422404766082764, -1.8482766151428223], 'predicted_label': 0}\n",
            "\n",
            "\n",
            "{'premise': \"yeah yeah i think well i know it's true you see a lot of that you know rally behind the female she may lose but by golly we're going to make a statement here\", 'hypothesis': 'It says something if people rally behind a female candidate, even if she loses.', 'label': 0, 'predicted_scores': [0.9813295006752014, 0.7224587202072144, -2.632140874862671], 'predicted_label': 0}\n",
            "\n",
            "\n",
            "{'premise': 'uh-huh oh yeah all the people for right uh life or something', 'hypothesis': 'yeah lots of people for the right life ', 'label': 0, 'predicted_scores': [0.9518438577651978, 0.8557187914848328, -2.7626397609710693], 'predicted_label': 0}\n",
            "\n",
            "\n",
            "{'premise': 'The seven grants flow from a new Nonprofit Capacity Building program at the foundation, part of a trend among philanthropists to give money to help organizations grow stronger, rather than to the program services they provide.', 'hypothesis': 'The grants flow from the Executive branch of the United States government.', 'label': 2, 'predicted_scores': [-3.02595853805542, 0.27800312638282776, 2.4450812339782715], 'predicted_label': 2}\n",
            "\n",
            "\n",
            "{'premise': 'Keep young skins safe by covering them with sunblock or a T-shirt, even when in the water.', 'hypothesis': 'Sunblock should be used to protect skin from the sun.', 'label': 0, 'predicted_scores': [0.8735774755477905, 0.7701503038406372, -2.526610851287842], 'predicted_label': 0}\n",
            "\n",
            "\n",
            "{'premise': 'Asked about abortion the other day on CNN, Republican National Committee Chairman Jim Nicholson also invoked what is apparently the party-line  inclusive party.', 'hypothesis': \"The Republican National Committee Chairman gave the party's standard answer on the subject of abortion when he was asked about it on CNN.\", 'label': 0, 'predicted_scores': [0.8921045064926147, 0.05540892481803894, -1.5380518436431885], 'predicted_label': 0}\n",
            "\n",
            "\n",
            "{'premise': \"and that you're very much right but the jury may or may not see it that way so you get a little anticipate you know anxious there and go well you know\", 'hypothesis': \"Jury's operate without the benefit of an education in law.\", 'label': 1, 'predicted_scores': [-1.2624315023422241, 1.6138137578964233, -0.6508451700210571], 'predicted_label': 1}\n",
            "\n",
            "\n",
            "{'premise': 'Information is the resource-extractive industry of the next century, and the concept of intellectual property --a term that dates back 150 years--comes up when individuals or companies assert a particular claim and embody it in the form of copyrights, trademarks, and patents.', 'hypothesis': 'The idea and term of intellectual property has been around for a while.', 'label': 0, 'predicted_scores': [2.0045385360717773, 0.4800388514995575, -3.935654401779175], 'predicted_label': 0}\n",
            "\n",
            "\n",
            "{'premise': 'There are actually three winding roads, or the Grande, the high road, starting out from the Avenue des Diables-Bleus in Nice; the Moyenne, the middle one, beginning at Place Max-Barel; and the Basse, along the coast from Boulevard Carnot, but usually jammed with traffic.', 'hypothesis': 'The Basse is a busy, winding road that runs along the coast.', 'label': 0, 'predicted_scores': [0.16215860843658447, 0.032582513988018036, -0.05529771000146866], 'predicted_label': 0}\n",
            "\n",
            "\n",
            "{'premise': 'That is, businesses commonly contract out any function that can be done by another firm at a lower cost.', 'hypothesis': 'Information technology is one business function that is commonly contracted out.', 'label': 1, 'predicted_scores': [-0.7353092432022095, 0.7979722023010254, -0.2642318904399872], 'predicted_label': 1}\n",
            "\n",
            "\n",
            "{'premise': 'It seeks genuine direct elections after a period that is sufficient to organize alternative parties and prepare a campaign based on freedom of speech and other civil rights, the right to have free trade unions, the release of more than 200 political prisoners, debt relief, stronger penalties for corruption and pollution, no amnesty for Suharto and his fellow thieves, and a respite for the poor from the hardest edges of economic reform.', 'hypothesis': 'Debt relief is the main motivator for people in this democracy. ', 'label': 1, 'predicted_scores': [0.1270972341299057, 0.1927070915699005, -0.4743565022945404], 'predicted_label': 1}\n",
            "\n",
            "\n",
            "{'premise': 'She hardly needs to mention it--the media bring it up anyway--but she invokes it subtly, alluding (as she did on two Sunday talk shows) to women who drive their daughters halfway across the state to shake my hand, a woman they dare to believe in.', 'hypothesis': 'She really needs to mention it', 'label': 2, 'predicted_scores': [-0.32964834570884705, -0.19316479563713074, 0.7209729552268982], 'predicted_label': 2}\n",
            "\n",
            "\n",
            "{'premise': 'and to have children and just get a day care or someone to take care of it and not really have the bonding process that takes place with babies and stuff you know', 'hypothesis': 'The day care is perfect for the children.', 'label': 1, 'predicted_scores': [-1.2885558605194092, 2.4526705741882324, -1.6560389995574951], 'predicted_label': 1}\n",
            "\n",
            "\n",
            "{'premise': 'It is constrained by laws and regulations formulated by Congress over more than two centuries.', 'hypothesis': 'Many of the laws and regulations are obsolete by now.', 'label': 1, 'predicted_scores': [-0.7160152196884155, 0.5834227800369263, -0.023488981649279594], 'predicted_label': 1}\n",
            "\n",
            "\n",
            "{'premise': 'The sculpture on the dome (a personification of Commerce) and the river gods (including Anna Livia, set over the main door) are by Edward Smyth, who was also responsible for the statues on the GPO .', 'hypothesis': 'The dome has a big marble sculpture of a dragon.', 'label': 1, 'predicted_scores': [-3.6402344703674316, 1.909566044807434, 1.2213709354400635], 'predicted_label': 1}\n",
            "\n",
            "\n",
            "{'premise': 'Though the two cities remained unlinked by rail, this was about to change quickly.', 'hypothesis': 'The railway between the two cities was completed 2 years later.', 'label': 1, 'predicted_scores': [-1.963381290435791, 1.0543923377990723, 0.6039963960647583], 'predicted_label': 1}\n",
            "\n",
            "\n",
            "{'premise': \"someone else noticed it and i said well i guess that's true and it was somewhat melodio us in other words it wasn't just you know it was really funny\", 'hypothesis': 'Someone else paid attention to it and it was really funny. ', 'label': 0, 'predicted_scores': [1.6056934595108032, 0.926945686340332, -3.8441882133483887], 'predicted_label': 0}\n",
            "\n",
            "\n",
            "{'premise': 'Think of it this  When consumer confidence declines, it is as if, for some reason, the typical member of the co-op had become less willing to go out, more anxious to accumulate coupons for a rainy day.', 'hypothesis': 'Coupon collecting is no longer allowed in most US stores.', 'label': 1, 'predicted_scores': [-0.40880337357521057, 0.46291640400886536, -0.17317011952400208], 'predicted_label': 1}\n",
            "\n",
            "\n",
            "{'premise': \"Since the mid 1990s, aggregate household wealth has swelled relative to disposable personal income, largely due to increases in the market value of households' existing assets (see figure 1.2).\", 'hypothesis': 'The reason for the growth of aggregate wealth in households is the appreciating market value of existing assets following the mid 90s.', 'label': 0, 'predicted_scores': [0.977807343006134, 0.3961355984210968, -2.165971517562866], 'predicted_label': 0}\n",
            "\n",
            "\n",
            "{'premise': \"What's needed, alongside an evacuation plan, is a realistic program to stabilize conditions for those left behind.\", 'hypothesis': 'Those left behind will need a program for stabilizing conditions if they cannot evacuate. ', 'label': 0, 'predicted_scores': [0.631431519985199, -0.163330078125, -0.5431864857673645], 'predicted_label': 0}\n",
            "\n",
            "\n",
            "{'premise': \"oh you went to the dollar movie yeah yeah they show up at the dollar movie right after they get come out you know they're usually not not that great or didn't do that great anyway let me see let me see another movie i watched uh i want to see is uh that new one uh\", 'hypothesis': \"they are shown at the dollar movie theater immediately after they're released\", 'label': 0, 'predicted_scores': [0.6772971749305725, 0.005214308854192495, -1.0399857759475708], 'predicted_label': 0}\n",
            "\n",
            "\n",
            "{'premise': 'China could never trump the warhead blizzard Washington would send in retaliation against any atomic attack, though the country would be loath to cede to U.S. missile defenses the deterrence afforded by its handfuls of warheads.', 'hypothesis': \"China will likely never shoot a warhead at the United States because they don't have as many.\", 'label': 1, 'predicted_scores': [0.18904446065425873, 0.7401426434516907, -1.446699857711792], 'predicted_label': 1}\n",
            "\n",
            "\n",
            "{'premise': 'An ancient Greek trading post, the town manages to combine the atmosphere of a resort with a gutsy, bustling city life.', 'hypothesis': 'The town is known for being quiet and peaceful, free of hustle and bustle.', 'label': 2, 'predicted_scores': [-0.8483599424362183, 0.18190011382102966, 0.6272541880607605], 'predicted_label': 2}\n",
            "\n",
            "\n",
            "{'premise': \"Perhaps tax reform doesn't appeal to the new spiritualized side of Bradley.\", 'hypothesis': \"Bradley don't have spiritual beliefs.\", 'label': 2, 'predicted_scores': [0.43104907870292664, -0.8874978423118591, 0.4916631281375885], 'predicted_label': 2}\n",
            "\n",
            "\n",
            "{'premise': 'Base year data will be actual receipt and outlay data for the last completed fiscal year', 'hypothesis': 'Base year data will give important economic information.', 'label': 0, 'predicted_scores': [2.0528721809387207, 0.0934598296880722, -3.5092239379882812], 'predicted_label': 0}\n",
            "\n",
            "\n",
            "{'premise': 'A newly unified Christian Spain under the Catholic Monarchs, Ferdinand and Isabella, completed the Reconquest, defeating the only Moorish enclave left on the Iberian peninsula, Granada, in 1492.', 'hypothesis': 'The last Moorish enclave was defeated in 1492.', 'label': 0, 'predicted_scores': [0.36806026101112366, -0.029246754944324493, -0.3419604003429413], 'predicted_label': 0}\n",
            "\n",
            "\n",
            "{'premise': 'Part of the reason for the difference in pieces per possible delivery may be due to the fact that five percent of possible residential deliveries are businesses, and it is thought, but not known, that a lesser percentage of possible deliveries on rural routes are businesses.', 'hypothesis': 'Reason for a lesser pecentage of possible deliveries on rural routes might become more clear in the future.', 'label': 1, 'predicted_scores': [0.021022429689764977, 0.8495098948478699, -1.3608767986297607], 'predicted_label': 1}\n",
            "\n",
            "\n",
            "{'premise': \"for the direct sunlight and stuff right but uh but i i haven't really found it too bad we've lived in our house about uh oh thirteen years i suppose and and really really only painted once and you know it was new when we bought it and we painted one time since then but you know it's probably going to be time to paint again in a couple of years\", 'hypothesis': 'I only had to paint the house once, so the siding has held up well.', 'label': 1, 'predicted_scores': [-0.1197776272892952, 1.294439435005188, -1.750868558883667], 'predicted_label': 1}\n",
            "\n",
            "\n",
            "{'premise': 'This was the saturation and 125-piece walk sequence Enhanced Carrier Route mail volume in 1996.', 'hypothesis': 'The 125 piece walk sequence was too small for optimal efficiency.', 'label': 1, 'predicted_scores': [-0.4783419370651245, 0.4664900004863739, -0.11624842137098312], 'predicted_label': 1}\n",
            "\n",
            "\n",
            "{'premise': 'The Committee intends that LSC consult with appropriate stakeholders in developing this proposal.', 'hypothesis': 'The Committee will cover all consultation expenses incurred by LSC.', 'label': 1, 'predicted_scores': [-2.4105169773101807, 1.4939676523208618, 0.5303059220314026], 'predicted_label': 1}\n",
            "\n",
            "\n",
            "{'premise': 'AT&amp;T and MCI have protested the tax and pledged to pass the cost on to  MCI charges 5 percent on all out of state long-distance calls, and AT&amp;T charges a flat rate.', 'hypothesis': 'AT&T and MCI believe the tax is fair and have decided to absorb the cost instead of passing it on. ', 'label': 2, 'predicted_scores': [0.0744839459657669, -0.5612421035766602, 0.64878910779953], 'predicted_label': 2}\n",
            "\n",
            "\n",
            "{'premise': 'These rules implement section 106 of the Federal Crop Insurance Reform Act of 1994.', 'hypothesis': 'The Federal Crop insurance Reform Act was passed in 1994.', 'label': 0, 'predicted_scores': [0.7578321099281311, -0.18371152877807617, -0.8008551001548767], 'predicted_label': 0}\n",
            "\n",
            "\n",
            "{'premise': 'Over most of the 1980s and 1990s, the U.S. was able to invest more than it saved by attracting financing from abroad.', 'hypothesis': \"The US could invest 20% more than it saved in the 1980's and 90's.\", 'label': 1, 'predicted_scores': [-2.440502405166626, 2.5023882389068604, -0.4176540970802307], 'predicted_label': 1}\n",
            "\n",
            "\n",
            "{'premise': \"4) Clinton's job rating fell from 60 to 55 points in a Washington Post poll, apparently because pollees disapproved of his use of the White House for fund raising.\", 'hypothesis': \"Clinton's job ratings fell to an all-time low.\", 'label': 1, 'predicted_scores': [-0.09360604733228683, 0.20156028866767883, -0.10811121761798859], 'predicted_label': 1}\n",
            "\n",
            "\n",
            "{'premise': \"yeah that's where i got to too the first i got chills up and down when i heard the on the radio and the first time they started doing the bombing\", 'hypothesis': 'The bombing in Korea was shocking to the world.', 'label': 1, 'predicted_scores': [-3.3788228034973145, 1.5122007131576538, 1.3858853578567505], 'predicted_label': 1}\n",
            "\n",
            "\n",
            "{'premise': \"  There's nothing like the trendy resort clothing available here, styled on the island by the designers of the Ad-Lib group.\", 'hypothesis': 'The Ad-Lib group designs the trendy resort clothing here.', 'label': 0, 'predicted_scores': [1.6086530685424805, -1.2457953691482544, -0.8609948754310608], 'predicted_label': 0}\n",
            "\n",
            "\n",
            "{'premise': \"i don't know um do you do a lot of camping\", 'hypothesis': 'I enjoy camping.', 'label': 1, 'predicted_scores': [-0.2901839315891266, 0.8440982103347778, -0.8901194334030151], 'predicted_label': 1}\n",
            "\n",
            "\n",
            "{'premise': 'During his disastrous campaign in Russia, he found time in Moscow to draw up a new statute for the Com??die-Francaise (the national theater), which had been dissolved during the Revolution.', 'hypothesis': 'Russia has been successfully invaded hundreds of times.', 'label': 2, 'predicted_scores': [-2.153613567352295, 0.5466219186782837, 1.3502793312072754], 'predicted_label': 2}\n",
            "\n",
            "\n",
            "{'premise': 'Our work has also shown that agencies can do a better job of providing incentives to encourage employees to improve performance and achieve results.', 'hypothesis': 'Agencies are already doing the best job possible assigning incentives.', 'label': 2, 'predicted_scores': [-0.9524109363555908, -0.5237412452697754, 1.6494076251983643], 'predicted_label': 2}\n",
            "\n",
            "\n",
            "{'premise': 'We next present the test of our hypothesis by comparing the predicted percentages for each of the seven posts with the actual percentages.', 'hypothesis': 'We are presenting the test by comparing percentages for each of the posts with actual percentages of letters mailed.', 'label': 1, 'predicted_scores': [-0.8655971884727478, 0.6040114760398865, 0.08165625482797623], 'predicted_label': 1}\n",
            "\n",
            "\n",
            "{'premise': 'So unlike people who are fortunate enough to be able to afford attorneys and can go to another lawyer, our clients are simply lost in the legal system if they cannot get access to it from us.', 'hypothesis': 'Our clients can barely afford our legal assistance.', 'label': 0, 'predicted_scores': [0.9145520329475403, -0.47785961627960205, -0.6114525198936462], 'predicted_label': 0}\n",
            "\n",
            "\n",
            "{'premise': 'If they have overestimated how far the CPI is off, Boskin and his commission may institutionalize an underestimated CPI--guaranteeing a yearly, stealth tax increase.', 'hypothesis': \"If they've overestimated how far the CPI is off, it will have horrific consequences. \", 'label': 0, 'predicted_scores': [0.9486532211303711, 0.548638641834259, -2.3506975173950195], 'predicted_label': 0}\n",
            "\n",
            "\n",
            "{'premise': 'i tell you what i would not i would not buy a car that had the seat belt where it was hooked under the door', 'hypothesis': 'I used to own a car with the seat belts there.', 'label': 1, 'predicted_scores': [-0.6211779117584229, 1.1121368408203125, -0.8108636736869812], 'predicted_label': 1}\n",
            "\n",
            "\n",
            "{'premise': \"Although it's hard to disagree with James Surowiecki's roasting of Wade Cook in The Book on Cook, Surowiecki's assertion that the equity stock option market is simply a big casino that contribute[s] nothing to the smooth functioning of capital markets is both wrong and silly.\", 'hypothesis': 'James Surowiecki asserts that the equity stock option market contributes nothing to the smooth functioning of capital markets.', 'label': 0, 'predicted_scores': [0.8405073881149292, -1.2556511163711548, 0.28353041410446167], 'predicted_label': 0}\n",
            "\n",
            "\n",
            "{'premise': 'These days, newspaper writers are no longer allowed the kind of license he took.', 'hypothesis': \"Newspaper writes can't take the kind of license that he did.\", 'label': 0, 'predicted_scores': [0.6527570486068726, -0.39070752263069153, -0.2735171616077423], 'predicted_label': 0}\n",
            "\n",
            "\n",
            "{'premise': \"life in prison then he's available for parole if it's if it's life and a day then he's not eligible for parole so what you know let's quit BSing with the system\", 'hypothesis': \"He'll be sentenced in two months from now.\", 'label': 1, 'predicted_scores': [-0.9142650961875916, 1.6314865350723267, -1.1221659183502197], 'predicted_label': 1}\n",
            "\n",
            "\n",
            "{'premise': 'Oh, my friend, have I not said to you all along that I have no proofs. ', 'hypothesis': 'I will be able to find some proof soon.', 'label': 1, 'predicted_scores': [0.019438572227954865, 0.2997017204761505, -0.494276762008667], 'predicted_label': 1}\n",
            "\n",
            "\n",
            "{'premise': 'In the short term, U.S. consumers will benefit from cheap imports (as will U.S. multinationals that use parts made in East Asian factories).', 'hypothesis': 'U.S. consumers benefit from imports, while East Asian factories suffer.', 'label': 1, 'predicted_scores': [-1.0618247985839844, 1.1999691724777222, -0.39103254675865173], 'predicted_label': 1}\n",
            "\n",
            "\n",
            "{'premise': 'As Russell points out, some 400,000 legal aid cases go unassisted each year.', 'hypothesis': 'A lot of legal aid cases go unassisted each year.', 'label': 0, 'predicted_scores': [1.9703044891357422, 0.2565139830112457, -3.5799689292907715], 'predicted_label': 0}\n",
            "\n",
            "\n",
            "{'premise': 'The cuts will take the biggest bite out of Land of Lincoln, a network of eight offices and 40 lawyers who help clients in southern Illinois with problems like eviction, access to Social Security and obtaining orders of protection from abusive spouses.', 'hypothesis': 'One particular network of lawyers who provided services in southern Illinois for a variety of legal issues will be hard hit by the budget reductions.', 'label': 0, 'predicted_scores': [0.785637378692627, 0.4794497787952423, -1.981899619102478], 'predicted_label': 0}\n",
            "\n",
            "\n",
            "{'premise': 'All of our many earnest experiments produced results in line with random chance, they conclude.', 'hypothesis': 'The experiments proved it was a much better predictor.', 'label': 2, 'predicted_scores': [-1.5918731689453125, 0.23600983619689941, 1.2215054035186768], 'predicted_label': 2}\n",
            "\n",
            "\n",
            "{'premise': 'Through the opt-out approach, Texas attorneys contributed $1 million this year, doubling 2001 contributions.', 'hypothesis': 'Texas attorneys have contributed one million dollars this year using the opt-out approach.', 'label': 0, 'predicted_scores': [2.7278671264648438, -1.6208845376968384, -2.30043625831604], 'predicted_label': 0}\n",
            "\n",
            "\n",
            "{'premise': \"At least they're getting stoned first, I rationalized.\", 'hypothesis': 'I rationalized that it was best that they got stoned beforehand. ', 'label': 0, 'predicted_scores': [0.7319139838218689, 0.40581077337265015, -1.7952380180358887], 'predicted_label': 0}\n",
            "\n",
            "\n",
            "{'premise': 'Joseph Lister pioneered the use of carbolic acid to keep wounds clean, and James Young Simpson experimented with chloroform as an anesthetic.', 'hypothesis': 'No one knows who pioneered the use of carbolic acid and chloroform for new purposes.', 'label': 2, 'predicted_scores': [-3.154326915740967, -0.3805237114429474, 3.3450751304626465], 'predicted_label': 2}\n",
            "\n",
            "\n",
            "{'premise': 'The anthropologist Napoleon Chagnon has shown that Yanomamo men who have killed other men have more wives and more offspring than average guys.', 'hypothesis': 'Yanomamo men who kill other men have better chances at getting more wives.', 'label': 0, 'predicted_scores': [1.1519834995269775, 0.4323180317878723, -2.5052483081817627], 'predicted_label': 0}\n",
            "\n",
            "\n",
            "{'premise': 'and i need to be better because uh uh we just bought it my wife and i just bought a new car and uh you know we want to take real good care of it so uh', 'hypothesis': 'We paid a good amount for it.', 'label': 1, 'predicted_scores': [-0.006122421007603407, 1.6024439334869385, -2.296926498413086], 'predicted_label': 1}\n",
            "\n",
            "\n",
            "{'premise': \"or yeah exactly and that's what i say you'll you'll be you'll be so much better off for it as you get older because you know a lot of kids resent things that parents tell them and and stuff but it's because you've been there\", 'hypothesis': \"Kids don't like what their parents have told them. \", 'label': 0, 'predicted_scores': [0.9231534004211426, 0.09164270758628845, -1.64742910861969], 'predicted_label': 0}\n",
            "\n",
            "\n",
            "{'premise': 'She wears either revealing clothes or professional clothes (or perhaps both).', 'hypothesis': \"Sometimes her cleavage is showing and sometimes she's all covered up.\", 'label': 1, 'predicted_scores': [0.3797641098499298, 1.0300737619400024, -2.129664182662964], 'predicted_label': 1}\n",
            "\n",
            "\n",
            "{'premise': \"Gerth's prize-winning articles do not mention a CIA report concluding that U.S. security was not harmed by the 1996 accident review.\", 'hypothesis': 'Gerth left out important information to make his article seem better.', 'label': 1, 'predicted_scores': [0.08863160759210587, 0.21660906076431274, -0.4643903970718384], 'predicted_label': 1}\n",
            "\n",
            "\n",
            "{'premise': 'His proud reserve--a product of 40 years in the spotlight--is refreshing but does not bode well for his capacity to shepherd big ideas through Congress.', 'hypothesis': 'He is way too loud.', 'label': 1, 'predicted_scores': [-2.3734567165374756, 1.2945698499679565, 0.7090771794319153], 'predicted_label': 1}\n",
            "\n",
            "\n",
            "{'premise': 'The questions may need to be tailored to', 'hypothesis': 'A majority of the questions referenced will need to be tailored to.', 'label': 1, 'predicted_scores': [-0.09647343307733536, 1.5546776056289673, -2.0897269248962402], 'predicted_label': 1}\n",
            "\n",
            "\n",
            "{'premise': 'As the budgets, functions, and points of service of many government programs devolve to state and local government, private entities and nonprofit organizations, and other third parties, it may become harder for GAO to obtain the records it needs to complete audits and evaluations.', 'hypothesis': 'It has become very easy for GAO to procure the records for audits.', 'label': 2, 'predicted_scores': [0.1729559600353241, -1.1195313930511475, 1.0106767416000366], 'predicted_label': 2}\n",
            "\n",
            "\n",
            "{'premise': \"It's easy to overdose on the many temples, palaces, and museums in India.\", 'hypothesis': 'There is a wide selection of temples and palaces in India.', 'label': 0, 'predicted_scores': [2.268925905227661, -1.125026822090149, -2.193829298019409], 'predicted_label': 0}\n",
            "\n",
            "\n",
            "{'premise': \"and clean up is is uh is a joy uh a little soap and water and air dry them and you don't have to worry about that\", 'hypothesis': \"You let it air dry because it'll smudge any other way.\", 'label': 1, 'predicted_scores': [-2.783507823944092, 3.066105365753174, -0.6906509399414062], 'predicted_label': 1}\n",
            "\n",
            "\n",
            "{'premise': 'Steps are initiated to allow program board membership to reflect the clienteligible community and include representatives from the funding community, corporations and other partners.', 'hypothesis': 'The board includes those from the funding community and corporations.', 'label': 0, 'predicted_scores': [0.5910593271255493, -1.2083274126052856, 0.581555962562561], 'predicted_label': 0}\n",
            "\n",
            "\n",
            "{'premise': \"Additions to the 2002 Request for Proposal (RFP) include questions for applicants on staff diversity, recruitment and retention strategies and training, and the organization's strategic planning.\", 'hypothesis': 'The request for proposal was in May 2002.', 'label': 1, 'predicted_scores': [-2.0838637351989746, 1.8878076076507568, -0.11823930591344833], 'predicted_label': 1}\n",
            "\n",
            "\n",
            "{'premise': 'Last year, that campaign - primarily among private attorneys - drew less than $40,000 while the Nashville legal aid fund-raising garnered more than $500,000.', 'hypothesis': \"The Memphis campaign was tiny compared to Nashville's \", 'label': 1, 'predicted_scores': [-0.7605992555618286, 0.7493427991867065, -0.17348423600196838], 'predicted_label': 1}\n",
            "\n",
            "\n",
            "{'premise': 'Alternatively, there are Sousa and Goncalves (Rua do Castanheiro, 47) and Unibasket (Rua do Carmo, 42; Tel. 291/226 925), both in Funchal.', 'hypothesis': 'There are other places in Funchal.', 'label': 0, 'predicted_scores': [1.367677927017212, -0.11869079619646072, -2.031557321548462], 'predicted_label': 0}\n",
            "\n",
            "\n",
            "{'premise': 'no i mean there there there was nothing to it i mean', 'hypothesis': 'It was no big deal.', 'label': 0, 'predicted_scores': [0.4288492202758789, 0.27286723256111145, -1.1116998195648193], 'predicted_label': 0}\n",
            "\n",
            "\n",
            "{'premise': 'From the Index: Average number of public school students expelled each school day last year for gun  34.', 'hypothesis': 'The number of school students expelled is dependent on the availability of guns.', 'label': 1, 'predicted_scores': [-0.043354615569114685, 0.6591084599494934, -1.0154393911361694], 'predicted_label': 1}\n",
            "\n",
            "\n",
            "{'premise': 'A lack of sleep can always be remedied later, a Madrile??o might tell you, as he tops off a late night with early-morning chocolate con curros (a fried-dough and chocolate snack ideal for absorbing alcohol) on the way home for a shower and then continues on to work.', 'hypothesis': 'Madrid has a curfew that states that every citizen needs to be at home after 9PM.', 'label': 2, 'predicted_scores': [-3.256200075149536, 0.5063848495483398, 2.377840042114258], 'predicted_label': 2}\n",
            "\n",
            "\n",
            "{'premise': '17 An alternative to unaddressed mail would be to auction off the right to be a third bundle on specific days in specific post offices.', 'hypothesis': 'You could auction off the right to another bundle instead of doing unaddressed mail.', 'label': 0, 'predicted_scores': [1.4523160457611084, -0.9047621488571167, -1.0185705423355103], 'predicted_label': 0}\n",
            "\n",
            "\n",
            "{'premise': 'In the meantime, the philosophy is to seize present-day opportunities in the thriving economy.', 'hypothesis': 'The philosophy was to seize opportunities when the economy is doing well.', 'label': 0, 'predicted_scores': [1.525161862373352, 0.3055552542209625, -2.9350368976593018], 'predicted_label': 0}\n",
            "\n",
            "\n",
            "{'premise': 'Even after we hire good people, we need to take steps to retain them.', 'hypothesis': 'People often stay on a job for different reasons than the ones they had for accepting the position.', 'label': 1, 'predicted_scores': [0.7062440514564514, 0.8149430751800537, -2.34255313873291], 'predicted_label': 1}\n",
            "\n",
            "\n",
            "{'premise': 'The following are examples of how agencies engaged employee unions.', 'hypothesis': 'The following are examples of how agencies can eradicate employee unions.', 'label': 2, 'predicted_scores': [-1.3121254444122314, -0.4215678572654724, 1.8360031843185425], 'predicted_label': 2}\n",
            "\n",
            "\n",
            "{'premise': 'Sphinxes were guardian deitiesinEgyptianmythologyandthis was monumentalprotection,standing73 m (240 ft)longand20 m (66 feet) high.', 'hypothesis': 'Sphinxes were put in the tombs to protect the dead.', 'label': 1, 'predicted_scores': [-1.911818027496338, 2.3567750453948975, -0.7977497577667236], 'predicted_label': 1}\n",
            "\n",
            "\n",
            "{'premise': 'The entire city was surrounded by open countryside with a scattering of small villages.', 'hypothesis': 'The countryside is very lovely and peaceful. ', 'label': 1, 'predicted_scores': [-1.3815381526947021, 1.9975541830062866, -0.9600451588630676], 'predicted_label': 1}\n",
            "\n",
            "\n",
            "{'premise': 'The good news, however, can be found in reports like this one.', 'hypothesis': \"The good news is that the puppy's life was able to be saved. \", 'label': 1, 'predicted_scores': [-2.970095634460449, 1.3431388139724731, 1.1938380002975464], 'predicted_label': 1}\n",
            "\n",
            "\n",
            "{'premise': \"If she wasn't, how would they have known Jane Finn had got the papers?\", 'hypothesis': 'Who had told them that Jane Finn had acquired the papers?', 'label': 1, 'predicted_scores': [0.08799911290407181, 0.9487117528915405, -1.5946638584136963], 'predicted_label': 1}\n",
            "\n",
            "\n",
            "{'premise': \"I found Steven E. Landsburg's piece Pay Scales in Black and White extremely unconvincing.\", 'hypothesis': \"I asked for my money back, after Landsburg's piece.\", 'label': 1, 'predicted_scores': [-2.578352212905884, 2.453601360321045, -0.23693467676639557], 'predicted_label': 1}\n",
            "\n",
            "\n",
            "{'premise': \"The universal credibility problem with polling is that wordsmithing and mathematics don't mix, and never will.\", 'hypothesis': 'Wordsmithing and mathematics are not related enough to go together.', 'label': 0, 'predicted_scores': [1.1228950023651123, -0.043587081134319305, -1.7651536464691162], 'predicted_label': 0}\n",
            "\n",
            "\n",
            "{'premise': '5 percent for educational lay programs relating to law and justice, and other public service programs such as the High School Mock Trial Competition and numerous publications.', 'hypothesis': 'Educational lay programs deal with justice for minorities.', 'label': 1, 'predicted_scores': [-0.08893625438213348, 0.8694153428077698, -1.2186375856399536], 'predicted_label': 1}\n",
            "\n",
            "\n",
            "{'premise': 'for a change i i got i get sick of winter just looking everything so dead i hate that', 'hypothesis': 'Winter is all year long.', 'label': 1, 'predicted_scores': [-1.733903408050537, 0.8613823056221008, 0.6073612570762634], 'predicted_label': 1}\n",
            "\n",
            "\n",
            "{'premise': 'uh-huh i i thought they did an excellent job of actually aging the person you know from when he was a little kid to little older to little older to except the last the very last you know the last person the last actor that played the kid', 'hypothesis': 'Yeah they did a great job with making that person grow old from 5 to 20 years old, except that last part, you totally knew who that actor was.', 'label': 0, 'predicted_scores': [1.2436387538909912, -0.804127037525177, -0.7816057205200195], 'predicted_label': 0}\n",
            "\n",
            "\n",
            "{'premise': \"Therefore, many leading finance organizations have calculated and compared these percentages as a general indication of how well they supported the organization's business objectives.\", 'hypothesis': 'Finance organization calculated data about every other organization.', 'label': 1, 'predicted_scores': [-1.0214771032333374, 0.5146616101264954, 0.3456544280052185], 'predicted_label': 1}\n",
            "\n",
            "\n",
            "{'premise': 'During the hottest hours, things come to a virtual standstill, though the Caribbean siesta is an hour or two shorter than its Mediterranean counterpart.', 'hypothesis': 'Things slowed down because there were not enough people to assist.', 'label': 1, 'predicted_scores': [-2.4928951263427734, 1.9802402257919312, 0.1236954927444458], 'predicted_label': 1}\n",
            "\n",
            "\n",
            "{'premise': 'Though the two cities remained unlinked by rail, this was about to change quickly.', 'hypothesis': 'The two cities had a railway between them that made travel easy.', 'label': 2, 'predicted_scores': [0.23457960784435272, -0.6090707182884216, 0.4938792884349823], 'predicted_label': 2}\n",
            "\n",
            "\n",
            "{'premise': \"they eat a lot of it you know you can take your vitamins and she was telling me to take zinc so anyway i've been taking enough zinc you know  to kill a horse probably  i hope it doesn't hurt me but anyway  i did read one chapter of that\", 'hypothesis': 'I considered but decided against taking zinc.', 'label': 2, 'predicted_scores': [-0.6518821120262146, -0.07860206812620163, 0.8525664210319519], 'predicted_label': 2}\n",
            "\n",
            "\n",
            "{'premise': \"But of course, that's just another way of saying that liberal democracy--a value Huntington surely ranks above the alternatives morally--may never fit some peoples as naturally as it fits us.\", 'hypothesis': 'Liberal democracy may not fit some people as good as it fits us.', 'label': 0, 'predicted_scores': [0.5412932634353638, -0.5802163481712341, 0.05629263073205948], 'predicted_label': 0}\n",
            "\n",
            "\n",
            "{'premise': 'Control activities occur at all levels and functions of the entity.', 'hypothesis': 'There are numerous different control activities.', 'label': 1, 'predicted_scores': [-0.20596429705619812, 0.5458034873008728, -0.5647426247596741], 'predicted_label': 1}\n",
            "\n",
            "\n",
            "{'premise': 'The analyses utilized different assumptions and generally resulted in smaller expenditure impact estimates than noted above.', 'hypothesis': 'The differing assumptions of the analyses resulted in different estimate than noted.', 'label': 0, 'predicted_scores': [1.984673261642456, -1.4697054624557495, -1.210915207862854], 'predicted_label': 0}\n",
            "\n",
            "\n",
            "{'premise': 'Even analysts who had argued for loosening the old standards, by which the market was clearly overvalued, now think it has maxed out for a while.', 'hypothesis': 'Some analysts wanted to make the old standards toughter.', 'label': 1, 'predicted_scores': [0.7083779573440552, 0.7961694598197937, -2.314837694168091], 'predicted_label': 1}\n",
            "\n",
            "\n",
            "{'premise': 'Aswan became a backwater following the decline of the Egyptian Empire, far removed from power bases at Alexandria and Cairo.', 'hypothesis': 'Aswan was no longer a power base for the Egyptian Empire.  ', 'label': 0, 'predicted_scores': [2.064218282699585, -1.1647379398345947, -1.7859833240509033], 'predicted_label': 0}\n",
            "\n",
            "\n",
            "{'premise': 'They drive it around the country in a dilapidated ice-cream truck trying to keep it cool.', 'hypothesis': 'They used an ice cream truck to try and keep it from getting warm.', 'label': 0, 'predicted_scores': [1.1825861930847168, 0.17052483558654785, -2.1942570209503174], 'predicted_label': 0}\n",
            "\n",
            "\n",
            "{'premise': 'upwards of a mile but Washington is one of my favorite places to visit uh my daughter lives in Arlington and when i go to visit her  i love to get out on that bike trail and either ride the bike oh gosh you can ride a bike  practically all the way to southern Virginia', 'hypothesis': 'I enjoy biking at least 10 miles when I visit my daughter.', 'label': 1, 'predicted_scores': [0.3386031985282898, 0.9941377639770508, -2.0388031005859375], 'predicted_label': 1}\n",
            "\n",
            "\n",
            "{'premise': \"Those Creole men and women you'll see dancing it properly have been moving their hips and knees that way since childhood.\", 'hypothesis': 'It is very difficult to learn the dance as an adult.', 'label': 1, 'predicted_scores': [-1.2582108974456787, 0.7053568363189697, 0.344758540391922], 'predicted_label': 1}\n",
            "\n",
            "\n",
            "{'premise': \"uh somewhat they're not my favorite team i am uh somewhat familiar with them\", 'hypothesis': 'I know a little about them, but they are not may favorite team.', 'label': 0, 'predicted_scores': [1.3759254217147827, -0.25566819310188293, -1.8528910875320435], 'predicted_label': 0}\n",
            "\n",
            "\n",
            "{'premise': \"uh uh yeah that well um the older you get the more convenience you try to bring with you i guess so i'm up to dragging the trailer around which is my next step is going to be probably Winnebago i hope if i only can afford one but that\", 'hypothesis': 'The older you get, the more you want conveniences like a comfy bed.', 'label': 1, 'predicted_scores': [-0.14506860077381134, 0.29165565967559814, -0.23779793083667755], 'predicted_label': 1}\n",
            "\n",
            "\n",
            "{'premise': \"yes they would they just wouldn't be able to own the kind of automobiles that they think they deserve to own or the kind of homes that we think we deserve to own we might have to you know just be able to i think if we a generation went without debt then the next generation like if if our our generation my husband and i we're twenty eight if we lived our lives and didn't become you know indebted like you know our generation before us that um the budget would balance and that we became accustomed to living with what we could afford which we wouldn't be destitute i mean we wouldn't be living on the street by any means but just compared to how spoiled we are we would be in our own minds but i feel like the generation after us would oh man it it would be so good it would be so much better it wouldn't be perfect but then they could learn to live with what what they could afford to save to buy and if you want a nicer car than that well you save a little longer\", 'hypothesis': 'Life will be great for subsequent generations if our generation goes without debt.', 'label': 1, 'predicted_scores': [-0.5912066698074341, 0.7174041271209717, -0.31575027108192444], 'predicted_label': 1}\n",
            "\n",
            "\n",
            "{'premise': 'Justice Kennedy does not care what law librarians across the country do with all the Supreme Court Reporters from 1790 through 1998.', 'hypothesis': 'Justice Kennedy thinks all  the Supreme Court Reporters from 1790 to 1998 should be on display.', 'label': 2, 'predicted_scores': [-0.9244813919067383, 0.35740432143211365, 0.46231943368911743], 'predicted_label': 2}\n",
            "\n",
            "\n",
            "{'premise': 'Climate changes had already had the effect of reducing the amount of forest land; the monks accelerated this process by clearing many more acres in order to make room for ever-growing herds of sheep.', 'hypothesis': 'The effect of reducing the amount of forest land is habitats will be destroyed.', 'label': 1, 'predicted_scores': [-0.015317889861762524, 0.15717405080795288, -0.11194305121898651], 'predicted_label': 1}\n",
            "\n",
            "\n",
            "{'premise': 'Boca da Corrida Encumeada (moderate; 5 hours): views of Curral das Freiras and the valley of Ribeiro do Poco.', 'hypothesis': '\"Views of Curral da Freiras and the valley of Ribeiro do Poco\" is chapter 5. ', 'label': 1, 'predicted_scores': [0.008258645422756672, 0.148967444896698, -0.11558987945318222], 'predicted_label': 1}\n",
            "\n",
            "\n",
            "{'premise': 'Very often the emperor was only a minor, so that the Fujiwara patriarch acted as regent.', 'hypothesis': 'Oftentimes, the best emperors were those that were minors. ', 'label': 1, 'predicted_scores': [0.3329794406890869, 2.4835894107818604, -3.875491142272949], 'predicted_label': 1}\n",
            "\n",
            "\n",
            "{'premise': 'Helms, who will be 81 when his fifth term ends, is increasingly frail.', 'hypothesis': 'Helms will turn 81 soon.', 'label': 0, 'predicted_scores': [0.973438024520874, 0.7472653388977051, -2.655539035797119], 'predicted_label': 0}\n",
            "\n",
            "\n",
            "{'premise': 'What a lot of bottles! I exclaimed, as my eye travelled round the small room. ', 'hypothesis': '\"What a lot if bottles!\" I exclaim. ', 'label': 0, 'predicted_scores': [1.0710442066192627, 0.9543741941452026, -3.0929863452911377], 'predicted_label': 0}\n",
            "\n",
            "\n",
            "{'premise': \"She's a crutch.\", 'hypothesis': \"She's an essential, key role in this, and is being used as a crutch.\", 'label': 1, 'predicted_scores': [0.5004929900169373, 0.5960221290588379, -1.7509725093841553], 'predicted_label': 1}\n",
            "\n",
            "\n",
            "High Lexical Overlap\n",
            "{'premise': 'There is.', 'hypothesis': 'There sure is.', 'label': 0, 'predicted_scores': [0.8163437843322754, 0.21885937452316284, -1.6816668510437012], 'predicted_label': 0}\n",
            "\n",
            "\n",
            "{'premise': 'It will be COLOSSAL!\"', 'hypothesis': 'It will be miniscule.', 'label': 2, 'predicted_scores': [-0.4729592800140381, -0.5638101696968079, 1.2581346035003662], 'predicted_label': 2}\n",
            "\n",
            "\n",
            "{'premise': \"This breakdown of PA-Israeli cooperation is the basis for the Israeli complaint that Arafat is culpable for last week's Jerusalem bombing.\", 'hypothesis': 'This breakdown of PA-Israeli cooperation is the basis for Israeli complaints that Arafat is culpable for last weeks Jerusalem bombing and the ones before it.', 'label': 1, 'predicted_scores': [0.3156113624572754, 1.9268794059753418, -3.13972544670105], 'predicted_label': 1}\n",
            "\n",
            "\n",
            "{'premise': 'The questions may need to be tailored to', 'hypothesis': 'A majority of the questions referenced will need to be tailored to.', 'label': 1, 'predicted_scores': [-0.09647343307733536, 1.5546776056289673, -2.0897269248962402], 'predicted_label': 1}\n",
            "\n",
            "\n",
            "{'premise': 'The following are examples of how agencies engaged employee unions.', 'hypothesis': 'The following are examples of how agencies can eradicate employee unions.', 'label': 2, 'predicted_scores': [-1.3121254444122314, -0.4215678572654724, 1.8360031843185425], 'predicted_label': 2}\n",
            "\n",
            "\n",
            "{'premise': \"She's a crutch.\", 'hypothesis': \"She's an essential, key role in this, and is being used as a crutch.\", 'label': 1, 'predicted_scores': [0.5004929900169373, 0.5960221290588379, -1.7509725093841553], 'predicted_label': 1}\n",
            "\n",
            "\n"
          ]
        }
      ]
    }
  ]
}