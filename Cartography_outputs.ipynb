{
  "nbformat": 4,
  "nbformat_minor": 0,
  "metadata": {
    "colab": {
      "provenance": [],
      "gpuType": "T4",
      "authorship_tag": "ABX9TyMomxIfA/2+PbiCZeJiVHog",
      "include_colab_link": true
    },
    "kernelspec": {
      "name": "python3",
      "display_name": "Python 3"
    },
    "language_info": {
      "name": "python"
    },
    "accelerator": "GPU"
  },
  "cells": [
    {
      "cell_type": "markdown",
      "metadata": {
        "id": "view-in-github",
        "colab_type": "text"
      },
      "source": [
        "<a href=\"https://colab.research.google.com/github/summiyak/NLP_Final_project/blob/main/Cartography_outputs.ipynb\" target=\"_parent\"><img src=\"https://colab.research.google.com/assets/colab-badge.svg\" alt=\"Open In Colab\"/></a>"
      ]
    },
    {
      "cell_type": "code",
      "execution_count": 1,
      "metadata": {
        "colab": {
          "base_uri": "https://localhost:8080/"
        },
        "id": "3iOYaCetc2QH",
        "outputId": "dc310269-63a0-4f20-d06c-0dec0b2f6827"
      },
      "outputs": [
        {
          "output_type": "stream",
          "name": "stdout",
          "text": [
            "Mounted at /content/drive\n"
          ]
        }
      ],
      "source": [
        "from google.colab import drive\n",
        "drive.mount('/content/drive', force_remount=True)\n",
        "import os\n",
        "os.chdir('/content/drive/MyDrive/')"
      ]
    },
    {
      "cell_type": "code",
      "source": [
        "!pip install -r /content/drive/MyDrive/electra/fp-dataset-artifacts-main/requirements.txt"
      ],
      "metadata": {
        "colab": {
          "base_uri": "https://localhost:8080/"
        },
        "collapsed": true,
        "id": "2AlWgARXdBNi",
        "outputId": "05818d9e-2b7f-47df-d2e9-0538ca33f8c7"
      },
      "execution_count": 2,
      "outputs": [
        {
          "output_type": "stream",
          "name": "stdout",
          "text": [
            "Requirement already satisfied: accelerate in /usr/local/lib/python3.10/dist-packages (from -r /content/drive/MyDrive/electra/fp-dataset-artifacts-main/requirements.txt (line 1)) (1.1.1)\n",
            "Collecting datasets (from -r /content/drive/MyDrive/electra/fp-dataset-artifacts-main/requirements.txt (line 2))\n",
            "  Downloading datasets-3.1.0-py3-none-any.whl.metadata (20 kB)\n",
            "Requirement already satisfied: torch in /usr/local/lib/python3.10/dist-packages (from -r /content/drive/MyDrive/electra/fp-dataset-artifacts-main/requirements.txt (line 3)) (2.5.1+cu121)\n",
            "Requirement already satisfied: tqdm in /usr/local/lib/python3.10/dist-packages (from -r /content/drive/MyDrive/electra/fp-dataset-artifacts-main/requirements.txt (line 4)) (4.66.6)\n",
            "Requirement already satisfied: transformers in /usr/local/lib/python3.10/dist-packages (from -r /content/drive/MyDrive/electra/fp-dataset-artifacts-main/requirements.txt (line 5)) (4.46.2)\n",
            "Collecting evaluate (from -r /content/drive/MyDrive/electra/fp-dataset-artifacts-main/requirements.txt (line 6))\n",
            "  Downloading evaluate-0.4.3-py3-none-any.whl.metadata (9.2 kB)\n",
            "Requirement already satisfied: huggingface-hub>=0.21.0 in /usr/local/lib/python3.10/dist-packages (from accelerate->-r /content/drive/MyDrive/electra/fp-dataset-artifacts-main/requirements.txt (line 1)) (0.26.2)\n",
            "Requirement already satisfied: numpy<3.0.0,>=1.17 in /usr/local/lib/python3.10/dist-packages (from accelerate->-r /content/drive/MyDrive/electra/fp-dataset-artifacts-main/requirements.txt (line 1)) (1.26.4)\n",
            "Requirement already satisfied: packaging>=20.0 in /usr/local/lib/python3.10/dist-packages (from accelerate->-r /content/drive/MyDrive/electra/fp-dataset-artifacts-main/requirements.txt (line 1)) (24.2)\n",
            "Requirement already satisfied: psutil in /usr/local/lib/python3.10/dist-packages (from accelerate->-r /content/drive/MyDrive/electra/fp-dataset-artifacts-main/requirements.txt (line 1)) (5.9.5)\n",
            "Requirement already satisfied: pyyaml in /usr/local/lib/python3.10/dist-packages (from accelerate->-r /content/drive/MyDrive/electra/fp-dataset-artifacts-main/requirements.txt (line 1)) (6.0.2)\n",
            "Requirement already satisfied: safetensors>=0.4.3 in /usr/local/lib/python3.10/dist-packages (from accelerate->-r /content/drive/MyDrive/electra/fp-dataset-artifacts-main/requirements.txt (line 1)) (0.4.5)\n",
            "Requirement already satisfied: filelock in /usr/local/lib/python3.10/dist-packages (from datasets->-r /content/drive/MyDrive/electra/fp-dataset-artifacts-main/requirements.txt (line 2)) (3.16.1)\n",
            "Requirement already satisfied: pyarrow>=15.0.0 in /usr/local/lib/python3.10/dist-packages (from datasets->-r /content/drive/MyDrive/electra/fp-dataset-artifacts-main/requirements.txt (line 2)) (17.0.0)\n",
            "Collecting dill<0.3.9,>=0.3.0 (from datasets->-r /content/drive/MyDrive/electra/fp-dataset-artifacts-main/requirements.txt (line 2))\n",
            "  Downloading dill-0.3.8-py3-none-any.whl.metadata (10 kB)\n",
            "Requirement already satisfied: pandas in /usr/local/lib/python3.10/dist-packages (from datasets->-r /content/drive/MyDrive/electra/fp-dataset-artifacts-main/requirements.txt (line 2)) (2.2.2)\n",
            "Requirement already satisfied: requests>=2.32.2 in /usr/local/lib/python3.10/dist-packages (from datasets->-r /content/drive/MyDrive/electra/fp-dataset-artifacts-main/requirements.txt (line 2)) (2.32.3)\n",
            "Collecting xxhash (from datasets->-r /content/drive/MyDrive/electra/fp-dataset-artifacts-main/requirements.txt (line 2))\n",
            "  Downloading xxhash-3.5.0-cp310-cp310-manylinux_2_17_x86_64.manylinux2014_x86_64.whl.metadata (12 kB)\n",
            "Collecting multiprocess<0.70.17 (from datasets->-r /content/drive/MyDrive/electra/fp-dataset-artifacts-main/requirements.txt (line 2))\n",
            "  Downloading multiprocess-0.70.16-py310-none-any.whl.metadata (7.2 kB)\n",
            "Collecting fsspec<=2024.9.0,>=2023.1.0 (from fsspec[http]<=2024.9.0,>=2023.1.0->datasets->-r /content/drive/MyDrive/electra/fp-dataset-artifacts-main/requirements.txt (line 2))\n",
            "  Downloading fsspec-2024.9.0-py3-none-any.whl.metadata (11 kB)\n",
            "Requirement already satisfied: aiohttp in /usr/local/lib/python3.10/dist-packages (from datasets->-r /content/drive/MyDrive/electra/fp-dataset-artifacts-main/requirements.txt (line 2)) (3.11.2)\n",
            "Requirement already satisfied: typing-extensions>=4.8.0 in /usr/local/lib/python3.10/dist-packages (from torch->-r /content/drive/MyDrive/electra/fp-dataset-artifacts-main/requirements.txt (line 3)) (4.12.2)\n",
            "Requirement already satisfied: networkx in /usr/local/lib/python3.10/dist-packages (from torch->-r /content/drive/MyDrive/electra/fp-dataset-artifacts-main/requirements.txt (line 3)) (3.4.2)\n",
            "Requirement already satisfied: jinja2 in /usr/local/lib/python3.10/dist-packages (from torch->-r /content/drive/MyDrive/electra/fp-dataset-artifacts-main/requirements.txt (line 3)) (3.1.4)\n",
            "Requirement already satisfied: sympy==1.13.1 in /usr/local/lib/python3.10/dist-packages (from torch->-r /content/drive/MyDrive/electra/fp-dataset-artifacts-main/requirements.txt (line 3)) (1.13.1)\n",
            "Requirement already satisfied: mpmath<1.4,>=1.1.0 in /usr/local/lib/python3.10/dist-packages (from sympy==1.13.1->torch->-r /content/drive/MyDrive/electra/fp-dataset-artifacts-main/requirements.txt (line 3)) (1.3.0)\n",
            "Requirement already satisfied: regex!=2019.12.17 in /usr/local/lib/python3.10/dist-packages (from transformers->-r /content/drive/MyDrive/electra/fp-dataset-artifacts-main/requirements.txt (line 5)) (2024.9.11)\n",
            "Requirement already satisfied: tokenizers<0.21,>=0.20 in /usr/local/lib/python3.10/dist-packages (from transformers->-r /content/drive/MyDrive/electra/fp-dataset-artifacts-main/requirements.txt (line 5)) (0.20.3)\n",
            "Requirement already satisfied: aiohappyeyeballs>=2.3.0 in /usr/local/lib/python3.10/dist-packages (from aiohttp->datasets->-r /content/drive/MyDrive/electra/fp-dataset-artifacts-main/requirements.txt (line 2)) (2.4.3)\n",
            "Requirement already satisfied: aiosignal>=1.1.2 in /usr/local/lib/python3.10/dist-packages (from aiohttp->datasets->-r /content/drive/MyDrive/electra/fp-dataset-artifacts-main/requirements.txt (line 2)) (1.3.1)\n",
            "Requirement already satisfied: attrs>=17.3.0 in /usr/local/lib/python3.10/dist-packages (from aiohttp->datasets->-r /content/drive/MyDrive/electra/fp-dataset-artifacts-main/requirements.txt (line 2)) (24.2.0)\n",
            "Requirement already satisfied: frozenlist>=1.1.1 in /usr/local/lib/python3.10/dist-packages (from aiohttp->datasets->-r /content/drive/MyDrive/electra/fp-dataset-artifacts-main/requirements.txt (line 2)) (1.5.0)\n",
            "Requirement already satisfied: multidict<7.0,>=4.5 in /usr/local/lib/python3.10/dist-packages (from aiohttp->datasets->-r /content/drive/MyDrive/electra/fp-dataset-artifacts-main/requirements.txt (line 2)) (6.1.0)\n",
            "Requirement already satisfied: propcache>=0.2.0 in /usr/local/lib/python3.10/dist-packages (from aiohttp->datasets->-r /content/drive/MyDrive/electra/fp-dataset-artifacts-main/requirements.txt (line 2)) (0.2.0)\n",
            "Requirement already satisfied: yarl<2.0,>=1.17.0 in /usr/local/lib/python3.10/dist-packages (from aiohttp->datasets->-r /content/drive/MyDrive/electra/fp-dataset-artifacts-main/requirements.txt (line 2)) (1.17.2)\n",
            "Requirement already satisfied: async-timeout<6.0,>=4.0 in /usr/local/lib/python3.10/dist-packages (from aiohttp->datasets->-r /content/drive/MyDrive/electra/fp-dataset-artifacts-main/requirements.txt (line 2)) (4.0.3)\n",
            "Requirement already satisfied: charset-normalizer<4,>=2 in /usr/local/lib/python3.10/dist-packages (from requests>=2.32.2->datasets->-r /content/drive/MyDrive/electra/fp-dataset-artifacts-main/requirements.txt (line 2)) (3.4.0)\n",
            "Requirement already satisfied: idna<4,>=2.5 in /usr/local/lib/python3.10/dist-packages (from requests>=2.32.2->datasets->-r /content/drive/MyDrive/electra/fp-dataset-artifacts-main/requirements.txt (line 2)) (3.10)\n",
            "Requirement already satisfied: urllib3<3,>=1.21.1 in /usr/local/lib/python3.10/dist-packages (from requests>=2.32.2->datasets->-r /content/drive/MyDrive/electra/fp-dataset-artifacts-main/requirements.txt (line 2)) (2.2.3)\n",
            "Requirement already satisfied: certifi>=2017.4.17 in /usr/local/lib/python3.10/dist-packages (from requests>=2.32.2->datasets->-r /content/drive/MyDrive/electra/fp-dataset-artifacts-main/requirements.txt (line 2)) (2024.8.30)\n",
            "Requirement already satisfied: MarkupSafe>=2.0 in /usr/local/lib/python3.10/dist-packages (from jinja2->torch->-r /content/drive/MyDrive/electra/fp-dataset-artifacts-main/requirements.txt (line 3)) (3.0.2)\n",
            "Requirement already satisfied: python-dateutil>=2.8.2 in /usr/local/lib/python3.10/dist-packages (from pandas->datasets->-r /content/drive/MyDrive/electra/fp-dataset-artifacts-main/requirements.txt (line 2)) (2.8.2)\n",
            "Requirement already satisfied: pytz>=2020.1 in /usr/local/lib/python3.10/dist-packages (from pandas->datasets->-r /content/drive/MyDrive/electra/fp-dataset-artifacts-main/requirements.txt (line 2)) (2024.2)\n",
            "Requirement already satisfied: tzdata>=2022.7 in /usr/local/lib/python3.10/dist-packages (from pandas->datasets->-r /content/drive/MyDrive/electra/fp-dataset-artifacts-main/requirements.txt (line 2)) (2024.2)\n",
            "Requirement already satisfied: six>=1.5 in /usr/local/lib/python3.10/dist-packages (from python-dateutil>=2.8.2->pandas->datasets->-r /content/drive/MyDrive/electra/fp-dataset-artifacts-main/requirements.txt (line 2)) (1.16.0)\n",
            "Downloading datasets-3.1.0-py3-none-any.whl (480 kB)\n",
            "\u001b[2K   \u001b[90m━━━━━━━━━━━━━━━━━━━━━━━━━━━━━━━━━━━━━━━━\u001b[0m \u001b[32m480.6/480.6 kB\u001b[0m \u001b[31m26.2 MB/s\u001b[0m eta \u001b[36m0:00:00\u001b[0m\n",
            "\u001b[?25hDownloading evaluate-0.4.3-py3-none-any.whl (84 kB)\n",
            "\u001b[2K   \u001b[90m━━━━━━━━━━━━━━━━━━━━━━━━━━━━━━━━━━━━━━━━\u001b[0m \u001b[32m84.0/84.0 kB\u001b[0m \u001b[31m7.8 MB/s\u001b[0m eta \u001b[36m0:00:00\u001b[0m\n",
            "\u001b[?25hDownloading dill-0.3.8-py3-none-any.whl (116 kB)\n",
            "\u001b[2K   \u001b[90m━━━━━━━━━━━━━━━━━━━━━━━━━━━━━━━━━━━━━━━━\u001b[0m \u001b[32m116.3/116.3 kB\u001b[0m \u001b[31m10.4 MB/s\u001b[0m eta \u001b[36m0:00:00\u001b[0m\n",
            "\u001b[?25hDownloading fsspec-2024.9.0-py3-none-any.whl (179 kB)\n",
            "\u001b[2K   \u001b[90m━━━━━━━━━━━━━━━━━━━━━━━━━━━━━━━━━━━━━━━━\u001b[0m \u001b[32m179.3/179.3 kB\u001b[0m \u001b[31m15.7 MB/s\u001b[0m eta \u001b[36m0:00:00\u001b[0m\n",
            "\u001b[?25hDownloading multiprocess-0.70.16-py310-none-any.whl (134 kB)\n",
            "\u001b[2K   \u001b[90m━━━━━━━━━━━━━━━━━━━━━━━━━━━━━━━━━━━━━━━━\u001b[0m \u001b[32m134.8/134.8 kB\u001b[0m \u001b[31m12.6 MB/s\u001b[0m eta \u001b[36m0:00:00\u001b[0m\n",
            "\u001b[?25hDownloading xxhash-3.5.0-cp310-cp310-manylinux_2_17_x86_64.manylinux2014_x86_64.whl (194 kB)\n",
            "\u001b[2K   \u001b[90m━━━━━━━━━━━━━━━━━━━━━━━━━━━━━━━━━━━━━━━━\u001b[0m \u001b[32m194.1/194.1 kB\u001b[0m \u001b[31m15.8 MB/s\u001b[0m eta \u001b[36m0:00:00\u001b[0m\n",
            "\u001b[?25hInstalling collected packages: xxhash, fsspec, dill, multiprocess, datasets, evaluate\n",
            "  Attempting uninstall: fsspec\n",
            "    Found existing installation: fsspec 2024.10.0\n",
            "    Uninstalling fsspec-2024.10.0:\n",
            "      Successfully uninstalled fsspec-2024.10.0\n",
            "\u001b[31mERROR: pip's dependency resolver does not currently take into account all the packages that are installed. This behaviour is the source of the following dependency conflicts.\n",
            "gcsfs 2024.10.0 requires fsspec==2024.10.0, but you have fsspec 2024.9.0 which is incompatible.\u001b[0m\u001b[31m\n",
            "\u001b[0mSuccessfully installed datasets-3.1.0 dill-0.3.8 evaluate-0.4.3 fsspec-2024.9.0 multiprocess-0.70.16 xxhash-3.5.0\n"
          ]
        }
      ]
    },
    {
      "cell_type": "code",
      "source": [
        "import numpy as np\n",
        "import pandas as pd\n",
        "from datasets import Dataset\n",
        "import json\n",
        "\n",
        "\n",
        "def load_jsonl_predictions(file_path):\n",
        "      json_dataset = []  # Initialize an empty list to store JSON objects\n",
        "      with open(file_path, 'r') as f:\n",
        "          for line in f:  # Read the file line by line\n",
        "              try:\n",
        "                  data = json.loads(line)  # Parse each line as a JSON object\n",
        "                  json_dataset.append(data)  # Add the parsed object to the list\n",
        "              except json.JSONDecodeError as e:\n",
        "                  print(f\"Error decoding JSON: {e}, skipping line: {line}\")\n",
        "\n",
        "      dataset = Dataset.from_list(json_dataset)\n",
        "      # Example Data (Replace with actual data)\n",
        "      data = json_dataset\n",
        "\n",
        "      num_classes = 3  # Number of label classes\n",
        "\n",
        "\n",
        "\n",
        "      def token_overlap_ratio(premise, hypothesis):\n",
        "          premise_tokens = set(premise.split())\n",
        "          hypothesis_tokens = set(hypothesis.split())\n",
        "          intersection = len(premise_tokens & hypothesis_tokens)\n",
        "          return intersection / len(premise_tokens)\n",
        "\n",
        "      # Define Error Classes\n",
        "      error_classes = {\n",
        "          \"Negation\": lambda x: any(word in x[\"premise\"].split(\" \") + x[\"hypothesis\"].split(\" \") for word in [\"not\", \"no\", \"never\", \"without\"]),\n",
        "          \"Coreference\": lambda x: any(word in x[\"hypothesis\"] for word in [\"he\", \"she\", \"it\", \"they\"]),\n",
        "          \"Rare Words\": lambda x: any(word in x[\"premise\"] for word in [\"Higgs\", \"boson\", \"quantum\"]),\n",
        "          \"Ambiguity\": lambda x: any(word in x[\"hypothesis\"] for word in [\"something\", \"someone\", \"several\"]),\n",
        "          \"Long Sentences\": lambda x: len(x[\"premise\"].split()) > 10 or len(x[\"hypothesis\"].split()) > 10,\n",
        "          \"High Lexical Overlap\": lambda x: token_overlap_ratio(x[\"premise\"], x[\"hypothesis\"]) > 0.7,\n",
        "      }\n",
        "\n",
        "\n",
        "\n",
        "      # Initialize Counters\n",
        "      error_counts = {cls: 0 for cls in error_classes}\n",
        "      total_counts = {cls: 0 for cls in error_classes}\n",
        "      error_examples = {cls: [] for cls in error_classes}\n",
        "\n",
        "      # Process Examples\n",
        "      for example in data:\n",
        "          true_label = example['label']\n",
        "          predicted_label = example['predicted_label']\n",
        "          is_error = true_label != predicted_label  # Check if the prediction is incorrect\n",
        "\n",
        "          for cls, rule in error_classes.items():\n",
        "              if rule(example):  # Check if example matches the error class\n",
        "                  total_counts[cls] += 1\n",
        "                  if is_error:\n",
        "                      error_counts[cls] += 1\n",
        "                      error_examples[cls].append(example)\n",
        "\n",
        "      # Calculate Metrics\n",
        "      error_rates = {cls: (error_counts[cls] / total_counts[cls] * 100 if total_counts[cls] > 0 else 0) for cls in error_classes}\n",
        "      frequencies = {cls: (total_counts[cls] / len(data) * 100) for cls in error_classes}\n",
        "\n",
        "      # Create Summary Table\n",
        "      summary_table = pd.DataFrame({\n",
        "          \"Error Class\": list(error_classes.keys()),\n",
        "          \"Frequency (%)\": [frequencies[cls] for cls in error_classes],\n",
        "          \"Error Rate (%)\": [error_rates[cls] for cls in error_classes],\n",
        "          \"Error Count\": [error_counts[cls] for cls in error_classes],\n",
        "      })\n",
        "\n",
        "      # Display Results\n",
        "      print(summary_table)\n"
      ],
      "metadata": {
        "id": "99-NQvFX0IOk"
      },
      "execution_count": 22,
      "outputs": []
    },
    {
      "cell_type": "markdown",
      "source": [
        "#Results on SNLI Datasets"
      ],
      "metadata": {
        "id": "7tcgDhJjdT6W"
      }
    },
    {
      "cell_type": "markdown",
      "source": [
        "**Results of Pretrained Model**"
      ],
      "metadata": {
        "id": "0rpsAgWqdfd1"
      }
    },
    {
      "cell_type": "code",
      "source": [
        "load_jsonl_predictions(\"/content/drive/MyDrive/electra/cartography/cart_final/model/output/pretrained_eval_predictions.jsonl\")"
      ],
      "metadata": {
        "colab": {
          "base_uri": "https://localhost:8080/"
        },
        "id": "xHf_aT2j0Vwi",
        "outputId": "66f0134b-c337-4ec1-b272-af5c1e55e13e"
      },
      "execution_count": 31,
      "outputs": [
        {
          "output_type": "stream",
          "name": "stdout",
          "text": [
            "            Error Class  Frequency (%)  Error Rate (%)  Error Count\n",
            "0              Negation       1.574883       11.612903           18\n",
            "1           Coreference      64.661654       11.329353          721\n",
            "2            Rare Words       0.000000        0.000000            0\n",
            "3             Ambiguity       1.158301       20.175439           23\n",
            "4        Long Sentences      68.258484       10.657934          716\n",
            "5  High Lexical Overlap       3.881325        9.162304           35\n"
          ]
        }
      ]
    },
    {
      "cell_type": "markdown",
      "source": [
        "**Results of Finetuned model on Ambiguous dataset**"
      ],
      "metadata": {
        "id": "qjDey-_qdi4t"
      }
    },
    {
      "cell_type": "code",
      "source": [
        "!python3 /content/drive/MyDrive/electra/fp-dataset-artifacts-main/run.py --do_eval --task nli --dataset snli --model /content/drive/MyDrive/electra/cartography/cart_final/model/Finetuned_easy/ --output_dir /content/drive/MyDrive/electra/cartography/cart_final/model/output/"
      ],
      "metadata": {
        "id": "EKwPl3cr_QZY"
      },
      "execution_count": null,
      "outputs": []
    },
    {
      "cell_type": "markdown",
      "source": [
        "{'eval_loss': 0.31365907192230225, 'eval_model_preparation_time': 0.0033, 'eval_accuracy': **0.8941271901130676**, 'eval_runtime': 26.0593, 'eval_samples_per_second': 377.676, 'eval_steps_per_second': 47.238}"
      ],
      "metadata": {
        "id": "yka5VZyceRaA"
      }
    },
    {
      "cell_type": "code",
      "source": [
        "load_jsonl_predictions(\"/content/drive/MyDrive/electra/cartography/cart_final/model/output/finetuned_eval_predictions.jsonl\")"
      ],
      "metadata": {
        "colab": {
          "base_uri": "https://localhost:8080/"
        },
        "id": "B-a14KTxqd7D",
        "outputId": "e9beab61-de40-4fdb-c97b-1623edba7b40"
      },
      "execution_count": 28,
      "outputs": [
        {
          "output_type": "stream",
          "name": "stdout",
          "text": [
            "            Error Class  Frequency (%)  Error Rate (%)  Error Count\n",
            "0              Negation       1.574883       10.322581           16\n",
            "1           Coreference      64.661654       11.486486          731\n",
            "2            Rare Words       0.000000        0.000000            0\n",
            "3             Ambiguity       1.158301       19.298246           22\n",
            "4        Long Sentences      68.258484       10.881215          731\n",
            "5  High Lexical Overlap       3.881325        8.115183           31\n"
          ]
        }
      ]
    },
    {
      "cell_type": "markdown",
      "source": [
        "**Results of Fineuned model on Easy Dataset**"
      ],
      "metadata": {
        "id": "bLQQ-aIldm_G"
      }
    },
    {
      "cell_type": "code",
      "source": [
        "!python3 /content/drive/MyDrive/electra/fp-dataset-artifacts-main/run.py --do_eval --task nli --dataset snli --model /content/drive/MyDrive/electra/cartography/cart_final/model/Finetuned_cartography/ --output_dir /content/drive/MyDrive/electra/cartography/cart_final/model/output/"
      ],
      "metadata": {
        "id": "2g_5uRGOzbPY"
      },
      "execution_count": null,
      "outputs": []
    },
    {
      "cell_type": "markdown",
      "source": [
        "{'eval_loss': 0.32033270597457886, 'eval_model_preparation_time': 0.006, 'eval_accuracy': **0.8913838863372803**, 'eval_runtime': 24.9461, 'eval_samples_per_second': 394.53, 'eval_steps_per_second': 49.346}"
      ],
      "metadata": {
        "id": "Q2r2fDDLeVCn"
      }
    },
    {
      "cell_type": "code",
      "source": [
        "load_jsonl_predictions(\"/content/drive/MyDrive/electra/cartography/cart_final/model/output/easy_eval_predictions.jsonl\")"
      ],
      "metadata": {
        "colab": {
          "base_uri": "https://localhost:8080/"
        },
        "id": "WcfE340OBESa",
        "outputId": "b903c0d1-2235-4207-8cee-fb080de39d26"
      },
      "execution_count": 29,
      "outputs": [
        {
          "output_type": "stream",
          "name": "stdout",
          "text": [
            "            Error Class  Frequency (%)  Error Rate (%)  Error Count\n",
            "0              Negation       1.574883       12.258065           19\n",
            "1           Coreference      64.661654       11.407920          726\n",
            "2            Rare Words       0.000000        0.000000            0\n",
            "3             Ambiguity       1.158301       16.666667           19\n",
            "4        Long Sentences      68.258484       10.628163          714\n",
            "5  High Lexical Overlap       3.881325        9.162304           35\n"
          ]
        }
      ]
    },
    {
      "cell_type": "markdown",
      "source": [
        "**Results of Fineuned model on Hard Dataset**"
      ],
      "metadata": {
        "id": "s_hqAAX5ekST"
      }
    },
    {
      "cell_type": "code",
      "source": [
        "!python3 /content/drive/MyDrive/electra/fp-dataset-artifacts-main/run.py --do_eval --task nli --dataset snli --model /content/drive/MyDrive/electra/cartography/cart_final/model/Finetuned_hard/ --output_dir /content/drive/MyDrive/electra/cartography/cart_final/model/output/"
      ],
      "metadata": {
        "id": "3u0b9ohvemzO"
      },
      "execution_count": null,
      "outputs": []
    },
    {
      "cell_type": "markdown",
      "source": [
        "Evaluation results:\n",
        "{'eval_loss': 0.33475616574287415, 'eval_model_preparation_time': 0.0063, 'eval_accuracy':**0.8927047252655029**, 'eval_runtime': 25.5807, 'eval_samples_per_second': 384.743, 'eval_steps_per_second': 48.122}"
      ],
      "metadata": {
        "id": "4qPu50Ghergo"
      }
    },
    {
      "cell_type": "code",
      "source": [
        "load_jsonl_predictions(\"/content/drive/MyDrive/electra/cartography/cart_final/model/output/hard_eval_predictions.jsonl\")"
      ],
      "metadata": {
        "colab": {
          "base_uri": "https://localhost:8080/"
        },
        "id": "YuJvNLuCBN-s",
        "outputId": "6f3c83ee-0e45-452b-c713-f8c090d3caae"
      },
      "execution_count": 30,
      "outputs": [
        {
          "output_type": "stream",
          "name": "stdout",
          "text": [
            "            Error Class  Frequency (%)  Error Rate (%)  Error Count\n",
            "0              Negation       1.574883       12.903226           20\n",
            "1           Coreference      64.661654       11.407920          726\n",
            "2            Rare Words       0.000000        0.000000            0\n",
            "3             Ambiguity       1.158301       21.052632           24\n",
            "4        Long Sentences      68.258484       10.613278          713\n",
            "5  High Lexical Overlap       3.881325        7.068063           27\n"
          ]
        }
      ]
    },
    {
      "cell_type": "markdown",
      "source": [
        "# Results on MNLI Datasets"
      ],
      "metadata": {
        "id": "EtGHJPexfGqx"
      }
    },
    {
      "cell_type": "markdown",
      "source": [
        "**OOD Dataset**"
      ],
      "metadata": {
        "id": "I3SpNM-2cD_0"
      }
    },
    {
      "cell_type": "markdown",
      "source": [
        "**Just Pretrained Model**"
      ],
      "metadata": {
        "id": "Gln9KozwjilA"
      }
    },
    {
      "cell_type": "code",
      "source": [
        "!python3 /content/drive/MyDrive/electra/fp-dataset-artifacts-main/run.py --do_eval --task nli --dataset /content/drive/MyDrive/electra/datasets/mnli.json --model /content/drive/MyDrive/electra/trained_model/ --output_dir /content/drive/MyDrive/electra/cartography/cart_final/model/output/mnli_mismatched/"
      ],
      "metadata": {
        "colab": {
          "base_uri": "https://localhost:8080/"
        },
        "collapsed": true,
        "id": "2cIYvwmHjaWh",
        "outputId": "eaa6d2f8-f1a7-43f8-b456-eaf1d2d9c6a4"
      },
      "execution_count": 14,
      "outputs": [
        {
          "output_type": "stream",
          "name": "stdout",
          "text": [
            "2024-11-28 20:54:49.182833: E external/local_xla/xla/stream_executor/cuda/cuda_fft.cc:485] Unable to register cuFFT factory: Attempting to register factory for plugin cuFFT when one has already been registered\n",
            "2024-11-28 20:54:49.202191: E external/local_xla/xla/stream_executor/cuda/cuda_dnn.cc:8454] Unable to register cuDNN factory: Attempting to register factory for plugin cuDNN when one has already been registered\n",
            "2024-11-28 20:54:49.208179: E external/local_xla/xla/stream_executor/cuda/cuda_blas.cc:1452] Unable to register cuBLAS factory: Attempting to register factory for plugin cuBLAS when one has already been registered\n",
            "2024-11-28 20:54:49.222351: I tensorflow/core/platform/cpu_feature_guard.cc:210] This TensorFlow binary is optimized to use available CPU instructions in performance-critical operations.\n",
            "To enable the following instructions: AVX2 AVX512F FMA, in other operations, rebuild TensorFlow with the appropriate compiler flags.\n",
            "2024-11-28 20:54:50.532227: W tensorflow/compiler/tf2tensorrt/utils/py_utils.cc:38] TF-TRT Warning: Could not find TensorRT\n",
            "Preprocessing data... (this takes a little bit, should only happen once per dataset)\n",
            "Map (num_proc=2): 100% 9832/9832 [00:01<00:00, 5054.47 examples/s]\n",
            "/content/drive/MyDrive/electra/fp-dataset-artifacts-main/run.py:159: FutureWarning: `tokenizer` is deprecated and will be removed in version 5.0.0 for `Trainer.__init__`. Use `processing_class` instead.\n",
            "  trainer = trainer_class(\n",
            "100% 1225/1229 [00:18<00:00, 51.24it/s]\u001b[34m\u001b[1mwandb\u001b[0m: \u001b[33mWARNING\u001b[0m The `run_name` is currently set to the same value as `TrainingArguments.output_dir`. If this was not intended, please specify a different run name by setting the `TrainingArguments.run_name` parameter.\n",
            "\u001b[34m\u001b[1mwandb\u001b[0m: Using wandb-core as the SDK backend.  Please refer to https://wandb.me/wandb-core for more information.\n",
            "\u001b[34m\u001b[1mwandb\u001b[0m: (1) Create a W&B account\n",
            "\u001b[34m\u001b[1mwandb\u001b[0m: (2) Use an existing W&B account\n",
            "\u001b[34m\u001b[1mwandb\u001b[0m: (3) Don't visualize my results\n",
            "\u001b[34m\u001b[1mwandb\u001b[0m: Enter your choice: 3\n",
            "\u001b[34m\u001b[1mwandb\u001b[0m: You chose \"Don't visualize my results\"\n",
            "\u001b[34m\u001b[1mwandb\u001b[0m: Tracking run with wandb version 0.18.7\n",
            "\u001b[34m\u001b[1mwandb\u001b[0m: W&B syncing is set to \u001b[1m`offline`\u001b[0m in this directory.  \n",
            "\u001b[34m\u001b[1mwandb\u001b[0m: Run \u001b[1m`wandb online`\u001b[0m or set \u001b[1mWANDB_MODE=online\u001b[0m to enable cloud syncing.\n",
            "100% 1229/1229 [00:22<00:00, 54.76it/s]\n",
            "Evaluation results:\n",
            "{'eval_loss': 0.9774576425552368, 'eval_model_preparation_time': 0.0032, 'eval_accuracy': 0.7010781168937683, 'eval_runtime': 19.2295, 'eval_samples_per_second': 511.297, 'eval_steps_per_second': 63.912}\n",
            "\u001b[1;34mwandb\u001b[0m:\n",
            "\u001b[1;34mwandb\u001b[0m: You can sync this run to the cloud by running:\n",
            "\u001b[1;34mwandb\u001b[0m: \u001b[1mwandb sync /content/drive/MyDrive/wandb/offline-run-20241128_205524-o8j2hl0h\u001b[0m\n",
            "\u001b[1;34mwandb\u001b[0m: Find logs at: \u001b[1;35mwandb/offline-run-20241128_205524-o8j2hl0h/logs\u001b[0m\n"
          ]
        }
      ]
    },
    {
      "cell_type": "markdown",
      "source": [
        "{'eval_loss': 0.9774576425552368, 'eval_model_preparation_time': 0.0032, 'eval_accuracy': **0.7010781168937683**, 'eval_runtime': 19.2295, 'eval_samples_per_second': 511.297, 'eval_steps_per_second': 63.912}"
      ],
      "metadata": {
        "id": "NwdeZwqqjs6t"
      }
    },
    {
      "cell_type": "code",
      "source": [
        "load_jsonl_predictions(\"/content/drive/MyDrive/electra/cartography/cart_final/model/output/mnli_mismatched/eval_predictions.jsonl\")"
      ],
      "metadata": {
        "colab": {
          "base_uri": "https://localhost:8080/"
        },
        "id": "i9IvthWNjwg2",
        "outputId": "beacd56b-acd8-40fa-e715-9f2932e4f72f"
      },
      "execution_count": 32,
      "outputs": [
        {
          "output_type": "stream",
          "name": "stdout",
          "text": [
            "            Error Class  Frequency (%)  Error Rate (%)  Error Count\n",
            "0              Negation      21.887714       29.182156          628\n",
            "1           Coreference      77.583401       30.361825         2316\n",
            "2            Rare Words       0.000000        0.000000            0\n",
            "3             Ambiguity       1.362897       38.805970           52\n",
            "4        Long Sentences      79.068348       30.499100         2371\n",
            "5  High Lexical Overlap       3.224166       15.772871           50\n"
          ]
        }
      ]
    },
    {
      "cell_type": "markdown",
      "source": [
        "**Pre-trained Finetuned (Entire Dataset) Model**"
      ],
      "metadata": {
        "id": "D0-c7aa0bf-9"
      }
    },
    {
      "cell_type": "code",
      "source": [
        "!python3 /content/drive/MyDrive/electra/fp-dataset-artifacts-main/run.py --do_eval --task nli --dataset /content/drive/MyDrive/electra/datasets/mnli.json --model /content/drive/MyDrive/electra/cartography/cart_final/model/Pretrained_cartography/ --output_dir /content/drive/MyDrive/electra/cartography/cart_final/model/output/mnli_mismatched/"
      ],
      "metadata": {
        "colab": {
          "base_uri": "https://localhost:8080/"
        },
        "id": "4hoMaYEibgbs",
        "outputId": "1a933ce6-df05-40e7-b0c0-e023a5d9332a",
        "collapsed": true
      },
      "execution_count": 4,
      "outputs": [
        {
          "output_type": "stream",
          "name": "stdout",
          "text": [
            "2024-11-28 20:40:37.473897: E external/local_xla/xla/stream_executor/cuda/cuda_fft.cc:485] Unable to register cuFFT factory: Attempting to register factory for plugin cuFFT when one has already been registered\n",
            "2024-11-28 20:40:37.493576: E external/local_xla/xla/stream_executor/cuda/cuda_dnn.cc:8454] Unable to register cuDNN factory: Attempting to register factory for plugin cuDNN when one has already been registered\n",
            "2024-11-28 20:40:37.501665: E external/local_xla/xla/stream_executor/cuda/cuda_blas.cc:1452] Unable to register cuBLAS factory: Attempting to register factory for plugin cuBLAS when one has already been registered\n",
            "2024-11-28 20:40:37.515910: I tensorflow/core/platform/cpu_feature_guard.cc:210] This TensorFlow binary is optimized to use available CPU instructions in performance-critical operations.\n",
            "To enable the following instructions: AVX2 AVX512F FMA, in other operations, rebuild TensorFlow with the appropriate compiler flags.\n",
            "2024-11-28 20:40:39.007232: W tensorflow/compiler/tf2tensorrt/utils/py_utils.cc:38] TF-TRT Warning: Could not find TensorRT\n",
            "Generating train split: 9832 examples [00:00, 12978.19 examples/s]\n",
            "Preprocessing data... (this takes a little bit, should only happen once per dataset)\n",
            "Map (num_proc=2): 100% 9832/9832 [00:03<00:00, 2884.23 examples/s]\n",
            "/content/drive/MyDrive/electra/fp-dataset-artifacts-main/run.py:159: FutureWarning: `tokenizer` is deprecated and will be removed in version 5.0.0 for `Trainer.__init__`. Use `processing_class` instead.\n",
            "  trainer = trainer_class(\n",
            "100% 1225/1229 [00:17<00:00, 77.61it/s]\u001b[34m\u001b[1mwandb\u001b[0m: \u001b[33mWARNING\u001b[0m The `run_name` is currently set to the same value as `TrainingArguments.output_dir`. If this was not intended, please specify a different run name by setting the `TrainingArguments.run_name` parameter.\n",
            "\u001b[34m\u001b[1mwandb\u001b[0m: Using wandb-core as the SDK backend.  Please refer to https://wandb.me/wandb-core for more information.\n",
            "\u001b[34m\u001b[1mwandb\u001b[0m: (1) Create a W&B account\n",
            "\u001b[34m\u001b[1mwandb\u001b[0m: (2) Use an existing W&B account\n",
            "\u001b[34m\u001b[1mwandb\u001b[0m: (3) Don't visualize my results\n",
            "100% 1229/1229 [00:30<00:00, 77.61it/s]3\n",
            "\u001b[34m\u001b[1mwandb\u001b[0m: You chose \"Don't visualize my results\"\n",
            "\u001b[34m\u001b[1mwandb\u001b[0m: Tracking run with wandb version 0.18.7\n",
            "\u001b[34m\u001b[1mwandb\u001b[0m: W&B syncing is set to \u001b[1m`offline`\u001b[0m in this directory.  \n",
            "\u001b[34m\u001b[1mwandb\u001b[0m: Run \u001b[1m`wandb online`\u001b[0m or set \u001b[1mWANDB_MODE=online\u001b[0m to enable cloud syncing.\n",
            "100% 1229/1229 [02:48<00:00,  7.31it/s]\n",
            "Evaluation results:\n",
            "{'eval_loss': 0.8103671073913574, 'eval_model_preparation_time': 0.0037, 'eval_accuracy': 0.6982302665710449, 'eval_runtime': 18.6238, 'eval_samples_per_second': 527.928, 'eval_steps_per_second': 65.991}\n",
            "\u001b[1;34mwandb\u001b[0m:\n",
            "\u001b[1;34mwandb\u001b[0m: You can sync this run to the cloud by running:\n",
            "\u001b[1;34mwandb\u001b[0m: \u001b[1mwandb sync /content/drive/MyDrive/wandb/offline-run-20241128_204347-r3ulwfsb\u001b[0m\n",
            "\u001b[1;34mwandb\u001b[0m: Find logs at: \u001b[1;35mwandb/offline-run-20241128_204347-r3ulwfsb/logs\u001b[0m\n"
          ]
        }
      ]
    },
    {
      "cell_type": "markdown",
      "source": [
        "Evaluation results:\n",
        "{'eval_loss': 0.8103671073913574, 'eval_model_preparation_time': 0.0037, 'eval_accuracy': **0.6982302665710449**, 'eval_runtime': 18.6238, 'eval_samples_per_second': 527.928, 'eval_steps_per_second': 65.991}"
      ],
      "metadata": {
        "id": "JOXrWwlKhW_V"
      }
    },
    {
      "cell_type": "code",
      "source": [
        "load_jsonl_predictions(\"/content/drive/MyDrive/electra/cartography/cart_final/model/output/mnli_mismatched/pretrained_eval_predictions.jsonl\")"
      ],
      "metadata": {
        "id": "62mRNnyEcuOA",
        "colab": {
          "base_uri": "https://localhost:8080/"
        },
        "outputId": "723b4d56-e77b-4d82-c1e1-cf1fc14cdcf8"
      },
      "execution_count": 33,
      "outputs": [
        {
          "output_type": "stream",
          "name": "stdout",
          "text": [
            "            Error Class  Frequency (%)  Error Rate (%)  Error Count\n",
            "0              Negation      21.887714       29.182156          628\n",
            "1           Coreference      77.583401       30.702674         2342\n",
            "2            Rare Words       0.000000        0.000000            0\n",
            "3             Ambiguity       1.362897       34.328358           46\n",
            "4        Long Sentences      79.068348       30.897865         2402\n",
            "5  High Lexical Overlap       3.224166       15.772871           50\n"
          ]
        }
      ]
    },
    {
      "cell_type": "markdown",
      "source": [
        "**Model Fine-tuned on Easy Examaples**"
      ],
      "metadata": {
        "id": "p7ROUrONbZ40"
      }
    },
    {
      "cell_type": "code",
      "source": [
        "!python3 /content/drive/MyDrive/electra/fp-dataset-artifacts-main/run.py --do_eval --task nli --dataset /content/drive/MyDrive/electra/datasets/mnli.json --model /content/drive/MyDrive/electra/cartography/cart_final/model/Finetuned_easy/ --output_dir /content/drive/MyDrive/electra/cartography/cart_final/model/output/mnli_mismatched/"
      ],
      "metadata": {
        "id": "TfXJ6brCbKYG",
        "colab": {
          "base_uri": "https://localhost:8080/"
        },
        "collapsed": true,
        "outputId": "8803f5b3-24b1-455a-f873-784dabec1084"
      },
      "execution_count": 7,
      "outputs": [
        {
          "output_type": "stream",
          "name": "stdout",
          "text": [
            "2024-11-28 20:47:21.420884: E external/local_xla/xla/stream_executor/cuda/cuda_fft.cc:485] Unable to register cuFFT factory: Attempting to register factory for plugin cuFFT when one has already been registered\n",
            "2024-11-28 20:47:21.454987: E external/local_xla/xla/stream_executor/cuda/cuda_dnn.cc:8454] Unable to register cuDNN factory: Attempting to register factory for plugin cuDNN when one has already been registered\n",
            "2024-11-28 20:47:21.465499: E external/local_xla/xla/stream_executor/cuda/cuda_blas.cc:1452] Unable to register cuBLAS factory: Attempting to register factory for plugin cuBLAS when one has already been registered\n",
            "2024-11-28 20:47:21.488820: I tensorflow/core/platform/cpu_feature_guard.cc:210] This TensorFlow binary is optimized to use available CPU instructions in performance-critical operations.\n",
            "To enable the following instructions: AVX2 AVX512F FMA, in other operations, rebuild TensorFlow with the appropriate compiler flags.\n",
            "2024-11-28 20:47:22.926042: W tensorflow/compiler/tf2tensorrt/utils/py_utils.cc:38] TF-TRT Warning: Could not find TensorRT\n",
            "Preprocessing data... (this takes a little bit, should only happen once per dataset)\n",
            "Map (num_proc=2): 100% 9832/9832 [00:01<00:00, 5060.29 examples/s]\n",
            "/content/drive/MyDrive/electra/fp-dataset-artifacts-main/run.py:159: FutureWarning: `tokenizer` is deprecated and will be removed in version 5.0.0 for `Trainer.__init__`. Use `processing_class` instead.\n",
            "  trainer = trainer_class(\n",
            " 99% 1222/1229 [00:17<00:00, 76.52it/s]\u001b[34m\u001b[1mwandb\u001b[0m: \u001b[33mWARNING\u001b[0m The `run_name` is currently set to the same value as `TrainingArguments.output_dir`. If this was not intended, please specify a different run name by setting the `TrainingArguments.run_name` parameter.\n",
            "\u001b[34m\u001b[1mwandb\u001b[0m: Using wandb-core as the SDK backend.  Please refer to https://wandb.me/wandb-core for more information.\n",
            "\u001b[34m\u001b[1mwandb\u001b[0m: (1) Create a W&B account\n",
            "\u001b[34m\u001b[1mwandb\u001b[0m: (2) Use an existing W&B account\n",
            "\u001b[34m\u001b[1mwandb\u001b[0m: (3) Don't visualize my results\n",
            "\u001b[34m\u001b[1mwandb\u001b[0m: Enter your choice: 3\n",
            "\u001b[34m\u001b[1mwandb\u001b[0m: You chose \"Don't visualize my results\"\n",
            "\u001b[34m\u001b[1mwandb\u001b[0m: Tracking run with wandb version 0.18.7\n",
            "\u001b[34m\u001b[1mwandb\u001b[0m: W&B syncing is set to \u001b[1m`offline`\u001b[0m in this directory.  \n",
            "\u001b[34m\u001b[1mwandb\u001b[0m: Run \u001b[1m`wandb online`\u001b[0m or set \u001b[1mWANDB_MODE=online\u001b[0m to enable cloud syncing.\n",
            "100% 1229/1229 [00:22<00:00, 54.84it/s]\n",
            "Evaluation results:\n",
            "{'eval_loss': 0.7863791584968567, 'eval_model_preparation_time': 0.0054, 'eval_accuracy': 0.7037225365638733, 'eval_runtime': 18.7515, 'eval_samples_per_second': 524.332, 'eval_steps_per_second': 65.542}\n",
            "\u001b[1;34mwandb\u001b[0m:\n",
            "\u001b[1;34mwandb\u001b[0m: You can sync this run to the cloud by running:\n",
            "\u001b[1;34mwandb\u001b[0m: \u001b[1mwandb sync /content/drive/MyDrive/wandb/offline-run-20241128_204756-f4hkw8mj\u001b[0m\n",
            "\u001b[1;34mwandb\u001b[0m: Find logs at: \u001b[1;35mwandb/offline-run-20241128_204756-f4hkw8mj/logs\u001b[0m\n"
          ]
        }
      ]
    },
    {
      "cell_type": "markdown",
      "source": [
        "Evaluation results:\n",
        "{'eval_loss': 0.7863791584968567, 'eval_model_preparation_time': 0.0054, 'eval_accuracy': **0.7037225365638733**, 'eval_runtime': 18.7515, 'eval_samples_per_second': 524.332, 'eval_steps_per_second': 65.542}"
      ],
      "metadata": {
        "id": "P0MZ96HAh-fb"
      }
    },
    {
      "cell_type": "code",
      "source": [
        "load_jsonl_predictions(\"/content/drive/MyDrive/electra/cartography/cart_final/model/output/mnli_mismatched/easy_eval_predictions.jsonl\")"
      ],
      "metadata": {
        "colab": {
          "base_uri": "https://localhost:8080/"
        },
        "id": "UvVyt3vliJqy",
        "outputId": "7b68311a-51c1-47b7-b88e-5df8de2c4f8a"
      },
      "execution_count": 34,
      "outputs": [
        {
          "output_type": "stream",
          "name": "stdout",
          "text": [
            "            Error Class  Frequency (%)  Error Rate (%)  Error Count\n",
            "0              Negation      21.887714       28.856877          621\n",
            "1           Coreference      77.583401       30.256948         2308\n",
            "2            Rare Words       0.000000        0.000000            0\n",
            "3             Ambiguity       1.362897       36.567164           49\n",
            "4        Long Sentences      79.068348       30.203242         2348\n",
            "5  High Lexical Overlap       3.224166       17.981073           57\n"
          ]
        }
      ]
    },
    {
      "cell_type": "markdown",
      "source": [
        "**Model Fine-tuned on Ambigous Examples**"
      ],
      "metadata": {
        "id": "KX1R-EG9bSbO"
      }
    },
    {
      "cell_type": "code",
      "source": [
        "!python3 /content/drive/MyDrive/electra/fp-dataset-artifacts-main/run.py --do_eval --task nli --dataset /content/drive/MyDrive/electra/datasets/mnli.json --model /content/drive/MyDrive/electra/cartography/cart_final/model/Finetuned_cartography/ --output_dir /content/drive/MyDrive/electra/cartography/cart_final/model/output/mnli_mismatched/"
      ],
      "metadata": {
        "id": "isFh9TXXbR1B",
        "colab": {
          "base_uri": "https://localhost:8080/"
        },
        "collapsed": true,
        "outputId": "c757c335-a4e5-4608-f7b0-c62222fc27bd"
      },
      "execution_count": 9,
      "outputs": [
        {
          "output_type": "stream",
          "name": "stdout",
          "text": [
            "2024-11-28 20:49:11.212477: E external/local_xla/xla/stream_executor/cuda/cuda_fft.cc:485] Unable to register cuFFT factory: Attempting to register factory for plugin cuFFT when one has already been registered\n",
            "2024-11-28 20:49:11.231794: E external/local_xla/xla/stream_executor/cuda/cuda_dnn.cc:8454] Unable to register cuDNN factory: Attempting to register factory for plugin cuDNN when one has already been registered\n",
            "2024-11-28 20:49:11.237586: E external/local_xla/xla/stream_executor/cuda/cuda_blas.cc:1452] Unable to register cuBLAS factory: Attempting to register factory for plugin cuBLAS when one has already been registered\n",
            "2024-11-28 20:49:11.252933: I tensorflow/core/platform/cpu_feature_guard.cc:210] This TensorFlow binary is optimized to use available CPU instructions in performance-critical operations.\n",
            "To enable the following instructions: AVX2 AVX512F FMA, in other operations, rebuild TensorFlow with the appropriate compiler flags.\n",
            "2024-11-28 20:49:12.272390: W tensorflow/compiler/tf2tensorrt/utils/py_utils.cc:38] TF-TRT Warning: Could not find TensorRT\n",
            "Preprocessing data... (this takes a little bit, should only happen once per dataset)\n",
            "Map (num_proc=2): 100% 9832/9832 [00:01<00:00, 5041.74 examples/s]\n",
            "/content/drive/MyDrive/electra/fp-dataset-artifacts-main/run.py:159: FutureWarning: `tokenizer` is deprecated and will be removed in version 5.0.0 for `Trainer.__init__`. Use `processing_class` instead.\n",
            "  trainer = trainer_class(\n",
            "100% 1228/1229 [00:17<00:00, 81.42it/s]\u001b[34m\u001b[1mwandb\u001b[0m: \u001b[33mWARNING\u001b[0m The `run_name` is currently set to the same value as `TrainingArguments.output_dir`. If this was not intended, please specify a different run name by setting the `TrainingArguments.run_name` parameter.\n",
            "\u001b[34m\u001b[1mwandb\u001b[0m: Using wandb-core as the SDK backend.  Please refer to https://wandb.me/wandb-core for more information.\n",
            "\u001b[34m\u001b[1mwandb\u001b[0m: (1) Create a W&B account\n",
            "\u001b[34m\u001b[1mwandb\u001b[0m: (2) Use an existing W&B account\n",
            "\u001b[34m\u001b[1mwandb\u001b[0m: (3) Don't visualize my results\n",
            "100% 1229/1229 [00:30<00:00, 81.42it/s]3\n",
            "\u001b[34m\u001b[1mwandb\u001b[0m: You chose \"Don't visualize my results\"\n",
            "\u001b[34m\u001b[1mwandb\u001b[0m: Tracking run with wandb version 0.18.7\n",
            "\u001b[34m\u001b[1mwandb\u001b[0m: W&B syncing is set to \u001b[1m`offline`\u001b[0m in this directory.  \n",
            "\u001b[34m\u001b[1mwandb\u001b[0m: Run \u001b[1m`wandb online`\u001b[0m or set \u001b[1mWANDB_MODE=online\u001b[0m to enable cloud syncing.\n",
            "100% 1229/1229 [00:34<00:00, 35.82it/s]\n",
            "Evaluation results:\n",
            "{'eval_loss': 0.8081018924713135, 'eval_model_preparation_time': 0.0031, 'eval_accuracy': 0.6979251503944397, 'eval_runtime': 17.6294, 'eval_samples_per_second': 557.705, 'eval_steps_per_second': 69.713}\n",
            "\u001b[1;34mwandb\u001b[0m:\n",
            "\u001b[1;34mwandb\u001b[0m: You can sync this run to the cloud by running:\n",
            "\u001b[1;34mwandb\u001b[0m: \u001b[1mwandb sync /content/drive/MyDrive/wandb/offline-run-20241128_204954-rspjp11s\u001b[0m\n",
            "\u001b[1;34mwandb\u001b[0m: Find logs at: \u001b[1;35mwandb/offline-run-20241128_204954-rspjp11s/logs\u001b[0m\n"
          ]
        }
      ]
    },
    {
      "cell_type": "markdown",
      "source": [
        "{'eval_loss': 0.8081018924713135, 'eval_model_preparation_time': 0.0031, 'eval_accuracy': **0.6979251503944397**, 'eval_runtime': 17.6294, 'eval_samples_per_second': 557.705, 'eval_steps_per_second': 69.713}"
      ],
      "metadata": {
        "id": "xFegQEe_icmW"
      }
    },
    {
      "cell_type": "code",
      "source": [
        "load_jsonl_predictions(\"/content/drive/MyDrive/electra/cartography/cart_final/model/output/mnli_mismatched/amb_eval_predictions.jsonl\")"
      ],
      "metadata": {
        "colab": {
          "base_uri": "https://localhost:8080/"
        },
        "id": "UE2TlCj3itQi",
        "outputId": "dcafaeb8-b6c7-466b-8575-58e9c9502f7f"
      },
      "execution_count": 35,
      "outputs": [
        {
          "output_type": "stream",
          "name": "stdout",
          "text": [
            "            Error Class  Frequency (%)  Error Rate (%)  Error Count\n",
            "0              Negation      21.887714       30.622677          659\n",
            "1           Coreference      77.583401       30.833770         2352\n",
            "2            Rare Words       0.000000        0.000000            0\n",
            "3             Ambiguity       1.362897       38.059701           51\n",
            "4        Long Sentences      79.068348       30.769231         2392\n",
            "5  High Lexical Overlap       3.224166       16.719243           53\n"
          ]
        }
      ]
    },
    {
      "cell_type": "markdown",
      "source": [
        "**Model Fine-tuned on Hard Examples**"
      ],
      "metadata": {
        "id": "BovgNuQcb_VW"
      }
    },
    {
      "cell_type": "code",
      "source": [
        "!python3 /content/drive/MyDrive/electra/fp-dataset-artifacts-main/run.py --do_eval --task nli --dataset /content/drive/MyDrive/electra/datasets/mnli.json --model /content/drive/MyDrive/electra/cartography/cart_final/model/Finetuned_hard/ --output_dir /content/drive/MyDrive/electra/cartography/cart_final/model/output/mnli_mismatched/"
      ],
      "metadata": {
        "id": "f8AufTk8b7HM",
        "colab": {
          "base_uri": "https://localhost:8080/"
        },
        "collapsed": true,
        "outputId": "7fe11989-4788-476d-c86b-dc75498aabfc"
      },
      "execution_count": 11,
      "outputs": [
        {
          "output_type": "stream",
          "name": "stdout",
          "text": [
            "2024-11-28 20:51:53.362036: E external/local_xla/xla/stream_executor/cuda/cuda_fft.cc:485] Unable to register cuFFT factory: Attempting to register factory for plugin cuFFT when one has already been registered\n",
            "2024-11-28 20:51:53.381315: E external/local_xla/xla/stream_executor/cuda/cuda_dnn.cc:8454] Unable to register cuDNN factory: Attempting to register factory for plugin cuDNN when one has already been registered\n",
            "2024-11-28 20:51:53.387074: E external/local_xla/xla/stream_executor/cuda/cuda_blas.cc:1452] Unable to register cuBLAS factory: Attempting to register factory for plugin cuBLAS when one has already been registered\n",
            "2024-11-28 20:51:53.401046: I tensorflow/core/platform/cpu_feature_guard.cc:210] This TensorFlow binary is optimized to use available CPU instructions in performance-critical operations.\n",
            "To enable the following instructions: AVX2 AVX512F FMA, in other operations, rebuild TensorFlow with the appropriate compiler flags.\n",
            "2024-11-28 20:51:54.404162: W tensorflow/compiler/tf2tensorrt/utils/py_utils.cc:38] TF-TRT Warning: Could not find TensorRT\n",
            "Preprocessing data... (this takes a little bit, should only happen once per dataset)\n",
            "Map (num_proc=2): 100% 9832/9832 [00:02<00:00, 4887.33 examples/s]\n",
            "/content/drive/MyDrive/electra/fp-dataset-artifacts-main/run.py:159: FutureWarning: `tokenizer` is deprecated and will be removed in version 5.0.0 for `Trainer.__init__`. Use `processing_class` instead.\n",
            "  trainer = trainer_class(\n",
            " 99% 1221/1229 [00:17<00:00, 79.41it/s]\u001b[34m\u001b[1mwandb\u001b[0m: \u001b[33mWARNING\u001b[0m The `run_name` is currently set to the same value as `TrainingArguments.output_dir`. If this was not intended, please specify a different run name by setting the `TrainingArguments.run_name` parameter.\n",
            "\u001b[34m\u001b[1mwandb\u001b[0m: Using wandb-core as the SDK backend.  Please refer to https://wandb.me/wandb-core for more information.\n",
            "\u001b[34m\u001b[1mwandb\u001b[0m: (1) Create a W&B account\n",
            "\u001b[34m\u001b[1mwandb\u001b[0m: (2) Use an existing W&B account\n",
            "\u001b[34m\u001b[1mwandb\u001b[0m: (3) Don't visualize my results\n",
            "100% 1229/1229 [00:30<00:00, 79.41it/s]3\n",
            "\u001b[34m\u001b[1mwandb\u001b[0m: You chose \"Don't visualize my results\"\n",
            "\u001b[34m\u001b[1mwandb\u001b[0m: Tracking run with wandb version 0.18.7\n",
            "\u001b[34m\u001b[1mwandb\u001b[0m: W&B syncing is set to \u001b[1m`offline`\u001b[0m in this directory.  \n",
            "\u001b[34m\u001b[1mwandb\u001b[0m: Run \u001b[1m`wandb online`\u001b[0m or set \u001b[1mWANDB_MODE=online\u001b[0m to enable cloud syncing.\n",
            "100% 1229/1229 [00:38<00:00, 32.29it/s]\n",
            "Evaluation results:\n",
            "{'eval_loss': 0.8554939031600952, 'eval_model_preparation_time': 0.0032, 'eval_accuracy': 0.6946704387664795, 'eval_runtime': 17.8336, 'eval_samples_per_second': 551.318, 'eval_steps_per_second': 68.915}\n",
            "\u001b[1;34mwandb\u001b[0m:\n",
            "\u001b[1;34mwandb\u001b[0m: You can sync this run to the cloud by running:\n",
            "\u001b[1;34mwandb\u001b[0m: \u001b[1mwandb sync /content/drive/MyDrive/wandb/offline-run-20241128_205240-pzhq3xtd\u001b[0m\n",
            "\u001b[1;34mwandb\u001b[0m: Find logs at: \u001b[1;35mwandb/offline-run-20241128_205240-pzhq3xtd/logs\u001b[0m\n"
          ]
        }
      ]
    },
    {
      "cell_type": "markdown",
      "source": [
        "{'eval_loss': 0.8554939031600952, 'eval_model_preparation_time': 0.0032, 'eval_accuracy': **0.6946704387664795**, 'eval_runtime': 17.8336, 'eval_samples_per_second': 551.318, 'eval_steps_per_second': 68.915}\n"
      ],
      "metadata": {
        "id": "CRxGO91ZjF6P"
      }
    },
    {
      "cell_type": "code",
      "source": [
        "load_jsonl_predictions(\"/content/drive/MyDrive/electra/cartography/cart_final/model/output/mnli_mismatched/hard_eval_predictions.jsonl\")"
      ],
      "metadata": {
        "colab": {
          "base_uri": "https://localhost:8080/"
        },
        "id": "J4oPFVqbjM1W",
        "outputId": "ad69f467-065f-44d0-ab17-2e880facfc68"
      },
      "execution_count": 36,
      "outputs": [
        {
          "output_type": "stream",
          "name": "stdout",
          "text": [
            "            Error Class  Frequency (%)  Error Rate (%)  Error Count\n",
            "0              Negation      21.887714       30.901487          665\n",
            "1           Coreference      77.583401       30.925537         2359\n",
            "2            Rare Words       0.000000        0.000000            0\n",
            "3             Ambiguity       1.362897       35.074627           47\n",
            "4        Long Sentences      79.068348       31.090816         2417\n",
            "5  High Lexical Overlap       3.224166       15.457413           49\n"
          ]
        }
      ]
    },
    {
      "cell_type": "markdown",
      "source": [
        "# MNLI Matched"
      ],
      "metadata": {
        "id": "oyRWdDiAmSaw"
      }
    },
    {
      "cell_type": "markdown",
      "source": [
        "**Trained Model**"
      ],
      "metadata": {
        "id": "zaeutPMDmWTE"
      }
    },
    {
      "cell_type": "code",
      "source": [
        "!python3 /content/drive/MyDrive/electra/fp-dataset-artifacts-main/run.py --do_eval --task nli --dataset /content/drive/MyDrive/electra/datasets/mnli_matched.json --model /content/drive/MyDrive/electra/trained_model/ --output_dir /content/drive/MyDrive/electra/cartography/cart_final/model/output/mnli_matched/"
      ],
      "metadata": {
        "colab": {
          "base_uri": "https://localhost:8080/"
        },
        "collapsed": true,
        "id": "B7IkteQ3mR_V",
        "outputId": "558a1d58-e808-4a64-834b-ed7392f1b49f"
      },
      "execution_count": 17,
      "outputs": [
        {
          "output_type": "stream",
          "name": "stdout",
          "text": [
            "2024-11-28 21:10:41.522447: E external/local_xla/xla/stream_executor/cuda/cuda_fft.cc:485] Unable to register cuFFT factory: Attempting to register factory for plugin cuFFT when one has already been registered\n",
            "2024-11-28 21:10:41.541727: E external/local_xla/xla/stream_executor/cuda/cuda_dnn.cc:8454] Unable to register cuDNN factory: Attempting to register factory for plugin cuDNN when one has already been registered\n",
            "2024-11-28 21:10:41.547497: E external/local_xla/xla/stream_executor/cuda/cuda_blas.cc:1452] Unable to register cuBLAS factory: Attempting to register factory for plugin cuBLAS when one has already been registered\n",
            "2024-11-28 21:10:41.563183: I tensorflow/core/platform/cpu_feature_guard.cc:210] This TensorFlow binary is optimized to use available CPU instructions in performance-critical operations.\n",
            "To enable the following instructions: AVX2 AVX512F FMA, in other operations, rebuild TensorFlow with the appropriate compiler flags.\n",
            "2024-11-28 21:10:42.583419: W tensorflow/compiler/tf2tensorrt/utils/py_utils.cc:38] TF-TRT Warning: Could not find TensorRT\n",
            "Generating train split: 9815 examples [00:00, 24329.57 examples/s]\n",
            "Preprocessing data... (this takes a little bit, should only happen once per dataset)\n",
            "Map (num_proc=2): 100% 9815/9815 [00:03<00:00, 3067.09 examples/s]\n",
            "/content/drive/MyDrive/electra/fp-dataset-artifacts-main/run.py:159: FutureWarning: `tokenizer` is deprecated and will be removed in version 5.0.0 for `Trainer.__init__`. Use `processing_class` instead.\n",
            "  trainer = trainer_class(\n",
            "100% 1222/1227 [00:17<00:00, 75.73it/s]\u001b[34m\u001b[1mwandb\u001b[0m: \u001b[33mWARNING\u001b[0m The `run_name` is currently set to the same value as `TrainingArguments.output_dir`. If this was not intended, please specify a different run name by setting the `TrainingArguments.run_name` parameter.\n",
            "\u001b[34m\u001b[1mwandb\u001b[0m: Using wandb-core as the SDK backend.  Please refer to https://wandb.me/wandb-core for more information.\n",
            "\u001b[34m\u001b[1mwandb\u001b[0m: (1) Create a W&B account\n",
            "\u001b[34m\u001b[1mwandb\u001b[0m: (2) Use an existing W&B account\n",
            "\u001b[34m\u001b[1mwandb\u001b[0m: (3) Don't visualize my results\n",
            "\u001b[34m\u001b[1mwandb\u001b[0m: Enter your choice: 3\n",
            "\u001b[34m\u001b[1mwandb\u001b[0m: You chose \"Don't visualize my results\"\n",
            "\u001b[34m\u001b[1mwandb\u001b[0m: Tracking run with wandb version 0.18.7\n",
            "\u001b[34m\u001b[1mwandb\u001b[0m: W&B syncing is set to \u001b[1m`offline`\u001b[0m in this directory.  \n",
            "\u001b[34m\u001b[1mwandb\u001b[0m: Run \u001b[1m`wandb online`\u001b[0m or set \u001b[1mWANDB_MODE=online\u001b[0m to enable cloud syncing.\n",
            "100% 1227/1227 [00:23<00:00, 52.04it/s]\n",
            "Evaluation results:\n",
            "{'eval_loss': 1.0004066228866577, 'eval_model_preparation_time': 0.0054, 'eval_accuracy': 0.690473735332489, 'eval_runtime': 18.0353, 'eval_samples_per_second': 544.211, 'eval_steps_per_second': 68.033}\n",
            "\u001b[1;34mwandb\u001b[0m:\n",
            "\u001b[1;34mwandb\u001b[0m: You can sync this run to the cloud by running:\n",
            "\u001b[1;34mwandb\u001b[0m: \u001b[1mwandb sync /content/drive/MyDrive/wandb/offline-run-20241128_211114-uj75pe0e\u001b[0m\n",
            "\u001b[1;34mwandb\u001b[0m: Find logs at: \u001b[1;35mwandb/offline-run-20241128_211114-uj75pe0e/logs\u001b[0m\n"
          ]
        }
      ]
    },
    {
      "cell_type": "markdown",
      "source": [
        "Evaluation results:\n",
        "{'eval_loss': 1.0004066228866577, 'eval_model_preparation_time': 0.0054, 'eval_accuracy': **0.690473735332489**, 'eval_runtime': 18.0353, 'eval_samples_per_second': 544.211, 'eval_steps_per_second': 68.033}"
      ],
      "metadata": {
        "id": "_s9HTq4MoBKh"
      }
    },
    {
      "cell_type": "code",
      "source": [
        "load_jsonl_predictions(\"/content/drive/MyDrive/electra/cartography/cart_final/model/output/mnli_matched/trained_eval_predictions.jsonl\")"
      ],
      "metadata": {
        "colab": {
          "base_uri": "https://localhost:8080/"
        },
        "id": "yxa6XINlp85B",
        "outputId": "3a55dc68-acd0-4a89-b3a5-1836a3045768"
      },
      "execution_count": 23,
      "outputs": [
        {
          "output_type": "stream",
          "name": "stdout",
          "text": [
            "            Error Class  Frequency (%)  Error Rate (%)  Error Count\n",
            "0              Negation      21.090168       32.318841          669\n",
            "1           Coreference      76.016302       31.282670         2334\n",
            "2            Rare Words       0.000000        0.000000            0\n",
            "3             Ambiguity       1.314315       34.108527           44\n",
            "4        Long Sentences      75.425369       31.703364         2347\n",
            "5  High Lexical Overlap       2.363729       16.810345           39\n"
          ]
        }
      ]
    },
    {
      "cell_type": "markdown",
      "source": [
        "**Pre-trained Finetuned (Entire Dataset) Model**"
      ],
      "metadata": {
        "id": "dltSC7NfnVm_"
      }
    },
    {
      "cell_type": "code",
      "source": [
        "!python3 /content/drive/MyDrive/electra/fp-dataset-artifacts-main/run.py --do_eval --task nli --dataset /content/drive/MyDrive/electra/datasets/mnli_matched.json --model /content/drive/MyDrive/electra/cartography/cart_final/model/Pretrained_cartography/ --output_dir /content/drive/MyDrive/electra/cartography/cart_final/model/output/mnli_matched/"
      ],
      "metadata": {
        "colab": {
          "base_uri": "https://localhost:8080/"
        },
        "collapsed": true,
        "id": "enVVhy-1m-Cq",
        "outputId": "74b3eb1b-56ca-48cc-e853-4741bca411f4"
      },
      "execution_count": 18,
      "outputs": [
        {
          "output_type": "stream",
          "name": "stdout",
          "text": [
            "2024-11-28 21:15:19.135725: E external/local_xla/xla/stream_executor/cuda/cuda_fft.cc:485] Unable to register cuFFT factory: Attempting to register factory for plugin cuFFT when one has already been registered\n",
            "2024-11-28 21:15:19.155076: E external/local_xla/xla/stream_executor/cuda/cuda_dnn.cc:8454] Unable to register cuDNN factory: Attempting to register factory for plugin cuDNN when one has already been registered\n",
            "2024-11-28 21:15:19.160922: E external/local_xla/xla/stream_executor/cuda/cuda_blas.cc:1452] Unable to register cuBLAS factory: Attempting to register factory for plugin cuBLAS when one has already been registered\n",
            "2024-11-28 21:15:19.175777: I tensorflow/core/platform/cpu_feature_guard.cc:210] This TensorFlow binary is optimized to use available CPU instructions in performance-critical operations.\n",
            "To enable the following instructions: AVX2 AVX512F FMA, in other operations, rebuild TensorFlow with the appropriate compiler flags.\n",
            "2024-11-28 21:15:20.176519: W tensorflow/compiler/tf2tensorrt/utils/py_utils.cc:38] TF-TRT Warning: Could not find TensorRT\n",
            "Preprocessing data... (this takes a little bit, should only happen once per dataset)\n",
            "Map (num_proc=2): 100% 9815/9815 [00:02<00:00, 3966.96 examples/s]\n",
            "/content/drive/MyDrive/electra/fp-dataset-artifacts-main/run.py:159: FutureWarning: `tokenizer` is deprecated and will be removed in version 5.0.0 for `Trainer.__init__`. Use `processing_class` instead.\n",
            "  trainer = trainer_class(\n",
            "100% 1226/1227 [00:17<00:00, 77.15it/s]\u001b[34m\u001b[1mwandb\u001b[0m: \u001b[33mWARNING\u001b[0m The `run_name` is currently set to the same value as `TrainingArguments.output_dir`. If this was not intended, please specify a different run name by setting the `TrainingArguments.run_name` parameter.\n",
            "\u001b[34m\u001b[1mwandb\u001b[0m: Using wandb-core as the SDK backend.  Please refer to https://wandb.me/wandb-core for more information.\n",
            "\u001b[34m\u001b[1mwandb\u001b[0m: (1) Create a W&B account\n",
            "\u001b[34m\u001b[1mwandb\u001b[0m: (2) Use an existing W&B account\n",
            "\u001b[34m\u001b[1mwandb\u001b[0m: (3) Don't visualize my results\n",
            "100% 1227/1227 [00:30<00:00, 77.15it/s]3\n",
            "\u001b[34m\u001b[1mwandb\u001b[0m: You chose \"Don't visualize my results\"\n",
            "\u001b[34m\u001b[1mwandb\u001b[0m: Tracking run with wandb version 0.18.7\n",
            "\u001b[34m\u001b[1mwandb\u001b[0m: W&B syncing is set to \u001b[1m`offline`\u001b[0m in this directory.  \n",
            "\u001b[34m\u001b[1mwandb\u001b[0m: Run \u001b[1m`wandb online`\u001b[0m or set \u001b[1mWANDB_MODE=online\u001b[0m to enable cloud syncing.\n",
            "100% 1227/1227 [00:33<00:00, 36.88it/s]\n",
            "Evaluation results:\n",
            "{'eval_loss': 0.8231008052825928, 'eval_model_preparation_time': 0.0032, 'eval_accuracy': 0.6897605657577515, 'eval_runtime': 18.0117, 'eval_samples_per_second': 544.924, 'eval_steps_per_second': 68.122}\n",
            "\u001b[1;34mwandb\u001b[0m:\n",
            "\u001b[1;34mwandb\u001b[0m: You can sync this run to the cloud by running:\n",
            "\u001b[1;34mwandb\u001b[0m: \u001b[1mwandb sync /content/drive/MyDrive/wandb/offline-run-20241128_211559-bxu2p6bo\u001b[0m\n",
            "\u001b[1;34mwandb\u001b[0m: Find logs at: \u001b[1;35mwandb/offline-run-20241128_211559-bxu2p6bo/logs\u001b[0m\n"
          ]
        }
      ]
    },
    {
      "cell_type": "markdown",
      "source": [
        "{'eval_loss': 0.8231008052825928, 'eval_model_preparation_time': 0.0032, 'eval_accuracy': **0.6897605657577515**, 'eval_runtime': 18.0117, 'eval_samples_per_second': 544.924, 'eval_steps_per_second': 68.122}\n"
      ],
      "metadata": {
        "id": "QQeKSHuOoZMw"
      }
    },
    {
      "cell_type": "code",
      "source": [
        "load_jsonl_predictions(\"/content/drive/MyDrive/electra/cartography/cart_final/model/output/mnli_matched/pretrained_eval_predictions.jsonl\")"
      ],
      "metadata": {
        "colab": {
          "base_uri": "https://localhost:8080/"
        },
        "id": "yCASJ2fIqDOW",
        "outputId": "89e563a7-76d3-4fec-92cb-4eb47c1e3227"
      },
      "execution_count": 24,
      "outputs": [
        {
          "output_type": "stream",
          "name": "stdout",
          "text": [
            "            Error Class  Frequency (%)  Error Rate (%)  Error Count\n",
            "0              Negation      21.090168       30.869565          639\n",
            "1           Coreference      76.016302       31.443506         2346\n",
            "2            Rare Words       0.000000        0.000000            0\n",
            "3             Ambiguity       1.314315       34.108527           44\n",
            "4        Long Sentences      75.425369       31.730380         2349\n",
            "5  High Lexical Overlap       2.363729       21.551724           50\n"
          ]
        }
      ]
    },
    {
      "cell_type": "markdown",
      "source": [
        "**Finetuned on ambiguous dataset Model**"
      ],
      "metadata": {
        "id": "-tC9JhZmnrZY"
      }
    },
    {
      "cell_type": "code",
      "source": [
        "!python3 /content/drive/MyDrive/electra/fp-dataset-artifacts-main/run.py --do_eval --task nli --dataset /content/drive/MyDrive/electra/datasets/mnli_matched.json --model /content/drive/MyDrive/electra/cartography/cart_final/model/Finetuned_cartography/ --output_dir /content/drive/MyDrive/electra/cartography/cart_final/model/output/mnli_matched/"
      ],
      "metadata": {
        "colab": {
          "base_uri": "https://localhost:8080/"
        },
        "collapsed": true,
        "id": "3jnG_Y50ne3d",
        "outputId": "8b14ac79-df4e-4df9-bc69-db3190b4dd62"
      },
      "execution_count": 19,
      "outputs": [
        {
          "output_type": "stream",
          "name": "stdout",
          "text": [
            "2024-11-28 21:17:33.798043: E external/local_xla/xla/stream_executor/cuda/cuda_fft.cc:485] Unable to register cuFFT factory: Attempting to register factory for plugin cuFFT when one has already been registered\n",
            "2024-11-28 21:17:33.817206: E external/local_xla/xla/stream_executor/cuda/cuda_dnn.cc:8454] Unable to register cuDNN factory: Attempting to register factory for plugin cuDNN when one has already been registered\n",
            "2024-11-28 21:17:33.823036: E external/local_xla/xla/stream_executor/cuda/cuda_blas.cc:1452] Unable to register cuBLAS factory: Attempting to register factory for plugin cuBLAS when one has already been registered\n",
            "2024-11-28 21:17:33.836838: I tensorflow/core/platform/cpu_feature_guard.cc:210] This TensorFlow binary is optimized to use available CPU instructions in performance-critical operations.\n",
            "To enable the following instructions: AVX2 AVX512F FMA, in other operations, rebuild TensorFlow with the appropriate compiler flags.\n",
            "2024-11-28 21:17:34.850641: W tensorflow/compiler/tf2tensorrt/utils/py_utils.cc:38] TF-TRT Warning: Could not find TensorRT\n",
            "Preprocessing data... (this takes a little bit, should only happen once per dataset)\n",
            "Map (num_proc=2): 100% 9815/9815 [00:02<00:00, 4517.22 examples/s]\n",
            "/content/drive/MyDrive/electra/fp-dataset-artifacts-main/run.py:159: FutureWarning: `tokenizer` is deprecated and will be removed in version 5.0.0 for `Trainer.__init__`. Use `processing_class` instead.\n",
            "  trainer = trainer_class(\n",
            " 99% 1220/1227 [00:17<00:00, 78.69it/s]\u001b[34m\u001b[1mwandb\u001b[0m: \u001b[33mWARNING\u001b[0m The `run_name` is currently set to the same value as `TrainingArguments.output_dir`. If this was not intended, please specify a different run name by setting the `TrainingArguments.run_name` parameter.\n",
            "\u001b[34m\u001b[1mwandb\u001b[0m: Using wandb-core as the SDK backend.  Please refer to https://wandb.me/wandb-core for more information.\n",
            "\u001b[34m\u001b[1mwandb\u001b[0m: (1) Create a W&B account\n",
            "\u001b[34m\u001b[1mwandb\u001b[0m: (2) Use an existing W&B account\n",
            "\u001b[34m\u001b[1mwandb\u001b[0m: (3) Don't visualize my results\n",
            "100% 1227/1227 [00:30<00:00, 78.69it/s]3\n",
            "\u001b[34m\u001b[1mwandb\u001b[0m: You chose \"Don't visualize my results\"\n",
            "\u001b[34m\u001b[1mwandb\u001b[0m: Tracking run with wandb version 0.18.7\n",
            "\u001b[34m\u001b[1mwandb\u001b[0m: W&B syncing is set to \u001b[1m`offline`\u001b[0m in this directory.  \n",
            "\u001b[34m\u001b[1mwandb\u001b[0m: Run \u001b[1m`wandb online`\u001b[0m or set \u001b[1mWANDB_MODE=online\u001b[0m to enable cloud syncing.\n",
            "100% 1227/1227 [01:07<00:00, 18.31it/s]\n",
            "Evaluation results:\n",
            "{'eval_loss': 0.8226026296615601, 'eval_model_preparation_time': 0.0054, 'eval_accuracy': 0.6859908103942871, 'eval_runtime': 18.6905, 'eval_samples_per_second': 525.134, 'eval_steps_per_second': 65.648}\n",
            "\u001b[1;34mwandb\u001b[0m:\n",
            "\u001b[1;34mwandb\u001b[0m: You can sync this run to the cloud by running:\n",
            "\u001b[1;34mwandb\u001b[0m: \u001b[1mwandb sync /content/drive/MyDrive/wandb/offline-run-20241128_211847-tcuwva5s\u001b[0m\n",
            "\u001b[1;34mwandb\u001b[0m: Find logs at: \u001b[1;35mwandb/offline-run-20241128_211847-tcuwva5s/logs\u001b[0m\n"
          ]
        }
      ]
    },
    {
      "cell_type": "markdown",
      "source": [
        "{'eval_loss': 0.8226026296615601, 'eval_model_preparation_time': 0.0054, 'eval_accuracy':**0.6859908103942871**, 'eval_runtime': 18.6905, 'eval_samples_per_second': 525.134, 'eval_steps_per_second': 65.648}"
      ],
      "metadata": {
        "id": "lCLnYzMppEbm"
      }
    },
    {
      "cell_type": "code",
      "source": [
        "load_jsonl_predictions(\"/content/drive/MyDrive/electra/cartography/cart_final/model/output/mnli_matched/amb_eval_predictions.jsonl\")"
      ],
      "metadata": {
        "colab": {
          "base_uri": "https://localhost:8080/"
        },
        "id": "2yAJhOw6qG6k",
        "outputId": "5e952113-e98d-4428-a10e-2b5103c2975c"
      },
      "execution_count": 25,
      "outputs": [
        {
          "output_type": "stream",
          "name": "stdout",
          "text": [
            "            Error Class  Frequency (%)  Error Rate (%)  Error Count\n",
            "0              Negation      21.090168       32.657005          676\n",
            "1           Coreference      76.016302       31.590940         2357\n",
            "2            Rare Words       0.000000        0.000000            0\n",
            "3             Ambiguity       1.314315       33.333333           43\n",
            "4        Long Sentences      75.425369       31.946508         2365\n",
            "5  High Lexical Overlap       2.363729       16.379310           38\n"
          ]
        }
      ]
    },
    {
      "cell_type": "markdown",
      "source": [
        "**Finetuned on Easy dataset Model**"
      ],
      "metadata": {
        "id": "cXq3xMHon5We"
      }
    },
    {
      "cell_type": "code",
      "source": [
        "!python3 /content/drive/MyDrive/electra/fp-dataset-artifacts-main/run.py --do_eval --task nli --dataset /content/drive/MyDrive/electra/datasets/mnli_matched.json --model /content/drive/MyDrive/electra/cartography/cart_final/model/Finetuned_easy/ --output_dir /content/drive/MyDrive/electra/cartography/cart_final/model/output/mnli_matched/"
      ],
      "metadata": {
        "colab": {
          "base_uri": "https://localhost:8080/"
        },
        "collapsed": true,
        "id": "5SfO103Enyg5",
        "outputId": "4f673ef6-19c2-44ac-9bfa-145a5ecce800"
      },
      "execution_count": 20,
      "outputs": [
        {
          "output_type": "stream",
          "name": "stdout",
          "text": [
            "2024-11-28 21:19:38.217513: E external/local_xla/xla/stream_executor/cuda/cuda_fft.cc:485] Unable to register cuFFT factory: Attempting to register factory for plugin cuFFT when one has already been registered\n",
            "2024-11-28 21:19:38.237343: E external/local_xla/xla/stream_executor/cuda/cuda_dnn.cc:8454] Unable to register cuDNN factory: Attempting to register factory for plugin cuDNN when one has already been registered\n",
            "2024-11-28 21:19:38.243191: E external/local_xla/xla/stream_executor/cuda/cuda_blas.cc:1452] Unable to register cuBLAS factory: Attempting to register factory for plugin cuBLAS when one has already been registered\n",
            "2024-11-28 21:19:38.257153: I tensorflow/core/platform/cpu_feature_guard.cc:210] This TensorFlow binary is optimized to use available CPU instructions in performance-critical operations.\n",
            "To enable the following instructions: AVX2 AVX512F FMA, in other operations, rebuild TensorFlow with the appropriate compiler flags.\n",
            "2024-11-28 21:19:39.306484: W tensorflow/compiler/tf2tensorrt/utils/py_utils.cc:38] TF-TRT Warning: Could not find TensorRT\n",
            "Preprocessing data... (this takes a little bit, should only happen once per dataset)\n",
            "Map (num_proc=2): 100% 9815/9815 [00:01<00:00, 5175.32 examples/s]\n",
            "/content/drive/MyDrive/electra/fp-dataset-artifacts-main/run.py:159: FutureWarning: `tokenizer` is deprecated and will be removed in version 5.0.0 for `Trainer.__init__`. Use `processing_class` instead.\n",
            "  trainer = trainer_class(\n",
            "100% 1225/1227 [00:17<00:00, 57.29it/s]\u001b[34m\u001b[1mwandb\u001b[0m: \u001b[33mWARNING\u001b[0m The `run_name` is currently set to the same value as `TrainingArguments.output_dir`. If this was not intended, please specify a different run name by setting the `TrainingArguments.run_name` parameter.\n",
            "\u001b[34m\u001b[1mwandb\u001b[0m: Using wandb-core as the SDK backend.  Please refer to https://wandb.me/wandb-core for more information.\n",
            "\u001b[34m\u001b[1mwandb\u001b[0m: (1) Create a W&B account\n",
            "\u001b[34m\u001b[1mwandb\u001b[0m: (2) Use an existing W&B account\n",
            "\u001b[34m\u001b[1mwandb\u001b[0m: (3) Don't visualize my results\n",
            "\u001b[34m\u001b[1mwandb\u001b[0m: Enter your choice: 3\n",
            "\u001b[34m\u001b[1mwandb\u001b[0m: You chose \"Don't visualize my results\"\n",
            "\u001b[34m\u001b[1mwandb\u001b[0m: Tracking run with wandb version 0.18.7\n",
            "\u001b[34m\u001b[1mwandb\u001b[0m: W&B syncing is set to \u001b[1m`offline`\u001b[0m in this directory.  \n",
            "\u001b[34m\u001b[1mwandb\u001b[0m: Run \u001b[1m`wandb online`\u001b[0m or set \u001b[1mWANDB_MODE=online\u001b[0m to enable cloud syncing.\n",
            "100% 1227/1227 [00:21<00:00, 55.78it/s]\n",
            "Evaluation results:\n",
            "{'eval_loss': 0.7971116304397583, 'eval_model_preparation_time': 0.0032, 'eval_accuracy': 0.6935303211212158, 'eval_runtime': 18.3543, 'eval_samples_per_second': 534.753, 'eval_steps_per_second': 66.851}\n",
            "\u001b[1;34mwandb\u001b[0m:\n",
            "\u001b[1;34mwandb\u001b[0m: You can sync this run to the cloud by running:\n",
            "\u001b[1;34mwandb\u001b[0m: \u001b[1mwandb sync /content/drive/MyDrive/wandb/offline-run-20241128_212006-2krrojfk\u001b[0m\n",
            "\u001b[1;34mwandb\u001b[0m: Find logs at: \u001b[1;35mwandb/offline-run-20241128_212006-2krrojfk/logs\u001b[0m\n"
          ]
        }
      ]
    },
    {
      "cell_type": "markdown",
      "source": [
        "{'eval_loss': 0.7971116304397583, 'eval_model_preparation_time': 0.0032, 'eval_accuracy': **0.6935303211212158**, 'eval_runtime': 18.3543, 'eval_samples_per_second': 534.753, 'eval_steps_per_second': 66.851}"
      ],
      "metadata": {
        "id": "MlG7k13JpXk6"
      }
    },
    {
      "cell_type": "code",
      "source": [
        "load_jsonl_predictions(\"/content/drive/MyDrive/electra/cartography/cart_final/model/output/mnli_matched/easy_eval_predictions.jsonl\")"
      ],
      "metadata": {
        "colab": {
          "base_uri": "https://localhost:8080/"
        },
        "id": "6TU-Hr70qJ2E",
        "outputId": "6e06c8ed-a322-421b-8abe-bd13c03e752c"
      },
      "execution_count": 26,
      "outputs": [
        {
          "output_type": "stream",
          "name": "stdout",
          "text": [
            "            Error Class  Frequency (%)  Error Rate (%)  Error Count\n",
            "0              Negation      21.090168       31.352657          649\n",
            "1           Coreference      76.016302       31.175446         2326\n",
            "2            Rare Words       0.000000        0.000000            0\n",
            "3             Ambiguity       1.314315       31.782946           41\n",
            "4        Long Sentences      75.425369       31.554775         2336\n",
            "5  High Lexical Overlap       2.363729       17.672414           41\n"
          ]
        }
      ]
    },
    {
      "cell_type": "markdown",
      "source": [
        "**Finetuned on hard dataset Model**"
      ],
      "metadata": {
        "id": "n85lINrcn7Ku"
      }
    },
    {
      "cell_type": "code",
      "source": [
        "!python3 /content/drive/MyDrive/electra/fp-dataset-artifacts-main/run.py --do_eval --task nli --dataset /content/drive/MyDrive/electra/datasets/mnli_matched.json --model /content/drive/MyDrive/electra/cartography/cart_final/model/Finetuned_hard/ --output_dir /content/drive/MyDrive/electra/cartography/cart_final/model/output/mnli_matched/"
      ],
      "metadata": {
        "colab": {
          "base_uri": "https://localhost:8080/"
        },
        "collapsed": true,
        "id": "KGmkQBIMn1dz",
        "outputId": "4f7936a3-9047-470f-a7d7-4045c9d16ea3"
      },
      "execution_count": 21,
      "outputs": [
        {
          "output_type": "stream",
          "name": "stdout",
          "text": [
            "2024-11-28 21:21:04.575649: E external/local_xla/xla/stream_executor/cuda/cuda_fft.cc:485] Unable to register cuFFT factory: Attempting to register factory for plugin cuFFT when one has already been registered\n",
            "2024-11-28 21:21:04.607735: E external/local_xla/xla/stream_executor/cuda/cuda_dnn.cc:8454] Unable to register cuDNN factory: Attempting to register factory for plugin cuDNN when one has already been registered\n",
            "2024-11-28 21:21:04.617478: E external/local_xla/xla/stream_executor/cuda/cuda_blas.cc:1452] Unable to register cuBLAS factory: Attempting to register factory for plugin cuBLAS when one has already been registered\n",
            "2024-11-28 21:21:04.639494: I tensorflow/core/platform/cpu_feature_guard.cc:210] This TensorFlow binary is optimized to use available CPU instructions in performance-critical operations.\n",
            "To enable the following instructions: AVX2 AVX512F FMA, in other operations, rebuild TensorFlow with the appropriate compiler flags.\n",
            "2024-11-28 21:21:06.143525: W tensorflow/compiler/tf2tensorrt/utils/py_utils.cc:38] TF-TRT Warning: Could not find TensorRT\n",
            "Preprocessing data... (this takes a little bit, should only happen once per dataset)\n",
            "Map (num_proc=2): 100% 9815/9815 [00:02<00:00, 4795.85 examples/s]\n",
            "/content/drive/MyDrive/electra/fp-dataset-artifacts-main/run.py:159: FutureWarning: `tokenizer` is deprecated and will be removed in version 5.0.0 for `Trainer.__init__`. Use `processing_class` instead.\n",
            "  trainer = trainer_class(\n",
            "100% 1222/1227 [00:17<00:00, 77.70it/s]\u001b[34m\u001b[1mwandb\u001b[0m: \u001b[33mWARNING\u001b[0m The `run_name` is currently set to the same value as `TrainingArguments.output_dir`. If this was not intended, please specify a different run name by setting the `TrainingArguments.run_name` parameter.\n",
            "\u001b[34m\u001b[1mwandb\u001b[0m: Using wandb-core as the SDK backend.  Please refer to https://wandb.me/wandb-core for more information.\n",
            "\u001b[34m\u001b[1mwandb\u001b[0m: (1) Create a W&B account\n",
            "\u001b[34m\u001b[1mwandb\u001b[0m: (2) Use an existing W&B account\n",
            "\u001b[34m\u001b[1mwandb\u001b[0m: (3) Don't visualize my results\n",
            "\u001b[34m\u001b[1mwandb\u001b[0m: Enter your choice: 3\n",
            "\u001b[34m\u001b[1mwandb\u001b[0m: You chose \"Don't visualize my results\"\n",
            "\u001b[34m\u001b[1mwandb\u001b[0m: Tracking run with wandb version 0.18.7\n",
            "\u001b[34m\u001b[1mwandb\u001b[0m: W&B syncing is set to \u001b[1m`offline`\u001b[0m in this directory.  \n",
            "\u001b[34m\u001b[1mwandb\u001b[0m: Run \u001b[1m`wandb online`\u001b[0m or set \u001b[1mWANDB_MODE=online\u001b[0m to enable cloud syncing.\n",
            "100% 1227/1227 [00:21<00:00, 58.00it/s]\n",
            "Evaluation results:\n",
            "{'eval_loss': 0.8663884401321411, 'eval_model_preparation_time': 0.0031, 'eval_accuracy': 0.6851757764816284, 'eval_runtime': 17.8781, 'eval_samples_per_second': 548.996, 'eval_steps_per_second': 68.631}\n",
            "\u001b[1;34mwandb\u001b[0m:\n",
            "\u001b[1;34mwandb\u001b[0m: You can sync this run to the cloud by running:\n",
            "\u001b[1;34mwandb\u001b[0m: \u001b[1mwandb sync /content/drive/MyDrive/wandb/offline-run-20241128_212132-yg3k46xt\u001b[0m\n",
            "\u001b[1;34mwandb\u001b[0m: Find logs at: \u001b[1;35mwandb/offline-run-20241128_212132-yg3k46xt/logs\u001b[0m\n"
          ]
        }
      ]
    },
    {
      "cell_type": "markdown",
      "source": [
        "{'eval_loss': 0.8663884401321411, 'eval_model_preparation_time': 0.0031, 'eval_accuracy': **0.6851757764816284**, 'eval_runtime': 17.8781, 'eval_samples_per_second': 548.996, 'eval_steps_per_second': 68.631}"
      ],
      "metadata": {
        "id": "dMU4WjN1pqkv"
      }
    },
    {
      "cell_type": "code",
      "source": [
        "load_jsonl_predictions(\"/content/drive/MyDrive/electra/cartography/cart_final/model/output/mnli_matched/hard_eval_predictions.jsonl\")"
      ],
      "metadata": {
        "colab": {
          "base_uri": "https://localhost:8080/"
        },
        "id": "U5vJyikIqMK7",
        "outputId": "a2b3abb4-af8a-48f8-c006-2604a865acb8"
      },
      "execution_count": 27,
      "outputs": [
        {
          "output_type": "stream",
          "name": "stdout",
          "text": [
            "            Error Class  Frequency (%)  Error Rate (%)  Error Count\n",
            "0              Negation      21.090168       32.512077          673\n",
            "1           Coreference      76.016302       31.631149         2360\n",
            "2            Rare Words       0.000000        0.000000            0\n",
            "3             Ambiguity       1.314315       34.108527           44\n",
            "4        Long Sentences      75.425369       32.068081         2374\n",
            "5  High Lexical Overlap       2.363729       17.672414           41\n"
          ]
        }
      ]
    },
    {
      "cell_type": "code",
      "source": [
        "import json\n",
        "import numpy as np\n",
        "from sklearn.metrics import confusion_matrix, ConfusionMatrixDisplay\n",
        "import matplotlib.pyplot as plt\n",
        "\n",
        "\n",
        "def calculate_confusion_matrix(file_path):\n",
        "      json_dataset = []  # Initialize an empty list to store JSON objects\n",
        "      with open(file_path, 'r') as f:\n",
        "          for line in f:  # Read the file line by line\n",
        "              try:\n",
        "                  data = json.loads(line)  # Parse each line as a JSON object\n",
        "                  json_dataset.append(data)  # Add the parsed object to the list\n",
        "              except json.JSONDecodeError as e:\n",
        "                  print(f\"Error decoding JSON: {e}, skipping line: {line}\")\n",
        "\n",
        "\n",
        "      # Example Data (Replace with actual data)\n",
        "      results = json_dataset\n",
        "\n",
        "\n",
        "\n",
        "      # Step 1: Extract true and predicted labels\n",
        "      true_labels = [item[\"label\"] for item in results]\n",
        "      predicted_labels = [item[\"predicted_label\"] for item in results]\n",
        "\n",
        "      # Step 2: Compute confusion matrix\n",
        "      classes = [\"Entailment\", \"Neutral\", \"Contradiction\"]  # Class names for NLI tasks\n",
        "      conf_matrix = confusion_matrix(true_labels, predicted_labels)\n",
        "\n",
        "      # Step 3: Display the confusion matrix\n",
        "      disp = ConfusionMatrixDisplay(confusion_matrix=conf_matrix, display_labels=classes)\n",
        "      disp.plot(cmap=plt.cm.Blues)\n",
        "\n",
        "      # Step 4: Show plot\n",
        "      plt.title(\"Confusion Matrix\")\n",
        "      plt.show()\n"
      ],
      "metadata": {
        "id": "CRhY_4gHwLt3"
      },
      "execution_count": 7,
      "outputs": []
    },
    {
      "cell_type": "code",
      "source": [
        "calculate_confusion_matrix(\"/content/drive/MyDrive/electra/output_remove_stop_words/eval_predictions.jsonl\")"
      ],
      "metadata": {
        "colab": {
          "base_uri": "https://localhost:8080/",
          "height": 472
        },
        "id": "eY_f7AWhwiiD",
        "outputId": "11245804-bece-43fc-b7ab-88f49b5f9223"
      },
      "execution_count": 9,
      "outputs": [
        {
          "output_type": "display_data",
          "data": {
            "text/plain": [
              "<Figure size 640x480 with 2 Axes>"
            ],
            "image/png": "[encoded data removed]"
          },
          "metadata": {}
        }
      ]
    },
    {
      "cell_type": "markdown",
      "source": [
        "**Old Experiments**"
      ],
      "metadata": {
        "id": "_ukPeJLan1CJ"
      }
    },
    {
      "cell_type": "markdown",
      "source": [
        "**MNLI Matched**"
      ],
      "metadata": {
        "id": "YaFojlvuvtIN"
      }
    },
    {
      "cell_type": "code",
      "source": [
        "!python3 /content/drive/MyDrive/electra/fp-dataset-artifacts-main/run.py --do_eval --task nli --dataset /content/drive/MyDrive/electra/datasets/mnli_matched.json --model /content/drive/MyDrive/electra/trained_model/ --output_dir /content/drive/MyDrive/electra/cartography/cart_final/mnli/output/"
      ],
      "metadata": {
        "colab": {
          "base_uri": "https://localhost:8080/"
        },
        "id": "sCmFyGGrvIVa",
        "outputId": "322f7d83-e79c-4022-9d94-274409cc73be"
      },
      "execution_count": 3,
      "outputs": [
        {
          "output_type": "stream",
          "name": "stdout",
          "text": [
            "2024-11-29 02:31:16.772270: E external/local_xla/xla/stream_executor/cuda/cuda_fft.cc:485] Unable to register cuFFT factory: Attempting to register factory for plugin cuFFT when one has already been registered\n",
            "2024-11-29 02:31:16.792567: E external/local_xla/xla/stream_executor/cuda/cuda_dnn.cc:8454] Unable to register cuDNN factory: Attempting to register factory for plugin cuDNN when one has already been registered\n",
            "2024-11-29 02:31:16.798843: E external/local_xla/xla/stream_executor/cuda/cuda_blas.cc:1452] Unable to register cuBLAS factory: Attempting to register factory for plugin cuBLAS when one has already been registered\n",
            "2024-11-29 02:31:16.813670: I tensorflow/core/platform/cpu_feature_guard.cc:210] This TensorFlow binary is optimized to use available CPU instructions in performance-critical operations.\n",
            "To enable the following instructions: AVX2 AVX512F FMA, in other operations, rebuild TensorFlow with the appropriate compiler flags.\n",
            "2024-11-29 02:31:18.236930: W tensorflow/compiler/tf2tensorrt/utils/py_utils.cc:38] TF-TRT Warning: Could not find TensorRT\n",
            "Generating train split: 9815 examples [00:00, 16496.78 examples/s]\n",
            "Preprocessing data... (this takes a little bit, should only happen once per dataset)\n",
            "Map (num_proc=2): 100% 9815/9815 [00:03<00:00, 2615.35 examples/s]\n",
            "/content/drive/MyDrive/electra/fp-dataset-artifacts-main/run.py:159: FutureWarning: `tokenizer` is deprecated and will be removed in version 5.0.0 for `Trainer.__init__`. Use `processing_class` instead.\n",
            "  trainer = trainer_class(\n",
            " 99% 1220/1227 [00:18<00:00, 72.05it/s]\u001b[34m\u001b[1mwandb\u001b[0m: \u001b[33mWARNING\u001b[0m The `run_name` is currently set to the same value as `TrainingArguments.output_dir`. If this was not intended, please specify a different run name by setting the `TrainingArguments.run_name` parameter.\n",
            "\u001b[34m\u001b[1mwandb\u001b[0m: Using wandb-core as the SDK backend.  Please refer to https://wandb.me/wandb-core for more information.\n",
            "\u001b[34m\u001b[1mwandb\u001b[0m: (1) Create a W&B account\n",
            "\u001b[34m\u001b[1mwandb\u001b[0m: (2) Use an existing W&B account\n",
            "\u001b[34m\u001b[1mwandb\u001b[0m: (3) Don't visualize my results\n",
            "100% 1227/1227 [00:30<00:00, 72.05it/s]3\n",
            "\u001b[34m\u001b[1mwandb\u001b[0m: You chose \"Don't visualize my results\"\n",
            "\u001b[34m\u001b[1mwandb\u001b[0m: Tracking run with wandb version 0.18.7\n",
            "\u001b[34m\u001b[1mwandb\u001b[0m: W&B syncing is set to \u001b[1m`offline`\u001b[0m in this directory.  \n",
            "\u001b[34m\u001b[1mwandb\u001b[0m: Run \u001b[1m`wandb online`\u001b[0m or set \u001b[1mWANDB_MODE=online\u001b[0m to enable cloud syncing.\n",
            "100% 1227/1227 [01:45<00:00, 11.65it/s]\n",
            "Evaluation results:\n",
            "{'eval_loss': 1.0004066228866577, 'eval_model_preparation_time': 0.0033, 'eval_accuracy': 0.690473735332489, 'eval_runtime': 19.8047, 'eval_samples_per_second': 495.589, 'eval_steps_per_second': 61.955}\n",
            "\u001b[1;34mwandb\u001b[0m:\n",
            "\u001b[1;34mwandb\u001b[0m: You can sync this run to the cloud by running:\n",
            "\u001b[1;34mwandb\u001b[0m: \u001b[1mwandb sync /content/drive/MyDrive/wandb/offline-run-20241129_023325-p4w8ti01\u001b[0m\n",
            "\u001b[1;34mwandb\u001b[0m: Find logs at: \u001b[1;35mwandb/offline-run-20241129_023325-p4w8ti01/logs\u001b[0m\n"
          ]
        }
      ]
    },
    {
      "cell_type": "code",
      "source": [
        "!python3 /content/drive/MyDrive/electra/fp-dataset-artifacts-main/run.py --do_eval --task nli --dataset /content/drive/MyDrive/electra/datasets/mnli.json --model /content/drive/MyDrive/electra/trained_model/ --output_dir /content/drive/MyDrive/electra/cartography/cart_final/mnli/output/"
      ],
      "metadata": {
        "colab": {
          "base_uri": "https://localhost:8080/"
        },
        "id": "2_U-thccwKB7",
        "outputId": "1aa74c3c-eb9e-449e-a008-34d1b666d546"
      },
      "execution_count": 4,
      "outputs": [
        {
          "output_type": "stream",
          "name": "stdout",
          "text": [
            "2024-11-29 02:35:09.198885: E external/local_xla/xla/stream_executor/cuda/cuda_fft.cc:485] Unable to register cuFFT factory: Attempting to register factory for plugin cuFFT when one has already been registered\n",
            "2024-11-29 02:35:09.219080: E external/local_xla/xla/stream_executor/cuda/cuda_dnn.cc:8454] Unable to register cuDNN factory: Attempting to register factory for plugin cuDNN when one has already been registered\n",
            "2024-11-29 02:35:09.224970: E external/local_xla/xla/stream_executor/cuda/cuda_blas.cc:1452] Unable to register cuBLAS factory: Attempting to register factory for plugin cuBLAS when one has already been registered\n",
            "2024-11-29 02:35:09.239626: I tensorflow/core/platform/cpu_feature_guard.cc:210] This TensorFlow binary is optimized to use available CPU instructions in performance-critical operations.\n",
            "To enable the following instructions: AVX2 AVX512F FMA, in other operations, rebuild TensorFlow with the appropriate compiler flags.\n",
            "2024-11-29 02:35:10.284400: W tensorflow/compiler/tf2tensorrt/utils/py_utils.cc:38] TF-TRT Warning: Could not find TensorRT\n",
            "Generating train split: 9832 examples [00:02, 4727.00 examples/s]\n",
            "Preprocessing data... (this takes a little bit, should only happen once per dataset)\n",
            "Map (num_proc=2): 100% 9832/9832 [00:02<00:00, 3791.21 examples/s]\n",
            "/content/drive/MyDrive/electra/fp-dataset-artifacts-main/run.py:159: FutureWarning: `tokenizer` is deprecated and will be removed in version 5.0.0 for `Trainer.__init__`. Use `processing_class` instead.\n",
            "  trainer = trainer_class(\n",
            " 99% 1222/1229 [00:17<00:00, 74.04it/s]\u001b[34m\u001b[1mwandb\u001b[0m: \u001b[33mWARNING\u001b[0m The `run_name` is currently set to the same value as `TrainingArguments.output_dir`. If this was not intended, please specify a different run name by setting the `TrainingArguments.run_name` parameter.\n",
            "\u001b[34m\u001b[1mwandb\u001b[0m: Using wandb-core as the SDK backend.  Please refer to https://wandb.me/wandb-core for more information.\n",
            "\u001b[34m\u001b[1mwandb\u001b[0m: (1) Create a W&B account\n",
            "\u001b[34m\u001b[1mwandb\u001b[0m: (2) Use an existing W&B account\n",
            "\u001b[34m\u001b[1mwandb\u001b[0m: (3) Don't visualize my results\n",
            "\u001b[34m\u001b[1mwandb\u001b[0m: Enter your choice: 3\n",
            "\u001b[34m\u001b[1mwandb\u001b[0m: You chose \"Don't visualize my results\"\n",
            "\u001b[34m\u001b[1mwandb\u001b[0m: Tracking run with wandb version 0.18.7\n",
            "\u001b[34m\u001b[1mwandb\u001b[0m: W&B syncing is set to \u001b[1m`offline`\u001b[0m in this directory.  \n",
            "\u001b[34m\u001b[1mwandb\u001b[0m: Run \u001b[1m`wandb online`\u001b[0m or set \u001b[1mWANDB_MODE=online\u001b[0m to enable cloud syncing.\n",
            "100% 1229/1229 [00:21<00:00, 56.73it/s]\n",
            "Evaluation results:\n",
            "{'eval_loss': 0.9774576425552368, 'eval_model_preparation_time': 0.0052, 'eval_accuracy': 0.7010781168937683, 'eval_runtime': 18.8573, 'eval_samples_per_second': 521.389, 'eval_steps_per_second': 65.174}\n",
            "\u001b[1;34mwandb\u001b[0m:\n",
            "\u001b[1;34mwandb\u001b[0m: You can sync this run to the cloud by running:\n",
            "\u001b[1;34mwandb\u001b[0m: \u001b[1mwandb sync /content/drive/MyDrive/wandb/offline-run-20241129_023543-1lp26e9g\u001b[0m\n",
            "\u001b[1;34mwandb\u001b[0m: Find logs at: \u001b[1;35mwandb/offline-run-20241129_023543-1lp26e9g/logs\u001b[0m\n"
          ]
        }
      ]
    },
    {
      "cell_type": "code",
      "source": [
        "import json\n",
        "\n",
        "def readjsondata(file_path):\n",
        "      json_dataset = []  # Initialize an empty list to store JSON objects\n",
        "      with open(file_path, 'r') as f:\n",
        "          for line in f:  # Read the file line by line\n",
        "              try:\n",
        "                  data = json.loads(line)  # Parse each line as a JSON object\n",
        "                  json_dataset.append(data)  # Add the parsed object to the list\n",
        "              except json.JSONDecodeError as e:\n",
        "                  print(f\"Error decoding JSON: {e}, skipping line: {line}\")\n",
        "\n",
        "      #dataset = Dataset.from_list(json_dataset)\n",
        "      # Example Data (Replace with actual data)\n",
        "      return json_dataset"
      ],
      "metadata": {
        "id": "Wv2Mndxgy0kL"
      },
      "execution_count": 8,
      "outputs": []
    },
    {
      "cell_type": "markdown",
      "source": [
        "**SNLI Pretrained Initial Model Results for MNLI**"
      ],
      "metadata": {
        "id": "OlhPhOt5zZNY"
      }
    },
    {
      "cell_type": "code",
      "source": [
        "mnli_pretrained_matched = readjsondata(\"/content/drive/MyDrive/electra/cartography/cart_final/mnli/output/mnlimatched_pretrained_eval_predictions.jsonl\")\n",
        "mnli_pretrained_mismatched = readjsondata(\"/content/drive/MyDrive/electra/cartography/cart_final/mnli/output/mnlimismatched_eval_predictions.jsonl\")"
      ],
      "metadata": {
        "id": "wxN-JsZMy_NY"
      },
      "execution_count": 10,
      "outputs": []
    },
    {
      "cell_type": "markdown",
      "source": [
        "**Cartography - SNLI Pretrained Initial Model Results for MNLI**"
      ],
      "metadata": {
        "id": "2nx2tSvSzfKy"
      }
    },
    {
      "cell_type": "code",
      "source": [
        "cart_mnli_pretrained_matched = readjsondata(\"/content/drive/MyDrive/electra/cartography/cart_final/model/output/mnli_matched/easy_eval_predictions.jsonl\")\n",
        "cart_mnli_pretrained_mismatched = readjsondata(\"/content/drive/MyDrive/electra/cartography/cart_final/model/output/mnli_mismatched/easy_eval_predictions.jsonl\")"
      ],
      "metadata": {
        "id": "aj6U8MdKzfhx"
      },
      "execution_count": 11,
      "outputs": []
    },
    {
      "cell_type": "code",
      "source": [
        "print(len(mnli_pretrained_matched))\n",
        "print(len(mnli_pretrained_mismatched))\n",
        "print(len(cart_mnli_pretrained_matched))\n",
        "print(len(cart_mnli_pretrained_mismatched))"
      ],
      "metadata": {
        "colab": {
          "base_uri": "https://localhost:8080/"
        },
        "id": "lHAPU3DU0Q-O",
        "outputId": "3f642fd5-8fe1-43c4-db7b-cdcbed140258"
      },
      "execution_count": 12,
      "outputs": [
        {
          "output_type": "stream",
          "name": "stdout",
          "text": [
            "9815\n",
            "9832\n",
            "9815\n",
            "9832\n"
          ]
        }
      ]
    },
    {
      "cell_type": "code",
      "source": [
        "print(mnli_pretrained_matched[5])\n",
        "print(cart_mnli_pretrained_matched[5])"
      ],
      "metadata": {
        "colab": {
          "base_uri": "https://localhost:8080/"
        },
        "id": "kE0oZgv40iLW",
        "outputId": "385bbc64-dcfa-416b-9879-fea284a8081e"
      },
      "execution_count": 16,
      "outputs": [
        {
          "output_type": "stream",
          "name": "stdout",
          "text": [
            "{'premise': \"well that would be a help i wish they would do that here we have got so little landfill space left that we're going to run out before the end of this decade and it's really going to be\", 'hypothesis': 'We have plenty of space in the landfill.', 'label': 2, 'predicted_scores': [2.20771861076355, -0.3852190375328064, -3.1107168197631836], 'predicted_label': 0}\n",
            "{'premise': \"well that would be a help i wish they would do that here we have got so little landfill space left that we're going to run out before the end of this decade and it's really going to be\", 'hypothesis': 'We have plenty of space in the landfill.', 'label': 2, 'predicted_scores': [1.510895848274231, 0.1004837155342102, -2.6060330867767334], 'predicted_label': 0}\n"
          ]
        }
      ]
    },
    {
      "cell_type": "markdown",
      "source": [
        "**Errors that are corrected by Cartography**"
      ],
      "metadata": {
        "id": "Gk-OLpwv3jmH"
      }
    },
    {
      "cell_type": "code",
      "source": [
        "def token_overlap_ratio(premise, hypothesis):\n",
        "          premise_tokens = set(premise.split())\n",
        "          hypothesis_tokens = set(hypothesis.split())\n",
        "          intersection = len(premise_tokens & hypothesis_tokens)\n",
        "          return intersection / len(premise_tokens)\n",
        "\n",
        "error_classes = {\n",
        "          \"Negation\": lambda x: any(word in x[\"premise\"].split(\" \") + x[\"hypothesis\"].split(\" \") for word in [\"not\", \"no\", \"never\", \"without\"]),\n",
        "          \"Coreference\": lambda x: any(word in x[\"hypothesis\"] for word in [\"he\", \"she\", \"it\", \"they\"]),\n",
        "          \"Rare Words\": lambda x: any(word in x[\"premise\"] for word in [\"Higgs\", \"boson\", \"quantum\"]),\n",
        "          \"Ambiguity\": lambda x: any(word in x[\"hypothesis\"] for word in [\"something\", \"someone\", \"several\"]),\n",
        "          \"Long Sentences\": lambda x: len(x[\"premise\"].split()) > 10 or len(x[\"hypothesis\"].split()) > 10,\n",
        "          \"High Lexical Overlap\": lambda x: token_overlap_ratio(x[\"premise\"], x[\"hypothesis\"]) > 0.7,\n",
        "      }\n",
        "\n",
        "\n",
        "\n",
        "      # Initialize Counters\n",
        "error_counts = {cls: 0 for cls in error_classes}\n",
        "total_counts = {cls: 0 for cls in error_classes}\n",
        "error_examples = {cls: [] for cls in error_classes}\n",
        "\n",
        "\n",
        "\n",
        "\n",
        "for i,example in enumerate(mnli_pretrained_matched):\n",
        "    for cls, rule in error_classes.items():\n",
        "          if rule(example):  # Check if example matches the error class\n",
        "                total_counts[cls] += 1\n",
        "                if example['predicted_label'] != example['label']:\n",
        "                  if cart_mnli_pretrained_matched[i]['predicted_label'] != cart_mnli_pretrained_matched[i]['label']:\n",
        "                          error_examples[cls].append(example)\n",
        ""
      ],
      "metadata": {
        "id": "ct3WV4ZJ0YTF"
      },
      "execution_count": 19,
      "outputs": []
    },
    {
      "cell_type": "code",
      "source": [
        "print(len(error_examples))"
      ],
      "metadata": {
        "colab": {
          "base_uri": "https://localhost:8080/"
        },
        "id": "m5cChvKI3VxG",
        "outputId": "9ef9df0b-3c23-4f15-c245-0a0e6ccb6b0f"
      },
      "execution_count": 21,
      "outputs": [
        {
          "output_type": "stream",
          "name": "stdout",
          "text": [
            "6\n"
          ]
        }
      ]
    }
  ]
}