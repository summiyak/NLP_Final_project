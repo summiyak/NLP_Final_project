{
  "nbformat": 4,
  "nbformat_minor": 0,
  "metadata": {
    "colab": {
      "provenance": [],
      "gpuType": "T4",
      "authorship_tag": "ABX9TyPyjHVU/KNXW6ELP7WifbiO",
      "include_colab_link": true
    },
    "kernelspec": {
      "name": "python3",
      "display_name": "Python 3"
    },
    "language_info": {
      "name": "python"
    },
    "widgets": {
      "application/vnd.jupyter.widget-state+json": {
        "afd3c9a7da8543a5beeba2c8ab903dc1": {
          "model_module": "@jupyter-widgets/controls",
          "model_name": "HBoxModel",
          "model_module_version": "1.5.0",
          "state": {
            "_dom_classes": [],
            "_model_module": "@jupyter-widgets/controls",
            "_model_module_version": "1.5.0",
            "_model_name": "HBoxModel",
            "_view_count": null,
            "_view_module": "@jupyter-widgets/controls",
            "_view_module_version": "1.5.0",
            "_view_name": "HBoxView",
            "box_style": "",
            "children": [
              "IPY_MODEL_6b0ac48e6dab45e4a35e5e47fd369758",
              "IPY_MODEL_4c890f00eabb4ef9a02475b7fab96f86",
              "IPY_MODEL_1c0040596b9c436eb0c346388bb77acb"
            ],
            "layout": "IPY_MODEL_4fcc67fea0b54da28273563f9deab931"
          }
        },
        "6b0ac48e6dab45e4a35e5e47fd369758": {
          "model_module": "@jupyter-widgets/controls",
          "model_name": "HTMLModel",
          "model_module_version": "1.5.0",
          "state": {
            "_dom_classes": [],
            "_model_module": "@jupyter-widgets/controls",
            "_model_module_version": "1.5.0",
            "_model_name": "HTMLModel",
            "_view_count": null,
            "_view_module": "@jupyter-widgets/controls",
            "_view_module_version": "1.5.0",
            "_view_name": "HTMLView",
            "description": "",
            "description_tooltip": null,
            "layout": "IPY_MODEL_f2f01a5af46043fb95662697a3a7579e",
            "placeholder": "​",
            "style": "IPY_MODEL_e31c7714f48041eca0f16f1d8ebd1213",
            "value": "README.md: 100%"
          }
        },
        "4c890f00eabb4ef9a02475b7fab96f86": {
          "model_module": "@jupyter-widgets/controls",
          "model_name": "FloatProgressModel",
          "model_module_version": "1.5.0",
          "state": {
            "_dom_classes": [],
            "_model_module": "@jupyter-widgets/controls",
            "_model_module_version": "1.5.0",
            "_model_name": "FloatProgressModel",
            "_view_count": null,
            "_view_module": "@jupyter-widgets/controls",
            "_view_module_version": "1.5.0",
            "_view_name": "ProgressView",
            "bar_style": "success",
            "description": "",
            "description_tooltip": null,
            "layout": "IPY_MODEL_e39f4452796643738789517f63682dd9",
            "max": 15970,
            "min": 0,
            "orientation": "horizontal",
            "style": "IPY_MODEL_07944fd97bcc4d6e904d8a16d8f39e9a",
            "value": 15970
          }
        },
        "1c0040596b9c436eb0c346388bb77acb": {
          "model_module": "@jupyter-widgets/controls",
          "model_name": "HTMLModel",
          "model_module_version": "1.5.0",
          "state": {
            "_dom_classes": [],
            "_model_module": "@jupyter-widgets/controls",
            "_model_module_version": "1.5.0",
            "_model_name": "HTMLModel",
            "_view_count": null,
            "_view_module": "@jupyter-widgets/controls",
            "_view_module_version": "1.5.0",
            "_view_name": "HTMLView",
            "description": "",
            "description_tooltip": null,
            "layout": "IPY_MODEL_de677c434cdf47999326aad69cce0d52",
            "placeholder": "​",
            "style": "IPY_MODEL_1da4c0700092435a89d35ae2450beeb5",
            "value": " 16.0k/16.0k [00:00&lt;00:00, 629kB/s]"
          }
        },
        "4fcc67fea0b54da28273563f9deab931": {
          "model_module": "@jupyter-widgets/base",
          "model_name": "LayoutModel",
          "model_module_version": "1.2.0",
          "state": {
            "_model_module": "@jupyter-widgets/base",
            "_model_module_version": "1.2.0",
            "_model_name": "LayoutModel",
            "_view_count": null,
            "_view_module": "@jupyter-widgets/base",
            "_view_module_version": "1.2.0",
            "_view_name": "LayoutView",
            "align_content": null,
            "align_items": null,
            "align_self": null,
            "border": null,
            "bottom": null,
            "display": null,
            "flex": null,
            "flex_flow": null,
            "grid_area": null,
            "grid_auto_columns": null,
            "grid_auto_flow": null,
            "grid_auto_rows": null,
            "grid_column": null,
            "grid_gap": null,
            "grid_row": null,
            "grid_template_areas": null,
            "grid_template_columns": null,
            "grid_template_rows": null,
            "height": null,
            "justify_content": null,
            "justify_items": null,
            "left": null,
            "margin": null,
            "max_height": null,
            "max_width": null,
            "min_height": null,
            "min_width": null,
            "object_fit": null,
            "object_position": null,
            "order": null,
            "overflow": null,
            "overflow_x": null,
            "overflow_y": null,
            "padding": null,
            "right": null,
            "top": null,
            "visibility": null,
            "width": null
          }
        },
        "f2f01a5af46043fb95662697a3a7579e": {
          "model_module": "@jupyter-widgets/base",
          "model_name": "LayoutModel",
          "model_module_version": "1.2.0",
          "state": {
            "_model_module": "@jupyter-widgets/base",
            "_model_module_version": "1.2.0",
            "_model_name": "LayoutModel",
            "_view_count": null,
            "_view_module": "@jupyter-widgets/base",
            "_view_module_version": "1.2.0",
            "_view_name": "LayoutView",
            "align_content": null,
            "align_items": null,
            "align_self": null,
            "border": null,
            "bottom": null,
            "display": null,
            "flex": null,
            "flex_flow": null,
            "grid_area": null,
            "grid_auto_columns": null,
            "grid_auto_flow": null,
            "grid_auto_rows": null,
            "grid_column": null,
            "grid_gap": null,
            "grid_row": null,
            "grid_template_areas": null,
            "grid_template_columns": null,
            "grid_template_rows": null,
            "height": null,
            "justify_content": null,
            "justify_items": null,
            "left": null,
            "margin": null,
            "max_height": null,
            "max_width": null,
            "min_height": null,
            "min_width": null,
            "object_fit": null,
            "object_position": null,
            "order": null,
            "overflow": null,
            "overflow_x": null,
            "overflow_y": null,
            "padding": null,
            "right": null,
            "top": null,
            "visibility": null,
            "width": null
          }
        },
        "e31c7714f48041eca0f16f1d8ebd1213": {
          "model_module": "@jupyter-widgets/controls",
          "model_name": "DescriptionStyleModel",
          "model_module_version": "1.5.0",
          "state": {
            "_model_module": "@jupyter-widgets/controls",
            "_model_module_version": "1.5.0",
            "_model_name": "DescriptionStyleModel",
            "_view_count": null,
            "_view_module": "@jupyter-widgets/base",
            "_view_module_version": "1.2.0",
            "_view_name": "StyleView",
            "description_width": ""
          }
        },
        "e39f4452796643738789517f63682dd9": {
          "model_module": "@jupyter-widgets/base",
          "model_name": "LayoutModel",
          "model_module_version": "1.2.0",
          "state": {
            "_model_module": "@jupyter-widgets/base",
            "_model_module_version": "1.2.0",
            "_model_name": "LayoutModel",
            "_view_count": null,
            "_view_module": "@jupyter-widgets/base",
            "_view_module_version": "1.2.0",
            "_view_name": "LayoutView",
            "align_content": null,
            "align_items": null,
            "align_self": null,
            "border": null,
            "bottom": null,
            "display": null,
            "flex": null,
            "flex_flow": null,
            "grid_area": null,
            "grid_auto_columns": null,
            "grid_auto_flow": null,
            "grid_auto_rows": null,
            "grid_column": null,
            "grid_gap": null,
            "grid_row": null,
            "grid_template_areas": null,
            "grid_template_columns": null,
            "grid_template_rows": null,
            "height": null,
            "justify_content": null,
            "justify_items": null,
            "left": null,
            "margin": null,
            "max_height": null,
            "max_width": null,
            "min_height": null,
            "min_width": null,
            "object_fit": null,
            "object_position": null,
            "order": null,
            "overflow": null,
            "overflow_x": null,
            "overflow_y": null,
            "padding": null,
            "right": null,
            "top": null,
            "visibility": null,
            "width": null
          }
        },
        "07944fd97bcc4d6e904d8a16d8f39e9a": {
          "model_module": "@jupyter-widgets/controls",
          "model_name": "ProgressStyleModel",
          "model_module_version": "1.5.0",
          "state": {
            "_model_module": "@jupyter-widgets/controls",
            "_model_module_version": "1.5.0",
            "_model_name": "ProgressStyleModel",
            "_view_count": null,
            "_view_module": "@jupyter-widgets/base",
            "_view_module_version": "1.2.0",
            "_view_name": "StyleView",
            "bar_color": null,
            "description_width": ""
          }
        },
        "de677c434cdf47999326aad69cce0d52": {
          "model_module": "@jupyter-widgets/base",
          "model_name": "LayoutModel",
          "model_module_version": "1.2.0",
          "state": {
            "_model_module": "@jupyter-widgets/base",
            "_model_module_version": "1.2.0",
            "_model_name": "LayoutModel",
            "_view_count": null,
            "_view_module": "@jupyter-widgets/base",
            "_view_module_version": "1.2.0",
            "_view_name": "LayoutView",
            "align_content": null,
            "align_items": null,
            "align_self": null,
            "border": null,
            "bottom": null,
            "display": null,
            "flex": null,
            "flex_flow": null,
            "grid_area": null,
            "grid_auto_columns": null,
            "grid_auto_flow": null,
            "grid_auto_rows": null,
            "grid_column": null,
            "grid_gap": null,
            "grid_row": null,
            "grid_template_areas": null,
            "grid_template_columns": null,
            "grid_template_rows": null,
            "height": null,
            "justify_content": null,
            "justify_items": null,
            "left": null,
            "margin": null,
            "max_height": null,
            "max_width": null,
            "min_height": null,
            "min_width": null,
            "object_fit": null,
            "object_position": null,
            "order": null,
            "overflow": null,
            "overflow_x": null,
            "overflow_y": null,
            "padding": null,
            "right": null,
            "top": null,
            "visibility": null,
            "width": null
          }
        },
        "1da4c0700092435a89d35ae2450beeb5": {
          "model_module": "@jupyter-widgets/controls",
          "model_name": "DescriptionStyleModel",
          "model_module_version": "1.5.0",
          "state": {
            "_model_module": "@jupyter-widgets/controls",
            "_model_module_version": "1.5.0",
            "_model_name": "DescriptionStyleModel",
            "_view_count": null,
            "_view_module": "@jupyter-widgets/base",
            "_view_module_version": "1.2.0",
            "_view_name": "StyleView",
            "description_width": ""
          }
        },
        "8a351b6c1a0f4bb49837c985d690d15c": {
          "model_module": "@jupyter-widgets/controls",
          "model_name": "HBoxModel",
          "model_module_version": "1.5.0",
          "state": {
            "_dom_classes": [],
            "_model_module": "@jupyter-widgets/controls",
            "_model_module_version": "1.5.0",
            "_model_name": "HBoxModel",
            "_view_count": null,
            "_view_module": "@jupyter-widgets/controls",
            "_view_module_version": "1.5.0",
            "_view_name": "HBoxView",
            "box_style": "",
            "children": [
              "IPY_MODEL_d773b6e60e064dc28200a899e7e85955",
              "IPY_MODEL_91db7474a6954bfd95bc5b800f5bc976",
              "IPY_MODEL_f74025596cab4c1098003d3c921707be"
            ],
            "layout": "IPY_MODEL_0ad2ca2fc3ea4ebc9cd83df7b01dd649"
          }
        },
        "d773b6e60e064dc28200a899e7e85955": {
          "model_module": "@jupyter-widgets/controls",
          "model_name": "HTMLModel",
          "model_module_version": "1.5.0",
          "state": {
            "_dom_classes": [],
            "_model_module": "@jupyter-widgets/controls",
            "_model_module_version": "1.5.0",
            "_model_name": "HTMLModel",
            "_view_count": null,
            "_view_module": "@jupyter-widgets/controls",
            "_view_module_version": "1.5.0",
            "_view_name": "HTMLView",
            "description": "",
            "description_tooltip": null,
            "layout": "IPY_MODEL_693e04952e9f4bf8b99fe956452ee7ab",
            "placeholder": "​",
            "style": "IPY_MODEL_b9a583f379e248c6bf7a148af449f657",
            "value": "test-00000-of-00001.parquet: 100%"
          }
        },
        "91db7474a6954bfd95bc5b800f5bc976": {
          "model_module": "@jupyter-widgets/controls",
          "model_name": "FloatProgressModel",
          "model_module_version": "1.5.0",
          "state": {
            "_dom_classes": [],
            "_model_module": "@jupyter-widgets/controls",
            "_model_module_version": "1.5.0",
            "_model_name": "FloatProgressModel",
            "_view_count": null,
            "_view_module": "@jupyter-widgets/controls",
            "_view_module_version": "1.5.0",
            "_view_name": "ProgressView",
            "bar_style": "success",
            "description": "",
            "description_tooltip": null,
            "layout": "IPY_MODEL_2a5b461b89504286b1b231d2ebe851cc",
            "max": 411531,
            "min": 0,
            "orientation": "horizontal",
            "style": "IPY_MODEL_605834fe058345e6b823230ef729b57d",
            "value": 411531
          }
        },
        "f74025596cab4c1098003d3c921707be": {
          "model_module": "@jupyter-widgets/controls",
          "model_name": "HTMLModel",
          "model_module_version": "1.5.0",
          "state": {
            "_dom_classes": [],
            "_model_module": "@jupyter-widgets/controls",
            "_model_module_version": "1.5.0",
            "_model_name": "HTMLModel",
            "_view_count": null,
            "_view_module": "@jupyter-widgets/controls",
            "_view_module_version": "1.5.0",
            "_view_name": "HTMLView",
            "description": "",
            "description_tooltip": null,
            "layout": "IPY_MODEL_d01ad08f8f43473a9058b1eb15597511",
            "placeholder": "​",
            "style": "IPY_MODEL_b1ad95e3ad8942a49ef5b8199097f066",
            "value": " 412k/412k [00:00&lt;00:00, 5.97MB/s]"
          }
        },
        "0ad2ca2fc3ea4ebc9cd83df7b01dd649": {
          "model_module": "@jupyter-widgets/base",
          "model_name": "LayoutModel",
          "model_module_version": "1.2.0",
          "state": {
            "_model_module": "@jupyter-widgets/base",
            "_model_module_version": "1.2.0",
            "_model_name": "LayoutModel",
            "_view_count": null,
            "_view_module": "@jupyter-widgets/base",
            "_view_module_version": "1.2.0",
            "_view_name": "LayoutView",
            "align_content": null,
            "align_items": null,
            "align_self": null,
            "border": null,
            "bottom": null,
            "display": null,
            "flex": null,
            "flex_flow": null,
            "grid_area": null,
            "grid_auto_columns": null,
            "grid_auto_flow": null,
            "grid_auto_rows": null,
            "grid_column": null,
            "grid_gap": null,
            "grid_row": null,
            "grid_template_areas": null,
            "grid_template_columns": null,
            "grid_template_rows": null,
            "height": null,
            "justify_content": null,
            "justify_items": null,
            "left": null,
            "margin": null,
            "max_height": null,
            "max_width": null,
            "min_height": null,
            "min_width": null,
            "object_fit": null,
            "object_position": null,
            "order": null,
            "overflow": null,
            "overflow_x": null,
            "overflow_y": null,
            "padding": null,
            "right": null,
            "top": null,
            "visibility": null,
            "width": null
          }
        },
        "693e04952e9f4bf8b99fe956452ee7ab": {
          "model_module": "@jupyter-widgets/base",
          "model_name": "LayoutModel",
          "model_module_version": "1.2.0",
          "state": {
            "_model_module": "@jupyter-widgets/base",
            "_model_module_version": "1.2.0",
            "_model_name": "LayoutModel",
            "_view_count": null,
            "_view_module": "@jupyter-widgets/base",
            "_view_module_version": "1.2.0",
            "_view_name": "LayoutView",
            "align_content": null,
            "align_items": null,
            "align_self": null,
            "border": null,
            "bottom": null,
            "display": null,
            "flex": null,
            "flex_flow": null,
            "grid_area": null,
            "grid_auto_columns": null,
            "grid_auto_flow": null,
            "grid_auto_rows": null,
            "grid_column": null,
            "grid_gap": null,
            "grid_row": null,
            "grid_template_areas": null,
            "grid_template_columns": null,
            "grid_template_rows": null,
            "height": null,
            "justify_content": null,
            "justify_items": null,
            "left": null,
            "margin": null,
            "max_height": null,
            "max_width": null,
            "min_height": null,
            "min_width": null,
            "object_fit": null,
            "object_position": null,
            "order": null,
            "overflow": null,
            "overflow_x": null,
            "overflow_y": null,
            "padding": null,
            "right": null,
            "top": null,
            "visibility": null,
            "width": null
          }
        },
        "b9a583f379e248c6bf7a148af449f657": {
          "model_module": "@jupyter-widgets/controls",
          "model_name": "DescriptionStyleModel",
          "model_module_version": "1.5.0",
          "state": {
            "_model_module": "@jupyter-widgets/controls",
            "_model_module_version": "1.5.0",
            "_model_name": "DescriptionStyleModel",
            "_view_count": null,
            "_view_module": "@jupyter-widgets/base",
            "_view_module_version": "1.2.0",
            "_view_name": "StyleView",
            "description_width": ""
          }
        },
        "2a5b461b89504286b1b231d2ebe851cc": {
          "model_module": "@jupyter-widgets/base",
          "model_name": "LayoutModel",
          "model_module_version": "1.2.0",
          "state": {
            "_model_module": "@jupyter-widgets/base",
            "_model_module_version": "1.2.0",
            "_model_name": "LayoutModel",
            "_view_count": null,
            "_view_module": "@jupyter-widgets/base",
            "_view_module_version": "1.2.0",
            "_view_name": "LayoutView",
            "align_content": null,
            "align_items": null,
            "align_self": null,
            "border": null,
            "bottom": null,
            "display": null,
            "flex": null,
            "flex_flow": null,
            "grid_area": null,
            "grid_auto_columns": null,
            "grid_auto_flow": null,
            "grid_auto_rows": null,
            "grid_column": null,
            "grid_gap": null,
            "grid_row": null,
            "grid_template_areas": null,
            "grid_template_columns": null,
            "grid_template_rows": null,
            "height": null,
            "justify_content": null,
            "justify_items": null,
            "left": null,
            "margin": null,
            "max_height": null,
            "max_width": null,
            "min_height": null,
            "min_width": null,
            "object_fit": null,
            "object_position": null,
            "order": null,
            "overflow": null,
            "overflow_x": null,
            "overflow_y": null,
            "padding": null,
            "right": null,
            "top": null,
            "visibility": null,
            "width": null
          }
        },
        "605834fe058345e6b823230ef729b57d": {
          "model_module": "@jupyter-widgets/controls",
          "model_name": "ProgressStyleModel",
          "model_module_version": "1.5.0",
          "state": {
            "_model_module": "@jupyter-widgets/controls",
            "_model_module_version": "1.5.0",
            "_model_name": "ProgressStyleModel",
            "_view_count": null,
            "_view_module": "@jupyter-widgets/base",
            "_view_module_version": "1.2.0",
            "_view_name": "StyleView",
            "bar_color": null,
            "description_width": ""
          }
        },
        "d01ad08f8f43473a9058b1eb15597511": {
          "model_module": "@jupyter-widgets/base",
          "model_name": "LayoutModel",
          "model_module_version": "1.2.0",
          "state": {
            "_model_module": "@jupyter-widgets/base",
            "_model_module_version": "1.2.0",
            "_model_name": "LayoutModel",
            "_view_count": null,
            "_view_module": "@jupyter-widgets/base",
            "_view_module_version": "1.2.0",
            "_view_name": "LayoutView",
            "align_content": null,
            "align_items": null,
            "align_self": null,
            "border": null,
            "bottom": null,
            "display": null,
            "flex": null,
            "flex_flow": null,
            "grid_area": null,
            "grid_auto_columns": null,
            "grid_auto_flow": null,
            "grid_auto_rows": null,
            "grid_column": null,
            "grid_gap": null,
            "grid_row": null,
            "grid_template_areas": null,
            "grid_template_columns": null,
            "grid_template_rows": null,
            "height": null,
            "justify_content": null,
            "justify_items": null,
            "left": null,
            "margin": null,
            "max_height": null,
            "max_width": null,
            "min_height": null,
            "min_width": null,
            "object_fit": null,
            "object_position": null,
            "order": null,
            "overflow": null,
            "overflow_x": null,
            "overflow_y": null,
            "padding": null,
            "right": null,
            "top": null,
            "visibility": null,
            "width": null
          }
        },
        "b1ad95e3ad8942a49ef5b8199097f066": {
          "model_module": "@jupyter-widgets/controls",
          "model_name": "DescriptionStyleModel",
          "model_module_version": "1.5.0",
          "state": {
            "_model_module": "@jupyter-widgets/controls",
            "_model_module_version": "1.5.0",
            "_model_name": "DescriptionStyleModel",
            "_view_count": null,
            "_view_module": "@jupyter-widgets/base",
            "_view_module_version": "1.2.0",
            "_view_name": "StyleView",
            "description_width": ""
          }
        },
        "cd7a3f301d7943659ad71ba85c46106f": {
          "model_module": "@jupyter-widgets/controls",
          "model_name": "HBoxModel",
          "model_module_version": "1.5.0",
          "state": {
            "_dom_classes": [],
            "_model_module": "@jupyter-widgets/controls",
            "_model_module_version": "1.5.0",
            "_model_name": "HBoxModel",
            "_view_count": null,
            "_view_module": "@jupyter-widgets/controls",
            "_view_module_version": "1.5.0",
            "_view_name": "HBoxView",
            "box_style": "",
            "children": [
              "IPY_MODEL_d077ff14dff24e4b8374ed91349a717d",
              "IPY_MODEL_4864e3282a394678b40c50dd4327876f",
              "IPY_MODEL_6207773c2f33429997b0a3bbe89c6cb7"
            ],
            "layout": "IPY_MODEL_23df1305145e4db19e36d351f6f8e7ed"
          }
        },
        "d077ff14dff24e4b8374ed91349a717d": {
          "model_module": "@jupyter-widgets/controls",
          "model_name": "HTMLModel",
          "model_module_version": "1.5.0",
          "state": {
            "_dom_classes": [],
            "_model_module": "@jupyter-widgets/controls",
            "_model_module_version": "1.5.0",
            "_model_name": "HTMLModel",
            "_view_count": null,
            "_view_module": "@jupyter-widgets/controls",
            "_view_module_version": "1.5.0",
            "_view_name": "HTMLView",
            "description": "",
            "description_tooltip": null,
            "layout": "IPY_MODEL_40ea65d424c941bba99dd00270100a85",
            "placeholder": "​",
            "style": "IPY_MODEL_52a6b98d4d2943619a772bf37f2d01f5",
            "value": "validation-00000-of-00001.parquet: 100%"
          }
        },
        "4864e3282a394678b40c50dd4327876f": {
          "model_module": "@jupyter-widgets/controls",
          "model_name": "FloatProgressModel",
          "model_module_version": "1.5.0",
          "state": {
            "_dom_classes": [],
            "_model_module": "@jupyter-widgets/controls",
            "_model_module_version": "1.5.0",
            "_model_name": "FloatProgressModel",
            "_view_count": null,
            "_view_module": "@jupyter-widgets/controls",
            "_view_module_version": "1.5.0",
            "_view_name": "ProgressView",
            "bar_style": "success",
            "description": "",
            "description_tooltip": null,
            "layout": "IPY_MODEL_f789ca84981a492196cb801ca98730bc",
            "max": 413157,
            "min": 0,
            "orientation": "horizontal",
            "style": "IPY_MODEL_bdabf8315d9342c7b4018156e4776294",
            "value": 413157
          }
        },
        "6207773c2f33429997b0a3bbe89c6cb7": {
          "model_module": "@jupyter-widgets/controls",
          "model_name": "HTMLModel",
          "model_module_version": "1.5.0",
          "state": {
            "_dom_classes": [],
            "_model_module": "@jupyter-widgets/controls",
            "_model_module_version": "1.5.0",
            "_model_name": "HTMLModel",
            "_view_count": null,
            "_view_module": "@jupyter-widgets/controls",
            "_view_module_version": "1.5.0",
            "_view_name": "HTMLView",
            "description": "",
            "description_tooltip": null,
            "layout": "IPY_MODEL_5c88728e2bba42378df11a1deb370ea2",
            "placeholder": "​",
            "style": "IPY_MODEL_8065f9fff6314ee1a911b86d07369348",
            "value": " 413k/413k [00:00&lt;00:00, 17.8MB/s]"
          }
        },
        "23df1305145e4db19e36d351f6f8e7ed": {
          "model_module": "@jupyter-widgets/base",
          "model_name": "LayoutModel",
          "model_module_version": "1.2.0",
          "state": {
            "_model_module": "@jupyter-widgets/base",
            "_model_module_version": "1.2.0",
            "_model_name": "LayoutModel",
            "_view_count": null,
            "_view_module": "@jupyter-widgets/base",
            "_view_module_version": "1.2.0",
            "_view_name": "LayoutView",
            "align_content": null,
            "align_items": null,
            "align_self": null,
            "border": null,
            "bottom": null,
            "display": null,
            "flex": null,
            "flex_flow": null,
            "grid_area": null,
            "grid_auto_columns": null,
            "grid_auto_flow": null,
            "grid_auto_rows": null,
            "grid_column": null,
            "grid_gap": null,
            "grid_row": null,
            "grid_template_areas": null,
            "grid_template_columns": null,
            "grid_template_rows": null,
            "height": null,
            "justify_content": null,
            "justify_items": null,
            "left": null,
            "margin": null,
            "max_height": null,
            "max_width": null,
            "min_height": null,
            "min_width": null,
            "object_fit": null,
            "object_position": null,
            "order": null,
            "overflow": null,
            "overflow_x": null,
            "overflow_y": null,
            "padding": null,
            "right": null,
            "top": null,
            "visibility": null,
            "width": null
          }
        },
        "40ea65d424c941bba99dd00270100a85": {
          "model_module": "@jupyter-widgets/base",
          "model_name": "LayoutModel",
          "model_module_version": "1.2.0",
          "state": {
            "_model_module": "@jupyter-widgets/base",
            "_model_module_version": "1.2.0",
            "_model_name": "LayoutModel",
            "_view_count": null,
            "_view_module": "@jupyter-widgets/base",
            "_view_module_version": "1.2.0",
            "_view_name": "LayoutView",
            "align_content": null,
            "align_items": null,
            "align_self": null,
            "border": null,
            "bottom": null,
            "display": null,
            "flex": null,
            "flex_flow": null,
            "grid_area": null,
            "grid_auto_columns": null,
            "grid_auto_flow": null,
            "grid_auto_rows": null,
            "grid_column": null,
            "grid_gap": null,
            "grid_row": null,
            "grid_template_areas": null,
            "grid_template_columns": null,
            "grid_template_rows": null,
            "height": null,
            "justify_content": null,
            "justify_items": null,
            "left": null,
            "margin": null,
            "max_height": null,
            "max_width": null,
            "min_height": null,
            "min_width": null,
            "object_fit": null,
            "object_position": null,
            "order": null,
            "overflow": null,
            "overflow_x": null,
            "overflow_y": null,
            "padding": null,
            "right": null,
            "top": null,
            "visibility": null,
            "width": null
          }
        },
        "52a6b98d4d2943619a772bf37f2d01f5": {
          "model_module": "@jupyter-widgets/controls",
          "model_name": "DescriptionStyleModel",
          "model_module_version": "1.5.0",
          "state": {
            "_model_module": "@jupyter-widgets/controls",
            "_model_module_version": "1.5.0",
            "_model_name": "DescriptionStyleModel",
            "_view_count": null,
            "_view_module": "@jupyter-widgets/base",
            "_view_module_version": "1.2.0",
            "_view_name": "StyleView",
            "description_width": ""
          }
        },
        "f789ca84981a492196cb801ca98730bc": {
          "model_module": "@jupyter-widgets/base",
          "model_name": "LayoutModel",
          "model_module_version": "1.2.0",
          "state": {
            "_model_module": "@jupyter-widgets/base",
            "_model_module_version": "1.2.0",
            "_model_name": "LayoutModel",
            "_view_count": null,
            "_view_module": "@jupyter-widgets/base",
            "_view_module_version": "1.2.0",
            "_view_name": "LayoutView",
            "align_content": null,
            "align_items": null,
            "align_self": null,
            "border": null,
            "bottom": null,
            "display": null,
            "flex": null,
            "flex_flow": null,
            "grid_area": null,
            "grid_auto_columns": null,
            "grid_auto_flow": null,
            "grid_auto_rows": null,
            "grid_column": null,
            "grid_gap": null,
            "grid_row": null,
            "grid_template_areas": null,
            "grid_template_columns": null,
            "grid_template_rows": null,
            "height": null,
            "justify_content": null,
            "justify_items": null,
            "left": null,
            "margin": null,
            "max_height": null,
            "max_width": null,
            "min_height": null,
            "min_width": null,
            "object_fit": null,
            "object_position": null,
            "order": null,
            "overflow": null,
            "overflow_x": null,
            "overflow_y": null,
            "padding": null,
            "right": null,
            "top": null,
            "visibility": null,
            "width": null
          }
        },
        "bdabf8315d9342c7b4018156e4776294": {
          "model_module": "@jupyter-widgets/controls",
          "model_name": "ProgressStyleModel",
          "model_module_version": "1.5.0",
          "state": {
            "_model_module": "@jupyter-widgets/controls",
            "_model_module_version": "1.5.0",
            "_model_name": "ProgressStyleModel",
            "_view_count": null,
            "_view_module": "@jupyter-widgets/base",
            "_view_module_version": "1.2.0",
            "_view_name": "StyleView",
            "bar_color": null,
            "description_width": ""
          }
        },
        "5c88728e2bba42378df11a1deb370ea2": {
          "model_module": "@jupyter-widgets/base",
          "model_name": "LayoutModel",
          "model_module_version": "1.2.0",
          "state": {
            "_model_module": "@jupyter-widgets/base",
            "_model_module_version": "1.2.0",
            "_model_name": "LayoutModel",
            "_view_count": null,
            "_view_module": "@jupyter-widgets/base",
            "_view_module_version": "1.2.0",
            "_view_name": "LayoutView",
            "align_content": null,
            "align_items": null,
            "align_self": null,
            "border": null,
            "bottom": null,
            "display": null,
            "flex": null,
            "flex_flow": null,
            "grid_area": null,
            "grid_auto_columns": null,
            "grid_auto_flow": null,
            "grid_auto_rows": null,
            "grid_column": null,
            "grid_gap": null,
            "grid_row": null,
            "grid_template_areas": null,
            "grid_template_columns": null,
            "grid_template_rows": null,
            "height": null,
            "justify_content": null,
            "justify_items": null,
            "left": null,
            "margin": null,
            "max_height": null,
            "max_width": null,
            "min_height": null,
            "min_width": null,
            "object_fit": null,
            "object_position": null,
            "order": null,
            "overflow": null,
            "overflow_x": null,
            "overflow_y": null,
            "padding": null,
            "right": null,
            "top": null,
            "visibility": null,
            "width": null
          }
        },
        "8065f9fff6314ee1a911b86d07369348": {
          "model_module": "@jupyter-widgets/controls",
          "model_name": "DescriptionStyleModel",
          "model_module_version": "1.5.0",
          "state": {
            "_model_module": "@jupyter-widgets/controls",
            "_model_module_version": "1.5.0",
            "_model_name": "DescriptionStyleModel",
            "_view_count": null,
            "_view_module": "@jupyter-widgets/base",
            "_view_module_version": "1.2.0",
            "_view_name": "StyleView",
            "description_width": ""
          }
        },
        "14e65bb6ae8e4e2dbf05248cb947fce4": {
          "model_module": "@jupyter-widgets/controls",
          "model_name": "HBoxModel",
          "model_module_version": "1.5.0",
          "state": {
            "_dom_classes": [],
            "_model_module": "@jupyter-widgets/controls",
            "_model_module_version": "1.5.0",
            "_model_name": "HBoxModel",
            "_view_count": null,
            "_view_module": "@jupyter-widgets/controls",
            "_view_module_version": "1.5.0",
            "_view_name": "HBoxView",
            "box_style": "",
            "children": [
              "IPY_MODEL_922f1eb0363f4eadac4534c8fe7a75ea",
              "IPY_MODEL_8b061b8017814db78a0dc91f3d95effc",
              "IPY_MODEL_cff8dd671719478c84ed6443f9017651"
            ],
            "layout": "IPY_MODEL_1e53cfcf01954d2589792da3027749c5"
          }
        },
        "922f1eb0363f4eadac4534c8fe7a75ea": {
          "model_module": "@jupyter-widgets/controls",
          "model_name": "HTMLModel",
          "model_module_version": "1.5.0",
          "state": {
            "_dom_classes": [],
            "_model_module": "@jupyter-widgets/controls",
            "_model_module_version": "1.5.0",
            "_model_name": "HTMLModel",
            "_view_count": null,
            "_view_module": "@jupyter-widgets/controls",
            "_view_module_version": "1.5.0",
            "_view_name": "HTMLView",
            "description": "",
            "description_tooltip": null,
            "layout": "IPY_MODEL_e452c47f25ff428db057017f14143671",
            "placeholder": "​",
            "style": "IPY_MODEL_30db6f22f1064b64b09b6c473c03e369",
            "value": "train-00000-of-00001.parquet: 100%"
          }
        },
        "8b061b8017814db78a0dc91f3d95effc": {
          "model_module": "@jupyter-widgets/controls",
          "model_name": "FloatProgressModel",
          "model_module_version": "1.5.0",
          "state": {
            "_dom_classes": [],
            "_model_module": "@jupyter-widgets/controls",
            "_model_module_version": "1.5.0",
            "_model_name": "FloatProgressModel",
            "_view_count": null,
            "_view_module": "@jupyter-widgets/controls",
            "_view_module_version": "1.5.0",
            "_view_name": "ProgressView",
            "bar_style": "success",
            "description": "",
            "description_tooltip": null,
            "layout": "IPY_MODEL_e65ea9101c834a2dacd624d2734a383e",
            "max": 19614612,
            "min": 0,
            "orientation": "horizontal",
            "style": "IPY_MODEL_8db8595793984ea883ae3ea93cdef22a",
            "value": 19614612
          }
        },
        "cff8dd671719478c84ed6443f9017651": {
          "model_module": "@jupyter-widgets/controls",
          "model_name": "HTMLModel",
          "model_module_version": "1.5.0",
          "state": {
            "_dom_classes": [],
            "_model_module": "@jupyter-widgets/controls",
            "_model_module_version": "1.5.0",
            "_model_name": "HTMLModel",
            "_view_count": null,
            "_view_module": "@jupyter-widgets/controls",
            "_view_module_version": "1.5.0",
            "_view_name": "HTMLView",
            "description": "",
            "description_tooltip": null,
            "layout": "IPY_MODEL_bee5b5316b124007bb4e2fe8e46f2dc7",
            "placeholder": "​",
            "style": "IPY_MODEL_af2a49eb608f46d9958d21a6600bdc1f",
            "value": " 19.6M/19.6M [00:00&lt;00:00, 137MB/s]"
          }
        },
        "1e53cfcf01954d2589792da3027749c5": {
          "model_module": "@jupyter-widgets/base",
          "model_name": "LayoutModel",
          "model_module_version": "1.2.0",
          "state": {
            "_model_module": "@jupyter-widgets/base",
            "_model_module_version": "1.2.0",
            "_model_name": "LayoutModel",
            "_view_count": null,
            "_view_module": "@jupyter-widgets/base",
            "_view_module_version": "1.2.0",
            "_view_name": "LayoutView",
            "align_content": null,
            "align_items": null,
            "align_self": null,
            "border": null,
            "bottom": null,
            "display": null,
            "flex": null,
            "flex_flow": null,
            "grid_area": null,
            "grid_auto_columns": null,
            "grid_auto_flow": null,
            "grid_auto_rows": null,
            "grid_column": null,
            "grid_gap": null,
            "grid_row": null,
            "grid_template_areas": null,
            "grid_template_columns": null,
            "grid_template_rows": null,
            "height": null,
            "justify_content": null,
            "justify_items": null,
            "left": null,
            "margin": null,
            "max_height": null,
            "max_width": null,
            "min_height": null,
            "min_width": null,
            "object_fit": null,
            "object_position": null,
            "order": null,
            "overflow": null,
            "overflow_x": null,
            "overflow_y": null,
            "padding": null,
            "right": null,
            "top": null,
            "visibility": null,
            "width": null
          }
        },
        "e452c47f25ff428db057017f14143671": {
          "model_module": "@jupyter-widgets/base",
          "model_name": "LayoutModel",
          "model_module_version": "1.2.0",
          "state": {
            "_model_module": "@jupyter-widgets/base",
            "_model_module_version": "1.2.0",
            "_model_name": "LayoutModel",
            "_view_count": null,
            "_view_module": "@jupyter-widgets/base",
            "_view_module_version": "1.2.0",
            "_view_name": "LayoutView",
            "align_content": null,
            "align_items": null,
            "align_self": null,
            "border": null,
            "bottom": null,
            "display": null,
            "flex": null,
            "flex_flow": null,
            "grid_area": null,
            "grid_auto_columns": null,
            "grid_auto_flow": null,
            "grid_auto_rows": null,
            "grid_column": null,
            "grid_gap": null,
            "grid_row": null,
            "grid_template_areas": null,
            "grid_template_columns": null,
            "grid_template_rows": null,
            "height": null,
            "justify_content": null,
            "justify_items": null,
            "left": null,
            "margin": null,
            "max_height": null,
            "max_width": null,
            "min_height": null,
            "min_width": null,
            "object_fit": null,
            "object_position": null,
            "order": null,
            "overflow": null,
            "overflow_x": null,
            "overflow_y": null,
            "padding": null,
            "right": null,
            "top": null,
            "visibility": null,
            "width": null
          }
        },
        "30db6f22f1064b64b09b6c473c03e369": {
          "model_module": "@jupyter-widgets/controls",
          "model_name": "DescriptionStyleModel",
          "model_module_version": "1.5.0",
          "state": {
            "_model_module": "@jupyter-widgets/controls",
            "_model_module_version": "1.5.0",
            "_model_name": "DescriptionStyleModel",
            "_view_count": null,
            "_view_module": "@jupyter-widgets/base",
            "_view_module_version": "1.2.0",
            "_view_name": "StyleView",
            "description_width": ""
          }
        },
        "e65ea9101c834a2dacd624d2734a383e": {
          "model_module": "@jupyter-widgets/base",
          "model_name": "LayoutModel",
          "model_module_version": "1.2.0",
          "state": {
            "_model_module": "@jupyter-widgets/base",
            "_model_module_version": "1.2.0",
            "_model_name": "LayoutModel",
            "_view_count": null,
            "_view_module": "@jupyter-widgets/base",
            "_view_module_version": "1.2.0",
            "_view_name": "LayoutView",
            "align_content": null,
            "align_items": null,
            "align_self": null,
            "border": null,
            "bottom": null,
            "display": null,
            "flex": null,
            "flex_flow": null,
            "grid_area": null,
            "grid_auto_columns": null,
            "grid_auto_flow": null,
            "grid_auto_rows": null,
            "grid_column": null,
            "grid_gap": null,
            "grid_row": null,
            "grid_template_areas": null,
            "grid_template_columns": null,
            "grid_template_rows": null,
            "height": null,
            "justify_content": null,
            "justify_items": null,
            "left": null,
            "margin": null,
            "max_height": null,
            "max_width": null,
            "min_height": null,
            "min_width": null,
            "object_fit": null,
            "object_position": null,
            "order": null,
            "overflow": null,
            "overflow_x": null,
            "overflow_y": null,
            "padding": null,
            "right": null,
            "top": null,
            "visibility": null,
            "width": null
          }
        },
        "8db8595793984ea883ae3ea93cdef22a": {
          "model_module": "@jupyter-widgets/controls",
          "model_name": "ProgressStyleModel",
          "model_module_version": "1.5.0",
          "state": {
            "_model_module": "@jupyter-widgets/controls",
            "_model_module_version": "1.5.0",
            "_model_name": "ProgressStyleModel",
            "_view_count": null,
            "_view_module": "@jupyter-widgets/base",
            "_view_module_version": "1.2.0",
            "_view_name": "StyleView",
            "bar_color": null,
            "description_width": ""
          }
        },
        "bee5b5316b124007bb4e2fe8e46f2dc7": {
          "model_module": "@jupyter-widgets/base",
          "model_name": "LayoutModel",
          "model_module_version": "1.2.0",
          "state": {
            "_model_module": "@jupyter-widgets/base",
            "_model_module_version": "1.2.0",
            "_model_name": "LayoutModel",
            "_view_count": null,
            "_view_module": "@jupyter-widgets/base",
            "_view_module_version": "1.2.0",
            "_view_name": "LayoutView",
            "align_content": null,
            "align_items": null,
            "align_self": null,
            "border": null,
            "bottom": null,
            "display": null,
            "flex": null,
            "flex_flow": null,
            "grid_area": null,
            "grid_auto_columns": null,
            "grid_auto_flow": null,
            "grid_auto_rows": null,
            "grid_column": null,
            "grid_gap": null,
            "grid_row": null,
            "grid_template_areas": null,
            "grid_template_columns": null,
            "grid_template_rows": null,
            "height": null,
            "justify_content": null,
            "justify_items": null,
            "left": null,
            "margin": null,
            "max_height": null,
            "max_width": null,
            "min_height": null,
            "min_width": null,
            "object_fit": null,
            "object_position": null,
            "order": null,
            "overflow": null,
            "overflow_x": null,
            "overflow_y": null,
            "padding": null,
            "right": null,
            "top": null,
            "visibility": null,
            "width": null
          }
        },
        "af2a49eb608f46d9958d21a6600bdc1f": {
          "model_module": "@jupyter-widgets/controls",
          "model_name": "DescriptionStyleModel",
          "model_module_version": "1.5.0",
          "state": {
            "_model_module": "@jupyter-widgets/controls",
            "_model_module_version": "1.5.0",
            "_model_name": "DescriptionStyleModel",
            "_view_count": null,
            "_view_module": "@jupyter-widgets/base",
            "_view_module_version": "1.2.0",
            "_view_name": "StyleView",
            "description_width": ""
          }
        },
        "17263c9e56c84d5d918c9fc54986f297": {
          "model_module": "@jupyter-widgets/controls",
          "model_name": "HBoxModel",
          "model_module_version": "1.5.0",
          "state": {
            "_dom_classes": [],
            "_model_module": "@jupyter-widgets/controls",
            "_model_module_version": "1.5.0",
            "_model_name": "HBoxModel",
            "_view_count": null,
            "_view_module": "@jupyter-widgets/controls",
            "_view_module_version": "1.5.0",
            "_view_name": "HBoxView",
            "box_style": "",
            "children": [
              "IPY_MODEL_f0f9440db1464d24b0af36c2a9246bb3",
              "IPY_MODEL_4631681041a8420891bc063dbd78bc63",
              "IPY_MODEL_10e7ad44f55941adba9b82a535105850"
            ],
            "layout": "IPY_MODEL_a42339674cca4b62b9b4dbd989f10e4e"
          }
        },
        "f0f9440db1464d24b0af36c2a9246bb3": {
          "model_module": "@jupyter-widgets/controls",
          "model_name": "HTMLModel",
          "model_module_version": "1.5.0",
          "state": {
            "_dom_classes": [],
            "_model_module": "@jupyter-widgets/controls",
            "_model_module_version": "1.5.0",
            "_model_name": "HTMLModel",
            "_view_count": null,
            "_view_module": "@jupyter-widgets/controls",
            "_view_module_version": "1.5.0",
            "_view_name": "HTMLView",
            "description": "",
            "description_tooltip": null,
            "layout": "IPY_MODEL_eb5806a7b90c4bee92c187091e760122",
            "placeholder": "​",
            "style": "IPY_MODEL_8970539276834453916e3ca9cff484b6",
            "value": "Generating test split: 100%"
          }
        },
        "4631681041a8420891bc063dbd78bc63": {
          "model_module": "@jupyter-widgets/controls",
          "model_name": "FloatProgressModel",
          "model_module_version": "1.5.0",
          "state": {
            "_dom_classes": [],
            "_model_module": "@jupyter-widgets/controls",
            "_model_module_version": "1.5.0",
            "_model_name": "FloatProgressModel",
            "_view_count": null,
            "_view_module": "@jupyter-widgets/controls",
            "_view_module_version": "1.5.0",
            "_view_name": "ProgressView",
            "bar_style": "success",
            "description": "",
            "description_tooltip": null,
            "layout": "IPY_MODEL_236991c904d043628a5f674d363c1aee",
            "max": 10000,
            "min": 0,
            "orientation": "horizontal",
            "style": "IPY_MODEL_cc4225fe7e66476891edd88db49ed2df",
            "value": 10000
          }
        },
        "10e7ad44f55941adba9b82a535105850": {
          "model_module": "@jupyter-widgets/controls",
          "model_name": "HTMLModel",
          "model_module_version": "1.5.0",
          "state": {
            "_dom_classes": [],
            "_model_module": "@jupyter-widgets/controls",
            "_model_module_version": "1.5.0",
            "_model_name": "HTMLModel",
            "_view_count": null,
            "_view_module": "@jupyter-widgets/controls",
            "_view_module_version": "1.5.0",
            "_view_name": "HTMLView",
            "description": "",
            "description_tooltip": null,
            "layout": "IPY_MODEL_711474e5784a43b8bc5efdc79293ddcc",
            "placeholder": "​",
            "style": "IPY_MODEL_4d6ca7768f0b44a391a19220fa964d7e",
            "value": " 10000/10000 [00:00&lt;00:00, 103282.03 examples/s]"
          }
        },
        "a42339674cca4b62b9b4dbd989f10e4e": {
          "model_module": "@jupyter-widgets/base",
          "model_name": "LayoutModel",
          "model_module_version": "1.2.0",
          "state": {
            "_model_module": "@jupyter-widgets/base",
            "_model_module_version": "1.2.0",
            "_model_name": "LayoutModel",
            "_view_count": null,
            "_view_module": "@jupyter-widgets/base",
            "_view_module_version": "1.2.0",
            "_view_name": "LayoutView",
            "align_content": null,
            "align_items": null,
            "align_self": null,
            "border": null,
            "bottom": null,
            "display": null,
            "flex": null,
            "flex_flow": null,
            "grid_area": null,
            "grid_auto_columns": null,
            "grid_auto_flow": null,
            "grid_auto_rows": null,
            "grid_column": null,
            "grid_gap": null,
            "grid_row": null,
            "grid_template_areas": null,
            "grid_template_columns": null,
            "grid_template_rows": null,
            "height": null,
            "justify_content": null,
            "justify_items": null,
            "left": null,
            "margin": null,
            "max_height": null,
            "max_width": null,
            "min_height": null,
            "min_width": null,
            "object_fit": null,
            "object_position": null,
            "order": null,
            "overflow": null,
            "overflow_x": null,
            "overflow_y": null,
            "padding": null,
            "right": null,
            "top": null,
            "visibility": null,
            "width": null
          }
        },
        "eb5806a7b90c4bee92c187091e760122": {
          "model_module": "@jupyter-widgets/base",
          "model_name": "LayoutModel",
          "model_module_version": "1.2.0",
          "state": {
            "_model_module": "@jupyter-widgets/base",
            "_model_module_version": "1.2.0",
            "_model_name": "LayoutModel",
            "_view_count": null,
            "_view_module": "@jupyter-widgets/base",
            "_view_module_version": "1.2.0",
            "_view_name": "LayoutView",
            "align_content": null,
            "align_items": null,
            "align_self": null,
            "border": null,
            "bottom": null,
            "display": null,
            "flex": null,
            "flex_flow": null,
            "grid_area": null,
            "grid_auto_columns": null,
            "grid_auto_flow": null,
            "grid_auto_rows": null,
            "grid_column": null,
            "grid_gap": null,
            "grid_row": null,
            "grid_template_areas": null,
            "grid_template_columns": null,
            "grid_template_rows": null,
            "height": null,
            "justify_content": null,
            "justify_items": null,
            "left": null,
            "margin": null,
            "max_height": null,
            "max_width": null,
            "min_height": null,
            "min_width": null,
            "object_fit": null,
            "object_position": null,
            "order": null,
            "overflow": null,
            "overflow_x": null,
            "overflow_y": null,
            "padding": null,
            "right": null,
            "top": null,
            "visibility": null,
            "width": null
          }
        },
        "8970539276834453916e3ca9cff484b6": {
          "model_module": "@jupyter-widgets/controls",
          "model_name": "DescriptionStyleModel",
          "model_module_version": "1.5.0",
          "state": {
            "_model_module": "@jupyter-widgets/controls",
            "_model_module_version": "1.5.0",
            "_model_name": "DescriptionStyleModel",
            "_view_count": null,
            "_view_module": "@jupyter-widgets/base",
            "_view_module_version": "1.2.0",
            "_view_name": "StyleView",
            "description_width": ""
          }
        },
        "236991c904d043628a5f674d363c1aee": {
          "model_module": "@jupyter-widgets/base",
          "model_name": "LayoutModel",
          "model_module_version": "1.2.0",
          "state": {
            "_model_module": "@jupyter-widgets/base",
            "_model_module_version": "1.2.0",
            "_model_name": "LayoutModel",
            "_view_count": null,
            "_view_module": "@jupyter-widgets/base",
            "_view_module_version": "1.2.0",
            "_view_name": "LayoutView",
            "align_content": null,
            "align_items": null,
            "align_self": null,
            "border": null,
            "bottom": null,
            "display": null,
            "flex": null,
            "flex_flow": null,
            "grid_area": null,
            "grid_auto_columns": null,
            "grid_auto_flow": null,
            "grid_auto_rows": null,
            "grid_column": null,
            "grid_gap": null,
            "grid_row": null,
            "grid_template_areas": null,
            "grid_template_columns": null,
            "grid_template_rows": null,
            "height": null,
            "justify_content": null,
            "justify_items": null,
            "left": null,
            "margin": null,
            "max_height": null,
            "max_width": null,
            "min_height": null,
            "min_width": null,
            "object_fit": null,
            "object_position": null,
            "order": null,
            "overflow": null,
            "overflow_x": null,
            "overflow_y": null,
            "padding": null,
            "right": null,
            "top": null,
            "visibility": null,
            "width": null
          }
        },
        "cc4225fe7e66476891edd88db49ed2df": {
          "model_module": "@jupyter-widgets/controls",
          "model_name": "ProgressStyleModel",
          "model_module_version": "1.5.0",
          "state": {
            "_model_module": "@jupyter-widgets/controls",
            "_model_module_version": "1.5.0",
            "_model_name": "ProgressStyleModel",
            "_view_count": null,
            "_view_module": "@jupyter-widgets/base",
            "_view_module_version": "1.2.0",
            "_view_name": "StyleView",
            "bar_color": null,
            "description_width": ""
          }
        },
        "711474e5784a43b8bc5efdc79293ddcc": {
          "model_module": "@jupyter-widgets/base",
          "model_name": "LayoutModel",
          "model_module_version": "1.2.0",
          "state": {
            "_model_module": "@jupyter-widgets/base",
            "_model_module_version": "1.2.0",
            "_model_name": "LayoutModel",
            "_view_count": null,
            "_view_module": "@jupyter-widgets/base",
            "_view_module_version": "1.2.0",
            "_view_name": "LayoutView",
            "align_content": null,
            "align_items": null,
            "align_self": null,
            "border": null,
            "bottom": null,
            "display": null,
            "flex": null,
            "flex_flow": null,
            "grid_area": null,
            "grid_auto_columns": null,
            "grid_auto_flow": null,
            "grid_auto_rows": null,
            "grid_column": null,
            "grid_gap": null,
            "grid_row": null,
            "grid_template_areas": null,
            "grid_template_columns": null,
            "grid_template_rows": null,
            "height": null,
            "justify_content": null,
            "justify_items": null,
            "left": null,
            "margin": null,
            "max_height": null,
            "max_width": null,
            "min_height": null,
            "min_width": null,
            "object_fit": null,
            "object_position": null,
            "order": null,
            "overflow": null,
            "overflow_x": null,
            "overflow_y": null,
            "padding": null,
            "right": null,
            "top": null,
            "visibility": null,
            "width": null
          }
        },
        "4d6ca7768f0b44a391a19220fa964d7e": {
          "model_module": "@jupyter-widgets/controls",
          "model_name": "DescriptionStyleModel",
          "model_module_version": "1.5.0",
          "state": {
            "_model_module": "@jupyter-widgets/controls",
            "_model_module_version": "1.5.0",
            "_model_name": "DescriptionStyleModel",
            "_view_count": null,
            "_view_module": "@jupyter-widgets/base",
            "_view_module_version": "1.2.0",
            "_view_name": "StyleView",
            "description_width": ""
          }
        },
        "9faf20ba57f94782a4b12f7a8a9c3229": {
          "model_module": "@jupyter-widgets/controls",
          "model_name": "HBoxModel",
          "model_module_version": "1.5.0",
          "state": {
            "_dom_classes": [],
            "_model_module": "@jupyter-widgets/controls",
            "_model_module_version": "1.5.0",
            "_model_name": "HBoxModel",
            "_view_count": null,
            "_view_module": "@jupyter-widgets/controls",
            "_view_module_version": "1.5.0",
            "_view_name": "HBoxView",
            "box_style": "",
            "children": [
              "IPY_MODEL_05dab96b4dea4a37b8096b7b2be6573a",
              "IPY_MODEL_ad4f4c881d5a47df95e454f11a66d02c",
              "IPY_MODEL_96dd83ec5ea24f45bc01a2e162f2dcd9"
            ],
            "layout": "IPY_MODEL_7c18d5a56c294505bc49763292bb0d75"
          }
        },
        "05dab96b4dea4a37b8096b7b2be6573a": {
          "model_module": "@jupyter-widgets/controls",
          "model_name": "HTMLModel",
          "model_module_version": "1.5.0",
          "state": {
            "_dom_classes": [],
            "_model_module": "@jupyter-widgets/controls",
            "_model_module_version": "1.5.0",
            "_model_name": "HTMLModel",
            "_view_count": null,
            "_view_module": "@jupyter-widgets/controls",
            "_view_module_version": "1.5.0",
            "_view_name": "HTMLView",
            "description": "",
            "description_tooltip": null,
            "layout": "IPY_MODEL_02a74f182e594850b47a68b2e114e6b6",
            "placeholder": "​",
            "style": "IPY_MODEL_fb5e92cec487490b915499158e97eed1",
            "value": "Generating validation split: 100%"
          }
        },
        "ad4f4c881d5a47df95e454f11a66d02c": {
          "model_module": "@jupyter-widgets/controls",
          "model_name": "FloatProgressModel",
          "model_module_version": "1.5.0",
          "state": {
            "_dom_classes": [],
            "_model_module": "@jupyter-widgets/controls",
            "_model_module_version": "1.5.0",
            "_model_name": "FloatProgressModel",
            "_view_count": null,
            "_view_module": "@jupyter-widgets/controls",
            "_view_module_version": "1.5.0",
            "_view_name": "ProgressView",
            "bar_style": "success",
            "description": "",
            "description_tooltip": null,
            "layout": "IPY_MODEL_1e1e5698a95a436aa7b984c05de1a767",
            "max": 10000,
            "min": 0,
            "orientation": "horizontal",
            "style": "IPY_MODEL_43b6e9001b9243a6be8f46233fbf01bf",
            "value": 10000
          }
        },
        "96dd83ec5ea24f45bc01a2e162f2dcd9": {
          "model_module": "@jupyter-widgets/controls",
          "model_name": "HTMLModel",
          "model_module_version": "1.5.0",
          "state": {
            "_dom_classes": [],
            "_model_module": "@jupyter-widgets/controls",
            "_model_module_version": "1.5.0",
            "_model_name": "HTMLModel",
            "_view_count": null,
            "_view_module": "@jupyter-widgets/controls",
            "_view_module_version": "1.5.0",
            "_view_name": "HTMLView",
            "description": "",
            "description_tooltip": null,
            "layout": "IPY_MODEL_59a87d189e784f95a239ed25d6fdd549",
            "placeholder": "​",
            "style": "IPY_MODEL_659b72aa63694430a4cd39b1c1428056",
            "value": " 10000/10000 [00:00&lt;00:00, 150832.47 examples/s]"
          }
        },
        "7c18d5a56c294505bc49763292bb0d75": {
          "model_module": "@jupyter-widgets/base",
          "model_name": "LayoutModel",
          "model_module_version": "1.2.0",
          "state": {
            "_model_module": "@jupyter-widgets/base",
            "_model_module_version": "1.2.0",
            "_model_name": "LayoutModel",
            "_view_count": null,
            "_view_module": "@jupyter-widgets/base",
            "_view_module_version": "1.2.0",
            "_view_name": "LayoutView",
            "align_content": null,
            "align_items": null,
            "align_self": null,
            "border": null,
            "bottom": null,
            "display": null,
            "flex": null,
            "flex_flow": null,
            "grid_area": null,
            "grid_auto_columns": null,
            "grid_auto_flow": null,
            "grid_auto_rows": null,
            "grid_column": null,
            "grid_gap": null,
            "grid_row": null,
            "grid_template_areas": null,
            "grid_template_columns": null,
            "grid_template_rows": null,
            "height": null,
            "justify_content": null,
            "justify_items": null,
            "left": null,
            "margin": null,
            "max_height": null,
            "max_width": null,
            "min_height": null,
            "min_width": null,
            "object_fit": null,
            "object_position": null,
            "order": null,
            "overflow": null,
            "overflow_x": null,
            "overflow_y": null,
            "padding": null,
            "right": null,
            "top": null,
            "visibility": null,
            "width": null
          }
        },
        "02a74f182e594850b47a68b2e114e6b6": {
          "model_module": "@jupyter-widgets/base",
          "model_name": "LayoutModel",
          "model_module_version": "1.2.0",
          "state": {
            "_model_module": "@jupyter-widgets/base",
            "_model_module_version": "1.2.0",
            "_model_name": "LayoutModel",
            "_view_count": null,
            "_view_module": "@jupyter-widgets/base",
            "_view_module_version": "1.2.0",
            "_view_name": "LayoutView",
            "align_content": null,
            "align_items": null,
            "align_self": null,
            "border": null,
            "bottom": null,
            "display": null,
            "flex": null,
            "flex_flow": null,
            "grid_area": null,
            "grid_auto_columns": null,
            "grid_auto_flow": null,
            "grid_auto_rows": null,
            "grid_column": null,
            "grid_gap": null,
            "grid_row": null,
            "grid_template_areas": null,
            "grid_template_columns": null,
            "grid_template_rows": null,
            "height": null,
            "justify_content": null,
            "justify_items": null,
            "left": null,
            "margin": null,
            "max_height": null,
            "max_width": null,
            "min_height": null,
            "min_width": null,
            "object_fit": null,
            "object_position": null,
            "order": null,
            "overflow": null,
            "overflow_x": null,
            "overflow_y": null,
            "padding": null,
            "right": null,
            "top": null,
            "visibility": null,
            "width": null
          }
        },
        "fb5e92cec487490b915499158e97eed1": {
          "model_module": "@jupyter-widgets/controls",
          "model_name": "DescriptionStyleModel",
          "model_module_version": "1.5.0",
          "state": {
            "_model_module": "@jupyter-widgets/controls",
            "_model_module_version": "1.5.0",
            "_model_name": "DescriptionStyleModel",
            "_view_count": null,
            "_view_module": "@jupyter-widgets/base",
            "_view_module_version": "1.2.0",
            "_view_name": "StyleView",
            "description_width": ""
          }
        },
        "1e1e5698a95a436aa7b984c05de1a767": {
          "model_module": "@jupyter-widgets/base",
          "model_name": "LayoutModel",
          "model_module_version": "1.2.0",
          "state": {
            "_model_module": "@jupyter-widgets/base",
            "_model_module_version": "1.2.0",
            "_model_name": "LayoutModel",
            "_view_count": null,
            "_view_module": "@jupyter-widgets/base",
            "_view_module_version": "1.2.0",
            "_view_name": "LayoutView",
            "align_content": null,
            "align_items": null,
            "align_self": null,
            "border": null,
            "bottom": null,
            "display": null,
            "flex": null,
            "flex_flow": null,
            "grid_area": null,
            "grid_auto_columns": null,
            "grid_auto_flow": null,
            "grid_auto_rows": null,
            "grid_column": null,
            "grid_gap": null,
            "grid_row": null,
            "grid_template_areas": null,
            "grid_template_columns": null,
            "grid_template_rows": null,
            "height": null,
            "justify_content": null,
            "justify_items": null,
            "left": null,
            "margin": null,
            "max_height": null,
            "max_width": null,
            "min_height": null,
            "min_width": null,
            "object_fit": null,
            "object_position": null,
            "order": null,
            "overflow": null,
            "overflow_x": null,
            "overflow_y": null,
            "padding": null,
            "right": null,
            "top": null,
            "visibility": null,
            "width": null
          }
        },
        "43b6e9001b9243a6be8f46233fbf01bf": {
          "model_module": "@jupyter-widgets/controls",
          "model_name": "ProgressStyleModel",
          "model_module_version": "1.5.0",
          "state": {
            "_model_module": "@jupyter-widgets/controls",
            "_model_module_version": "1.5.0",
            "_model_name": "ProgressStyleModel",
            "_view_count": null,
            "_view_module": "@jupyter-widgets/base",
            "_view_module_version": "1.2.0",
            "_view_name": "StyleView",
            "bar_color": null,
            "description_width": ""
          }
        },
        "59a87d189e784f95a239ed25d6fdd549": {
          "model_module": "@jupyter-widgets/base",
          "model_name": "LayoutModel",
          "model_module_version": "1.2.0",
          "state": {
            "_model_module": "@jupyter-widgets/base",
            "_model_module_version": "1.2.0",
            "_model_name": "LayoutModel",
            "_view_count": null,
            "_view_module": "@jupyter-widgets/base",
            "_view_module_version": "1.2.0",
            "_view_name": "LayoutView",
            "align_content": null,
            "align_items": null,
            "align_self": null,
            "border": null,
            "bottom": null,
            "display": null,
            "flex": null,
            "flex_flow": null,
            "grid_area": null,
            "grid_auto_columns": null,
            "grid_auto_flow": null,
            "grid_auto_rows": null,
            "grid_column": null,
            "grid_gap": null,
            "grid_row": null,
            "grid_template_areas": null,
            "grid_template_columns": null,
            "grid_template_rows": null,
            "height": null,
            "justify_content": null,
            "justify_items": null,
            "left": null,
            "margin": null,
            "max_height": null,
            "max_width": null,
            "min_height": null,
            "min_width": null,
            "object_fit": null,
            "object_position": null,
            "order": null,
            "overflow": null,
            "overflow_x": null,
            "overflow_y": null,
            "padding": null,
            "right": null,
            "top": null,
            "visibility": null,
            "width": null
          }
        },
        "659b72aa63694430a4cd39b1c1428056": {
          "model_module": "@jupyter-widgets/controls",
          "model_name": "DescriptionStyleModel",
          "model_module_version": "1.5.0",
          "state": {
            "_model_module": "@jupyter-widgets/controls",
            "_model_module_version": "1.5.0",
            "_model_name": "DescriptionStyleModel",
            "_view_count": null,
            "_view_module": "@jupyter-widgets/base",
            "_view_module_version": "1.2.0",
            "_view_name": "StyleView",
            "description_width": ""
          }
        },
        "c72ecebff5254951954d1c1215f7f464": {
          "model_module": "@jupyter-widgets/controls",
          "model_name": "HBoxModel",
          "model_module_version": "1.5.0",
          "state": {
            "_dom_classes": [],
            "_model_module": "@jupyter-widgets/controls",
            "_model_module_version": "1.5.0",
            "_model_name": "HBoxModel",
            "_view_count": null,
            "_view_module": "@jupyter-widgets/controls",
            "_view_module_version": "1.5.0",
            "_view_name": "HBoxView",
            "box_style": "",
            "children": [
              "IPY_MODEL_91a2cff7042040f987de7ae7f58d2779",
              "IPY_MODEL_304bb20dafc74cba80422703cc8a0331",
              "IPY_MODEL_39a46b63613c4bde93679b941d1dab84"
            ],
            "layout": "IPY_MODEL_f9f2e289286847bb8d0ded42acb887a4"
          }
        },
        "91a2cff7042040f987de7ae7f58d2779": {
          "model_module": "@jupyter-widgets/controls",
          "model_name": "HTMLModel",
          "model_module_version": "1.5.0",
          "state": {
            "_dom_classes": [],
            "_model_module": "@jupyter-widgets/controls",
            "_model_module_version": "1.5.0",
            "_model_name": "HTMLModel",
            "_view_count": null,
            "_view_module": "@jupyter-widgets/controls",
            "_view_module_version": "1.5.0",
            "_view_name": "HTMLView",
            "description": "",
            "description_tooltip": null,
            "layout": "IPY_MODEL_28e4c09a31db48ad9e69d8cdd4733abb",
            "placeholder": "​",
            "style": "IPY_MODEL_ad958b6475cf4da3b8fcc2a09a52e6ce",
            "value": "Generating train split: 100%"
          }
        },
        "304bb20dafc74cba80422703cc8a0331": {
          "model_module": "@jupyter-widgets/controls",
          "model_name": "FloatProgressModel",
          "model_module_version": "1.5.0",
          "state": {
            "_dom_classes": [],
            "_model_module": "@jupyter-widgets/controls",
            "_model_module_version": "1.5.0",
            "_model_name": "FloatProgressModel",
            "_view_count": null,
            "_view_module": "@jupyter-widgets/controls",
            "_view_module_version": "1.5.0",
            "_view_name": "ProgressView",
            "bar_style": "success",
            "description": "",
            "description_tooltip": null,
            "layout": "IPY_MODEL_bdf7097182224b718eae255de5b9edf2",
            "max": 550152,
            "min": 0,
            "orientation": "horizontal",
            "style": "IPY_MODEL_17d412261f0c4101b9cb6fc16bab6352",
            "value": 550152
          }
        },
        "39a46b63613c4bde93679b941d1dab84": {
          "model_module": "@jupyter-widgets/controls",
          "model_name": "HTMLModel",
          "model_module_version": "1.5.0",
          "state": {
            "_dom_classes": [],
            "_model_module": "@jupyter-widgets/controls",
            "_model_module_version": "1.5.0",
            "_model_name": "HTMLModel",
            "_view_count": null,
            "_view_module": "@jupyter-widgets/controls",
            "_view_module_version": "1.5.0",
            "_view_name": "HTMLView",
            "description": "",
            "description_tooltip": null,
            "layout": "IPY_MODEL_45af2be6742b493494db52e059c498d7",
            "placeholder": "​",
            "style": "IPY_MODEL_3daa4e96b4804ce9a36aa71d7cc1400a",
            "value": " 550152/550152 [00:00&lt;00:00, 757079.10 examples/s]"
          }
        },
        "f9f2e289286847bb8d0ded42acb887a4": {
          "model_module": "@jupyter-widgets/base",
          "model_name": "LayoutModel",
          "model_module_version": "1.2.0",
          "state": {
            "_model_module": "@jupyter-widgets/base",
            "_model_module_version": "1.2.0",
            "_model_name": "LayoutModel",
            "_view_count": null,
            "_view_module": "@jupyter-widgets/base",
            "_view_module_version": "1.2.0",
            "_view_name": "LayoutView",
            "align_content": null,
            "align_items": null,
            "align_self": null,
            "border": null,
            "bottom": null,
            "display": null,
            "flex": null,
            "flex_flow": null,
            "grid_area": null,
            "grid_auto_columns": null,
            "grid_auto_flow": null,
            "grid_auto_rows": null,
            "grid_column": null,
            "grid_gap": null,
            "grid_row": null,
            "grid_template_areas": null,
            "grid_template_columns": null,
            "grid_template_rows": null,
            "height": null,
            "justify_content": null,
            "justify_items": null,
            "left": null,
            "margin": null,
            "max_height": null,
            "max_width": null,
            "min_height": null,
            "min_width": null,
            "object_fit": null,
            "object_position": null,
            "order": null,
            "overflow": null,
            "overflow_x": null,
            "overflow_y": null,
            "padding": null,
            "right": null,
            "top": null,
            "visibility": null,
            "width": null
          }
        },
        "28e4c09a31db48ad9e69d8cdd4733abb": {
          "model_module": "@jupyter-widgets/base",
          "model_name": "LayoutModel",
          "model_module_version": "1.2.0",
          "state": {
            "_model_module": "@jupyter-widgets/base",
            "_model_module_version": "1.2.0",
            "_model_name": "LayoutModel",
            "_view_count": null,
            "_view_module": "@jupyter-widgets/base",
            "_view_module_version": "1.2.0",
            "_view_name": "LayoutView",
            "align_content": null,
            "align_items": null,
            "align_self": null,
            "border": null,
            "bottom": null,
            "display": null,
            "flex": null,
            "flex_flow": null,
            "grid_area": null,
            "grid_auto_columns": null,
            "grid_auto_flow": null,
            "grid_auto_rows": null,
            "grid_column": null,
            "grid_gap": null,
            "grid_row": null,
            "grid_template_areas": null,
            "grid_template_columns": null,
            "grid_template_rows": null,
            "height": null,
            "justify_content": null,
            "justify_items": null,
            "left": null,
            "margin": null,
            "max_height": null,
            "max_width": null,
            "min_height": null,
            "min_width": null,
            "object_fit": null,
            "object_position": null,
            "order": null,
            "overflow": null,
            "overflow_x": null,
            "overflow_y": null,
            "padding": null,
            "right": null,
            "top": null,
            "visibility": null,
            "width": null
          }
        },
        "ad958b6475cf4da3b8fcc2a09a52e6ce": {
          "model_module": "@jupyter-widgets/controls",
          "model_name": "DescriptionStyleModel",
          "model_module_version": "1.5.0",
          "state": {
            "_model_module": "@jupyter-widgets/controls",
            "_model_module_version": "1.5.0",
            "_model_name": "DescriptionStyleModel",
            "_view_count": null,
            "_view_module": "@jupyter-widgets/base",
            "_view_module_version": "1.2.0",
            "_view_name": "StyleView",
            "description_width": ""
          }
        },
        "bdf7097182224b718eae255de5b9edf2": {
          "model_module": "@jupyter-widgets/base",
          "model_name": "LayoutModel",
          "model_module_version": "1.2.0",
          "state": {
            "_model_module": "@jupyter-widgets/base",
            "_model_module_version": "1.2.0",
            "_model_name": "LayoutModel",
            "_view_count": null,
            "_view_module": "@jupyter-widgets/base",
            "_view_module_version": "1.2.0",
            "_view_name": "LayoutView",
            "align_content": null,
            "align_items": null,
            "align_self": null,
            "border": null,
            "bottom": null,
            "display": null,
            "flex": null,
            "flex_flow": null,
            "grid_area": null,
            "grid_auto_columns": null,
            "grid_auto_flow": null,
            "grid_auto_rows": null,
            "grid_column": null,
            "grid_gap": null,
            "grid_row": null,
            "grid_template_areas": null,
            "grid_template_columns": null,
            "grid_template_rows": null,
            "height": null,
            "justify_content": null,
            "justify_items": null,
            "left": null,
            "margin": null,
            "max_height": null,
            "max_width": null,
            "min_height": null,
            "min_width": null,
            "object_fit": null,
            "object_position": null,
            "order": null,
            "overflow": null,
            "overflow_x": null,
            "overflow_y": null,
            "padding": null,
            "right": null,
            "top": null,
            "visibility": null,
            "width": null
          }
        },
        "17d412261f0c4101b9cb6fc16bab6352": {
          "model_module": "@jupyter-widgets/controls",
          "model_name": "ProgressStyleModel",
          "model_module_version": "1.5.0",
          "state": {
            "_model_module": "@jupyter-widgets/controls",
            "_model_module_version": "1.5.0",
            "_model_name": "ProgressStyleModel",
            "_view_count": null,
            "_view_module": "@jupyter-widgets/base",
            "_view_module_version": "1.2.0",
            "_view_name": "StyleView",
            "bar_color": null,
            "description_width": ""
          }
        },
        "45af2be6742b493494db52e059c498d7": {
          "model_module": "@jupyter-widgets/base",
          "model_name": "LayoutModel",
          "model_module_version": "1.2.0",
          "state": {
            "_model_module": "@jupyter-widgets/base",
            "_model_module_version": "1.2.0",
            "_model_name": "LayoutModel",
            "_view_count": null,
            "_view_module": "@jupyter-widgets/base",
            "_view_module_version": "1.2.0",
            "_view_name": "LayoutView",
            "align_content": null,
            "align_items": null,
            "align_self": null,
            "border": null,
            "bottom": null,
            "display": null,
            "flex": null,
            "flex_flow": null,
            "grid_area": null,
            "grid_auto_columns": null,
            "grid_auto_flow": null,
            "grid_auto_rows": null,
            "grid_column": null,
            "grid_gap": null,
            "grid_row": null,
            "grid_template_areas": null,
            "grid_template_columns": null,
            "grid_template_rows": null,
            "height": null,
            "justify_content": null,
            "justify_items": null,
            "left": null,
            "margin": null,
            "max_height": null,
            "max_width": null,
            "min_height": null,
            "min_width": null,
            "object_fit": null,
            "object_position": null,
            "order": null,
            "overflow": null,
            "overflow_x": null,
            "overflow_y": null,
            "padding": null,
            "right": null,
            "top": null,
            "visibility": null,
            "width": null
          }
        },
        "3daa4e96b4804ce9a36aa71d7cc1400a": {
          "model_module": "@jupyter-widgets/controls",
          "model_name": "DescriptionStyleModel",
          "model_module_version": "1.5.0",
          "state": {
            "_model_module": "@jupyter-widgets/controls",
            "_model_module_version": "1.5.0",
            "_model_name": "DescriptionStyleModel",
            "_view_count": null,
            "_view_module": "@jupyter-widgets/base",
            "_view_module_version": "1.2.0",
            "_view_name": "StyleView",
            "description_width": ""
          }
        },
        "ae4127bddfb84a55b51b1bacf6509832": {
          "model_module": "@jupyter-widgets/controls",
          "model_name": "HBoxModel",
          "model_module_version": "1.5.0",
          "state": {
            "_dom_classes": [],
            "_model_module": "@jupyter-widgets/controls",
            "_model_module_version": "1.5.0",
            "_model_name": "HBoxModel",
            "_view_count": null,
            "_view_module": "@jupyter-widgets/controls",
            "_view_module_version": "1.5.0",
            "_view_name": "HBoxView",
            "box_style": "",
            "children": [
              "IPY_MODEL_9de6dccc2e8b4aa9ade18b66d76f5076",
              "IPY_MODEL_754d4dc3d9b34fa58388692f07b6a1b5",
              "IPY_MODEL_f31740771f8a4e08a351acddf7378d53"
            ],
            "layout": "IPY_MODEL_7fde8d9cc6fb458a840b16874072436c"
          }
        },
        "9de6dccc2e8b4aa9ade18b66d76f5076": {
          "model_module": "@jupyter-widgets/controls",
          "model_name": "HTMLModel",
          "model_module_version": "1.5.0",
          "state": {
            "_dom_classes": [],
            "_model_module": "@jupyter-widgets/controls",
            "_model_module_version": "1.5.0",
            "_model_name": "HTMLModel",
            "_view_count": null,
            "_view_module": "@jupyter-widgets/controls",
            "_view_module_version": "1.5.0",
            "_view_name": "HTMLView",
            "description": "",
            "description_tooltip": null,
            "layout": "IPY_MODEL_dac290918acc44108305c68a241e8372",
            "placeholder": "​",
            "style": "IPY_MODEL_68921ca62ac54f1386c74645feca909d",
            "value": "Map: 100%"
          }
        },
        "754d4dc3d9b34fa58388692f07b6a1b5": {
          "model_module": "@jupyter-widgets/controls",
          "model_name": "FloatProgressModel",
          "model_module_version": "1.5.0",
          "state": {
            "_dom_classes": [],
            "_model_module": "@jupyter-widgets/controls",
            "_model_module_version": "1.5.0",
            "_model_name": "FloatProgressModel",
            "_view_count": null,
            "_view_module": "@jupyter-widgets/controls",
            "_view_module_version": "1.5.0",
            "_view_name": "ProgressView",
            "bar_style": "success",
            "description": "",
            "description_tooltip": null,
            "layout": "IPY_MODEL_4407dde8747845ec87a97bea5ec04312",
            "max": 30000,
            "min": 0,
            "orientation": "horizontal",
            "style": "IPY_MODEL_ecfc2c80e4b941e18eb00d231fe914f8",
            "value": 30000
          }
        },
        "f31740771f8a4e08a351acddf7378d53": {
          "model_module": "@jupyter-widgets/controls",
          "model_name": "HTMLModel",
          "model_module_version": "1.5.0",
          "state": {
            "_dom_classes": [],
            "_model_module": "@jupyter-widgets/controls",
            "_model_module_version": "1.5.0",
            "_model_name": "HTMLModel",
            "_view_count": null,
            "_view_module": "@jupyter-widgets/controls",
            "_view_module_version": "1.5.0",
            "_view_name": "HTMLView",
            "description": "",
            "description_tooltip": null,
            "layout": "IPY_MODEL_c5201ecbe0964a44831fc71e1b2b361d",
            "placeholder": "​",
            "style": "IPY_MODEL_4ac668eb416d431b913e1f786e7ee564",
            "value": " 30000/30000 [00:08&lt;00:00, 6409.13 examples/s]"
          }
        },
        "7fde8d9cc6fb458a840b16874072436c": {
          "model_module": "@jupyter-widgets/base",
          "model_name": "LayoutModel",
          "model_module_version": "1.2.0",
          "state": {
            "_model_module": "@jupyter-widgets/base",
            "_model_module_version": "1.2.0",
            "_model_name": "LayoutModel",
            "_view_count": null,
            "_view_module": "@jupyter-widgets/base",
            "_view_module_version": "1.2.0",
            "_view_name": "LayoutView",
            "align_content": null,
            "align_items": null,
            "align_self": null,
            "border": null,
            "bottom": null,
            "display": null,
            "flex": null,
            "flex_flow": null,
            "grid_area": null,
            "grid_auto_columns": null,
            "grid_auto_flow": null,
            "grid_auto_rows": null,
            "grid_column": null,
            "grid_gap": null,
            "grid_row": null,
            "grid_template_areas": null,
            "grid_template_columns": null,
            "grid_template_rows": null,
            "height": null,
            "justify_content": null,
            "justify_items": null,
            "left": null,
            "margin": null,
            "max_height": null,
            "max_width": null,
            "min_height": null,
            "min_width": null,
            "object_fit": null,
            "object_position": null,
            "order": null,
            "overflow": null,
            "overflow_x": null,
            "overflow_y": null,
            "padding": null,
            "right": null,
            "top": null,
            "visibility": null,
            "width": null
          }
        },
        "dac290918acc44108305c68a241e8372": {
          "model_module": "@jupyter-widgets/base",
          "model_name": "LayoutModel",
          "model_module_version": "1.2.0",
          "state": {
            "_model_module": "@jupyter-widgets/base",
            "_model_module_version": "1.2.0",
            "_model_name": "LayoutModel",
            "_view_count": null,
            "_view_module": "@jupyter-widgets/base",
            "_view_module_version": "1.2.0",
            "_view_name": "LayoutView",
            "align_content": null,
            "align_items": null,
            "align_self": null,
            "border": null,
            "bottom": null,
            "display": null,
            "flex": null,
            "flex_flow": null,
            "grid_area": null,
            "grid_auto_columns": null,
            "grid_auto_flow": null,
            "grid_auto_rows": null,
            "grid_column": null,
            "grid_gap": null,
            "grid_row": null,
            "grid_template_areas": null,
            "grid_template_columns": null,
            "grid_template_rows": null,
            "height": null,
            "justify_content": null,
            "justify_items": null,
            "left": null,
            "margin": null,
            "max_height": null,
            "max_width": null,
            "min_height": null,
            "min_width": null,
            "object_fit": null,
            "object_position": null,
            "order": null,
            "overflow": null,
            "overflow_x": null,
            "overflow_y": null,
            "padding": null,
            "right": null,
            "top": null,
            "visibility": null,
            "width": null
          }
        },
        "68921ca62ac54f1386c74645feca909d": {
          "model_module": "@jupyter-widgets/controls",
          "model_name": "DescriptionStyleModel",
          "model_module_version": "1.5.0",
          "state": {
            "_model_module": "@jupyter-widgets/controls",
            "_model_module_version": "1.5.0",
            "_model_name": "DescriptionStyleModel",
            "_view_count": null,
            "_view_module": "@jupyter-widgets/base",
            "_view_module_version": "1.2.0",
            "_view_name": "StyleView",
            "description_width": ""
          }
        },
        "4407dde8747845ec87a97bea5ec04312": {
          "model_module": "@jupyter-widgets/base",
          "model_name": "LayoutModel",
          "model_module_version": "1.2.0",
          "state": {
            "_model_module": "@jupyter-widgets/base",
            "_model_module_version": "1.2.0",
            "_model_name": "LayoutModel",
            "_view_count": null,
            "_view_module": "@jupyter-widgets/base",
            "_view_module_version": "1.2.0",
            "_view_name": "LayoutView",
            "align_content": null,
            "align_items": null,
            "align_self": null,
            "border": null,
            "bottom": null,
            "display": null,
            "flex": null,
            "flex_flow": null,
            "grid_area": null,
            "grid_auto_columns": null,
            "grid_auto_flow": null,
            "grid_auto_rows": null,
            "grid_column": null,
            "grid_gap": null,
            "grid_row": null,
            "grid_template_areas": null,
            "grid_template_columns": null,
            "grid_template_rows": null,
            "height": null,
            "justify_content": null,
            "justify_items": null,
            "left": null,
            "margin": null,
            "max_height": null,
            "max_width": null,
            "min_height": null,
            "min_width": null,
            "object_fit": null,
            "object_position": null,
            "order": null,
            "overflow": null,
            "overflow_x": null,
            "overflow_y": null,
            "padding": null,
            "right": null,
            "top": null,
            "visibility": null,
            "width": null
          }
        },
        "ecfc2c80e4b941e18eb00d231fe914f8": {
          "model_module": "@jupyter-widgets/controls",
          "model_name": "ProgressStyleModel",
          "model_module_version": "1.5.0",
          "state": {
            "_model_module": "@jupyter-widgets/controls",
            "_model_module_version": "1.5.0",
            "_model_name": "ProgressStyleModel",
            "_view_count": null,
            "_view_module": "@jupyter-widgets/base",
            "_view_module_version": "1.2.0",
            "_view_name": "StyleView",
            "bar_color": null,
            "description_width": ""
          }
        },
        "c5201ecbe0964a44831fc71e1b2b361d": {
          "model_module": "@jupyter-widgets/base",
          "model_name": "LayoutModel",
          "model_module_version": "1.2.0",
          "state": {
            "_model_module": "@jupyter-widgets/base",
            "_model_module_version": "1.2.0",
            "_model_name": "LayoutModel",
            "_view_count": null,
            "_view_module": "@jupyter-widgets/base",
            "_view_module_version": "1.2.0",
            "_view_name": "LayoutView",
            "align_content": null,
            "align_items": null,
            "align_self": null,
            "border": null,
            "bottom": null,
            "display": null,
            "flex": null,
            "flex_flow": null,
            "grid_area": null,
            "grid_auto_columns": null,
            "grid_auto_flow": null,
            "grid_auto_rows": null,
            "grid_column": null,
            "grid_gap": null,
            "grid_row": null,
            "grid_template_areas": null,
            "grid_template_columns": null,
            "grid_template_rows": null,
            "height": null,
            "justify_content": null,
            "justify_items": null,
            "left": null,
            "margin": null,
            "max_height": null,
            "max_width": null,
            "min_height": null,
            "min_width": null,
            "object_fit": null,
            "object_position": null,
            "order": null,
            "overflow": null,
            "overflow_x": null,
            "overflow_y": null,
            "padding": null,
            "right": null,
            "top": null,
            "visibility": null,
            "width": null
          }
        },
        "4ac668eb416d431b913e1f786e7ee564": {
          "model_module": "@jupyter-widgets/controls",
          "model_name": "DescriptionStyleModel",
          "model_module_version": "1.5.0",
          "state": {
            "_model_module": "@jupyter-widgets/controls",
            "_model_module_version": "1.5.0",
            "_model_name": "DescriptionStyleModel",
            "_view_count": null,
            "_view_module": "@jupyter-widgets/base",
            "_view_module_version": "1.2.0",
            "_view_name": "StyleView",
            "description_width": ""
          }
        }
      }
    }
  },
  "cells": [
    {
      "cell_type": "markdown",
      "metadata": {
        "id": "view-in-github",
        "colab_type": "text"
      },
      "source": [
        "<a href=\"https://colab.research.google.com/github/summiyak/NLP_Final_project/blob/main/Model_Output_Analysis.ipynb\" target=\"_parent\"><img src=\"https://colab.research.google.com/assets/colab-badge.svg\" alt=\"Open In Colab\"/></a>"
      ]
    },
    {
      "cell_type": "code",
      "execution_count": 1,
      "metadata": {
        "colab": {
          "base_uri": "https://localhost:8080/"
        },
        "id": "gdCAqYD9NP7y",
        "outputId": "586989a6-52cb-4e46-f66f-d0454281368e"
      },
      "outputs": [
        {
          "output_type": "stream",
          "name": "stdout",
          "text": [
            "Mounted at /content/drive\n"
          ]
        }
      ],
      "source": [
        "from google.colab import drive\n",
        "drive.mount('/content/drive', force_remount=True)\n",
        "import os\n",
        "os.chdir('/content/drive/MyDrive/')"
      ]
    },
    {
      "cell_type": "code",
      "source": [
        "!pip install -r /content/drive/MyDrive/electra/fp-dataset-artifacts-main/requirements.txt"
      ],
      "metadata": {
        "id": "sRPizWj87T8R"
      },
      "execution_count": null,
      "outputs": []
    },
    {
      "cell_type": "code",
      "source": [
        "import json\n",
        "json_dataset = []  # Initialize an empty list to store JSON objects\n",
        "with open(\"/content/drive/MyDrive/electra/output/eval_predictions.jsonl\", 'r') as f:\n",
        "    for line in f:  # Read the file line by line\n",
        "        try:\n",
        "            data = json.loads(line)  # Parse each line as a JSON object\n",
        "            json_dataset.append(data)  # Add the parsed object to the list\n",
        "        except json.JSONDecodeError as e:\n",
        "            print(f\"Error decoding JSON: {e}, skipping line: {line}\")"
      ],
      "metadata": {
        "id": "LsGkpce-Nhra"
      },
      "execution_count": 4,
      "outputs": []
    },
    {
      "cell_type": "code",
      "source": [
        "print(json_dataset[0])"
      ],
      "metadata": {
        "colab": {
          "base_uri": "https://localhost:8080/"
        },
        "id": "-ir86j5yN-ll",
        "outputId": "d59a5ced-e4d2-4118-de11-22e9c0de8d20"
      },
      "execution_count": 5,
      "outputs": [
        {
          "output_type": "stream",
          "name": "stdout",
          "text": [
            "{'premise': 'Two women are embracing while holding to go packages.', 'hypothesis': 'The sisters are hugging goodbye while holding to go packages after just eating lunch.', 'label': 1, 'predicted_scores': [-2.337942361831665, 4.425786972045898, -2.92610239982605], 'predicted_label': 1}\n"
          ]
        }
      ]
    },
    {
      "cell_type": "code",
      "source": [
        "import pandas as pd\n",
        "from datasets import Dataset\n",
        "\n",
        "dataset = Dataset.from_list(json_dataset)"
      ],
      "metadata": {
        "id": "KYROHBqmQN_S"
      },
      "execution_count": 6,
      "outputs": []
    },
    {
      "cell_type": "code",
      "source": [
        "import numpy as np\n",
        "import pandas as pd\n",
        "from datasets import Dataset\n",
        "\n",
        "dataset = Dataset.from_list(json_dataset)\n",
        "# Example Data (Replace with actual data)\n",
        "data = json_dataset\n",
        "\n",
        "num_classes = 3  # Number of label classes\n",
        "\n",
        "\n",
        "\n",
        "def token_overlap_ratio(premise, hypothesis):\n",
        "    premise_tokens = set(premise.split())\n",
        "    hypothesis_tokens = set(hypothesis.split())\n",
        "    intersection = len(premise_tokens & hypothesis_tokens)\n",
        "    return intersection / len(premise_tokens)\n",
        "\n",
        "# Define Error Classes\n",
        "error_classes = {\n",
        "    \"Negation\": lambda x: any(word in x[\"premise\"].split(\" \") + x[\"hypothesis\"].split(\" \") for word in [\"not\", \"no\", \"never\", \"without\"]),\n",
        "    \"Coreference\": lambda x: any(word in x[\"hypothesis\"] for word in [\"he\", \"she\", \"it\", \"they\"]),\n",
        "    \"Rare Words\": lambda x: any(word in x[\"premise\"] for word in [\"Higgs\", \"boson\", \"quantum\"]),\n",
        "    \"Ambiguity\": lambda x: any(word in x[\"hypothesis\"] for word in [\"something\", \"someone\", \"several\"]),\n",
        "    \"Long Sentences\": lambda x: len(x[\"premise\"].split()) > 10 or len(x[\"hypothesis\"].split()) > 10,\n",
        "    \"High Lexical Overlap\": lambda x: token_overlap_ratio(x[\"premise\"], x[\"hypothesis\"]) > 0.7,\n",
        "}\n",
        "\n",
        "\n",
        "\n",
        "# Initialize Counters\n",
        "error_counts = {cls: 0 for cls in error_classes}\n",
        "total_counts = {cls: 0 for cls in error_classes}\n",
        "error_examples = {cls: [] for cls in error_classes}\n",
        "\n",
        "# Process Examples\n",
        "for example in data:\n",
        "    true_label = example['label']\n",
        "    predicted_label = example['predicted_label']\n",
        "    is_error = true_label != predicted_label  # Check if the prediction is incorrect\n",
        "\n",
        "    for cls, rule in error_classes.items():\n",
        "        if rule(example):  # Check if example matches the error class\n",
        "            total_counts[cls] += 1\n",
        "            if is_error:\n",
        "                error_counts[cls] += 1\n",
        "                error_examples[cls].append(example)\n",
        "\n",
        "# Calculate Metrics\n",
        "error_rates = {cls: (error_counts[cls] / total_counts[cls] * 100 if total_counts[cls] > 0 else 0) for cls in error_classes}\n",
        "frequencies = {cls: (total_counts[cls] / len(data) * 100) for cls in error_classes}\n",
        "\n",
        "# Create Summary Table\n",
        "summary_table = pd.DataFrame({\n",
        "    \"Error Class\": list(error_classes.keys()),\n",
        "    \"Frequency (%)\": [frequencies[cls] for cls in error_classes],\n",
        "    \"Error Rate (%)\": [error_rates[cls] for cls in error_classes],\n",
        "    \"Error Count\": [error_counts[cls] for cls in error_classes],\n",
        "    \"Total Count\": [total_counts[cls] for cls in error_classes],\n",
        "})\n",
        "\n",
        "# Display Results\n",
        "print(summary_table)\n"
      ],
      "metadata": {
        "colab": {
          "base_uri": "https://localhost:8080/"
        },
        "id": "Kycr9vuYQUUa",
        "outputId": "4b11e7ae-2a3a-4dfa-aeae-81a4303b1ef5"
      },
      "execution_count": 5,
      "outputs": [
        {
          "output_type": "stream",
          "name": "stdout",
          "text": [
            "            Error Class  Frequency (%)  Error Rate (%)  Error Count  \\\n",
            "0              Negation       1.574883       12.258065           19   \n",
            "1           Coreference      64.661654       11.345066          722   \n",
            "2            Rare Words       0.000000        0.000000            0   \n",
            "3             Ambiguity       1.158301       21.052632           24   \n",
            "4        Long Sentences      68.258484       10.583507          711   \n",
            "5  High Lexical Overlap       3.881325        8.900524           34   \n",
            "\n",
            "   Total Count  \n",
            "0          155  \n",
            "1         6364  \n",
            "2            0  \n",
            "3          114  \n",
            "4         6718  \n",
            "5          382  \n"
          ]
        }
      ]
    },
    {
      "cell_type": "code",
      "source": [
        "\n",
        "# (Optional) Print Example Errors\n",
        "for cls, examples in error_examples.items():\n",
        "    print(f\"\\nExamples for {cls}:\")\n",
        "    if cls == \"High Lexical Overlap\":\n",
        "      for example in examples:\n",
        "          print(example)"
      ],
      "metadata": {
        "colab": {
          "base_uri": "https://localhost:8080/"
        },
        "id": "OhWiTmOWST3e",
        "outputId": "d0d7216a-af0f-4354-b707-605db7500fa9"
      },
      "execution_count": 6,
      "outputs": [
        {
          "output_type": "stream",
          "name": "stdout",
          "text": [
            "\n",
            "Examples for Negation:\n",
            "\n",
            "Examples for Coreference:\n",
            "\n",
            "Examples for Rare Words:\n",
            "\n",
            "Examples for Ambiguity:\n",
            "\n",
            "Examples for Long Sentences:\n",
            "\n",
            "Examples for High Lexical Overlap:\n",
            "{'premise': 'A girl climbing a rock face.', 'hypothesis': 'A girl climbing a rock face outside.', 'label': 1, 'predicted_scores': [1.876288652420044, 1.4281811714172363, -4.8618245124816895], 'predicted_label': 0}\n",
            "{'premise': 'A person dressed in red and black outside a cracked wall.', 'hypothesis': 'A person in red and black near a brick wall.', 'label': 1, 'predicted_scores': [-0.8360059261322021, -0.0061300769448280334, 0.8703426718711853], 'predicted_label': 2}\n",
            "{'premise': 'Indian women playing musical chairs with white woman.', 'hypothesis': 'indian women playing musical chairs with white woman in out door', 'label': 0, 'predicted_scores': [-1.081540584564209, 2.3348538875579834, -1.775390863418579], 'predicted_label': 1}\n",
            "{'premise': 'A man reading the paper at a cafe.', 'hypothesis': 'A man reading the paper while drinking cafe.', 'label': 0, 'predicted_scores': [-0.6524465084075928, 3.2053117752075195, -3.4088218212127686], 'predicted_label': 1}\n",
            "{'premise': 'A brown dog with a blue muzzle is running on green grass.', 'hypothesis': 'A dog is wearing a green muzzle on blue grass.', 'label': 2, 'predicted_scores': [1.4155869483947754, -1.9259713888168335, 0.06248622387647629], 'predicted_label': 0}\n",
            "{'premise': 'A male construction worker hammers a nail.', 'hypothesis': 'A construction worker drives into a nail.', 'label': 0, 'predicted_scores': [-2.2184531688690186, -1.2540360689163208, 3.510831117630005], 'predicted_label': 2}\n",
            "{'premise': 'Two dogs biting each other playfully while jumping', 'hypothesis': 'Two dogs are biting each other while fighting and growling', 'label': 2, 'predicted_scores': [-2.313197374343872, 2.796290159225464, -0.8701937198638916], 'predicted_label': 1}\n",
            "{'premise': 'An audience cheers at a concert.', 'hypothesis': 'An audience making noise at a Weezer concert.', 'label': 1, 'predicted_scores': [2.5377209186553955, -0.05253862589597702, -4.113117218017578], 'predicted_label': 0}\n",
            "{'premise': 'Two oriental lizards are fighting for dominance in a small pond', 'hypothesis': 'Two oriental snakes are fighting for dominance in a small pond', 'label': 2, 'predicted_scores': [2.8906760215759277, -1.1261345148086548, -3.2265431880950928], 'predicted_label': 0}\n",
            "{'premise': \"A man is singing on stage with his fingers in a stuffed bear's nose.\", 'hypothesis': \"The man on stage singing with his fingers in a bear's nose is mute.\", 'label': 1, 'predicted_scores': [-2.7529051303863525, 0.22931987047195435, 2.257600784301758], 'predicted_label': 2}\n",
            "{'premise': 'A gentleman smiling and showing his reflective sunglasses.', 'hypothesis': 'A gentleman smiling and showing his reflective sunglasses to others.', 'label': 0, 'predicted_scores': [-1.0662932395935059, 3.4179370403289795, -3.1460249423980713], 'predicted_label': 1}\n",
            "{'premise': 'A man riding a dirt bike on a racetrack.', 'hypothesis': 'A man is riding a dirt bike in a race at a track.', 'label': 0, 'predicted_scores': [-0.686862587928772, 3.8317103385925293, -4.144038677215576], 'predicted_label': 1}\n",
            "{'premise': 'Flaming are shooting from the rear of a race car.', 'hypothesis': 'Flames are shooting from the front of a race car.', 'label': 2, 'predicted_scores': [1.8248567581176758, -1.7787439823150635, -0.6220930814743042], 'predicted_label': 0}\n",
            "{'premise': 'Several young people standing next to ten-speed bikes.', 'hypothesis': 'Several young people are standing next to motorcycles.', 'label': 2, 'predicted_scores': [2.5678904056549072, -1.8423330783843994, -1.7202322483062744], 'predicted_label': 0}\n",
            "{'premise': 'The boy in the black and red swimsuit is jumping into the water.', 'hypothesis': 'The boy in the black and red swimsuit is about to go swimming', 'label': 0, 'predicted_scores': [-0.7888747453689575, 1.856095790863037, -1.5453376770019531], 'predicted_label': 1}\n",
            "{'premise': 'Two men exchange conversation in a crowded place.', 'hypothesis': 'Two men exchange conversation in a crowded arena.', 'label': 0, 'predicted_scores': [-0.4720916152000427, 2.7324771881103516, -3.054633855819702], 'predicted_label': 1}\n",
            "{'premise': 'The greyhounds are running quickly in this race.', 'hypothesis': 'The big greyhounds are running quickly in this race.', 'label': 0, 'predicted_scores': [-1.947157859802246, 4.346519947052002, -3.283252000808716], 'predicted_label': 1}\n",
            "{'premise': 'Two black dogs running', 'hypothesis': 'The two black dogs are running beside each other.', 'label': 1, 'predicted_scores': [1.571353793144226, 0.11601348966360092, -2.7701985836029053], 'predicted_label': 0}\n",
            "{'premise': 'Five adults are sitting on stone steps.', 'hypothesis': 'There are five grownups sitting on stone steps.', 'label': 0, 'predicted_scores': [-0.4735082685947418, 0.7730297446250916, -0.5256452560424805], 'predicted_label': 1}\n",
            "{'premise': 'A group of people are watching something.', 'hypothesis': 'A group of people are whale watching.', 'label': 1, 'predicted_scores': [-2.9900596141815186, -0.09547311067581177, 2.879603624343872], 'predicted_label': 2}\n",
            "{'premise': 'A man in a blue shirt, khaki shorts, ball cap and white socks and loafers walking behind a group of people walking down a stone walkway with a water bottle in his left hand.', 'hypothesis': 'A man in a blue shirt, khaki shorts, ball cap and blue socks and loafers walking behind a group of people walking down a stone walkway with a water bottle in his left hand.', 'label': 2, 'predicted_scores': [0.7652326822280884, -1.59854257106781, 0.6768298745155334], 'predicted_label': 0}\n",
            "{'premise': 'Four people, One male in a blue shirt and slacks with three females, one in pink, one in blue, and the other with a white shirt and blue blouse, in line to enter a yellow school bus, while a female in pink hold paper is on the phone.', 'hypothesis': 'Four people, One male in a blue shirt and slacks with three females, one in pink, one in blue, and the other with a blue shirt and blue blouse, in line to enter a yellow school bus, while a female in pink hold paper is on the phone.', 'label': 2, 'predicted_scores': [2.368820905685425, -1.7964390516281128, -1.485368013381958], 'predicted_label': 0}\n",
            "{'premise': 'A man sits in a dingy stall which says \"Sol Septu\" on the sidewalk while a man poses before the stand but does not look at it.', 'hypothesis': 'A still sits in a dingy man which says \"why\" on the sidewalk while a stall poses before the man but refuses to look in it\\'s direction.', 'label': 2, 'predicted_scores': [1.4921486377716064, -1.0084296464920044, -0.966969907283783], 'predicted_label': 0}\n",
            "{'premise': 'A baseball player sliding toward second base.', 'hypothesis': 'A baseball player sliding toward first base.', 'label': 2, 'predicted_scores': [2.747469902038574, -1.9064687490463257, -1.9185221195220947], 'predicted_label': 0}\n",
            "{'premise': 'A chef prepares roasted corn.', 'hypothesis': 'A chef prepares creamed corn.', 'label': 2, 'predicted_scores': [-0.6126328706741333, 0.663328230381012, -0.24352365732192993], 'predicted_label': 1}\n",
            "{'premise': 'A man holds wooden boards together as a young boy drives a nail into them.', 'hypothesis': 'An adult male holds wooden boards together as a boy hammers a nail into them.', 'label': 0, 'predicted_scores': [0.5069389343261719, -1.1487849950790405, 0.6262305974960327], 'predicted_label': 2}\n",
            "{'premise': 'A crowd watching a soccer match.', 'hypothesis': 'A crowd enjoys a soccer match.', 'label': 0, 'predicted_scores': [0.49764442443847656, 2.296595811843872, -3.8752191066741943], 'predicted_label': 1}\n",
            "{'premise': 'A dressed up woman walking next to a store at night.', 'hypothesis': 'A dressed up woman is walking next to a pharmacy at night.', 'label': 1, 'predicted_scores': [-2.4254913330078125, -0.9405485987663269, 3.3711578845977783], 'predicted_label': 2}\n",
            "{'premise': 'A skier slaloms by a red flag.', 'hypothesis': 'A skier slaloms by a red flag and viwed by public.', 'label': 1, 'predicted_scores': [0.8539016246795654, 0.8378424048423767, -2.5905215740203857], 'predicted_label': 0}\n",
            "{'premise': 'Four people in a kitchen', 'hypothesis': 'Four people in a kitchen cooking.', 'label': 0, 'predicted_scores': [-0.4059268534183502, 2.696474075317383, -3.0899698734283447], 'predicted_label': 1}\n",
            "{'premise': 'A person is folding laundry on the floor.', 'hypothesis': 'A man is folding his laundry while sitting on the floor.', 'label': 0, 'predicted_scores': [-0.47231075167655945, 2.407758951187134, -2.6531777381896973], 'predicted_label': 1}\n",
            "{'premise': 'A bridal party assembles outside a stone building.', 'hypothesis': 'A bridal party is bathering outside a stone building.', 'label': 0, 'predicted_scores': [0.1782117635011673, -0.8160977363586426, 0.7387003898620605], 'predicted_label': 2}\n",
            "{'premise': 'A street filled with people walking and riding bikes.', 'hypothesis': 'An empty street usually filled with people walking and riding bikes.', 'label': 2, 'predicted_scores': [-2.5502960681915283, 3.246107339859009, -1.1503180265426636], 'predicted_label': 1}\n",
            "{'premise': \"A girl in a child's swimming pool.\", 'hypothesis': 'A girl in a small swimming pool.', 'label': 0, 'predicted_scores': [0.4935011565685272, 2.412081241607666, -3.9926302433013916], 'predicted_label': 1}\n"
          ]
        }
      ]
    },
    {
      "cell_type": "markdown",
      "source": [
        "**Testing HANS Strategy**"
      ],
      "metadata": {
        "id": "HMiAaaA-QwXd"
      }
    },
    {
      "cell_type": "markdown",
      "source": [
        "Processing evaluation set"
      ],
      "metadata": {
        "id": "97Phmc4XXzTw"
      }
    },
    {
      "cell_type": "code",
      "source": [
        "from datasets import load_dataset\n",
        "dataset = load_dataset(\"snli\")\n",
        "train_dataset_a = dataset[\"train\"]\n",
        "\n",
        "data = train_dataset_a\n",
        "\n",
        "\n",
        "import json\n",
        "hans_eval = []  # Initialize an empty list to store JSON objects\n",
        "with open(\"/content/drive/MyDrive/electra/output_analysis/heuristics_evaluation_set.jsonl\", 'r') as f:\n",
        "    for line in f:  # Read the file line by line\n",
        "        try:\n",
        "            hans = json.loads(line)  # Parse each line as a JSON object\n",
        "            hans_eval.append(hans)  # Add the parsed object to the list\n",
        "        except json.JSONDecodeError as e:\n",
        "            print(f\"Error decoding JSON: {e}, skipping line: {line}\")\n",
        "\n",
        "\n",
        "\n"
      ],
      "metadata": {
        "colab": {
          "base_uri": "https://localhost:8080/",
          "height": 350,
          "referenced_widgets": [
            "afd3c9a7da8543a5beeba2c8ab903dc1",
            "6b0ac48e6dab45e4a35e5e47fd369758",
            "4c890f00eabb4ef9a02475b7fab96f86",
            "1c0040596b9c436eb0c346388bb77acb",
            "4fcc67fea0b54da28273563f9deab931",
            "f2f01a5af46043fb95662697a3a7579e",
            "e31c7714f48041eca0f16f1d8ebd1213",
            "e39f4452796643738789517f63682dd9",
            "07944fd97bcc4d6e904d8a16d8f39e9a",
            "de677c434cdf47999326aad69cce0d52",
            "1da4c0700092435a89d35ae2450beeb5",
            "8a351b6c1a0f4bb49837c985d690d15c",
            "d773b6e60e064dc28200a899e7e85955",
            "91db7474a6954bfd95bc5b800f5bc976",
            "f74025596cab4c1098003d3c921707be",
            "0ad2ca2fc3ea4ebc9cd83df7b01dd649",
            "693e04952e9f4bf8b99fe956452ee7ab",
            "b9a583f379e248c6bf7a148af449f657",
            "2a5b461b89504286b1b231d2ebe851cc",
            "605834fe058345e6b823230ef729b57d",
            "d01ad08f8f43473a9058b1eb15597511",
            "b1ad95e3ad8942a49ef5b8199097f066",
            "cd7a3f301d7943659ad71ba85c46106f",
            "d077ff14dff24e4b8374ed91349a717d",
            "4864e3282a394678b40c50dd4327876f",
            "6207773c2f33429997b0a3bbe89c6cb7",
            "23df1305145e4db19e36d351f6f8e7ed",
            "40ea65d424c941bba99dd00270100a85",
            "52a6b98d4d2943619a772bf37f2d01f5",
            "f789ca84981a492196cb801ca98730bc",
            "bdabf8315d9342c7b4018156e4776294",
            "5c88728e2bba42378df11a1deb370ea2",
            "8065f9fff6314ee1a911b86d07369348",
            "14e65bb6ae8e4e2dbf05248cb947fce4",
            "922f1eb0363f4eadac4534c8fe7a75ea",
            "8b061b8017814db78a0dc91f3d95effc",
            "cff8dd671719478c84ed6443f9017651",
            "1e53cfcf01954d2589792da3027749c5",
            "e452c47f25ff428db057017f14143671",
            "30db6f22f1064b64b09b6c473c03e369",
            "e65ea9101c834a2dacd624d2734a383e",
            "8db8595793984ea883ae3ea93cdef22a",
            "bee5b5316b124007bb4e2fe8e46f2dc7",
            "af2a49eb608f46d9958d21a6600bdc1f",
            "17263c9e56c84d5d918c9fc54986f297",
            "f0f9440db1464d24b0af36c2a9246bb3",
            "4631681041a8420891bc063dbd78bc63",
            "10e7ad44f55941adba9b82a535105850",
            "a42339674cca4b62b9b4dbd989f10e4e",
            "eb5806a7b90c4bee92c187091e760122",
            "8970539276834453916e3ca9cff484b6",
            "236991c904d043628a5f674d363c1aee",
            "cc4225fe7e66476891edd88db49ed2df",
            "711474e5784a43b8bc5efdc79293ddcc",
            "4d6ca7768f0b44a391a19220fa964d7e",
            "9faf20ba57f94782a4b12f7a8a9c3229",
            "05dab96b4dea4a37b8096b7b2be6573a",
            "ad4f4c881d5a47df95e454f11a66d02c",
            "96dd83ec5ea24f45bc01a2e162f2dcd9",
            "7c18d5a56c294505bc49763292bb0d75",
            "02a74f182e594850b47a68b2e114e6b6",
            "fb5e92cec487490b915499158e97eed1",
            "1e1e5698a95a436aa7b984c05de1a767",
            "43b6e9001b9243a6be8f46233fbf01bf",
            "59a87d189e784f95a239ed25d6fdd549",
            "659b72aa63694430a4cd39b1c1428056",
            "c72ecebff5254951954d1c1215f7f464",
            "91a2cff7042040f987de7ae7f58d2779",
            "304bb20dafc74cba80422703cc8a0331",
            "39a46b63613c4bde93679b941d1dab84",
            "f9f2e289286847bb8d0ded42acb887a4",
            "28e4c09a31db48ad9e69d8cdd4733abb",
            "ad958b6475cf4da3b8fcc2a09a52e6ce",
            "bdf7097182224b718eae255de5b9edf2",
            "17d412261f0c4101b9cb6fc16bab6352",
            "45af2be6742b493494db52e059c498d7",
            "3daa4e96b4804ce9a36aa71d7cc1400a"
          ]
        },
        "id": "OvpDbdQkchVE",
        "outputId": "0b0d2a5f-55e7-43ad-eb82-2b1a7a518357"
      },
      "execution_count": 7,
      "outputs": [
        {
          "output_type": "stream",
          "name": "stderr",
          "text": [
            "/usr/local/lib/python3.10/dist-packages/huggingface_hub/utils/_auth.py:94: UserWarning: \n",
            "The secret `HF_TOKEN` does not exist in your Colab secrets.\n",
            "To authenticate with the Hugging Face Hub, create a token in your settings tab (https://huggingface.co/settings/tokens), set it as secret in your Google Colab and restart your session.\n",
            "You will be able to reuse this secret in all of your notebooks.\n",
            "Please note that authentication is recommended but still optional to access public models or datasets.\n",
            "  warnings.warn(\n"
          ]
        },
        {
          "output_type": "display_data",
          "data": {
            "text/plain": [
              "README.md:   0%|          | 0.00/16.0k [00:00<?, ?B/s]"
            ],
            "application/vnd.jupyter.widget-view+json": {
              "version_major": 2,
              "version_minor": 0,
              "model_id": "afd3c9a7da8543a5beeba2c8ab903dc1"
            }
          },
          "metadata": {}
        },
        {
          "output_type": "display_data",
          "data": {
            "text/plain": [
              "test-00000-of-00001.parquet:   0%|          | 0.00/412k [00:00<?, ?B/s]"
            ],
            "application/vnd.jupyter.widget-view+json": {
              "version_major": 2,
              "version_minor": 0,
              "model_id": "8a351b6c1a0f4bb49837c985d690d15c"
            }
          },
          "metadata": {}
        },
        {
          "output_type": "display_data",
          "data": {
            "text/plain": [
              "validation-00000-of-00001.parquet:   0%|          | 0.00/413k [00:00<?, ?B/s]"
            ],
            "application/vnd.jupyter.widget-view+json": {
              "version_major": 2,
              "version_minor": 0,
              "model_id": "cd7a3f301d7943659ad71ba85c46106f"
            }
          },
          "metadata": {}
        },
        {
          "output_type": "display_data",
          "data": {
            "text/plain": [
              "train-00000-of-00001.parquet:   0%|          | 0.00/19.6M [00:00<?, ?B/s]"
            ],
            "application/vnd.jupyter.widget-view+json": {
              "version_major": 2,
              "version_minor": 0,
              "model_id": "14e65bb6ae8e4e2dbf05248cb947fce4"
            }
          },
          "metadata": {}
        },
        {
          "output_type": "display_data",
          "data": {
            "text/plain": [
              "Generating test split:   0%|          | 0/10000 [00:00<?, ? examples/s]"
            ],
            "application/vnd.jupyter.widget-view+json": {
              "version_major": 2,
              "version_minor": 0,
              "model_id": "17263c9e56c84d5d918c9fc54986f297"
            }
          },
          "metadata": {}
        },
        {
          "output_type": "display_data",
          "data": {
            "text/plain": [
              "Generating validation split:   0%|          | 0/10000 [00:00<?, ? examples/s]"
            ],
            "application/vnd.jupyter.widget-view+json": {
              "version_major": 2,
              "version_minor": 0,
              "model_id": "9faf20ba57f94782a4b12f7a8a9c3229"
            }
          },
          "metadata": {}
        },
        {
          "output_type": "display_data",
          "data": {
            "text/plain": [
              "Generating train split:   0%|          | 0/550152 [00:00<?, ? examples/s]"
            ],
            "application/vnd.jupyter.widget-view+json": {
              "version_major": 2,
              "version_minor": 0,
              "model_id": "c72ecebff5254951954d1c1215f7f464"
            }
          },
          "metadata": {}
        }
      ]
    },
    {
      "cell_type": "code",
      "source": [
        "print(hans_eval[0])"
      ],
      "metadata": {
        "colab": {
          "base_uri": "https://localhost:8080/"
        },
        "id": "gEOHZy1hcksk",
        "outputId": "5192c3c8-c0fe-4f7c-e082-91158f5eeb8b"
      },
      "execution_count": 12,
      "outputs": [
        {
          "output_type": "stream",
          "name": "stdout",
          "text": [
            "{'heuristic': 'lexical_overlap', 'template': 'temp1', 'sentence1_binary_parse': '( ( The president ) ( ( advised ( the doctor ) ) . ) )', 'sentence2_parse': '(ROOT (S (NP (DT The) (NN doctor)) (VP (VBD advised) (NP (DT the) (NN president))) (. .)))', 'subcase': 'ln_subject/object_swap', 'sentence2_binary_parse': '( ( The doctor ) ( ( advised ( the president ) ) . ) )', 'sentence1': 'The president advised the doctor .', 'sentence2': 'The doctor advised the president .', 'sentence1_parse': '(ROOT (S (NP (DT The) (NN president)) (VP (VBD advised) (NP (DT the) (NN doctor))) (. .)))', 'gold_label': 'non-entailment', 'pairID': 'ex0', 'label': 1}\n"
          ]
        }
      ]
    },
    {
      "cell_type": "code",
      "source": [
        "\n",
        "label_map_hans = {\"entailment\": 0, \"non-entailment\": 1}\n",
        "for i in hans_eval:\n",
        "  i[\"label\"] = label_map_hans[i[\"gold_label\"]]\n",
        "print(hans_eval[0])\n"
      ],
      "metadata": {
        "id": "Sq_NfqCTR92m"
      },
      "execution_count": null,
      "outputs": []
    },
    {
      "cell_type": "code",
      "source": [
        "\n",
        "\n",
        "\n",
        "dataset_new = {}\n",
        "print(len(hans_eval))\n",
        "with open('/content/drive/MyDrive/electra/output_analysis/eval_hans_lexical_overlap.json', 'w') as f:\n",
        "  for i in range(len(hans_eval)):\n",
        "     if hans_eval[i]['heuristic'] == 'lexical_overlap' :\n",
        "        if hans_eval[i]['label'] == -1 :\n",
        "          label = 1\n",
        "        else :\n",
        "          label = hans_eval[i]['label']\n",
        "        dataset_new.update( {\n",
        "            'premise' : hans_eval[i]['sentence1']\n",
        "            ,'hypothesis' : hans_eval[i]['sentence2']\n",
        "            , 'label' : label\n",
        "            })\n",
        "\n",
        "        json.dump(dataset_new, f)\n",
        "        f.write('\\n')\n"
      ],
      "metadata": {
        "colab": {
          "base_uri": "https://localhost:8080/"
        },
        "id": "c4jjD-j-Qhud",
        "outputId": "497c5d3b-c1d5-4ea7-94a3-37ea111f00ee"
      },
      "execution_count": 13,
      "outputs": [
        {
          "output_type": "stream",
          "name": "stdout",
          "text": [
            "30000\n"
          ]
        }
      ]
    },
    {
      "cell_type": "markdown",
      "source": [
        "Pretrained model testing on HANS Evaluation set"
      ],
      "metadata": {
        "id": "zRpSXQUkd-60"
      }
    },
    {
      "cell_type": "code",
      "source": [
        "!python3 /content/drive/MyDrive/electra/fp-dataset-artifacts-main/run.py --do_eval --task nli --dataset /content/drive/MyDrive/electra/output_analysis/HANS/eval_hans_lexical_overlap.json --model /content/drive/MyDrive/electra/trained_model/ --output_dir /content/drive/MyDrive/electra/output_analysis/HANS/output/"
      ],
      "metadata": {
        "colab": {
          "base_uri": "https://localhost:8080/"
        },
        "id": "bslnfWm-Se4h",
        "outputId": "1f9b6acd-bc28-4638-9a4e-13a791ff0aa0"
      },
      "execution_count": 4,
      "outputs": [
        {
          "output_type": "stream",
          "name": "stdout",
          "text": [
            "2024-11-28 01:24:17.744835: E external/local_xla/xla/stream_executor/cuda/cuda_fft.cc:485] Unable to register cuFFT factory: Attempting to register factory for plugin cuFFT when one has already been registered\n",
            "2024-11-28 01:24:17.777433: E external/local_xla/xla/stream_executor/cuda/cuda_dnn.cc:8454] Unable to register cuDNN factory: Attempting to register factory for plugin cuDNN when one has already been registered\n",
            "2024-11-28 01:24:17.787388: E external/local_xla/xla/stream_executor/cuda/cuda_blas.cc:1452] Unable to register cuBLAS factory: Attempting to register factory for plugin cuBLAS when one has already been registered\n",
            "2024-11-28 01:24:17.810644: I tensorflow/core/platform/cpu_feature_guard.cc:210] This TensorFlow binary is optimized to use available CPU instructions in performance-critical operations.\n",
            "To enable the following instructions: AVX2 AVX512F FMA, in other operations, rebuild TensorFlow with the appropriate compiler flags.\n",
            "2024-11-28 01:24:19.557102: W tensorflow/compiler/tf2tensorrt/utils/py_utils.cc:38] TF-TRT Warning: Could not find TensorRT\n",
            "Generating train split: 10000 examples [00:00, 23844.56 examples/s]\n",
            "Preprocessing data... (this takes a little bit, should only happen once per dataset)\n",
            "Map (num_proc=2): 100% 10000/10000 [00:01<00:00, 6372.65 examples/s]\n",
            "/content/drive/MyDrive/electra/fp-dataset-artifacts-main/run.py:159: FutureWarning: `tokenizer` is deprecated and will be removed in version 5.0.0 for `Trainer.__init__`. Use `processing_class` instead.\n",
            "  trainer = trainer_class(\n",
            "100% 1246/1250 [00:18<00:00, 75.47it/s]\u001b[34m\u001b[1mwandb\u001b[0m: \u001b[33mWARNING\u001b[0m The `run_name` is currently set to the same value as `TrainingArguments.output_dir`. If this was not intended, please specify a different run name by setting the `TrainingArguments.run_name` parameter.\n",
            "\u001b[34m\u001b[1mwandb\u001b[0m: Using wandb-core as the SDK backend.  Please refer to https://wandb.me/wandb-core for more information.\n",
            "\u001b[34m\u001b[1mwandb\u001b[0m: (1) Create a W&B account\n",
            "\u001b[34m\u001b[1mwandb\u001b[0m: (2) Use an existing W&B account\n",
            "\u001b[34m\u001b[1mwandb\u001b[0m: (3) Don't visualize my results\n",
            "100% 1250/1250 [00:30<00:00, 75.47it/s]3\n",
            "\u001b[34m\u001b[1mwandb\u001b[0m: You chose \"Don't visualize my results\"\n",
            "\u001b[34m\u001b[1mwandb\u001b[0m: Tracking run with wandb version 0.18.7\n",
            "\u001b[34m\u001b[1mwandb\u001b[0m: W&B syncing is set to \u001b[1m`offline`\u001b[0m in this directory.  \n",
            "\u001b[34m\u001b[1mwandb\u001b[0m: Run \u001b[1m`wandb online`\u001b[0m or set \u001b[1mWANDB_MODE=online\u001b[0m to enable cloud syncing.\n",
            "100% 1250/1250 [00:49<00:00, 25.20it/s]\n",
            "Evaluation results:\n",
            "{'eval_loss': 1.9199998378753662, 'eval_model_preparation_time': 0.0033, 'eval_accuracy': 0.5289999842643738, 'eval_runtime': 19.8569, 'eval_samples_per_second': 503.604, 'eval_steps_per_second': 62.951}\n",
            "\u001b[1;34mwandb\u001b[0m:\n",
            "\u001b[1;34mwandb\u001b[0m: You can sync this run to the cloud by running:\n",
            "\u001b[1;34mwandb\u001b[0m: \u001b[1mwandb sync /content/drive/MyDrive/wandb/offline-run-20241128_012527-803dhx4n\u001b[0m\n",
            "\u001b[1;34mwandb\u001b[0m: Find logs at: \u001b[1;35mwandb/offline-run-20241128_012527-803dhx4n/logs\u001b[0m\n"
          ]
        }
      ]
    },
    {
      "cell_type": "markdown",
      "source": [
        "Preparing HANS train set"
      ],
      "metadata": {
        "id": "jD6UI2ygX5yJ"
      }
    },
    {
      "cell_type": "code",
      "source": [
        "from datasets import load_dataset\n",
        "\n",
        "\n",
        "\n",
        "import json\n",
        "hans_eval = []  # Initialize an empty list to store JSON objects\n",
        "with open(\"/content/drive/MyDrive/electra/output_analysis/HANS/heuristics_train_set.jsonl\", 'r') as f:\n",
        "    for line in f:  # Read the file line by line\n",
        "        try:\n",
        "            hans = json.loads(line)  # Parse each line as a JSON object\n",
        "            hans_eval.append(hans)  # Add the parsed object to the list\n",
        "        except json.JSONDecodeError as e:\n",
        "            print(f\"Error decoding JSON: {e}, skipping line: {line}\")\n"
      ],
      "metadata": {
        "id": "z9FzFOK8X5Qo"
      },
      "execution_count": 7,
      "outputs": []
    },
    {
      "cell_type": "code",
      "source": [
        "\n",
        "label_map_hans = {\"entailment\": 0, \"non-entailment\": 1}\n",
        "for i in hans_eval:\n",
        "  i[\"label\"] = label_map_hans[i[\"gold_label\"]]\n",
        "print(hans_eval[0])\n"
      ],
      "metadata": {
        "colab": {
          "base_uri": "https://localhost:8080/"
        },
        "id": "IniiEhEmYMDr",
        "outputId": "3fa123db-5687-468f-faf9-4924dbcc4617"
      },
      "execution_count": 8,
      "outputs": [
        {
          "output_type": "stream",
          "name": "stdout",
          "text": [
            "{'heuristic': 'lexical_overlap', 'template': 'temp1', 'sentence1_binary_parse': '( ( The doctors ) ( ( supported ( the scientist ) ) . ) )', 'sentence2_parse': '(ROOT (S (NP (DT The) (NN scientist)) (VP (VBD supported) (NP (DT the) (NNS doctors))) (. .)))', 'subcase': 'ln_subject/object_swap', 'sentence2_binary_parse': '( ( The scientist ) ( ( supported ( the doctors ) ) . ) )', 'sentence1': 'The doctors supported the scientist .', 'sentence2': 'The scientist supported the doctors .', 'sentence1_parse': '(ROOT (S (NP (DT The) (NNS doctors)) (VP (VBD supported) (NP (DT the) (NN scientist))) (. .)))', 'gold_label': 'non-entailment', 'pairID': 'ex0', 'label': 1}\n"
          ]
        }
      ]
    },
    {
      "cell_type": "code",
      "source": [
        "\n",
        "dataset_new = {}\n",
        "print(len(hans_eval))\n",
        "with open('/content/drive/MyDrive/electra/output_analysis/HANS/train_hans_lexical_overlap.json', 'w') as f:\n",
        "  for i in range(len(hans_eval)):\n",
        "     if hans_eval[i]['heuristic'] == 'lexical_overlap' :\n",
        "        if hans_eval[i]['label'] == -1 :\n",
        "          label = 1\n",
        "        else :\n",
        "          label = hans_eval[i]['label']\n",
        "        dataset_new.update( {\n",
        "            'premise' : hans_eval[i]['sentence1']\n",
        "            ,'hypothesis' : hans_eval[i]['sentence2']\n",
        "            , 'label' : label\n",
        "            })\n",
        "\n",
        "        json.dump(dataset_new, f)\n",
        "        f.write('\\n')\n"
      ],
      "metadata": {
        "colab": {
          "base_uri": "https://localhost:8080/"
        },
        "id": "r3sb49HIYSOn",
        "outputId": "cf47cfd3-8fd0-4b01-a71b-16cd23ca5e00"
      },
      "execution_count": 9,
      "outputs": [
        {
          "output_type": "stream",
          "name": "stdout",
          "text": [
            "30000\n"
          ]
        }
      ]
    },
    {
      "cell_type": "code",
      "source": [
        "from datasets import Dataset\n",
        "#print(hans_eval)\n",
        "hans_dataset = Dataset.from_list(hans_eval)"
      ],
      "metadata": {
        "id": "wwieDCtwZixE"
      },
      "execution_count": 19,
      "outputs": []
    },
    {
      "cell_type": "code",
      "source": [
        "print( hans_dataset)"
      ],
      "metadata": {
        "colab": {
          "base_uri": "https://localhost:8080/"
        },
        "id": "1jJT4CpyaNiu",
        "outputId": "507e9c1c-89f3-4f28-ba84-21b00364c0c2"
      },
      "execution_count": 20,
      "outputs": [
        {
          "output_type": "stream",
          "name": "stdout",
          "text": [
            "Dataset({\n",
            "    features: ['heuristic', 'template', 'sentence1_binary_parse', 'sentence2_parse', 'subcase', 'sentence2_binary_parse', 'sentence1', 'sentence2', 'sentence1_parse', 'gold_label', 'pairID', 'label'],\n",
            "    num_rows: 30000\n",
            "})\n"
          ]
        }
      ]
    },
    {
      "cell_type": "markdown",
      "source": [
        "Fine-tune pretrained model on HANS Train set"
      ],
      "metadata": {
        "id": "FBdM59EGYhkq"
      }
    },
    {
      "cell_type": "code",
      "source": [
        "import pandas as pd\n",
        "from datasets import Dataset\n",
        "from transformers import AutoTokenizer, AutoModelForSequenceClassification, Trainer, TrainingArguments\n",
        "from datasets import load_dataset\n",
        "\n",
        "# Step 1: Load the HANS dataset\n",
        "# Convert to Hugging Face Dataset\n",
        "hans_dataset = Dataset.from_list(hans_eval)\n",
        "\n",
        "# Step 2: Load the Tokenizer\n",
        "# Replace 'google/electra-base-discriminator' with your model's tokenizer if different\n",
        "# Load Electra Small model and tokenizer\n",
        "model_name = \"/content/drive/MyDrive/electra/trained_model/\"\n",
        "tokenizer = AutoTokenizer.from_pretrained(model_name)\n",
        "#model = AutoModelForSequenceClassification.from_pretrained(model_name)  # 3 labels for SNLI\n",
        "\n",
        "# Tokenize the HANS dataset\n",
        "def preprocess(example):\n",
        "    return tokenizer(\n",
        "        example[\"sentence1\"],\n",
        "        example[\"sentence2\"],\n",
        "        truncation=True,\n",
        "        padding=\"max_length\",\n",
        "        max_length=128,\n",
        "    )\n",
        "\n",
        "tokenized_hans = hans_dataset.map(preprocess, batched=True)\n",
        "\n",
        "# Step 3: Split the Dataset (Optional)\n",
        "# Use 90% for training and 10% for validation\n",
        "split_data = tokenized_hans.train_test_split(test_size=0.1)\n",
        "train_dataset = split_data[\"train\"]\n",
        "eval_dataset = split_data[\"test\"]\n",
        "\n",
        "# Step 4: Load the Pretrained Model\n",
        "# Replace '/path/to/your/pretrained_model' with the directory where your model is saved\n",
        "model = AutoModelForSequenceClassification.from_pretrained(\n",
        "    model_name,  # Path to your pretrained model\n",
        "    num_labels=3  # HANS has 2 labels: entailment and non-entailment\n",
        ")\n",
        "\n",
        "# Step 5: Define Training Arguments\n",
        "training_args = TrainingArguments(\n",
        "    output_dir=\"/content/drive/MyDrive/electra/output_analysis/HANS/output/\",  # Directory to save the fine-tuned model\n",
        "    evaluation_strategy=\"epoch\",          # Evaluate at the end of each epoch\n",
        "    save_strategy=\"epoch\",                # Save the model at the end of each epoch\n",
        "    learning_rate=5e-6,                   # Fine-tuning learning rate\n",
        "    per_device_train_batch_size=16,       # Adjust based on GPU memory\n",
        "    per_device_eval_batch_size=16,\n",
        "    num_train_epochs=3,                   # Number of fine-tuning epochs\n",
        "    weight_decay=0.01,                    # Regularization\n",
        "    logging_dir=\"./hans_logs\",                 # Directory for logs\n",
        "    logging_steps=100,                    # Log every 100 steps\n",
        "    save_total_limit=2,                   # Keep only the last 2 checkpoints\n",
        "    load_best_model_at_end=True,          # Load the best model after training\n",
        "    fp16=True                             # Enable mixed precision for faster training\n",
        ")\n",
        "\n",
        "# Step 6: Define the Trainer\n",
        "trainer = Trainer(\n",
        "    model=model,\n",
        "    args=training_args,\n",
        "    train_dataset=train_dataset,\n",
        "    eval_dataset=eval_dataset,\n",
        "    tokenizer=tokenizer,\n",
        ")\n",
        "\n",
        "# Step 7: Start Fine-tuning\n",
        "trainer.train()\n",
        "\n",
        "# Step 8: Save the Fine-tuned Model\n",
        "trainer.save_model(\"/content/drive/MyDrive/electra/output_analysis/HANS/model/hans_fine_tuned_model\")\n",
        "tokenizer.save_pretrained(\"/content/drive/MyDrive/electra/output_analysis/HANS/model/hans_fine_tuned_model\")\n"
      ],
      "metadata": {
        "colab": {
          "base_uri": "https://localhost:8080/",
          "height": 600,
          "referenced_widgets": [
            "ae4127bddfb84a55b51b1bacf6509832",
            "9de6dccc2e8b4aa9ade18b66d76f5076",
            "754d4dc3d9b34fa58388692f07b6a1b5",
            "f31740771f8a4e08a351acddf7378d53",
            "7fde8d9cc6fb458a840b16874072436c",
            "dac290918acc44108305c68a241e8372",
            "68921ca62ac54f1386c74645feca909d",
            "4407dde8747845ec87a97bea5ec04312",
            "ecfc2c80e4b941e18eb00d231fe914f8",
            "c5201ecbe0964a44831fc71e1b2b361d",
            "4ac668eb416d431b913e1f786e7ee564"
          ]
        },
        "id": "pdOtAQTwYbfJ",
        "outputId": "aef183e8-8fde-4c66-9814-af39909bca1e"
      },
      "execution_count": 22,
      "outputs": [
        {
          "output_type": "display_data",
          "data": {
            "text/plain": [
              "Map:   0%|          | 0/30000 [00:00<?, ? examples/s]"
            ],
            "application/vnd.jupyter.widget-view+json": {
              "version_major": 2,
              "version_minor": 0,
              "model_id": "ae4127bddfb84a55b51b1bacf6509832"
            }
          },
          "metadata": {}
        },
        {
          "output_type": "stream",
          "name": "stderr",
          "text": [
            "/usr/local/lib/python3.10/dist-packages/transformers/training_args.py:1568: FutureWarning: `evaluation_strategy` is deprecated and will be removed in version 4.46 of 🤗 Transformers. Use `eval_strategy` instead\n",
            "  warnings.warn(\n",
            "<ipython-input-22-2b0c8d6d0f17>:60: FutureWarning: `tokenizer` is deprecated and will be removed in version 5.0.0 for `Trainer.__init__`. Use `processing_class` instead.\n",
            "  trainer = Trainer(\n",
            "\u001b[34m\u001b[1mwandb\u001b[0m: \u001b[33mWARNING\u001b[0m The `run_name` is currently set to the same value as `TrainingArguments.output_dir`. If this was not intended, please specify a different run name by setting the `TrainingArguments.run_name` parameter.\n",
            "\u001b[34m\u001b[1mwandb\u001b[0m: Using wandb-core as the SDK backend.  Please refer to https://wandb.me/wandb-core for more information.\n"
          ]
        },
        {
          "output_type": "display_data",
          "data": {
            "text/plain": [
              "<IPython.core.display.Javascript object>"
            ],
            "application/javascript": [
              "\n",
              "        window._wandbApiKey = new Promise((resolve, reject) => {\n",
              "            function loadScript(url) {\n",
              "            return new Promise(function(resolve, reject) {\n",
              "                let newScript = document.createElement(\"script\");\n",
              "                newScript.onerror = reject;\n",
              "                newScript.onload = resolve;\n",
              "                document.body.appendChild(newScript);\n",
              "                newScript.src = url;\n",
              "            });\n",
              "            }\n",
              "            loadScript(\"https://cdn.jsdelivr.net/npm/postmate/build/postmate.min.js\").then(() => {\n",
              "            const iframe = document.createElement('iframe')\n",
              "            iframe.style.cssText = \"width:0;height:0;border:none\"\n",
              "            document.body.appendChild(iframe)\n",
              "            const handshake = new Postmate({\n",
              "                container: iframe,\n",
              "                url: 'https://wandb.ai/authorize'\n",
              "            });\n",
              "            const timeout = setTimeout(() => reject(\"Couldn't auto authenticate\"), 5000)\n",
              "            handshake.then(function(child) {\n",
              "                child.on('authorize', data => {\n",
              "                    clearTimeout(timeout)\n",
              "                    resolve(data)\n",
              "                });\n",
              "            });\n",
              "            })\n",
              "        });\n",
              "    "
            ]
          },
          "metadata": {}
        },
        {
          "output_type": "stream",
          "name": "stderr",
          "text": [
            "\u001b[34m\u001b[1mwandb\u001b[0m: Logging into wandb.ai. (Learn how to deploy a W&B server locally: https://wandb.me/wandb-server)\n",
            "\u001b[34m\u001b[1mwandb\u001b[0m: You can find your API key in your browser here: https://wandb.ai/authorize\n",
            "wandb: Paste an API key from your profile and hit enter, or press ctrl+c to quit:"
          ]
        },
        {
          "name": "stdout",
          "output_type": "stream",
          "text": [
            " ··········\n"
          ]
        },
        {
          "output_type": "stream",
          "name": "stderr",
          "text": [
            "\u001b[34m\u001b[1mwandb\u001b[0m: Appending key for api.wandb.ai to your netrc file: /root/.netrc\n"
          ]
        },
        {
          "output_type": "display_data",
          "data": {
            "text/plain": [
              "<IPython.core.display.HTML object>"
            ],
            "text/html": [
              "Tracking run with wandb version 0.18.7"
            ]
          },
          "metadata": {}
        },
        {
          "output_type": "display_data",
          "data": {
            "text/plain": [
              "<IPython.core.display.HTML object>"
            ],
            "text/html": [
              "Run data is saved locally in <code>/content/drive/MyDrive/wandb/run-20241128_014249-c48vegbw</code>"
            ]
          },
          "metadata": {}
        },
        {
          "output_type": "display_data",
          "data": {
            "text/plain": [
              "<IPython.core.display.HTML object>"
            ],
            "text/html": [
              "Syncing run <strong><a href='https://wandb.ai/summiyakhalid-the-university-of-texas-at-austin/huggingface/runs/c48vegbw' target=\"_blank\">/content/drive/MyDrive/electra/output_analysis/HANS/output/</a></strong> to <a href='https://wandb.ai/summiyakhalid-the-university-of-texas-at-austin/huggingface' target=\"_blank\">Weights & Biases</a> (<a href='https://wandb.me/developer-guide' target=\"_blank\">docs</a>)<br/>"
            ]
          },
          "metadata": {}
        },
        {
          "output_type": "display_data",
          "data": {
            "text/plain": [
              "<IPython.core.display.HTML object>"
            ],
            "text/html": [
              " View project at <a href='https://wandb.ai/summiyakhalid-the-university-of-texas-at-austin/huggingface' target=\"_blank\">https://wandb.ai/summiyakhalid-the-university-of-texas-at-austin/huggingface</a>"
            ]
          },
          "metadata": {}
        },
        {
          "output_type": "display_data",
          "data": {
            "text/plain": [
              "<IPython.core.display.HTML object>"
            ],
            "text/html": [
              " View run at <a href='https://wandb.ai/summiyakhalid-the-university-of-texas-at-austin/huggingface/runs/c48vegbw' target=\"_blank\">https://wandb.ai/summiyakhalid-the-university-of-texas-at-austin/huggingface/runs/c48vegbw</a>"
            ]
          },
          "metadata": {}
        },
        {
          "output_type": "display_data",
          "data": {
            "text/plain": [
              "<IPython.core.display.HTML object>"
            ],
            "text/html": [
              "\n",
              "    <div>\n",
              "      \n",
              "      <progress value='5064' max='5064' style='width:300px; height:20px; vertical-align: middle;'></progress>\n",
              "      [5064/5064 05:24, Epoch 3/3]\n",
              "    </div>\n",
              "    <table border=\"1\" class=\"dataframe\">\n",
              "  <thead>\n",
              " <tr style=\"text-align: left;\">\n",
              "      <th>Epoch</th>\n",
              "      <th>Training Loss</th>\n",
              "      <th>Validation Loss</th>\n",
              "    </tr>\n",
              "  </thead>\n",
              "  <tbody>\n",
              "    <tr>\n",
              "      <td>1</td>\n",
              "      <td>0.144100</td>\n",
              "      <td>0.067314</td>\n",
              "    </tr>\n",
              "    <tr>\n",
              "      <td>2</td>\n",
              "      <td>0.095100</td>\n",
              "      <td>0.019517</td>\n",
              "    </tr>\n",
              "    <tr>\n",
              "      <td>3</td>\n",
              "      <td>0.040000</td>\n",
              "      <td>0.014641</td>\n",
              "    </tr>\n",
              "  </tbody>\n",
              "</table><p>"
            ]
          },
          "metadata": {}
        },
        {
          "output_type": "execute_result",
          "data": {
            "text/plain": [
              "('/content/drive/MyDrive/electra/output_analysis/HANS/model/hans_fine_tuned_model/tokenizer_config.json',\n",
              " '/content/drive/MyDrive/electra/output_analysis/HANS/model/hans_fine_tuned_model/special_tokens_map.json',\n",
              " '/content/drive/MyDrive/electra/output_analysis/HANS/model/hans_fine_tuned_model/vocab.txt',\n",
              " '/content/drive/MyDrive/electra/output_analysis/HANS/model/hans_fine_tuned_model/added_tokens.json',\n",
              " '/content/drive/MyDrive/electra/output_analysis/HANS/model/hans_fine_tuned_model/tokenizer.json')"
            ]
          },
          "metadata": {},
          "execution_count": 22
        }
      ]
    },
    {
      "cell_type": "markdown",
      "source": [
        "# Function to generate Error Classes from Eval_predictions.json"
      ],
      "metadata": {
        "id": "PTegDuLh6srC"
      }
    },
    {
      "cell_type": "code",
      "source": [
        "import numpy as np\n",
        "import pandas as pd\n",
        "from datasets import Dataset\n",
        "import json\n",
        "\n",
        "\n",
        "def load_jsonl_predictions(file_path):\n",
        "      json_dataset = []  # Initialize an empty list to store JSON objects\n",
        "      with open(file_path, 'r') as f:\n",
        "          for line in f:  # Read the file line by line\n",
        "              try:\n",
        "                  data = json.loads(line)  # Parse each line as a JSON object\n",
        "                  json_dataset.append(data)  # Add the parsed object to the list\n",
        "              except json.JSONDecodeError as e:\n",
        "                  print(f\"Error decoding JSON: {e}, skipping line: {line}\")\n",
        "\n",
        "      dataset = Dataset.from_list(json_dataset)\n",
        "      # Example Data (Replace with actual data)\n",
        "      data = json_dataset\n",
        "\n",
        "      num_classes = 3  # Number of label classes\n",
        "\n",
        "\n",
        "\n",
        "      def token_overlap_ratio(premise, hypothesis):\n",
        "          premise_tokens = set(premise.split())\n",
        "          hypothesis_tokens = set(hypothesis.split())\n",
        "          intersection = len(premise_tokens & hypothesis_tokens)\n",
        "          return intersection / len(premise_tokens)\n",
        "\n",
        "      # Define Error Classes\n",
        "      error_classes = {\n",
        "          \"Negation\": lambda x: any(word in x[\"premise\"].split(\" \") + x[\"hypothesis\"].split(\" \") for word in [\"not\", \"no\", \"never\", \"without\"]),\n",
        "          \"Coreference\": lambda x: any(word in x[\"hypothesis\"] for word in [\"he\", \"she\", \"it\", \"they\"]),\n",
        "          \"Rare Words\": lambda x: any(word in x[\"premise\"] for word in [\"Higgs\", \"boson\", \"quantum\"]),\n",
        "          \"Ambiguity\": lambda x: any(word in x[\"hypothesis\"] for word in [\"something\", \"someone\", \"several\"]),\n",
        "          \"Long Sentences\": lambda x: len(x[\"premise\"].split()) > 10 or len(x[\"hypothesis\"].split()) > 10,\n",
        "          \"High Lexical Overlap\": lambda x: token_overlap_ratio(x[\"premise\"], x[\"hypothesis\"]) > 0.7,\n",
        "      }\n",
        "\n",
        "\n",
        "\n",
        "      # Initialize Counters\n",
        "      error_counts = {cls: 0 for cls in error_classes}\n",
        "      total_counts = {cls: 0 for cls in error_classes}\n",
        "      error_examples = {cls: [] for cls in error_classes}\n",
        "\n",
        "      # Process Examples\n",
        "      for example in data:\n",
        "          true_label = example['label']\n",
        "          predicted_label = example['predicted_label']\n",
        "          is_error = true_label != predicted_label  # Check if the prediction is incorrect\n",
        "\n",
        "          for cls, rule in error_classes.items():\n",
        "              if rule(example):  # Check if example matches the error class\n",
        "                  total_counts[cls] += 1\n",
        "                  if is_error:\n",
        "                      error_counts[cls] += 1\n",
        "                      error_examples[cls].append(example)\n",
        "\n",
        "      # Calculate Metrics\n",
        "      error_rates = {cls: (error_counts[cls] / total_counts[cls] * 100 if total_counts[cls] > 0 else 0) for cls in error_classes}\n",
        "      frequencies = {cls: (total_counts[cls] / len(data) * 100) for cls in error_classes}\n",
        "\n",
        "      # Create Summary Table\n",
        "      summary_table = pd.DataFrame({\n",
        "          \"Error Class\": list(error_classes.keys()),\n",
        "          \"Frequency (%)\": [frequencies[cls] for cls in error_classes],\n",
        "          \"Error Rate (%)\": [error_rates[cls] for cls in error_classes],\n",
        "          \"Error Count\": [error_counts[cls] for cls in error_classes],\n",
        "          \"Total Count\": [total_counts[cls] for cls in error_classes],\n",
        "      })\n",
        "\n",
        "      # Display Results\n",
        "      print(summary_table)\n"
      ],
      "metadata": {
        "id": "SxzveFiF5so0"
      },
      "execution_count": 5,
      "outputs": []
    },
    {
      "cell_type": "markdown",
      "source": [
        "Model fine tuned on HANS and evaluated on HANS dataset"
      ],
      "metadata": {
        "id": "om_W0Idwd3Z_"
      }
    },
    {
      "cell_type": "code",
      "source": [
        "!python3 /content/drive/MyDrive/electra/fp-dataset-artifacts-main/run.py --do_eval --task nli --dataset /content/drive/MyDrive/electra/output_analysis/HANS/eval_hans_lexical_overlap.json --model /content/drive/MyDrive/electra/output_analysis/HANS/output/checkpoint-5064/ --output_dir /content/drive/MyDrive/electra/output_analysis/HANS/output/eval/"
      ],
      "metadata": {
        "colab": {
          "base_uri": "https://localhost:8080/"
        },
        "id": "0C0XM8UEdK7I",
        "outputId": "a98092c0-dd3c-4129-920f-1b2da38ab05f"
      },
      "execution_count": 23,
      "outputs": [
        {
          "output_type": "stream",
          "name": "stdout",
          "text": [
            "2024-11-28 01:50:46.490650: E external/local_xla/xla/stream_executor/cuda/cuda_fft.cc:485] Unable to register cuFFT factory: Attempting to register factory for plugin cuFFT when one has already been registered\n",
            "2024-11-28 01:50:46.510002: E external/local_xla/xla/stream_executor/cuda/cuda_dnn.cc:8454] Unable to register cuDNN factory: Attempting to register factory for plugin cuDNN when one has already been registered\n",
            "2024-11-28 01:50:46.515838: E external/local_xla/xla/stream_executor/cuda/cuda_blas.cc:1452] Unable to register cuBLAS factory: Attempting to register factory for plugin cuBLAS when one has already been registered\n",
            "2024-11-28 01:50:47.533187: W tensorflow/compiler/tf2tensorrt/utils/py_utils.cc:38] TF-TRT Warning: Could not find TensorRT\n",
            "Preprocessing data... (this takes a little bit, should only happen once per dataset)\n",
            "Map (num_proc=2): 100% 10000/10000 [00:01<00:00, 6739.96 examples/s]\n",
            "/content/drive/MyDrive/electra/fp-dataset-artifacts-main/run.py:159: FutureWarning: `tokenizer` is deprecated and will be removed in version 5.0.0 for `Trainer.__init__`. Use `processing_class` instead.\n",
            "  trainer = trainer_class(\n",
            "100% 1246/1250 [00:25<00:00, 59.97it/s]\u001b[34m\u001b[1mwandb\u001b[0m: \u001b[33mWARNING\u001b[0m The `run_name` is currently set to the same value as `TrainingArguments.output_dir`. If this was not intended, please specify a different run name by setting the `TrainingArguments.run_name` parameter.\n",
            "\u001b[34m\u001b[1mwandb\u001b[0m: Currently logged in as: \u001b[33msummiyakhalid\u001b[0m (\u001b[33msummiyakhalid-the-university-of-texas-at-austin\u001b[0m). Use \u001b[1m`wandb login --relogin`\u001b[0m to force relogin\n",
            "\u001b[34m\u001b[1mwandb\u001b[0m: Tracking run with wandb version 0.18.7\n",
            "\u001b[34m\u001b[1mwandb\u001b[0m: Run data is saved locally in \u001b[35m\u001b[1m/content/drive/MyDrive/wandb/run-20241128_015118-lvk0l2ug\u001b[0m\n",
            "\u001b[34m\u001b[1mwandb\u001b[0m: Run \u001b[1m`wandb offline`\u001b[0m to turn off syncing.\n",
            "\u001b[34m\u001b[1mwandb\u001b[0m: Syncing run \u001b[33m/content/drive/MyDrive/electra/output_analysis/HANS/output/eval/\u001b[0m\n",
            "\u001b[34m\u001b[1mwandb\u001b[0m: ⭐️ View project at \u001b[34m\u001b[4mhttps://wandb.ai/summiyakhalid-the-university-of-texas-at-austin/huggingface\u001b[0m\n",
            "\u001b[34m\u001b[1mwandb\u001b[0m: 🚀 View run at \u001b[34m\u001b[4mhttps://wandb.ai/summiyakhalid-the-university-of-texas-at-austin/huggingface/runs/lvk0l2ug\u001b[0m\n",
            "100% 1250/1250 [00:26<00:00, 47.46it/s]\n",
            "Evaluation results:\n",
            "{'eval_loss': 0.03889640048146248, 'eval_model_preparation_time': 0.0037, 'eval_accuracy': 0.991599977016449, 'eval_runtime': 25.9946, 'eval_samples_per_second': 384.695, 'eval_steps_per_second': 48.087}\n"
          ]
        }
      ]
    },
    {
      "cell_type": "markdown",
      "source": [
        "Testing HANS fine-tuned model on SNLI"
      ],
      "metadata": {
        "id": "kavwFiwTeVNI"
      }
    },
    {
      "cell_type": "code",
      "source": [
        "!python3 /content/drive/MyDrive/electra/fp-dataset-artifacts-main/run.py --do_eval --task nli --dataset snli --model /content/drive/MyDrive/electra/output_analysis/HANS/output/checkpoint-5064/ --output_dir /content/drive/MyDrive/electra/output_analysis/HANS"
      ],
      "metadata": {
        "colab": {
          "base_uri": "https://localhost:8080/"
        },
        "id": "KJzxlGmdd2oL",
        "outputId": "f9b0282c-78e7-4393-edca-37a12c17056a"
      },
      "execution_count": 3,
      "outputs": [
        {
          "output_type": "stream",
          "name": "stdout",
          "text": [
            "2024-11-28 02:03:58.306060: E external/local_xla/xla/stream_executor/cuda/cuda_fft.cc:485] Unable to register cuFFT factory: Attempting to register factory for plugin cuFFT when one has already been registered\n",
            "2024-11-28 02:03:58.325660: E external/local_xla/xla/stream_executor/cuda/cuda_dnn.cc:8454] Unable to register cuDNN factory: Attempting to register factory for plugin cuDNN when one has already been registered\n",
            "2024-11-28 02:03:58.331581: E external/local_xla/xla/stream_executor/cuda/cuda_blas.cc:1452] Unable to register cuBLAS factory: Attempting to register factory for plugin cuBLAS when one has already been registered\n",
            "2024-11-28 02:03:58.345949: I tensorflow/core/platform/cpu_feature_guard.cc:210] This TensorFlow binary is optimized to use available CPU instructions in performance-critical operations.\n",
            "To enable the following instructions: AVX2 AVX512F FMA, in other operations, rebuild TensorFlow with the appropriate compiler flags.\n",
            "2024-11-28 02:03:59.663388: W tensorflow/compiler/tf2tensorrt/utils/py_utils.cc:38] TF-TRT Warning: Could not find TensorRT\n",
            "README.md: 100% 16.0k/16.0k [00:00<00:00, 77.8MB/s]\n",
            "test-00000-of-00001.parquet: 100% 412k/412k [00:00<00:00, 11.2MB/s]\n",
            "validation-00000-of-00001.parquet: 100% 413k/413k [00:00<00:00, 75.3MB/s]\n",
            "train-00000-of-00001.parquet: 100% 19.6M/19.6M [00:00<00:00, 177MB/s]\n",
            "Generating test split: 100% 10000/10000 [00:00<00:00, 217994.64 examples/s]\n",
            "Generating validation split: 100% 10000/10000 [00:00<00:00, 1022527.12 examples/s]\n",
            "Generating train split: 100% 550152/550152 [00:00<00:00, 1195944.70 examples/s]\n",
            "Preprocessing data... (this takes a little bit, should only happen once per dataset)\n",
            "Filter: 100% 10000/10000 [00:00<00:00, 148623.51 examples/s]\n",
            "Filter: 100% 10000/10000 [00:00<00:00, 250767.01 examples/s]\n",
            "Filter: 100% 550152/550152 [00:02<00:00, 253954.02 examples/s]\n",
            "Map (num_proc=2): 100% 9842/9842 [00:01<00:00, 5902.25 examples/s]\n",
            "/content/drive/MyDrive/electra/fp-dataset-artifacts-main/run.py:159: FutureWarning: `tokenizer` is deprecated and will be removed in version 5.0.0 for `Trainer.__init__`. Use `processing_class` instead.\n",
            "  trainer = trainer_class(\n",
            "100% 1227/1231 [00:18<00:00, 52.02it/s]\u001b[34m\u001b[1mwandb\u001b[0m: \u001b[33mWARNING\u001b[0m The `run_name` is currently set to the same value as `TrainingArguments.output_dir`. If this was not intended, please specify a different run name by setting the `TrainingArguments.run_name` parameter.\n",
            "\u001b[34m\u001b[1mwandb\u001b[0m: Using wandb-core as the SDK backend.  Please refer to https://wandb.me/wandb-core for more information.\n",
            "\u001b[34m\u001b[1mwandb\u001b[0m: (1) Create a W&B account\n",
            "\u001b[34m\u001b[1mwandb\u001b[0m: (2) Use an existing W&B account\n",
            "\u001b[34m\u001b[1mwandb\u001b[0m: (3) Don't visualize my results\n",
            "\u001b[34m\u001b[1mwandb\u001b[0m: Enter your choice: 3\n",
            "\u001b[34m\u001b[1mwandb\u001b[0m: You chose \"Don't visualize my results\"\n",
            "\u001b[34m\u001b[1mwandb\u001b[0m: Tracking run with wandb version 0.18.7\n",
            "\u001b[34m\u001b[1mwandb\u001b[0m: W&B syncing is set to \u001b[1m`offline`\u001b[0m in this directory.  \n",
            "\u001b[34m\u001b[1mwandb\u001b[0m: Run \u001b[1m`wandb online`\u001b[0m or set \u001b[1mWANDB_MODE=online\u001b[0m to enable cloud syncing.\n",
            "100% 1231/1231 [00:24<00:00, 50.66it/s]\n",
            "Evaluation results:\n",
            "{'eval_loss': 0.6827108263969421, 'eval_model_preparation_time': 0.0031, 'eval_accuracy': 0.874923825263977, 'eval_runtime': 19.5931, 'eval_samples_per_second': 502.319, 'eval_steps_per_second': 62.828}\n",
            "\u001b[1;34mwandb\u001b[0m:\n",
            "\u001b[1;34mwandb\u001b[0m: You can sync this run to the cloud by running:\n",
            "\u001b[1;34mwandb\u001b[0m: \u001b[1mwandb sync /content/drive/MyDrive/wandb/offline-run-20241128_020448-hb32eknd\u001b[0m\n",
            "\u001b[1;34mwandb\u001b[0m: Find logs at: \u001b[1;35mwandb/offline-run-20241128_020448-hb32eknd/logs\u001b[0m\n"
          ]
        }
      ]
    },
    {
      "cell_type": "markdown",
      "source": [
        "Reloading Eval predictions"
      ],
      "metadata": {
        "id": "M8dMy42GhBTE"
      }
    },
    {
      "cell_type": "code",
      "source": [
        "import json\n",
        "json_dataset = []  # Initialize an empty list to store JSON objects\n",
        "with open(\"/content/drive/MyDrive/electra/output_analysis/HANS/eval_predictions.jsonl\", 'r') as f:\n",
        "    for line in f:  # Read the file line by line\n",
        "        try:\n",
        "            data = json.loads(line)  # Parse each line as a JSON object\n",
        "            json_dataset.append(data)  # Add the parsed object to the list\n",
        "        except json.JSONDecodeError as e:\n",
        "            print(f\"Error decoding JSON: {e}, skipping line: {line}\")"
      ],
      "metadata": {
        "id": "zeNIAik0hAhW"
      },
      "execution_count": 4,
      "outputs": []
    },
    {
      "cell_type": "markdown",
      "source": [
        "**Testing pretrained model on ambiguous top 33 percent examples**"
      ],
      "metadata": {
        "id": "qTw5xaCz3q33"
      }
    },
    {
      "cell_type": "code",
      "source": [
        "!python3 /content/drive/MyDrive/electra/fp-dataset-artifacts-main/run.py --do_eval --task nli --dataset /content/drive/MyDrive/electra/cartography/datasets/ambiguous_dataset_33_percent.json --model /content/drive/MyDrive/electra/trained_model/ --output_dir /content/drive/MyDrive/electra/output_analysis/HANS"
      ],
      "metadata": {
        "colab": {
          "base_uri": "https://localhost:8080/"
        },
        "id": "eH6CTfKs3dkr",
        "outputId": "19d7a56f-2bbd-4271-977c-59c955c2b79a"
      },
      "execution_count": 3,
      "outputs": [
        {
          "output_type": "stream",
          "name": "stdout",
          "text": [
            "2024-11-28 03:48:20.564616: E external/local_xla/xla/stream_executor/cuda/cuda_fft.cc:485] Unable to register cuFFT factory: Attempting to register factory for plugin cuFFT when one has already been registered\n",
            "2024-11-28 03:48:20.640097: E external/local_xla/xla/stream_executor/cuda/cuda_dnn.cc:8454] Unable to register cuDNN factory: Attempting to register factory for plugin cuDNN when one has already been registered\n",
            "2024-11-28 03:48:20.680674: E external/local_xla/xla/stream_executor/cuda/cuda_blas.cc:1452] Unable to register cuBLAS factory: Attempting to register factory for plugin cuBLAS when one has already been registered\n",
            "2024-11-28 03:48:20.736094: I tensorflow/core/platform/cpu_feature_guard.cc:210] This TensorFlow binary is optimized to use available CPU instructions in performance-critical operations.\n",
            "To enable the following instructions: AVX2 AVX512F FMA, in other operations, rebuild TensorFlow with the appropriate compiler flags.\n",
            "2024-11-28 03:48:24.255921: W tensorflow/compiler/tf2tensorrt/utils/py_utils.cc:38] TF-TRT Warning: Could not find TensorRT\n",
            "Generating train split: 25200 examples [00:00, 28482.23 examples/s]\n",
            "Preprocessing data... (this takes a little bit, should only happen once per dataset)\n",
            "Map (num_proc=2): 100% 25200/25200 [00:03<00:00, 6380.37 examples/s]\n",
            "/content/drive/MyDrive/electra/fp-dataset-artifacts-main/run.py:159: FutureWarning: `tokenizer` is deprecated and will be removed in version 5.0.0 for `Trainer.__init__`. Use `processing_class` instead.\n",
            "  trainer = trainer_class(\n",
            "100% 3150/3150 [00:46<00:00, 75.59it/s]\u001b[34m\u001b[1mwandb\u001b[0m: \u001b[33mWARNING\u001b[0m The `run_name` is currently set to the same value as `TrainingArguments.output_dir`. If this was not intended, please specify a different run name by setting the `TrainingArguments.run_name` parameter.\n",
            "\u001b[34m\u001b[1mwandb\u001b[0m: Using wandb-core as the SDK backend.  Please refer to https://wandb.me/wandb-core for more information.\n",
            "\u001b[34m\u001b[1mwandb\u001b[0m: (1) Create a W&B account\n",
            "\u001b[34m\u001b[1mwandb\u001b[0m: (2) Use an existing W&B account\n",
            "\u001b[34m\u001b[1mwandb\u001b[0m: (3) Don't visualize my results\n",
            "\u001b[34m\u001b[1mwandb\u001b[0m: Enter your choice: 3\n",
            "\u001b[34m\u001b[1mwandb\u001b[0m: You chose \"Don't visualize my results\"\n",
            "\u001b[34m\u001b[1mwandb\u001b[0m: Tracking run with wandb version 0.18.7\n",
            "\u001b[34m\u001b[1mwandb\u001b[0m: W&B syncing is set to \u001b[1m`offline`\u001b[0m in this directory.  \n",
            "\u001b[34m\u001b[1mwandb\u001b[0m: Run \u001b[1m`wandb online`\u001b[0m or set \u001b[1mWANDB_MODE=online\u001b[0m to enable cloud syncing.\n",
            "100% 3150/3150 [00:52<00:00, 59.95it/s]\n",
            "Evaluation results:\n",
            "{'eval_loss': 0.5907830595970154, 'eval_model_preparation_time': 0.0034, 'eval_accuracy': 0.8019444346427917, 'eval_runtime': 48.3199, 'eval_samples_per_second': 521.525, 'eval_steps_per_second': 65.191}\n",
            "\u001b[1;34mwandb\u001b[0m:\n",
            "\u001b[1;34mwandb\u001b[0m: You can sync this run to the cloud by running:\n",
            "\u001b[1;34mwandb\u001b[0m: \u001b[1mwandb sync /content/drive/MyDrive/wandb/offline-run-20241128_034938-n8nsl3az\u001b[0m\n",
            "\u001b[1;34mwandb\u001b[0m: Find logs at: \u001b[1;35mwandb/offline-run-20241128_034938-n8nsl3az/logs\u001b[0m\n"
          ]
        }
      ]
    },
    {
      "cell_type": "markdown",
      "source": [
        "**Testing HANS Fine-tuned model on ambiguous top 33 percent examples**"
      ],
      "metadata": {
        "id": "_rBpJTE33y13"
      }
    },
    {
      "cell_type": "code",
      "source": [
        "!python3 /content/drive/MyDrive/electra/fp-dataset-artifacts-main/run.py --do_eval --task nli --dataset /content/drive/MyDrive/electra/cartography/datasets/ambiguous_dataset_33_percent.json --model /content/drive/MyDrive/electra/output_analysis/HANS/output/checkpoint-5064/ --output_dir /content/drive/MyDrive/electra/output_analysis/HANS"
      ],
      "metadata": {
        "colab": {
          "base_uri": "https://localhost:8080/"
        },
        "id": "3ZMM5u5w3qVK",
        "outputId": "f126a1df-ab80-42f4-d009-0da387f5c2e7"
      },
      "execution_count": 4,
      "outputs": [
        {
          "output_type": "stream",
          "name": "stdout",
          "text": [
            "2024-11-28 03:50:35.152796: E external/local_xla/xla/stream_executor/cuda/cuda_fft.cc:485] Unable to register cuFFT factory: Attempting to register factory for plugin cuFFT when one has already been registered\n",
            "2024-11-28 03:50:35.172246: E external/local_xla/xla/stream_executor/cuda/cuda_dnn.cc:8454] Unable to register cuDNN factory: Attempting to register factory for plugin cuDNN when one has already been registered\n",
            "2024-11-28 03:50:35.178205: E external/local_xla/xla/stream_executor/cuda/cuda_blas.cc:1452] Unable to register cuBLAS factory: Attempting to register factory for plugin cuBLAS when one has already been registered\n",
            "2024-11-28 03:50:35.192321: I tensorflow/core/platform/cpu_feature_guard.cc:210] This TensorFlow binary is optimized to use available CPU instructions in performance-critical operations.\n",
            "To enable the following instructions: AVX2 AVX512F FMA, in other operations, rebuild TensorFlow with the appropriate compiler flags.\n",
            "2024-11-28 03:50:36.218714: W tensorflow/compiler/tf2tensorrt/utils/py_utils.cc:38] TF-TRT Warning: Could not find TensorRT\n",
            "Preprocessing data... (this takes a little bit, should only happen once per dataset)\n",
            "Map (num_proc=2): 100% 25200/25200 [00:06<00:00, 3786.71 examples/s]\n",
            "/content/drive/MyDrive/electra/fp-dataset-artifacts-main/run.py:159: FutureWarning: `tokenizer` is deprecated and will be removed in version 5.0.0 for `Trainer.__init__`. Use `processing_class` instead.\n",
            "  trainer = trainer_class(\n",
            "100% 3143/3150 [00:45<00:00, 78.63it/s]\u001b[34m\u001b[1mwandb\u001b[0m: \u001b[33mWARNING\u001b[0m The `run_name` is currently set to the same value as `TrainingArguments.output_dir`. If this was not intended, please specify a different run name by setting the `TrainingArguments.run_name` parameter.\n",
            "\u001b[34m\u001b[1mwandb\u001b[0m: Using wandb-core as the SDK backend.  Please refer to https://wandb.me/wandb-core for more information.\n",
            "\u001b[34m\u001b[1mwandb\u001b[0m: (1) Create a W&B account\n",
            "\u001b[34m\u001b[1mwandb\u001b[0m: (2) Use an existing W&B account\n",
            "\u001b[34m\u001b[1mwandb\u001b[0m: (3) Don't visualize my results\n",
            "\u001b[34m\u001b[1mwandb\u001b[0m: Enter your choice: 3\n",
            "\u001b[34m\u001b[1mwandb\u001b[0m: You chose \"Don't visualize my results\"\n",
            "\u001b[34m\u001b[1mwandb\u001b[0m: Tracking run with wandb version 0.18.7\n",
            "\u001b[34m\u001b[1mwandb\u001b[0m: W&B syncing is set to \u001b[1m`offline`\u001b[0m in this directory.  \n",
            "\u001b[34m\u001b[1mwandb\u001b[0m: Run \u001b[1m`wandb online`\u001b[0m or set \u001b[1mWANDB_MODE=online\u001b[0m to enable cloud syncing.\n",
            "100% 3150/3150 [00:50<00:00, 62.26it/s]\n",
            "Evaluation results:\n",
            "{'eval_loss': 1.4169611930847168, 'eval_model_preparation_time': 0.0031, 'eval_accuracy': 0.700436532497406, 'eval_runtime': 46.3384, 'eval_samples_per_second': 543.826, 'eval_steps_per_second': 67.978}\n",
            "\u001b[1;34mwandb\u001b[0m:\n",
            "\u001b[1;34mwandb\u001b[0m: You can sync this run to the cloud by running:\n",
            "\u001b[1;34mwandb\u001b[0m: \u001b[1mwandb sync /content/drive/MyDrive/wandb/offline-run-20241128_035143-3t09tv1n\u001b[0m\n",
            "\u001b[1;34mwandb\u001b[0m: Find logs at: \u001b[1;35mwandb/offline-run-20241128_035143-3t09tv1n/logs\u001b[0m\n"
          ]
        }
      ]
    },
    {
      "cell_type": "markdown",
      "source": [
        "Error Categories for Pretrained Model"
      ],
      "metadata": {
        "id": "ubybHgrZ6P3J"
      }
    },
    {
      "cell_type": "code",
      "source": [
        "\n",
        "load_jsonl_predictions(\"/content/drive/MyDrive/electra/output_analysis/HANS/amb33_eval_predictions.jsonl\")"
      ],
      "metadata": {
        "colab": {
          "base_uri": "https://localhost:8080/"
        },
        "id": "UDrOlSbF5r8R",
        "outputId": "a8c63b25-afbb-4638-eb58-5c2277bff597"
      },
      "execution_count": 6,
      "outputs": [
        {
          "output_type": "stream",
          "name": "stdout",
          "text": [
            "            Error Class  Frequency (%)  Error Rate (%)  Error Count  \\\n",
            "0              Negation       2.297619       13.816926           80   \n",
            "1           Coreference      69.095238       19.934528         3471   \n",
            "2            Rare Words       0.000000        0.000000            0   \n",
            "3             Ambiguity       1.087302       18.978102           52   \n",
            "4        Long Sentences      64.218254       20.126058         3257   \n",
            "5  High Lexical Overlap       2.908730       22.100955          162   \n",
            "\n",
            "   Total Count  \n",
            "0          579  \n",
            "1        17412  \n",
            "2            0  \n",
            "3          274  \n",
            "4        16183  \n",
            "5          733  \n"
          ]
        }
      ]
    },
    {
      "cell_type": "markdown",
      "source": [
        "Error Categories for HANS Fine-tuned Model"
      ],
      "metadata": {
        "id": "SAgHZ8rR6TFD"
      }
    },
    {
      "cell_type": "code",
      "source": [
        "load_jsonl_predictions(\"/content/drive/MyDrive/electra/output_analysis/HANS/eval_predictions.jsonl\")"
      ],
      "metadata": {
        "colab": {
          "base_uri": "https://localhost:8080/"
        },
        "id": "WAQeifyL6FyC",
        "outputId": "c19a31b3-f09a-4268-9d46-30c3dff0b62e"
      },
      "execution_count": 7,
      "outputs": [
        {
          "output_type": "stream",
          "name": "stdout",
          "text": [
            "            Error Class  Frequency (%)  Error Rate (%)  Error Count  \\\n",
            "0              Negation       2.297619       22.107081          128   \n",
            "1           Coreference      69.095238       30.335401         5282   \n",
            "2            Rare Words       0.000000        0.000000            0   \n",
            "3             Ambiguity       1.087302       32.846715           90   \n",
            "4        Long Sentences      64.218254       30.012977         4857   \n",
            "5  High Lexical Overlap       2.908730       32.878581          241   \n",
            "\n",
            "   Total Count  \n",
            "0          579  \n",
            "1        17412  \n",
            "2            0  \n",
            "3          274  \n",
            "4        16183  \n",
            "5          733  \n"
          ]
        }
      ]
    },
    {
      "cell_type": "code",
      "source": [
        "\n",
        "num_classes = 3  # Number of label classes\n",
        "\n",
        "# Define Error Classes\n",
        "error_classes = {\n",
        "    \"Negation\": lambda x: any(word in x[\"premise\"].split(\" \") + x[\"hypothesis\"].split(\" \") for word in [\"not\", \"no\", \"never\", \"without\"]),\n",
        "    \"Coreference\": lambda x: any(word in x[\"hypothesis\"] for word in [\"he\", \"she\", \"it\", \"they\"]),\n",
        "    \"Rare Words\": lambda x: any(word in x[\"premise\"] for word in [\"Higgs\", \"boson\", \"quantum\"]),\n",
        "    \"Ambiguity\": lambda x: any(word in x[\"hypothesis\"] for word in [\"something\", \"someone\", \"several\"]),\n",
        "    \"Long Sentences\": lambda x: len(x[\"premise\"].split()) > 10 or len(x[\"hypothesis\"].split()) > 10,\n",
        "}\n",
        "\n",
        "# Initialize Counters\n",
        "error_counts = {cls: 0 for cls in error_classes}\n",
        "total_counts = {cls: 0 for cls in error_classes}\n",
        "error_examples = {cls: [] for cls in error_classes}\n",
        "\n",
        "# Process Examples\n",
        "for example in data:\n",
        "    true_label = example['label']\n",
        "    #predicted_label = example['predicted_label']\n",
        "    #is_error = true_label != predicted_label  # Check if the prediction is incorrect\n",
        "\n",
        "    for cls, rule in error_classes.items():\n",
        "        if rule(example):  # Check if example matches the error class\n",
        "            total_counts[cls] += 1\n",
        "            error_examples[cls].append(example)\n",
        "\n",
        "# Calculate Metrics\n",
        "#error_rates = {cls: (error_counts[cls] / total_counts[cls] * 100 if total_counts[cls] > 0 else 0) for cls in error_classes}\n",
        "frequencies = {cls: (total_counts[cls] / len(data) * 100) for cls in error_classes}\n",
        "\n",
        "# Create Summary Table\n",
        "summary_table = pd.DataFrame({\n",
        "    \"Error Class\": list(error_classes.keys()),\n",
        "    \"Frequency (%)\": [frequencies[cls] for cls in error_classes],\n",
        "#    \"Error Rate (%)\": [error_rates[cls] for cls in error_classes],\n",
        "#    \"Error Count\": [error_counts[cls] for cls in error_classes],\n",
        "    \"Total Count\": [total_counts[cls] for cls in error_classes],\n",
        "})\n",
        "\n",
        "# Display Results\n",
        "print(summary_table)\n",
        "\n",
        "output_path = \"/content/drive/MyDrive/electra/output_analysis/\"\n",
        "\n",
        "\n",
        "for k,v in error_examples.items():\n",
        "  with open(output_path + k +\".json\", \"w\") as f:\n",
        "    for i in v:\n",
        "        json.dump(i, f, indent=4)\n",
        "        f.write('\\n')\n",
        ""
      ],
      "metadata": {
        "colab": {
          "base_uri": "https://localhost:8080/"
        },
        "id": "k5zZkc8zcSKE",
        "outputId": "6443b701-bfe2-4f07-942b-2781e251dbca"
      },
      "execution_count": 19,
      "outputs": [
        {
          "output_type": "stream",
          "name": "stdout",
          "text": [
            "      Error Class  Frequency (%)  Total Count\n",
            "0        Negation       1.730976         9523\n",
            "1     Coreference      64.768282       356324\n",
            "2      Rare Words       0.000000            0\n",
            "3       Ambiguity       1.173130         6454\n",
            "4  Long Sentences      63.061481       346934\n"
          ]
        }
      ]
    },
    {
      "cell_type": "code",
      "source": [],
      "metadata": {
        "id": "O9XipzMHc0tp"
      },
      "execution_count": 1,
      "outputs": []
    },
    {
      "cell_type": "code",
      "source": [
        "threshold = 0.6  # Example threshold for high overlap (Jaccard Similarity)\n",
        "for example in data:\n",
        "    premise = example[\"premise\"]\n",
        "    hypothesis = example[\"hypothesis\"]\n",
        "\n",
        "\n",
        "    overlap_ratio = token_overlap_ratio(premise, hypothesis)\n",
        "\n",
        "    # Determine if high lexical overlap\n",
        "    if  overlap_ratio > threshold:\n",
        "        category = \"High Lexical Overlap\"\n",
        "    else:\n",
        "        category = \"Low Lexical Overlap\"\n",
        ""
      ],
      "metadata": {
        "id": "IMnYX4ezA0cY"
      },
      "execution_count": null,
      "outputs": []
    },
    {
      "cell_type": "code",
      "source": [
        "import numpy as np\n",
        "import pandas as pd\n",
        "from datasets import Dataset\n",
        "\n",
        "dataset = Dataset.from_list(json_dataset)\n",
        "# Example Data (Replace with actual data)\n",
        "data = json_dataset\n",
        "\n",
        "num_classes = 3  # Number of label classes\n",
        "\n",
        "\n",
        "\n",
        "def token_overlap_ratio(premise, hypothesis):\n",
        "    premise_tokens = set(premise.split())\n",
        "    hypothesis_tokens = set(hypothesis.split())\n",
        "    intersection = len(premise_tokens & hypothesis_tokens)\n",
        "    return intersection / len(premise_tokens)\n",
        "\n",
        "# Define Error Classes\n",
        "error_classes = {\n",
        "    \"Negation\": lambda x: any(word in x[\"premise\"].split(\" \") + x[\"hypothesis\"].split(\" \") for word in [\"not\", \"no\", \"never\", \"without\"]),\n",
        "    \"Coreference\": lambda x: any(word in x[\"hypothesis\"] for word in [\"he\", \"she\", \"it\", \"they\"]),\n",
        "    \"Rare Words\": lambda x: any(word in x[\"premise\"] for word in [\"Higgs\", \"boson\", \"quantum\"]),\n",
        "    \"Ambiguity\": lambda x: any(word in x[\"hypothesis\"] for word in [\"something\", \"someone\", \"several\"]),\n",
        "    \"Long Sentences\": lambda x: len(x[\"premise\"].split()) > 10 or len(x[\"hypothesis\"].split()) > 10,\n",
        "    \"High Lexical Overlap\": lambda x: token_overlap_ratio(x[\"premise\"], x[\"hypothesis\"]) > 0.7,\n",
        "}\n",
        "\n",
        "\n",
        "\n",
        "# Initialize Counters\n",
        "error_counts = {cls: 0 for cls in error_classes}\n",
        "total_counts = {cls: 0 for cls in error_classes}\n",
        "error_examples = {cls: [] for cls in error_classes}\n",
        "\n",
        "# Process Examples\n",
        "for example in data:\n",
        "    true_label = example['label']\n",
        "    predicted_label = example['predicted_label']\n",
        "    is_error = true_label != predicted_label  # Check if the prediction is incorrect\n",
        "\n",
        "    for cls, rule in error_classes.items():\n",
        "        if rule(example):  # Check if example matches the error class\n",
        "            total_counts[cls] += 1\n",
        "            if is_error:\n",
        "                error_counts[cls] += 1\n",
        "                error_examples[cls].append(example)\n",
        "\n",
        "# Calculate Metrics\n",
        "error_rates = {cls: (error_counts[cls] / total_counts[cls] * 100 if total_counts[cls] > 0 else 0) for cls in error_classes}\n",
        "frequencies = {cls: (total_counts[cls] / len(data) * 100) for cls in error_classes}\n",
        "\n",
        "# Create Summary Table\n",
        "summary_table = pd.DataFrame({\n",
        "    \"Error Class\": list(error_classes.keys()),\n",
        "    \"Frequency (%)\": [frequencies[cls] for cls in error_classes],\n",
        "    \"Error Rate (%)\": [error_rates[cls] for cls in error_classes],\n",
        "    \"Error Count\": [error_counts[cls] for cls in error_classes],\n",
        "    \"Total Count\": [total_counts[cls] for cls in error_classes],\n",
        "})\n",
        "\n",
        "# Display Results\n",
        "print(summary_table)\n"
      ],
      "metadata": {
        "colab": {
          "base_uri": "https://localhost:8080/"
        },
        "id": "Lg3urcNEhL09",
        "outputId": "d6c915f3-fb82-4300-e771-f60b8ef71277"
      },
      "execution_count": 5,
      "outputs": [
        {
          "output_type": "stream",
          "name": "stdout",
          "text": [
            "            Error Class  Frequency (%)  Error Rate (%)  Error Count  \\\n",
            "0              Negation       1.574883       16.129032           25   \n",
            "1           Coreference      64.661654       13.513514          860   \n",
            "2            Rare Words       0.000000        0.000000            0   \n",
            "3             Ambiguity       1.158301       18.421053           21   \n",
            "4        Long Sentences      68.258484       12.473951          838   \n",
            "5  High Lexical Overlap       3.881325        9.424084           36   \n",
            "\n",
            "   Total Count  \n",
            "0          155  \n",
            "1         6364  \n",
            "2            0  \n",
            "3          114  \n",
            "4         6718  \n",
            "5          382  \n"
          ]
        }
      ]
    }
  ]
}